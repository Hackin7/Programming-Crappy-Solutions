{
 "cells": [
  {
   "cell_type": "markdown",
   "metadata": {},
   "source": [
    "# NLP Sentiment Analysis Test"
   ]
  },
  {
   "cell_type": "code",
   "execution_count": 1,
   "metadata": {},
   "outputs": [],
   "source": [
    "import nltk"
   ]
  },
  {
   "cell_type": "code",
   "execution_count": 2,
   "metadata": {},
   "outputs": [],
   "source": [
    "# Tokenisation\n",
    "from nltk.tokenize import word_tokenize,sent_tokenize\n",
    "\n",
    "#tokenized = word_tokenize(text)\n",
    "\n",
    "# Stop Words\n",
    "import string\n",
    "from nltk.corpus import stopwords\n",
    "def stop_words(tokenized):\n",
    "    punctuation = list(string.punctuation) #['.',',',':',';','?','!']\n",
    "    stop_words = list(stopwords.words(\"english\"))\n",
    "    #stop_words = ['a','as','at','they','the','his','her','so','and','were','from',\n",
    "    #              'that','of','in','only','with','to']\n",
    "    included_punctuation = [word for word in tokenized \n",
    "                            if word.lower() in punctuation]\n",
    "    included_stop_words = [word for word in tokenized \n",
    "                           if word.lower() in stop_words]\n",
    "    everything_else = [word for word in tokenized \n",
    "                       if word.lower() not in set(stop_words + punctuation)]\n",
    "    return everything_else,included_stop_words,included_punctuation\n",
    "\n",
    "# Stemming and Lemming\n",
    "from nltk.stem import PorterStemmer, LancasterStemmer\n",
    "def stemlem(tokenized):\n",
    "    stemmer = PorterStemmer()\n",
    "    lemmatizer = nltk.WordNetLemmatizer()\n",
    "    return [ [w,stemmer.stem(w),lemmatizer.lemmatize(w)] \n",
    "    for w in list(set(tokenized))]\n",
    "    \n",
    "# POS Tagging\n",
    "def pos_tagging(tokenized):\n",
    "    tagged =  nltk.pos_tag(list(set(tokenized)))\n",
    "    tagged = [(t[0],t[1]) for t in tagged]\n",
    "    return tagged\n",
    "\n",
    "# Bi/Trigrams\n",
    "from nltk import bigrams, trigrams\n",
    "def grams(tokenized):\n",
    "    return list(bigrams(tokenized)), list(trigrams(stop_words(tokenized)[0]))\n",
    "    \n",
    "# Frequency related statistics\n",
    "from collections import Counter\n",
    "import math\n",
    "def frequency_statistics(text):\n",
    "    words = word_tokenize(text)\n",
    "    # Organisation\n",
    "    words = list(set(stop_words(words)[0])) +\\\n",
    "    list(set(stop_words(words)[1])) +\\\n",
    "    list(set(stop_words(words)[2]))\n",
    "    sents = sent_tokenize(text) \n",
    "    #filtered = stop_words(words)\n",
    "    tf= {word:Counter(word_tokenize(text))[word] for word in words} #Term Frequency\n",
    "    df = {}\n",
    "    for word in words:\n",
    "        df[word] = 0\n",
    "        for sent in sents:\n",
    "            if word in sent: df[word]+=1\n",
    "    idf = {word: math.log(len(sent)/df,10) for (word, df) in  df.items()}\n",
    "    tfidf = {word: tf[word]*idf[word] for word in words}\n",
    "    #Processing\n",
    "    stats = []\n",
    "    for word in words:\n",
    "        stats += [[word,tf[word],df[word],idf[word],tfidf[word]]]\n",
    "    return stats"
   ]
  },
  {
   "cell_type": "markdown",
   "metadata": {},
   "source": [
    "# Movie Review Corpus \n",
    "but we are not using it here"
   ]
  },
  {
   "cell_type": "code",
   "execution_count": 40,
   "metadata": {},
   "outputs": [],
   "source": [
    "from nltk.corpus import movie_reviews\n",
    "lemmatizer = nltk.WordNetLemmatizer()\n",
    "'''\n",
    "documents = [(list(movie_reviews.words(fileid)), category)\n",
    "            for category in movie_reviews.categories()\n",
    "            for fileid in movie_reviews.fileids(category)]\n",
    "'''\n",
    "\n",
    "documents = [(list(movie_reviews.words(fileid)), category)\n",
    "            for category in movie_reviews.categories()\n",
    "            for fileid in movie_reviews.fileids(category)]\n",
    "\n",
    "import random\n",
    "random.shuffle(documents)"
   ]
  },
  {
   "cell_type": "code",
   "execution_count": 41,
   "metadata": {},
   "outputs": [],
   "source": [
    "all_words = []\n",
    "for w in movie_reviews.words():\n",
    "  all_words.append(w.lower())"
   ]
  },
  {
   "cell_type": "markdown",
   "metadata": {},
   "source": [
    "# Import Data\n",
    "The data is a reuters corpus that has sentiments labelled by the Processing_News.py\n",
    "\n",
    "Start from here\n",
    "\n",
    "Something to note that Removing stop words, digits, stemming and lemmatizing does not seem to have much effect on the accuracy (even though it should), at least for here."
   ]
  },
  {
   "cell_type": "code",
   "execution_count": 155,
   "metadata": {},
   "outputs": [
    {
     "name": "stdout",
     "output_type": "stream",
     "text": [
      "Once deleted, variables cannot be recovered. Proceed (y/[n])? y\n"
     ]
    }
   ],
   "source": [
    "%reset"
   ]
  },
  {
   "cell_type": "code",
   "execution_count": 240,
   "metadata": {},
   "outputs": [],
   "source": [
    "import nltk\n",
    "from nltk.corpus import stopwords\n",
    "stop_words = list(stopwords.words(\"english\"))\n",
    "import re\n",
    "from nltk.stem import PorterStemmer, LancasterStemmer\n",
    "def lower(words):\n",
    "    #print(words)\n",
    "    stemmer = PorterStemmer()\n",
    "    lemmatizer = nltk.WordNetLemmatizer()\n",
    "    return [lemmatizer.lemmatize(word.lower()) for word in words \n",
    "            #stemmer.stem(word.lower()) for word in words #Makes it perform worse\n",
    "            #word.lower() for word in words #Normal \n",
    "            if #not bool(re.match(r\"0-9\",word)) or #Removes digit but performs worse\n",
    "            word not in stop_words #Generally Helps\n",
    "           ]"
   ]
  },
  {
   "cell_type": "code",
   "execution_count": 351,
   "metadata": {},
   "outputs": [],
   "source": [
    "import pandas as pd\n",
    "df = pd.read_csv(\"NewsSentiments.csv\")\n",
    "\n",
    "from nltk import word_tokenize\n",
    "documents = [(lower(word_tokenize(df.iloc[i][\"Text\"])),df.iloc[i][\"Sentiments\"])\n",
    "            for i in df.index.values]\n",
    "all_words = []\n",
    "for i in documents:\n",
    "    all_words+=i[0]"
   ]
  },
  {
   "cell_type": "code",
   "execution_count": 342,
   "metadata": {},
   "outputs": [],
   "source": [
    "#Even representation, but reduces accuracy score so dont use this\n",
    "pos = documents[:100]\n",
    "neg = documents[101:200]\n",
    "neu = documents[200:]\n",
    "import random\n",
    "random.shuffle(pos)\n",
    "random.shuffle(neg)\n",
    "random.shuffle(neu)\n",
    "\n",
    "documents = pos[:50]+neg[:50]+neu[:50]+pos[50:]+neg[50:]+neu[50:]"
   ]
  },
  {
   "cell_type": "code",
   "execution_count": 352,
   "metadata": {},
   "outputs": [],
   "source": [
    "import random\n",
    "random.shuffle(documents)\n",
    "random.shuffle(all_words)#Shuffling all words seems to help for some reason"
   ]
  },
  {
   "cell_type": "code",
   "execution_count": 227,
   "metadata": {},
   "outputs": [
    {
     "data": {
      "text/plain": [
       "300"
      ]
     },
     "execution_count": 227,
     "metadata": {},
     "output_type": "execute_result"
    }
   ],
   "source": [
    "len(documents)"
   ]
  },
  {
   "cell_type": "markdown",
   "metadata": {},
   "source": [
    "# Processing "
   ]
  },
  {
   "cell_type": "code",
   "execution_count": 353,
   "metadata": {},
   "outputs": [
    {
     "name": "stdout",
     "output_type": "stream",
     "text": [
      "<FreqDist with 4818 samples and 25984 outcomes>\n",
      "['company', 'linoil', 'kc', 'decide', '.', 'dlrs', 'rate', 'said', 'week', 'crop', 'initiative', 'in', 'cd', 'one', 'two', 'result', '295,000', 'consent', '50.1', 'merger', 'china', '>', ',', 'on', 'ecuador', 'dlr', 'microbio', 'interest', '4,673,253', 'shrs', '35', 'bbl', 'oper', 'trade', ';', 'icahn-led', 'swiss', 'mln', 'v', 'div', 'field', 'cocoa', '&', 'venezuela', 'net', 'emirate', 'corpus', 'cofab', 'today', 'compared', '265,600', 'philippine', ':', 'raised', 'tax', 'corresponding', 'which', '10', 'francisco-based', 'capital', 'dlr-a-share', 'cut', 'quota', 'part', 'took', 'conclude', 'ruptured', 'petrobras', 'ventana', '10.73', 'short', 'effective', '``', 'chemlawn', '400,000', '--', 'value', '8,191,266', 'ctyn', 'meeting', 'richard', 'mortgage', 'qtly', 'name', 'money', '73', 'pact', 'administration', 'barrel', 'expected', 'fear', 'reserve', 'reuter', 'first', 'scheduled', 'include', 'sale', 'grain', 'gain', '4th', 'borrowing', '27', '16', 'forecast', 'raise', \"''\", 'billion', 'embassy', 'seafarer', '4.4', 'bank', 'shr', 'shipping', 'implementing', 'four', 'however', 'japan', '501,000', 'import', 'ccc', 'mill', 'morgan', 'minimal', 'farmer', 'tonne', 'profit', 'continuing', 'm-1', 'bond', 'morning', 'fault', 'remaining', 'municipal', 'bit', 'rose', '1.2', 'ontario', 'revenue', 'remain', 'pct', 'cash', 'by', 'priced', 'show', 'year', '4,104,000', 'share', 'economy', 'reaching', 'microchip', 'price', 'report', 'under', 'output', '1986/87', '21,764,000', '2,332,397', 'supply', 'crude', 'some', 'opec', 'more', '-', '48.7', 'balance', 'outlined', '21.7', 'ranging', 'light', 'ethanol', 'operation', 'stage', 'loss', 'for', '1.5', 'santa', 'oil', '44,092,000', 'growth', 'loving', 'cepe', 'corp', 'session', 'margarine', 'gulf', 'rev', 'appliance', 'separation', 'managed', '13.1', 'included', \"'s\", 'includes', 'it', 'letter', 'last', 'county', 'briefing', 'coffee', 'acquired', '1', 'lt', 'return', 'piedmont', '37', 'operating', 'citibank', 'voted', 'would', \"n't\", 'damaged', 'security', 'voting', 'transit', 'the', 'lending', 'river', 'west', 'five-day', '6.27', 'unit', 'half', 'easy', 'agency', 'director', 'writedown', '12', 'cornfeedmeal', 'inflation', 'establish', '7.9', 'palm', 'boost', 'extend', 'food', 'reported', 'circumstance', 'receive', 'columbia', 'edmonton', 'eia', 'shareholder', 'grade', 'canron', 'attributed', 'icgs.l', '816,000', 'newly', 'exchangeable', 'city', '1987', 'prescott', 'may', 'new', 'unilever', 'america', 'pacific', '47', 'set', '11-3/4', 'lend', '(', 'senior', 'discount', 'principle', 'u.k.', '1.68', 'amarillo/', 'noted', 'malaysian', '24,839,000', '30', 'approve', 'government', 'comment', '13', 'rise', 'declined', 'wilhelm', 'delegate', 'unemployment', 'september', 'leaving', 'repeated', 'addition', 'sen.', 'relatively', 'butler', '93', 'different', 'she', 'outstanding', '2.83', 'special', 'similar', 'march', 'stock', 'preferred', 'place', 'international', 'best', 'decline', 'adjourned', 'office', 'valued', 'oct', 'kebo', '60', '16.85', 'payout', 'national', 'quake', 'air', 'but', 'partially', 'marine', 'inc', 'dynamic', 'largest', 'certificate', 'cts/bbl', 'six', 'time', 'underperforming', 'norfolk', 'ago', 'we', 'bonus', '114', 'appropriation', 'april', 'health', 'branch', 'sunflowerseed', 'agreement', ')', 'convertible', 'organization', 'volcano', 'export', '614', '0.51', 'shearson', 'official', 'american', 'analyst', 'around', 'rate-x', 'stg', 'repeat', 'world', 'estimated', 'total', 'oilfield', 'five', 'washington', 'clear', 'exemption', 'board', 'posting', 'previous', 'questioned', '6.13', 'rexcom', 'attainable', 'dividend', 'coast', 'diversify', 'industry', '2.17', 'division', 'next', 'barley', 'ohio', '228', 'co', 'purchase', 'record', 'fabricator', 'reuters', 'shv', 'deal', 'capitalization', '50,000', 'distribution', 'dean', '18', 'raw', 'texas', 'anova', '7.42', '0.2', '10,010', 'without', 'look', '720.4', '50', 'made', 'british', 'market', 'l.p.', 'cent', 'midnight', 'estimate', 'fall', '1.04', '203,000', 'quarterly', 'sold', 'arroba', 'rubbertech', 'am', 'need', 'mabs', 'animal', 'texaco', 'trapped', 'authorized', '66.2', 'sell', 'dhaka', 'payment', 'subsequent', 'recent', 'cabbage', 'home', 'm2', 'say', 'gradually', 'task', 'effort', 'float', 'franc', 'future', 'undisclosed', 'gallon', '61', 'financing', 'lender', 'payable', 'seasonally', 'annual', 'news', 'change', '1,655.8', 'earnings', 'economic', 'involving', 'following', 'offer', 'mf', 'posted', 'usair', 'carry', 'signal', 'weekly', 'beginning', 'exchange', 'issue', 'side', 'falling', 'thermoplastic', 'petroleos', 'produce', 'selling', '2.63', '1986', '3.16', 'indiana', 'likely', 'sign', 'dismissal', 'request', '200,000', 'bid/140', '801,000', 'stake', 'afg', 'estate', 'fastest', 'dollar', 'extraordinary', 'hughes', 'buy', 'immediately', 'ha', 'must', 'quarter', 'javier', 'hint', '4.15', 'commercial', 'ct', 'day', 'service', 'david', 'surplus', 'dispute', 'common', '17.25', 'plc', 'debt', 'ccmc', 'honduras', '3.10', '1.7', 'contract', 'active', 'based', 'though', 'shortfall', 'three', '17.50', 'nspa', 'newmont', 'jan', '2.16', 'phillips', 'united', 'threaten', 'december', 'term', 'south', '0.5', 'phase', 'saving', 'intent', 'harris', 'month', 'note', '4,307,645', 'major', 'dlrs/bbl', 'response', 'guayaquil', 'announced', 'act', 'producing', 'charge', 'l', '11', 'b.c', '1,875', 'decided', 'preparation', 'group', 'personal', '1.73', '2.6', 'sept/dec', '1,870', '4,881,000', 'vote', 'point', 'probably', 'banking', 'tumaco', 'asset', 'gralewicz', '1981', 'optimistic', 'carried', 'held', 'pharmacia', '5.1', '3.25', 'wage', 'wednesday', 'adjustment', '16.1', '25', 'approval', 'became', 'declared', 'staff', 'seaforth', 'holder', 'february', 'u', 'electronics', 'off', 'u.s.', '1.65', 'could', '15', 'torchmark', 'product', 'contribution', 'raising', 'diamond', '111.2', '19.95', 'caused', 'loan', 'strong', 'edible', 'agriculture', 'soybean', '3.09', 'echoed', 'management', 'qtr', 'monday', 'bean', 'liability', 'area', 'still', 'fsbf', 'venture', 'find', '1.39', 'across', 'account', 'to', 'fund', 'cargill', 'continental', '12,200', 'a', 'also', 'cellular', 'fell', 'average', 'colombia', 'great', '1.50', 'container', 'western', 'feedgrain', 'builder', 'organisation', 'carl', '64', 'increase', 'li', 'past', 'itt', 'foreign', 'friday', 'sun', 'think', 'emh', 'statment', 'hill', '63.7', 'gave', 'base', 'subject', 'oilseed', 'see', 'january', 'impact', 'gasoline', 'westar', 'petroleum', 'completed', 'twa', 'loading', 'redemption', 'qualified', 'year-on-year', 'bpd', 'created', 'apr', 'reform', 'maximum', 'richmond', 'n.a', '9.4', 'esselte', '2,516,000', '213-1/2', 'chairman', 'weak', 'combination', 'two-week', 'provision', 'representative', 'deadline', 'met', 'grow', 'port', 'way', '24.6', 'x-1986', 'recommendation', 'varian', 'usage', 'currently', 'scott', 'additional', 'various', 'avg', 'living', 'operates', '6.5', 'hong', 'premium', '17', 'period', 'regular', '299.2', 'mississippi', 'restrained', 'system', 'soyabean', 'statement', 'at', 'source', 'groupe', '29', 'economist', 'allow', 'purusant', '3.9', 'm1', 'remedy', 'potomac', 'thinking', 'importer', 'among', '572,406', 'wine', 'reason', 'trust', 'deficiency', 'canadian', '7.08', 'bid', 'slight', 'high', 'interagency', 'association', 'energy', '2.4', '66', 'unp', 'targeted', 'sugar', '22.26', 'university', 'creditworthiness', 'transaction', '238,000', 'enterprise', 'ended', '3,677,272', 'approached', 'proposes', 'ic', '29.6', 'diagnostic', 'moussavar-rahmani', 'tolerate', 'grows', 'rye', 'initial', 'refinery', 'warrant', 'gas', 'luckey', 'offered', 'encourage', 'sterling', 'institute', 'filed', 'colorado', 'remained', 'sonatrach', 'make', '3.3', '2.99', 'cause', 'midland', 'affiliated', 'england', 'production', 'soymeal', 'hr', 'guinea', 'even', 'spoke', 'paraguay', \"'\", 'usa', 'saatchi', '7,500', 'delayed', 'index', 'express', 'stopped', 'totaled', 'prime', 'ionic', 'negotiating', 'cann.t', 'westminster', 'use', 'added', 'improved', 'figure', 'ltd', 'enormous', 'holding', '9,300,000', 'nwbl.l', 'fiji', 'heilongjiang', 'york', 'exporting', 'free', '10,694,081', 'move', '3.08', 'teran', '2.10', 'terminal', 'litigation', 'congress', '2.98', 'pledge', 'secretary', 'final', 'trading', 'ton', 'dillard', '72', 'degree', '1.34', 'entertainment', 'waiting', 'telecom', '.3322', '21.1', 'reduction', 'seemingly', 'vegetable', 'wti', '1940', 'withdraws', 'follows', 'suspended', 'fob', 'arrangement', 'equipment', 'interwest', 'salomon', 'low', 'standard', 'fair', \"twa's\", '1.08', '41', 'norman', '72.3', 'la', 'income', 'planned', 'current', '2.9/1', 'network', 'wheat', 'follow', 'psl2', 'commodity', 'come', 'basis', '4.81', 'composite', '4.98', 'firm', 'currency', 'kuwait', '5.7', 'excluding', '56', '1.6', 'esquire', 'woodco', 'difference', '24.3p', 'financial', 'during', 'acting', 'ending', '7-1/2', 'significantly', 'proposal', 'illinois', 'mths', 'refining', 'acquisition', 'oct/dec', 'versatile', 'union', '126.7', 'earlier', '1912', 'sept/nov', 'dealing', 'chief', 'paper', 'throughout', 'anything', 'belief', 'former', 'line', 'puerto', 'june', 'paso', 'federally', 'p', 'bearing', 'within', 'eckenfelder', '440.3', 'historical', '52.69', '4,415', 'equal', '32.5', 'troubled', '12,500,000', 'gao', 'accounting', 'since', 'indonesia', 'closely-held', 'second', 'panama', 'department', 'consideration', 'cotton', 'cubic', 'showing', '2/27', 'soviet', 'christi', 'passenger', 'vicon', '1.0', '16.35', 'southern', 'suffield', '10.0', 'sww', 'copper', 'demand', '10.5', 'herd', 'end', 'treasury', 'up', 'hundred', 'ab', 'pound', 'registration', 'mombasa', 'seven', 'season', '600', 'immediate', 'custom', 'lawrence', 'ownership', 'novell', 'acceptance', 'domestic', 'london', 'position', 'yesterday', 'qintex', 'kilo', 'worldwide', 'negotiation', 'october', 'seen', 'plan', '400', 'confirm', '834', 'drop', 'budget', '98', 'weight', 'action', 'executive', 'r-n.c.', 'differential', '252', '5,848', 'disappointed', 'movement', 'his', 'note:1986', 'broker', 'mercury', 'package', 'saudi', 'lewis', '1.1', 'fact', 'resume', 'book', 'effect', 'bahrain', '100,000', 'ico', 'cover', 'antonson', 'm3', '785', 'cote', 'spinoff', 'including', 'maker', 'complaint', 'from', 'main', '3.27', 'latest', '10-1/2', 'soaring', 'dec', 'reduce', 'well', 'night', 'consummation', 'spokesman', 'strip', 'accused', 'country', 'public', 'risk', '145.3', 'reach', 'admiral', 'feb', 'producer', 'bcf', '8-1/4', 'nugget', '92.2', 'required', 'expenditure', 'pay', '20', 'take', 'towards', 'worth', 'force', 'yield', 'lowered', 'help', '2.53', 'window', 'coin', 'los', 'husky', 'totalled', 'exceeding', 'parent', 'business', '26-feb-1987', 'shipment', 'vessel', '31', 'pdvsa', 'shell', 'whether', 'espinosa', 'sector', 'pipeline', 'began', 'improve', 'colon', 'retailer', '90.2', 'promissory', 'programme', 'okay', 'caracas', 'meat', 'licensing', 'rape', 'spokeswoman', '1.9', '26.702', '516,000', 'early', 'n.y.', 'repurchase', '408,000', 'gold', 'can', 'utilicorp', 'lambert', 'trader', '110.6', 'sealy', 'industrial', 'tx.n', '67.1', 'advantage', 'of', 'assistance', 'corn', 'cumulative', 'shipped', 'hope', '1985', 'regain', 'larsen', 'declares', 'duvel', 'reporting', 'citruspulp', 'last-minute', 'gtx', 'federal', 'nt', 'flow', 'accordance', 'improvement', 'champlin', '93.29', 'citizen', 'defensive', 'several', 'minister', 'tremor', 'groundnut', 'lower', 'strike', 'order', 'lubbock', 'select', 'cbt', 'copany', 'convened', 'nearly', 'casualty', 'greater', '607.17', 'agricultural', 'transport', 'dot', 'wash.', 'cooperation', 'cutting', 'spring', '2.1', 'insider', '32', 'prev', '610,000', 'gabon', 'highly', 'clearance', '53', '1,880', 'sign-up', 'research', 'patch', 'coleco', '1/8', 'bahia', '2.2', 'r-iowa', 'pie', 'per', 'ship', 'previously', 'sluggish', 'commerce', 'easing', 'slide', 'bread', 'believe', 'wallis', 'duluth', 'political', '16.6', 'belgian', '125', 'activity', 'fat/oil', 'adjusted', 'restaurant', '22,068', 'peacetime', 'lead', 'expense', 'unlikely', '19.2', 'year-ago', '4.2', 'split', 'down', 'shamrock', 'year-over-year', 'chicago', 'divestiture', 'grisanti', 'albert', 'undersecretary', '280.36', '42.0', 'd.', 'fed', 'issued', 'indicated', 'spend', 'he', 'unchanged', '9,800,000', '1.25', 'policy', 'real', 'comparison', 'led', 'meet', 'thursday', 'present', 'tomorrow', 'ministry', '336.63', 'subsidiary', 'canada', 'exxon', 'whampoa', '160,109', 'phi', '1,780', 'algerian', '640,000', '1.99', 'liebert', '6.2', 'rank', 'optimism', 'seismologist', '630', 'santos', 'marketing', '1,001,430', 'salt', 'reviewed', 'committee', 'choose', 'till', 'nil', 'ocean', 'annualized', 'percentage', 'agenda', 'baker', 'pursue', '2,075,000', 'negative', 'delay', 'facility', 'concern', 'chrs', 'quoted', 'grower', 'refined', '848,600', 'earthquake', 'liquefied', 'experiencing', 'finance', 'benefit', 'every', 'private', 'elect', '35.1', 'mar', 'pickup', 'yeras', 'presenting', 'affair', '69', 'intermediate', '17.00', '264', 'give', 'resumed', '20.0', 'korea', 'agreed', '661,400', 'usda', 'offset', 'berth', '14.3', '10.1', 'lloyd', 'step', 'depreciating', 'three-way', 'crg', 'dahl', 'computer', 'de', 'resist', 'versus', 'addressing', 'ready', 'credit', '2.3', 'certain', 'bad', 'mining', 'upcoming', '3.1', 'dismiss', 'nine', 'marshall', 'over', 'slowed', '35,000', 'michel', 'program', 'morbelli', 'be', 'depending', 'arm', 'heating', '82', 'slightly', 'no', 'operator', 'either', 'ground', '1,941,000', 'talk', 'good', 'renouf', 'application', 'lng', 'engineering', 'comply', 'substantially', 'level', '13.8', 'expects', 'filing', 'nature', 'buyer', 'spot', 'buying', 'opportunity', 'recommend', 'dairy', 'devised', 'guarantee', 'lowest', 'associate', 'complete', 'colombian', 'videotron', 'owed', 'oil-bearing', 'prevailing', 'detail', 'normal', 'postech', 'manufacture', 'fired', 'favorable', 'arbitrage', 'exhibit', 'bankruptcy', '337.3', '556.7', '3,926,000', 'except', 'rollins', 'stood', 'midday', 'amount', 'if', 'white', '4,550,00', 'concentrated', 'resident', 'traditionally', '43.4', 'improves', 'disclosed', 'million', '198', '49', '43,680', '800,000', '12-point', 'invest', '615.04', 'enjoin', 'acquire', 'non-canadian', '1.22', 'attitude', 'equity', '6.05', '12.2', '1.53', 'better', 'statistical', 'july', 'technology', 'large', 'sedio', 'compel', 'toronto', 'car', 'asking', '9,300', 'tender', 'barbara', '7-3/4', 'match', 'merchant', 'hotel', 'cyclops', '4.78', 'told', 'natural', 'option', 'obligation', 'planning', 'blender', 'agree', '26', 'limp', \"borman's\", 'memphis', 'herbicide', '204,000', 'formally', 'direct', 'analytichem', '2.04', 'st', 'pkd', 'jointly', 'extends', 'three-months', 'noting', 'invested', 'zico', '27.5', '1.8', 'changed', 'relative', '1988', 'sea', '189,800', 'hand', 'president', 'andean', '6,050,000', '2.20', 'loynes', 'sweet', 'state', 'tulis', 'long', '88.6', 'anywhere', 'central', 'right', 'test', '9.0', 'november', '6.6', '3.66', 'cbm.n', 'i', 'mideast', 'john', '644', 'along', 'revised', '6,318,000', 'sufficient', '11,830', '21.66', 'texon', 'zinc', 'prompting', 'threshold', 'coastal', '161,000', 'drexel', 'assure', 'excess', 'informally', '61.8', 'damage', 'try', 'television', 'gcc', 'almost', 'florida', '29-3/8', 'prospect', 'our', '24.5', 'firstcorp', 'pom', 'primarily', 'liberty', 'mark', 'rapeseed', 'cronus', 'information', 'data', 'volume', 'curb', 'recorded', 'full', 'expand', 'butter', 'and', 'circuit', '11/64', 'scale', '9', 'officer', 'fiscal', 'tianjin', 'delivery', '111.8', 'adding', 'failing', '83', '12th', '24-month', '0.75', 'careful', 'fat-', '34.7', 'excludes', '270,400', 'population', 'hold', '55,513,000', '906,034', 'profitably', 'nippon', 'throughput', 'montreal', 'revers', '47.1', '1.3', 'anticipated', '308,200', 'this', 'bag', 'buoyant', 'proxy', 'arab', 'reject', '2,227,000', '4.05', 'pre-split', 'nor', 'cabinet', 'owned', 'play', 'according', 'fetched', 'situatin', 'carbide', 'proposed', '51', 'joint', 'increased', 'projected', 'sorg', '42.2', 'moving', '516.7', 'profitable', 'aug/sept', 'both', '149.8', '56.1', '1.71', 'deferred', 'princeville', '3rd', 'named', 'prior', '55', 'kind', '3.12', 'sec', 'enable', '5,058,145', 'duty', '515.1', 'discussion', 'focus', 'retroactive', 'rospatch', '2.03', 'balao', 'brown-forman', 'shilling', 'become', 'profitability', 'purhcase', 'customer', 'fishoil', '0.6', 'ottawa', 'saw', '375', 'dlr/bbl', 'shortly', 'lived', 'sheet', 'seeking', 'strenuous', '3,386,000', 'council', 'economically', 'non-seasonally', '45.1', 'utility', 'partial', 'le', 'applied', 'ambassador', 'exporter', '120', 'resource', '807,000', 'condition', 'upon', 'station', 'lo', '4,400', 'limping', 'bijan', 'toll', 'bidder', 'they', 'iv', 'completion', 'beef', '251.0', 'fgrp', 'extended', 'atlantic', 'relating', 'despite', 'june/july', '37,310', 'brings', 'jesse', 'water', '36', 'bates', 'coverage', '5.15', 'mm', 'inc.', 'marathon', 'closing', 'eased', '0.1', 'india', '1.4', 'blind', 'fisn.l', 'begin', 'utah', '23.2', 'bally', '360,000', '24', 'wish', 'rxsc', 'visible', '1985/86', '332,995', 'review', '43', '1,564.8', '5.92', '184,649,000', 'bushel', 'fcr', '2.78', 'portland/', 'waste', 'reduced', 'strategic', 'due', 'post', 'begun', 'assured', 'electric', '1976', 'perhaps', 'consumption', 'meant', 'have', '30,000', 'cobanco', 'mutual', '4.10', 'represented', 'sweden', 'an', 'increasing', 'accumulated', '3.85', '18.6', 'quality', 'dead', '1.69', '1.51', '7', '2.54', 'capacity', 'cwt', '23', '22.2', 'advised', 'content', 'most', '135', '316', 'phillip', '3.2', '7,075,000', 'boosting', '1.19', 'novebmer', 'aguarico', 'me', 'belize', 'available', 'transporting', '0.04', 'pulp', 'item', 'track', 'favor', '10,253', 'camco', 'monthly', 'approves', 'higher', 'debenture', 'repair', 'steady', 'eight', 'corporation', 'safeway', 'ka-shing', '6.5p', 'announcement', '18.49', 'stability', '15.8', 'chapter', '4.85', 'improving', 'redice', 'standstill', 'norrell', 'pumping', 'resin', 'consolidated', 'problem', 'commission', 'mexican', 'oak', '6.48', 'investment', 'doubled', 'particular', 'put', 'granted', 'never', 'urged', '1,827,000', 'measure', 'legal', 'powerine', 'transmission', '52', 'decides', 'location', 'depreciation', 'all', 'continued', 'deposit', 'calmar', 'competes', 'registered', 'ivory', 'mainly', '20.9', 'unimar', 'commenting', 'coradian', 'aetna', 'louisiana', 'pending', '12.8', 'deputy', 'stabilization', 'biggest', 'telephone', 'metallurg', 'n.z', '17,583', 'printer', '1.30', 'diverted', 'consumer', 'constitute', 'lloy.l', '1.47', 'construction', 'dutch', 'wcs', '445,400', 'aviation', 'robeson', 'appointment', 'rbsn', 'catapulted', '26.2', 'lyng', 'benequity', 'kong', 'harbour', '569.3', '1,715,000', 'resolved', '37.4', '0.39', '22.8', 'melnikov', 'disposition', '821.2', '2.9', 'followed', 'release', '26,108', 'oecd', 'distillate', 'funding', '2', 'pre-tax', '14.8', 'ten', 'delivered', '11.7', '9.9', 'arranging', '4', 'allocation', 'adr', '165,000', '1,358,000', 'turn', '198,000', 'averaged', 'target', 'served', 'borman', 'closed', 'cambridge', 'double', 'predicted', '95', 'modest', 'soon', 'smith', '119,400', 'spokeman', 'axp', 'entered', 'universal', 'cited', 'mile', 'incident', 'gdp', 'thing', 'alvite', 'purpose', 'pretax', 'least', '500,000', '5/16', 'calendar', 'arabia', 'contrary', 'barbados', 'outlook', 'resumption', 'pontiac', 'close', 'regional', 'decrease', 'unissued', 'planted', 'positive', 'retired', '2,666,000', '1,428,000', '3.8', 'realty', 'published', 'potential', '4,647,000', 'biltmore', \"1985's\", 'going', 'cyl', 'cabot', 'rupiah', '28.7', 'province', '300', 'provide', 'revaluation', 'diversified', '7/16', 'monetary', 'imperial', 'jacoby', '138.9', '150', 'dealer', 'statistic', 'daily', '5.2', '127.3', 'schlang', 'abbey', 'want', '67', '5/14/82', 'looking', 'departure', 'status', '5', 'parking', 'alleviating', 'approximately', '1st', '19.77', '80', 'lipper', 'madison', '753', 'wco', '3.87', 'chem', 'that', '3', 'wtc', 'gazetted', 'laboratory', 'leading', 'burke', 'opening', '2.65', 'ups', '100', 'nestle', 'top', 'portion', 'mayf', 'tigrel', 'failed', 'singer', 'enhancement', 'get', '4.68', 'settle', 'faith', 'pns', 'rica', 'local', '0.9', 'formed', 'mrdn', 'agrio', 'horticulture', 'material', 'steel', 'residual', 'stockton', 'deficit', 'debit', '370', 'support', 'peoria', 'labor', 'halbert', 'vereins-', 'offsetting', 'acre', 'conciliator', 'considering', 'silent', 'writedowns', 'successful', 'u.s', 'golden', 'determines', 'rumor', 'preliminary', 'harvard', 'algiers', 'slc', '750,000', 'nw', 'state-oil', 'california', '?', 'grossly', 'merge', 'charming', 'you', '1.36', '304', 'work', 'ivaco', 'forced', '14', 'epsilon', 'africa', 'michael', '1.24', 'vehicle', 'entry', 'accordingly', '200', 'atico', '4.423', '21', 'vacant', '17.05', 'subproducts', 'life', 'lichtenberger', 'handle', 'operational', 'generated', 'editor', 'finalize', 'st.christopher-', 'significant', 'provisional', 'virginia', 'one-for-one', 'attached', 'horizon', 'healthy', '766,185', 'fully', '9,381,000', '3,001,000', 'weekend', 'feed', '2.55', 'ecuadorean', 'durum', '3.15', 'publishing', 'mauritius', 'economics', 'fisons', 'ted', 'paid', '1995', 'repairing', 'cost', 'restricted', 'discontinued', '1.35', 'mclean', '74', '8,871,874', 'anti-inflation', 'pharmaceutical', 'north', 'halt', '13.16', '3,971,000', '23.6', 'idel', '14.6', '35.8', '2.12', 'gfc', 'prudential-bache', 'region', '1.66', 'strohmaier', 'building', 'house', 'prompt', 'seeing', '113,000', '25.7', 'calm', 'annually', '37.1', 'mdbl.l', 'wholly-owned', 'european', 'jungle', 'eep', 'spriggs', 'n.a.-not', 'control', 'high-pressure', 'sharp', 'measured', 'merrill', 'component', '66.9', 'yen', '55,000', 'drowned', 'natwest', 'anniversary', 'independent', 'shortage', '2.87', 'evansville', '4,969,643', 'geared', 'image', 'ratio', 'requirement', 'german', '...', 'bilion', 'switzerland', 'und', '40', 'appointed', 'much', 'stop', 'affecting', 'barge', '1.49', '46', 'o.', 'signed', '4,340', 'elgin', 'institution', '2.30', '1.00', '3.64', 'riverhead', '3.6', 'consequence', 'worse', 'distance', 'plant', 'perrin', 'nar', '110,000', 'dahlberg', 'avoid', 'nakhimov', 'continue', 'fourth', 'court', 'lake', 'mothballed', 'jwt', 'accord', 'preserve', 'drummond', 'privately-held', 'non-u.s.', 'evening', 'inapplicable', 'competitive', 'sum', 'two-for-one', '362,700', '1.14', 'graphic', '13,555,000', '24-industrial', 'manager', 'costa', 'unrealized', 'legislation', 'ingalls', '391.6', 'investor', 'pumped', 'stone', 'touched', 'drilling', 'portland', 'nsc', 'obtain', 'tuesday', 's', 'epicentre', 'contained', 'tanker', '1.59', '205,000', 'whole', '0.4', 'surprise', '6', 'recently', 'there', 'sight', '1.84', 'archer', '22', 'making', 'power', 'hernandez', '42', '1.80', 'meadow', 'acreage', 'bonded', 'shook', '370,500', 'cpml', 'bringing', '250', 'replacement', '12.38', 'lawmaker', 'destination', '100.9', 'antitrust', '21.95', 'contain', '25.2', 'depends', 'dia', 'afternoon', 'link', 'wholesale', 'mobile', 'principal', '715,000', 'study', 'near', '516.4', 'monoclonal', 'shower', '99.9', '94', 'lubricating', '65', 'hospitality', '338,800', 'people', 'na', '1983', 'mizrahi', '286,870', 'dominican', '47.6', '160,160', '3.7', 'reorganization', 'processed', 'go', 'cane', 'box', 'mccall', 'discussing', '700p', 'inch', 'after-tax', '2.75', 'employment', 'typically', 'southwest', 'visual', 'started', 'sense', 'because', 'consignment', 'given', 'individually', 'undertaking', 'avaition', 'anglo-dutch', '5.26', '734.2', 'attract', 'call', 'reinvested', 'serve', 'vi', '325,000', 'refusal', 'presidency', 'appraisal', 'offering', '107.3', 'crown', 'similarly', 'mattress', 'here', 'dole', '525', '8.8', 'equivalent', 'liner', 'malawi', 'gm', 'pvdc', '3,450,000', 'vgca', '16.50', '12.1', 'vigorously', 'citgo', 'conservation', 'spr', '6.0', '0.99', 'documentation', '143,780', 'commonwealth', 'brazilian', 'turben', '79.1', '1/2', 'subsidy', '45', 'or', 'moscow', 'farmer-owned', 'shrink', 'fernando', 'japanese', 'reflect', 'carloadings', 'deck', 'ascs', 'obtaining', 'explain', 'aide', '1.94', 'variation', 'mineral', 'maybe', 'undertaken', 'dow', 'northern', 'determined', 'iran', '296.7', 'sunmeal', '1,850,000', '70', 'louis', 'considered', '1.92', 'rationale', 'knight', '3,071,000', 'fire', 'nothing', 'liquid', '15.2', 'transfer', '55.8', 'emhart', 'douglas', 'represent', 'anti-trust', 'panhandle', 'bcs.l', '371,700', '249.03', '137,200', 'bridge', 'clearing', 'pace', 'closure', 'identify', 'rol', 'penetration', 'expecting', 'nahum', 'mercalli', '172,000', 'class', '163.8', 'interfere', '3.03', 'actively', 'spraying', 'distrigas', 'brother', 'anita', 'broader', 'dismantling', '61.5', 'overnight', 'allied', '3/8', 'equally', 'natl', '260,500', 'applies', '6.4', 'capsized', '197,000', 'peso', 'nova', 'gnp', 'arrival', 'combined', 'proceeds', 'ample', 'substantial', 'pressure', 'fundamental', '5,057,292', 'process', '150.6', '1.87', 'dumping', 'weather', '3.4', 'fuel', 'jun', \"analysts'\", 'channel', 'choice', '1.21', 'noncash', 'dry', '331.8', '5,988', 'netherlands', 'wheat/barley', 'combining', 'xon', '36-month', 'pansophic', 'unusually', 'carryforwards', 'seetransport', 'critical', 'member', '4,450', 'cii', '449.6', '2.86', 'difficult', 'determining', 'development', 'contest', 'x', 'stiff', 'quote', 'number', 'absorb', 'ferry', 'broad', 'backlog', 'excellent', 'intends', 'broke', 'woodstock', 'twice', 'established', 'un.a', 'keep', 'like', '53.57', '18.34', 'unsolicited', 'arturo', 'mine', 'houston', '2,374,000', 'brokerage', 'law', '82,900', \"ecuador's\", 'dom', '163.0', 'promotion', '2.27', '104,606,000', 'tight', 'lynch', '85.1', 'streamline', 'var', 'attempt', 'separate', 'expire', 'advertising', '10.4', 'together', 'microbiological', 'solve', 'address', 'soyabeans', 'suit', '7.20', 'staunchly', '790,000', 'one-month', '186,790,000', 'diego-based', 'lana', 'guilder', 'series', 'vms', 'suspends', 'unhappy', 'stockholder', '10.53', 'promexpo', 'ahead', 'crushing', '2,325', '9.2', 'bros.', 'forward', '2000', '17.18', '18.1', 'forcing', '12.5', 'chinese', 'behind', 'congo', '58.72', 'identified', 'produced', 'ex', '1,575.1', 'premature', 'decree', 'professional', 'stable', 'reseller', '2.91', 'winter', 'km', '500', '14,560', 'attractive', 'dca', '390', 'kendall', 'fte', 'exploiting', 'monson', '4-1/8', 'seems', '350', '28', '195', '5.54', 'engage', 'muncipal', 'governor', '24.2', '112-1/2', 'appropriate', '131.2', '104.6', '23.3', 'interested', '5.93', 'silver', '140,000', 'declining', 'than', 'mozambique', 'conducting', '267.2', 'icahn', '3.07', 'northeast', 'bright', '134.2', '34', 'expired', 'capitalize', 'definitive', 'head', 'retrieval', 'virtually', 'airline', 'corn/sorghum', 'competing', 'overall', 'fat', '1.52', 'burnham', '1.26', 'terminated', '11-day-old', \"'ve\", 'aim', '1-1/16', '19.1', 'performance', 'olympia', '1.5865', 'build', 'residential', 'will', '5.5p', '5.81', 'defined', 'describes', '5,900,000', 'arena', '2-1/2', 'authority', 'expecetd', '17.6', 'extendable', 'exercisable', 'super', 'solicit', '225,576', 'explained', 'milex', 'restructuring', 'citing', 'specialized', 'upland', 'job', 'swaziland', 'heading', '147', 'summoned', '48.0', 'psbr', 'barclays', 'connecting', 'needed', '92,800', '4.90', 'resulting', 'related', 'ecuatoriana', 'grew', 'sour', 'partially-sunk', 'approved', 'regionals', 'characterized', '1.54', 'heard', 'disappear', 'freight', 'formerly', 'robert', '26,019.8', 'cornglutenfeed', 'repaired', '273,300', 'westfair', 'with', 'ccl', 'tlci', 'chemical', 'withdrew', 'api', 'broaden', '0.3', 'crumbling', 'prevent', 'initially', 'ruling', 'visit', 'resort', '32.7', 'cite', 'minsitry', 'non-adjusted', 'concluded', 'tied', 'turned', 'exposure', 'resulted', 'ecopetrol', 'el', 'called', '3,761,000', 'questionmark', 'bought', '11.3', 'pdsva', 'argentina', '10,097', 'commitment', '2,285,000', 'routine', 'ii', 'bolivia', '49.8', 'bp', '137.1', 'bancroft', 'worst', 'magma', 'staf', 'extending', 'czarnikow', 'late', 'eliminated', '310', 'disarray', '2.62', 'forum', 'redistribution', '7,700,000', 'tka', 'wam', 'heavily', '13.5', 'now', 'installation', '600,971', 'east', 'looked', 'cathode', 'start', 'fulfill', 'end-day', 'aug', 'tillage', 'seismic', '10.6', '133.3', 'crowley', '274.17', 'paralysed', 'nevis', 'acquires', '110', 'plastic', 'celgar', '8.7', 'germany', '12.3', 'st.', 'know-how', '163,932', 'open', 'municipality', '194,697', 'westfiar', '286,300', 'dwws', 'promotional', 'located', 'booked', 'consider', '8,037,000', '3.06', 'beet', 'manufacturing', 'coming', 'explanation', 'big', 'rionda', 'mla', 'suspend', 'takeover', 'negotiate', 'noon', 'protocol', 'torpedoed', 'contributed', 'restart', 'experience', '6,846,000', 'processor', 'counting', 'asssets', 'middling', 'polarization', 'foot', 'algeria', 'subsidized', '32.6', 'onstream', 'affect', 'key', 'turkey', '5,503,000', 'outstrip', 'communication', 'used', 'drilled', 'condemnation', 'kenya', 'fit', 'lesser', 'commencement', 'stated', '517.19', 'voice', 'wei', 'cpo', '6.3', 'acknowledged', 'specializing', 'tell', '17.9', 'far', 'lb', 'fixed', 'load', 'old', 'gic', 'forest', '251.9', 'form', 'cultivator', '3.70', 'heat', 'involved', 'brazil', 'gts', '10,694', '264.2', 'abroad', '1.55', 'dropped', 'sort', 'marbling', 'run', \"bank's\", 'dismal', '107.77', 'radio', '300,000', 'context', 'epsi', 'settlement', 'dramatic', 'canon', '2.07', 'northeastern', 'pool', '216,000', '3.0', '2,300', 'not', 'leave', '61.11', 'ankara', 'zimbabwe', 'leon', 'buildiers', 'tendered', 'suggestion', '98.7', 'explaining', '128.4', 'linseed', 'malaysia', '10,000', '62.94', '190,600', 'meridian', '32,000', 'own', 'gross', 'primary', 'datagene', 'electronic', 'ask', 'injury', '887,000', 'fams', 'southland', 'containing', '6,635,318', 'completes', 'detailed', '8.4', 'shieldalloy', 'reflected', '45.6', '22.7', 'exceed', 'splinter', 'foundation', 'elliott', 'care', '3,229,000', 'success', '260,000', 'indicator', '703,000', '5.24', '30.06', 'administrative', 'frozen', 'multiple', 'outlay', 'others', 'sunflower', '9.49', '45-50', 'discovery', 'brix', 'endorse', 'crisis', 'owensboro/south', 'bruce', '61,600', 'upward', 'insured', 'u.s./japan', 'reagan', 'bring', 'requiring', '1.38', '294.0', '2,330,000', 'gmt', '49.1', '10-9/16', 'coincide', 'article', '11.0', 'overseas', 'interview', 'rising', '535.26', 'realistic', 'indebtedness', 'trans', 'riased', 'yr', 'copra', '60.8', '525.1', 'harken', 'rollback', 'iii', 'appreciation', 'oat', 'amarlo/', 'u.s.a.', 'cairo', 'turkish', 'evnsvlle', '2.39', 'ability', 'voiced', 'eberhard-rainer', 'written', '25p', 'hoped', '16.0', 'already', 'bancorp', 'meanwhile', 'command', 'represents', 'seek', 'expanded', 'shifting', 'small', 'sinking', '6,950,000', 'sorghum', 'rd', 'message', 'alternative']\n"
     ]
    }
   ],
   "source": [
    "import nltk\n",
    "all_words = nltk.FreqDist(all_words)\n",
    "word_features = list(all_words.keys())[:3000]\n",
    "\n",
    "print(all_words)\n",
    "print(word_features)\n",
    "\n",
    "def feature_extractor(review):\n",
    "  words = set(review)\n",
    "  features = {}\n",
    "  for w in word_features:\n",
    "    features[w] = (w in words)\n",
    "  return features\n",
    "\n",
    "featureset = [(feature_extractor(review),sentiment) \n",
    "              for (review, sentiment) in documents]"
   ]
  },
  {
   "cell_type": "code",
   "execution_count": 358,
   "metadata": {},
   "outputs": [],
   "source": [
    "#training_set, testing_set = featureset[:1900],featureset[1900:]\n",
    "#Can use 200 for training and 100 for testing to try and get the best result, but not even representation\n",
    "training_set, testing_set = featureset[:200],featureset[200:]\n",
    "#training_set, testing_set = featureset[:int(len(featureset)/2)],featureset[int(len(featureset)/2):]\n"
   ]
  },
  {
   "cell_type": "markdown",
   "metadata": {},
   "source": [
    "# Training\n",
    "accuracy ranges from 55% to 64%"
   ]
  },
  {
   "cell_type": "code",
   "execution_count": 359,
   "metadata": {},
   "outputs": [
    {
     "name": "stdout",
     "output_type": "stream",
     "text": [
      "Classifier accuracy: 0.71\n",
      "Most Informative Features\n",
      "                   crude = True               -1 : 0      =     13.8 : 1.0\n",
      "                     new = True                1 : -1     =     10.7 : 1.0\n",
      "                 billion = True                1 : -1     =     10.2 : 1.0\n",
      "                    base = True               -1 : 1      =      9.3 : 1.0\n",
      "                       v = True                0 : -1     =      9.2 : 1.0\n",
      "                  barrel = True               -1 : 1      =      8.5 : 1.0\n",
      "                    rose = True                1 : 0      =      7.2 : 1.0\n",
      "                interest = True                1 : -1     =      6.9 : 1.0\n",
      "                december = True                1 : -1     =      6.9 : 1.0\n",
      "               agreement = True                1 : 0      =      6.7 : 1.0\n",
      "                    qtly = True                0 : 1      =      6.4 : 1.0\n",
      "                    note = True                1 : -1     =      6.3 : 1.0\n",
      "                    rise = True                1 : 0      =      6.2 : 1.0\n",
      "                   raise = True               -1 : 1      =      6.0 : 1.0\n",
      "                 lending = True               -1 : 1      =      6.0 : 1.0\n"
     ]
    }
   ],
   "source": [
    "classifier_challenge = nltk.NaiveBayesClassifier.train(training_set)\n",
    "print(\"Classifier accuracy:\", nltk.classify.accuracy(classifier_challenge, testing_set))\n",
    "classifier_challenge.show_most_informative_features(15)"
   ]
  },
  {
   "cell_type": "markdown",
   "metadata": {},
   "source": [
    "## Save Classifier\n",
    "Try not to override classifiers already there"
   ]
  },
  {
   "cell_type": "code",
   "execution_count": 315,
   "metadata": {},
   "outputs": [],
   "source": [
    "import pickle\n",
    "filename = \"0.64Classifier.pickle\"#\"0.62Classifier.pickle\"#\"0.7Classifier.pickle\"\n",
    "save_classifier = open(filename,\"wb\")\n",
    "pickle.dump(classifier_challenge, save_classifier)\n",
    "save_classifier.close()"
   ]
  },
  {
   "cell_type": "markdown",
   "metadata": {},
   "source": [
    "## Load Classifier\n",
    "Remember to load the data before first. You can skip the training step though\n",
    "\n",
    "Something to note is that the loaded classifiers may have higher accuracy (70-80%) than usual"
   ]
  },
  {
   "cell_type": "code",
   "execution_count": 316,
   "metadata": {},
   "outputs": [
    {
     "name": "stdout",
     "output_type": "stream",
     "text": [
      "Classifier accuracy: 0.6466666666666666\n"
     ]
    }
   ],
   "source": [
    "import pickle\n",
    "\n",
    "filename = \"0.64Classifier.pickle\"#\"0.62Classifier.pickle\"#\"0.7Classifier.pickle\"\n",
    "classifier_f = open(filename,\"rb\")\n",
    "#classifier_f = open(\"0.62Classifier.pickle\",\"rb\")#open(\"0.7Classifier.pickle\", \"rb\")\n",
    "classifier_challenge = pickle.load(classifier_f)\n",
    "classifier_f.close()\n",
    "print(\"Classifier accuracy:\", nltk.classify.accuracy(classifier_challenge, testing_set))"
   ]
  },
  {
   "cell_type": "markdown",
   "metadata": {},
   "source": [
    "# Classifying"
   ]
  },
  {
   "cell_type": "code",
   "execution_count": 18,
   "metadata": {},
   "outputs": [],
   "source": [
    "from nltk.tokenize import word_tokenize # or use some other tokenizer\n",
    "#all_words = set(list(negfeats[0][0].keys())+list(posfeats[0][0].keys()))#word.lower() for passage in train for word in \n",
    "def sentiments(text):\n",
    "    test_sent_features = {word.lower(): (word in word_tokenize(text.lower())) for word in all_words}\n",
    "    out = classifier_challenge.classify(test_sent_features)\n",
    "    return out"
   ]
  },
  {
   "cell_type": "code",
   "execution_count": 10,
   "metadata": {},
   "outputs": [
    {
     "data": {
      "text/plain": [
       "-1"
      ]
     },
     "execution_count": 10,
     "metadata": {},
     "output_type": "execute_result"
    }
   ],
   "source": [
    "sentiments(\"This is a negative news report\")"
   ]
  },
  {
   "cell_type": "markdown",
   "metadata": {},
   "source": [
    "# Bag of Words Model\n",
    "https://www.datacamp.com/community/tutorials/text-analytics-beginners-nltk"
   ]
  },
  {
   "cell_type": "code",
   "execution_count": 170,
   "metadata": {},
   "outputs": [],
   "source": [
    "from sklearn.feature_extraction.text import CountVectorizer\n",
    "from nltk.tokenize import RegexpTokenizer\n",
    "#tokenizer to remove unwanted elements from out data like symbols and numbers\n",
    "token = RegexpTokenizer(r'[a-zA-Z0-9]+')\n",
    "cv = CountVectorizer(lowercase=True,stop_words='english',ngram_range = (1,1),tokenizer = token.tokenize)\n",
    "#lower(word_tokenize(df.iloc[i][\"Text\"]))\n",
    "text_counts= cv.fit_transform(df['Text'])"
   ]
  },
  {
   "cell_type": "code",
   "execution_count": 171,
   "metadata": {},
   "outputs": [],
   "source": [
    "from sklearn.model_selection import train_test_split\n",
    "X_train, X_test, y_train, y_test = train_test_split(\n",
    "    text_counts, df['Sentiments'], test_size=0.3, random_state=1)"
   ]
  },
  {
   "cell_type": "code",
   "execution_count": 172,
   "metadata": {},
   "outputs": [
    {
     "name": "stdout",
     "output_type": "stream",
     "text": [
      "MultinomialNB Accuracy: 0.6\n"
     ]
    }
   ],
   "source": [
    "from sklearn.naive_bayes import MultinomialNB\n",
    "#Import scikit-learn metrics module for accuracy calculation\n",
    "from sklearn import metrics\n",
    "# Model Generation Using Multinomial Naive Bayes\n",
    "clf = MultinomialNB().fit(X_train, y_train)\n",
    "predicted= clf.predict(X_test)\n",
    "print(\"MultinomialNB Accuracy:\",metrics.accuracy_score(y_test, predicted))"
   ]
  },
  {
   "cell_type": "code",
   "execution_count": 188,
   "metadata": {},
   "outputs": [
    {
     "data": {
      "text/plain": [
       "<90x4166 sparse matrix of type '<class 'numpy.int64'>'\n",
       "\twith 4068 stored elements in Compressed Sparse Row format>"
      ]
     },
     "execution_count": 188,
     "metadata": {},
     "output_type": "execute_result"
    }
   ],
   "source": [
    "X_test"
   ]
  },
  {
   "cell_type": "code",
   "execution_count": 186,
   "metadata": {},
   "outputs": [
    {
     "data": {
      "text/plain": [
       "<1x5 sparse matrix of type '<class 'numpy.int64'>'\n",
       "\twith 5 stored elements in Compressed Sparse Row format>"
      ]
     },
     "execution_count": 186,
     "metadata": {},
     "output_type": "execute_result"
    }
   ],
   "source": [
    "token = RegexpTokenizer(r'[a-zA-Z0-9]+')\n",
    "cv = CountVectorizer(lowercase=True,stop_words='english',ngram_range = (1,1),tokenizer = token.tokenize)\n",
    "#lower(word_tokenize(df.iloc[i][\"Text\"]))\n",
    "text= cv.fit_transform([\"Trump has once against caused a major dispute among countries\"])\n",
    "text#clf.predict(text)"
   ]
  },
  {
   "cell_type": "markdown",
   "metadata": {},
   "source": [
    "# Text Classification\n",
    "https://towardsdatascience.com/natural-language-processing-count-vectorization-with-scikit-learn-e7804269bb5e"
   ]
  },
  {
   "cell_type": "code",
   "execution_count": 189,
   "metadata": {},
   "outputs": [
    {
     "name": "stderr",
     "output_type": "stream",
     "text": [
      "Downloading 20news dataset. This may take a few minutes.\n",
      "Downloading dataset from https://ndownloader.figshare.com/files/5975967 (14 MB)\n"
     ]
    },
    {
     "name": "stdout",
     "output_type": "stream",
     "text": [
      "Total accuracy classification score: 0.6460435475305364\n",
      "Total F1 classification score: 0.6203806145034193\n"
     ]
    }
   ],
   "source": [
    "from sklearn.datasets import fetch_20newsgroups\n",
    "from sklearn.feature_extraction.text import CountVectorizer\n",
    "\n",
    "from sklearn.naive_bayes import MultinomialNB\n",
    "from sklearn import metrics\n",
    "\n",
    "# Create our vectorizer\n",
    "vectorizer = CountVectorizer()\n",
    "\n",
    "# All data\n",
    "newsgroups_train = fetch_20newsgroups(subset='train',\n",
    "                                      remove=('headers', 'footers', 'quotes'))\n",
    "newsgroups_test = fetch_20newsgroups(subset='test',\n",
    "                                     remove=('headers', 'footers', 'quotes'))\n",
    "\n",
    "# Get the training vectors\n",
    "vectors = vectorizer.fit_transform(newsgroups_train.data)\n",
    "\n",
    "# Build the classifier\n",
    "clf = MultinomialNB(alpha=.01)\n",
    "\n",
    "#  Train the classifier\n",
    "clf.fit(vectors, newsgroups_train.target)\n",
    "\n",
    "# Get the test vectors\n",
    "vectors_test = vectorizer.transform(newsgroups_test.data)\n",
    "\n",
    "# Predict and score the vectors\n",
    "pred = clf.predict(vectors_test)\n",
    "acc_score = metrics.accuracy_score(newsgroups_test.target, pred)\n",
    "f1_score = metrics.f1_score(newsgroups_test.target, pred, average='macro')\n",
    "\n",
    "print('Total accuracy classification score: {}'.format(acc_score))\n",
    "print('Total F1 classification score: {}'.format(f1_score))"
   ]
  }
 ],
 "metadata": {
  "kernelspec": {
   "display_name": "Python 3",
   "language": "python",
   "name": "python3"
  },
  "language_info": {
   "codemirror_mode": {
    "name": "ipython",
    "version": 3
   },
   "file_extension": ".py",
   "mimetype": "text/x-python",
   "name": "python",
   "nbconvert_exporter": "python",
   "pygments_lexer": "ipython3",
   "version": "3.6.7"
  }
 },
 "nbformat": 4,
 "nbformat_minor": 2
}
