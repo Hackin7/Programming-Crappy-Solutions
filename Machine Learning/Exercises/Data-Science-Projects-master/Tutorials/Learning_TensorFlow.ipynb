{
  "nbformat": 4,
  "nbformat_minor": 0,
  "metadata": {
    "colab": {
      "name": "Learning TensorFlow.ipynb",
      "version": "0.3.2",
      "provenance": []
    },
    "kernelspec": {
      "name": "python3",
      "display_name": "Python 3"
    }
  },
  "cells": [
    {
      "metadata": {
        "id": "w0bE69e_lDEl",
        "colab_type": "code",
        "colab": {}
      },
      "cell_type": "code",
      "source": [
        "import tensorflow as tf"
      ],
      "execution_count": 0,
      "outputs": []
    },
    {
      "metadata": {
        "id": "107_upMEleSu",
        "colab_type": "code",
        "outputId": "87a82603-22fa-489d-fa24-bb98579163ac",
        "colab": {
          "base_uri": "https://localhost:8080/",
          "height": 34
        }
      },
      "cell_type": "code",
      "source": [
        "h = tf.constant(\"hello\")\n",
        "k = tf.constant(\" World!\")\n",
        "hk = h+k\n",
        "hk"
      ],
      "execution_count": 0,
      "outputs": [
        {
          "output_type": "execute_result",
          "data": {
            "text/plain": [
              "<tf.Tensor 'add:0' shape=() dtype=string>"
            ]
          },
          "metadata": {
            "tags": []
          },
          "execution_count": 3
        }
      ]
    },
    {
      "metadata": {
        "id": "ubHLSGXhl01H",
        "colab_type": "code",
        "outputId": "974820b8-2e91-440c-93b9-c4732986b92d",
        "colab": {
          "base_uri": "https://localhost:8080/",
          "height": 34
        }
      },
      "cell_type": "code",
      "source": [
        "with tf.Session() as sess: ans = sess.run(hk)\n",
        "ans"
      ],
      "execution_count": 0,
      "outputs": [
        {
          "output_type": "execute_result",
          "data": {
            "text/plain": [
              "b'hello World!'"
            ]
          },
          "metadata": {
            "tags": []
          },
          "execution_count": 9
        }
      ]
    },
    {
      "metadata": {
        "id": "T0TYH8RbYm1H",
        "colab_type": "text"
      },
      "cell_type": "markdown",
      "source": [
        "# Graphs"
      ]
    },
    {
      "metadata": {
        "id": "m3dGYfD5nTtQ",
        "colab_type": "code",
        "outputId": "c2d17c12-235c-43c1-eb35-45f67d894129",
        "colab": {
          "base_uri": "https://localhost:8080/",
          "height": 68
        }
      },
      "cell_type": "code",
      "source": [
        "graph = tf.Graph()\n",
        "print(a.graph is graph) #Check if a in graph\n",
        "print(a.graph is tf.get_default_graph())\n",
        "print(graph is tf.get_default_graph())"
      ],
      "execution_count": 0,
      "outputs": [
        {
          "output_type": "stream",
          "text": [
            "False\n",
            "True\n",
            "False\n"
          ],
          "name": "stdout"
        }
      ]
    },
    {
      "metadata": {
        "id": "kbzhDiKLjwcZ",
        "colab_type": "code",
        "outputId": "b3017e68-a769-42c0-cde5-f78a63a723ac",
        "colab": {
          "base_uri": "https://localhost:8080/",
          "height": 51
        }
      },
      "cell_type": "code",
      "source": [
        "with graph.as_default():\n",
        "  print(graph is tf.get_default_graph())\n",
        "  a = tf.constant(0.2)\n",
        "  b = tf.constant(2.0) #Must give float for sin to work\n",
        "  c = a*b\n",
        "  d = tf.sin(c)\n",
        "  e = b/d\n",
        "  fetches = [a,b,c,d,e]\n",
        "  with tf.Session() as sess: \n",
        "    ans = sess.run(fetches)\n",
        "ans"
      ],
      "execution_count": 0,
      "outputs": [
        {
          "output_type": "stream",
          "text": [
            "True\n"
          ],
          "name": "stdout"
        },
        {
          "output_type": "execute_result",
          "data": {
            "text/plain": [
              "[0.2, 2.0, 0.4, 0.38941833, 5.135865]"
            ]
          },
          "metadata": {
            "tags": []
          },
          "execution_count": 15
        }
      ]
    },
    {
      "metadata": {
        "id": "vPmLQZhDmslm",
        "colab_type": "text"
      },
      "cell_type": "markdown",
      "source": [
        "# Fetches\n",
        "What you want to get at the end"
      ]
    },
    {
      "metadata": {
        "id": "a6nj82E2YmkV",
        "colab_type": "code",
        "outputId": "70b8eb6a-aa20-4638-a666-413a2ef31e7e",
        "colab": {
          "base_uri": "https://localhost:8080/",
          "height": 34
        }
      },
      "cell_type": "code",
      "source": [
        "a = tf.constant(1)\n",
        "b = tf.constant(2)\n",
        "c = tf.multiply(a,b)\n",
        "d = tf.add(a,b)\n",
        "e = tf.subtract(c,d)\n",
        "f = tf.add(c,d)\n",
        "g = tf.divide(a,b)\n",
        "with tf.Session() as sess: ans = sess.run(g)\n",
        "ans"
      ],
      "execution_count": 0,
      "outputs": [
        {
          "output_type": "execute_result",
          "data": {
            "text/plain": [
              "0.5"
            ]
          },
          "metadata": {
            "tags": []
          },
          "execution_count": 4
        }
      ]
    },
    {
      "metadata": {
        "id": "aNwuSRamwfWs",
        "colab_type": "text"
      },
      "cell_type": "markdown",
      "source": [
        "# Linear Regression Example\n",
        "\n"
      ]
    },
    {
      "metadata": {
        "id": "p4LQD88akpyo",
        "colab_type": "code",
        "outputId": "60658b4d-6edf-446a-a80d-d4957994b3fb",
        "colab": {
          "base_uri": "https://localhost:8080/",
          "height": 51
        }
      },
      "cell_type": "code",
      "source": [
        "import numpy as np\n",
        "x_data = np.random.randn(2000,3)\n",
        "w_real = [0.3,0.5,0.1]\n",
        "b_real = -0.2\n",
        "\n",
        "noise = np.random.randn(1,2000)*0.1\n",
        "y_data = np.matmul(w_real,x_data.T) + b_real + noise\n",
        "y_data"
      ],
      "execution_count": 0,
      "outputs": [
        {
          "output_type": "execute_result",
          "data": {
            "text/plain": [
              "array([[-0.23455322, -0.07376583, -1.58575316, ..., -0.37828613,\n",
              "        -0.24414755, -0.65235364]])"
            ]
          },
          "metadata": {
            "tags": []
          },
          "execution_count": 16
        }
      ]
    },
    {
      "metadata": {
        "id": "9wzMeqv8q0lk",
        "colab_type": "code",
        "outputId": "c4aa13af-0f47-49ec-f438-6c7ce08dcb1e",
        "colab": {
          "base_uri": "https://localhost:8080/",
          "height": 68
        }
      },
      "cell_type": "code",
      "source": [
        "NUM_STEPS = 10\n",
        "g = tf.Graph()\n",
        "wb_ = []\n",
        "with g.as_default():\n",
        "  x = tf.placeholder(tf.float32,shape=[None,3])\n",
        "  y_true = tf.placeholder(tf.float32,shape=None)\n",
        "  with tf.name_scope('inference') as scope:\n",
        "    w = tf.Variable([[0,0,0]],dtype=tf.float32,name='weights')\n",
        "    b = tf.Variable(0,dtype=tf.float32,name='bias')\n",
        "    y_pred = tf.matmul(w,tf.transpose(x)) +b\n",
        "    \n",
        "  with tf.name_scope('loss') as scope:\n",
        "    loss = tf.reduce_mean(tf.square(y_true-y_pred))\n",
        "  with tf.name_scope('train') as scope:\n",
        "    learning_rate = 0.5\n",
        "    optimizer = tf.train.GradientDescentOptimizer(learning_rate)\n",
        "    train = optimizer.minimize(loss)\n",
        "    \n",
        "  # Before starting, initialize the variables. We will 'run' this firat.\n",
        "  init = tf.global_variables_initializer()\n",
        "  with tf.Session() as sess:\n",
        "    sess.run(init)\n",
        "    for step in range(NUM_STEPS):\n",
        "      sess.run(train,{x:x_data, y_true: y_data})\n",
        "      if step % 5 == 0:\n",
        "        print(step, sess.run([w,b]))\n",
        "        wb_.append(sess.run([w,b]))\n",
        "    print(10, sess.run([w,b]))"
      ],
      "execution_count": 0,
      "outputs": [
        {
          "output_type": "stream",
          "text": [
            "0 [array([[0.29099783, 0.4977613 , 0.11049598]], dtype=float32), -0.21144442]\n",
            "5 [array([[0.30182892, 0.49921554, 0.10008687]], dtype=float32), -0.19739573]\n",
            "10 [array([[0.30182898, 0.4992156 , 0.1000868 ]], dtype=float32), -0.19739568]\n"
          ],
          "name": "stdout"
        }
      ]
    },
    {
      "metadata": {
        "id": "VFcIZQPEwlkm",
        "colab_type": "text"
      },
      "cell_type": "markdown",
      "source": [
        "# Logistic Regression"
      ]
    },
    {
      "metadata": {
        "id": "-YlvSpaZwlHK",
        "colab_type": "code",
        "colab": {}
      },
      "cell_type": "code",
      "source": [
        "N = 20000\n",
        "def sigmoid(x): return 1 / (1 + np.exp(-x))\n",
        "\n",
        "# Create data and simulate results\n",
        "x_data = np.random.randn(N,3)\n",
        "w_real = [0.3,0.5,0.1]\n",
        "b_real = -0.2\n",
        "wxb = np.matmul(w_real,x_data.T) + b_real\n",
        "\n",
        "y_data_pre_noise = sigmoid(wxb)\n",
        "y_data = np.random.binomial(1,y_data_pre_noise)"
      ],
      "execution_count": 0,
      "outputs": []
    },
    {
      "metadata": {
        "id": "3DJcWyPTx4CL",
        "colab_type": "code",
        "colab": {}
      },
      "cell_type": "code",
      "source": [
        "y_pred = tf.sigmoid(y_pred)\n",
        "loss = y_true*tf.log(y_pred - (1-y_true)*tf.log(1-y_pred))\n",
        "loss = tf.reduce_mean(loss)"
      ],
      "execution_count": 0,
      "outputs": []
    },
    {
      "metadata": {
        "id": "wAOkw5mFyFhC",
        "colab_type": "code",
        "outputId": "9c9660a6-53f4-498b-c7ae-256f63cba863",
        "colab": {
          "base_uri": "https://localhost:8080/",
          "height": 204
        }
      },
      "cell_type": "code",
      "source": [
        "NUM_STEPS = 50\n",
        "\n",
        "x = tf.placeholder(tf.float32,shape=[None,3])\n",
        "y_true = tf.placeholder(tf.float32,shape=None)\n",
        "with tf.name_scope('inference') as scope:\n",
        "    w = tf.Variable([[0,0,0]],dtype=tf.float32,name='weights')\n",
        "    b = tf.Variable(0,dtype=tf.float32,name='bias')\n",
        "    y_pred = tf.matmul(w,tf.transpose(x)) +b\n",
        "\n",
        "with tf.name_scope('loss') as scope:\n",
        "  loss = tf.nn.sigmoid_cross_entropy_with_logits(labels=y_true,logits=y_pred)\n",
        "  loss = tf.reduce_mean(loss)\n",
        "with tf.name_scope('train') as scope:\n",
        "    learning_rate = 0.5\n",
        "    optimizer = tf.train.GradientDescentOptimizer(learning_rate)\n",
        "    train = optimizer.minimize(loss)\n",
        "   \n",
        "# Before starting, initialize the variables. We will 'run' this first.\n",
        "init = tf.global_variables_initializer()\n",
        "with tf.Session() as sess:\n",
        "  sess.run(init)\n",
        "  for step in range(NUM_STEPS):\n",
        "      sess.run(train,{x:x_data, y_true: y_data})\n",
        "      if step % 5 == 0:\n",
        "        print(step, sess.run([w,b]))\n",
        "        wb_.append(sess.run([w,b]))\n",
        "  print(50, sess.run([w,b]))"
      ],
      "execution_count": 0,
      "outputs": [
        {
          "output_type": "stream",
          "text": [
            "0 [array([[0.03356561, 0.05613044, 0.01246269]], dtype=float32), -0.022674968]\n",
            "5 [array([[0.14868428, 0.24851859, 0.05510072]], dtype=float32), -0.099988274]\n",
            "10 [array([[0.2102271 , 0.35130697, 0.07780711]], dtype=float32), -0.14084779]\n",
            "15 [array([[0.24453482, 0.40860733, 0.0904265 ]], dtype=float32), -0.1633545]\n",
            "20 [array([[0.26419765, 0.44145837, 0.09764133]], dtype=float32), -0.17610478]\n",
            "25 [array([[0.2756553 , 0.4606098 , 0.10183699]], dtype=float32), -0.18345395]\n",
            "30 [array([[0.2823971 , 0.4718847 , 0.10430168]], dtype=float32), -0.1877351]\n",
            "35 [array([[0.28638685, 0.47856084, 0.10575826]], dtype=float32), -0.19024552]\n",
            "40 [array([[0.28875592, 0.4825273 , 0.10662222]], dtype=float32), -0.19172384]\n",
            "45 [array([[0.29016548, 0.4848885 , 0.10713577]], dtype=float32), -0.19259678]\n",
            "50 [array([[0.29087  , 0.4860693, 0.1073923]], dtype=float32), -0.19303037]\n"
          ],
          "name": "stdout"
        }
      ]
    },
    {
      "metadata": {
        "id": "edOptoYEDbG9",
        "colab_type": "code",
        "outputId": "9f0cbeec-a5a3-42cf-80fb-d04741b18947",
        "colab": {
          "base_uri": "https://localhost:8080/",
          "height": 35
        }
      },
      "cell_type": "code",
      "source": [
        "print(\"Hi\")"
      ],
      "execution_count": 0,
      "outputs": [
        {
          "output_type": "stream",
          "text": [
            "Hi\n"
          ],
          "name": "stdout"
        }
      ]
    }
  ]
}