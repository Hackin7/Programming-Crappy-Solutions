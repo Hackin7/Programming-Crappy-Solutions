{
 "cells": [
  {
   "cell_type": "markdown",
   "metadata": {
    "colab_type": "text",
    "id": "0K45WIVE_9ZO"
   },
   "source": [
    "# Q2\n",
    "Write program code to define the classes Tree and Node.\n",
    "\n",
    "a) Your program code. [16]\n"
   ]
  },
  {
   "cell_type": "code",
   "execution_count": null,
   "metadata": {
    "colab": {},
    "colab_type": "code",
    "id": "BOAqvY5G7Uwr"
   },
   "outputs": [],
   "source": [
    "class Node:\n",
    "    def __init__(self):\n",
    "        self.key = 0\n",
    "        # Initialise as None first to prevent excessive recursion\n",
    "        self.left = None\n",
    "        self.right = None\n",
    "    \n",
    "    def __str__(self):\n",
    "        output = \"\"\n",
    "        # Recursive Calls of connected nodes, In-Order\n",
    "        if self.left != None:\n",
    "            output += str(self.left) + \" \"\n",
    "        output += str(self.key)\n",
    "        if self.right != None:\n",
    "            output += \" \" + str(self.right)\n",
    "        return output\n",
    "        \n",
    "    def insert(self, key:int):\n",
    "        # Insert Left\n",
    "        if key < self.key:\n",
    "            if self.left == None:\n",
    "                self.left = Node()\n",
    "                self.left.key = key\n",
    "            else:\n",
    "                self.left.insert(key)\n",
    "        # Insert Right\n",
    "        elif key > self.key:\n",
    "            if self.right == None:\n",
    "                self.right = Node()\n",
    "                self.right.key = key\n",
    "            else:\n",
    "                self.right.insert(key)\n",
    "\n",
    "class Tree:\n",
    "    def __init__(self):\n",
    "        self.root = None # Node Type\n",
    "    \n",
    "    def add(self, newItem):\n",
    "        if self.root == None:\n",
    "            self.root = Node()\n",
    "            self.root.key = newItem\n",
    "        else:\n",
    "            self.root.insert(newItem)\n",
    "\n",
    "\n",
    "    def printTreeInOrder(self):\n",
    "        output = \"\"\n",
    "        stack = []\n",
    "        visited = set()\n",
    "        stack.append(self.root)\n",
    "        while len(stack) > 0:\n",
    "            curr = stack[-1]\n",
    "            visited.add(curr)\n",
    "            # Simulate Left Tree Recursion\n",
    "            if curr.left != None and curr.left not in visited: \n",
    "                stack.append(curr.left)\n",
    "            else:\n",
    "                stack.pop() #Done with node\n",
    "                output += \" \" + str(curr.key)\n",
    "                # Simulate Right Tree Recursion\n",
    "                if curr.right != None: \n",
    "                    stack.append(curr.right)\n",
    "        print(output[1:]) #Remove extra space at front\n"
   ]
  },
  {
   "cell_type": "markdown",
   "metadata": {
    "colab_type": "text",
    "id": "-9vCg-IMAMqM"
   },
   "source": [
    "* Write program code for a procedure CreateTreefromArray that accepts an array of\n",
    "unsorted unique integers passed in via a parameter.\n",
    "* The procedure will read each integer in the array and construct a binary tree using your\n",
    "classes Tree and Node.\n",
    "* Call printTreeInOrder to display the output (numbers shown will always be sorted).\n",
    "* Test your program by copying the input data found in BST.txt into your code.\n",
    "\n",
    "b) Your CreateTreefromArray program code. [4]"
   ]
  },
  {
   "cell_type": "code",
   "execution_count": null,
   "metadata": {
    "colab": {},
    "colab_type": "code",
    "id": "8dG7jsjz_2Qo"
   },
   "outputs": [],
   "source": [
    "def CreateTreefromArray(array):\n",
    "    binaryTree = Tree()\n",
    "    for i in array:\n",
    "        binaryTree.add(i)\n",
    "    binaryTree.printTreeInOrder()"
   ]
  },
  {
   "cell_type": "code",
   "execution_count": 30,
   "metadata": {
    "colab": {
     "base_uri": "https://localhost:8080/",
     "height": 51
    },
    "colab_type": "code",
    "executionInfo": {
     "elapsed": 612,
     "status": "ok",
     "timestamp": 1577000392296,
     "user": {
      "displayName": "Terence Chan Zun Mun",
      "photoUrl": "https://lh5.googleusercontent.com/-IYY4Dckc8Zc/AAAAAAAAAAI/AAAAAAAAAaI/IQOlNduWB4s/s64/photo.jpg",
      "userId": "10052727034272156174"
     },
     "user_tz": -480
    },
    "id": "-_isfFpSEtDw",
    "outputId": "e119a5c9-efa7-42e6-8bac-e1fd19d0c45a"
   },
   "outputs": [
    {
     "name": "stdout",
     "output_type": "stream",
     "text": [
      "---------------Testing Q2b--------------------------------------------\n",
      "1 2 4 5 6 7 8 9 11 13 14 15 16 17 20\n"
     ]
    }
   ],
   "source": [
    "#Test Data from BST.txt\n",
    "test = [11, 6, 1, 14, 16, 7, 17, 20, 13, 9, 15, 8, 5, 4, 2]\n",
    "print(\"---------------Testing Q2b--------------------------------------------\")\n",
    "CreateTreefromArray(test)"
   ]
  },
  {
   "cell_type": "markdown",
   "metadata": {
    "colab_type": "text",
    "id": "baApjovhGlJB"
   },
   "source": [
    "Amend procedure CreateTreefromArray so that the created tree from any input array of\n",
    "integers will be balanced where the number of items on the left and right subtree will roughly\n",
    "be divided equally (Hint: input array must first be sorted).\n",
    "\n",
    "2c) Your amended program code. [6]"
   ]
  },
  {
   "cell_type": "code",
   "execution_count": null,
   "metadata": {
    "colab": {},
    "colab_type": "code",
    "id": "ly2dZW97Gpm7"
   },
   "outputs": [],
   "source": [
    "#Test Data from BST.txt\n",
    "def insertionSort(array):\n",
    "    for i in range(1, len(array)):\n",
    "        key = array[i]\n",
    "        pointer = i-1\n",
    "        while key <= array[pointer] and pointer >= 0:\n",
    "            # Shift element rightward\n",
    "            array[pointer + 1] = array[pointer]\n",
    "            pointer -= 1\n",
    "        array[pointer+1] = key\n",
    "\n",
    "def CreateTreefromArray(array):\n",
    "    binaryTree = Tree()\n",
    "    mainArr=sorted(array)\n",
    "    done = []\n",
    "    # Start from the middle element\n",
    "    indexStack = [(0,int(len(array)/2),len(array))]\n",
    "    while len(indexStack) > 0:\n",
    "        group = indexStack[0]\n",
    "        low = group[0]\n",
    "        index = group[1]\n",
    "        high = group[2]\n",
    "\n",
    "        binaryTree.add(array[index])\n",
    "        # Next values to add\n",
    "        left = int((low+index)/2)\n",
    "        right = int((high+index)/2) \n",
    "        if left not in done: #Prevent duplicates\n",
    "            indexStack.append((low,left,index))\n",
    "            done.append(left)\n",
    "        if right not in done: #Prevent duplicates\n",
    "            indexStack.append((index,right,high))\n",
    "            done.append(right)\n",
    "        indexStack.pop(0)\n",
    "        \n",
    "    binaryTree.printTreeInOrder()\n",
    "    #return binaryTree"
   ]
  },
  {
   "cell_type": "code",
   "execution_count": 32,
   "metadata": {
    "colab": {
     "base_uri": "https://localhost:8080/",
     "height": 51
    },
    "colab_type": "code",
    "executionInfo": {
     "elapsed": 766,
     "status": "ok",
     "timestamp": 1577000503124,
     "user": {
      "displayName": "Terence Chan Zun Mun",
      "photoUrl": "https://lh5.googleusercontent.com/-IYY4Dckc8Zc/AAAAAAAAAAI/AAAAAAAAAaI/IQOlNduWB4s/s64/photo.jpg",
      "userId": "10052727034272156174"
     },
     "user_tz": -480
    },
    "id": "Uc7_N5YaIfL4",
    "outputId": "09b26d25-c4bd-4ef8-e788-c8a99baaf466"
   },
   "outputs": [
    {
     "name": "stdout",
     "output_type": "stream",
     "text": [
      "---------------Testing Q2c--------------------------------------------\n",
      "8 10 12 15 18 20 25\n"
     ]
    }
   ],
   "source": [
    "test = [8, 10, 12, 15, 18, 20, 25]\n",
    "print(\"---------------Testing Q2c--------------------------------------------\")\n",
    "tree = CreateTreefromArray(test)"
   ]
  },
  {
   "cell_type": "markdown",
   "metadata": {
    "colab_type": "text",
    "id": "7vtf7aN5Gp8A"
   },
   "source": [
    "Create a function FindKthSmallest that returns the kth smallest element in your binary tree.\n",
    "If k = 5 the kth smallest element will be 18. Your function should not need to use extra space\n",
    "(e.g. creating a new array) to solve the problem other than using a temp variable(s).\n",
    "\n",
    "2d) Your program code for FindKthSmallest. [4]"
   ]
  },
  {
   "cell_type": "code",
   "execution_count": null,
   "metadata": {
    "colab": {},
    "colab_type": "code",
    "id": "qEBCEDTRTTQ-"
   },
   "outputs": [],
   "source": [
    "'''\n",
    "# Iterative implementation\n",
    "def FindKthSmallest(k, tree):\n",
    "    if tree.root == None:\n",
    "        return None\n",
    "    stack = []\n",
    "    visited = set()\n",
    "    stack.append(tree.root)\n",
    "    while len(stack) > 0:\n",
    "        curr = stack[-1]\n",
    "        visited.add(curr)\n",
    "        # Simulate Left Tree Recursion\n",
    "        if curr.left != None and curr.left not in visited: \n",
    "            stack.append(curr.left)\n",
    "        else:\n",
    "            stack.pop() #Done with node\n",
    "            k -= 1\n",
    "            if k == 0:\n",
    "                return curr.key\n",
    "            # Simulate Right Tree Recursion\n",
    "            if curr.right != None: \n",
    "                stack.append(curr.right)\n",
    "    return None\n",
    "'''"
   ]
  },
  {
   "cell_type": "code",
   "execution_count": 1,
   "metadata": {
    "colab": {},
    "colab_type": "code",
    "id": "TuVtctUFnu4Q"
   },
   "outputs": [],
   "source": [
    "# Morris implementation\n",
    "def FindKthSmallest(k, tree):\n",
    "    if tree.root == None:\n",
    "        return None\n",
    "    curr = tree.root\n",
    "    prev = None\n",
    "    while curr != None:\n",
    "        # Left Dead End\n",
    "        if curr.left == None:\n",
    "            ### Could be one of the smallest elements\n",
    "            k -= 1\n",
    "            if k == 0: \n",
    "                return curr.key\n",
    "            ### Traverse to right link ############\n",
    "            prev = curr\n",
    "            curr = curr.right\n",
    "        else:\n",
    "            prev = curr.left\n",
    "            ### Find inorder predecessor by traversing right\n",
    "            while (prev.right != None and prev.right != curr):\n",
    "                prev = prev.right\n",
    "            \n",
    "            ### If reached the predecessor ###########\n",
    "            if prev.right == None:\n",
    "                ### Make temporary link for easy access later\n",
    "                prev.right = curr\n",
    "                ### Go to left node to rearrange ######\n",
    "                curr = curr.left\n",
    "            else: \n",
    "                ### Remove Temporary Link #############\n",
    "                prev.right = None\n",
    "                ### Could be one of the smallest elements\n",
    "                k -= 1\n",
    "                if k == 0: \n",
    "                    return curr.key\n",
    "                ### Go to right node to rearrange #####\n",
    "                curr = curr.right\n",
    "    return None # If code fails to work eg. k is invalid\n"
   ]
  },
  {
   "cell_type": "code",
   "execution_count": 45,
   "metadata": {
    "colab": {
     "base_uri": "https://localhost:8080/",
     "height": 51
    },
    "colab_type": "code",
    "executionInfo": {
     "elapsed": 580,
     "status": "ok",
     "timestamp": 1577002177250,
     "user": {
      "displayName": "Terence Chan Zun Mun",
      "photoUrl": "https://lh5.googleusercontent.com/-IYY4Dckc8Zc/AAAAAAAAAAI/AAAAAAAAAaI/IQOlNduWB4s/s64/photo.jpg",
      "userId": "10052727034272156174"
     },
     "user_tz": -480
    },
    "id": "zt9SYmKBk47g",
    "outputId": "cc44a993-8577-4d40-8377-ec1811d1b026"
   },
   "outputs": [
    {
     "name": "stdout",
     "output_type": "stream",
     "text": [
      "8 10 12 15 18 20 25\n"
     ]
    },
    {
     "data": {
      "text/plain": [
       "12"
      ]
     },
     "execution_count": 45,
     "metadata": {
      "tags": []
     },
     "output_type": "execute_result"
    }
   ],
   "source": [
    "def CreateTreefromArray(array):\n",
    "    binaryTree = Tree()\n",
    "    mainArr=sorted(array)\n",
    "\n",
    "    done = []\n",
    "    indexStack = [(0,int(len(array)/2),len(array))]\n",
    "    while len(indexStack) > 0:\n",
    "        #print(indexStack, end=\": \")\n",
    "        group = indexStack[0]\n",
    "        low = group[0]\n",
    "        index = group[1]\n",
    "        high = group[2]\n",
    "        #print(\"Index\",group)\n",
    "\n",
    "        binaryTree.add(array[index])\n",
    "        # Next values to add\n",
    "        left = int((low+index)/2)\n",
    "        right = int((high+index)/2) \n",
    "        if left not in done: #Prevent duplicates\n",
    "            indexStack.append((low,left,index))\n",
    "            done.append(left)\n",
    "        if right not in done: #Prevent duplicates\n",
    "            indexStack.append((index,right,high))\n",
    "            done.append(right)\n",
    "        indexStack.pop(0)\n",
    "        \n",
    "    binaryTree.printTreeInOrder()\n",
    "    return binaryTree\n",
    "FindKthSmallest(3, CreateTreefromArray(test))"
   ]
  }
 ],
 "metadata": {
  "colab": {
   "collapsed_sections": [],
   "name": "Q2_Chan Zun Mun Terence.ipynb",
   "provenance": []
  },
  "kernelspec": {
   "display_name": "Python 3",
   "language": "python",
   "name": "python3"
  },
  "language_info": {
   "codemirror_mode": {
    "name": "ipython",
    "version": 3
   },
   "file_extension": ".py",
   "mimetype": "text/x-python",
   "name": "python",
   "nbconvert_exporter": "python",
   "pygments_lexer": "ipython3",
   "version": "3.6.7"
  }
 },
 "nbformat": 4,
 "nbformat_minor": 4
}
