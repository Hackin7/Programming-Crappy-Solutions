{
 "cells": [
  {
   "cell_type": "markdown",
   "metadata": {
    "colab_type": "text",
    "id": "AzWo-_YMkzNl"
   },
   "source": [
    "# Q1 Array implementation of Stack Class\n",
    "a) Implement the Stack class using fixed sixed array"
   ]
  },
  {
   "cell_type": "code",
   "execution_count": 1,
   "metadata": {
    "colab": {},
    "colab_type": "code",
    "id": "Pog7wxG3hknS"
   },
   "outputs": [],
   "source": [
    "class Stack:\n",
    "  def __init__(self, capacity):\n",
    "    self.items = [None]*capacity\n",
    "    # initially set top to -1 since the stack is empty.\n",
    "    self.top = -1 \n",
    "  \n",
    "  ########## Getter Methods #####################################\n",
    "  def size(self):\n",
    "    return self.top + 1\n",
    "  \n",
    "  def isEmptyStack(self):\n",
    "    # Empty stack has the top pointer at -1 \n",
    "    return self.top == -1\n",
    "\n",
    "  def isFullStack(self):\n",
    "    # When top is equals to (capacity - 1), the stack is full.\n",
    "    return self.top == len(self.items) - 1\n",
    "\n",
    "  ########## Setter Methods #####################################\n",
    "  def push(self, item):\n",
    "    self.top += 1 #Increment index\n",
    "    # Validation code\n",
    "    if self.top >= len(self.items):\n",
    "      raise Exception(\"Stack is full!\")\n",
    "    else:\n",
    "      self.items[self.top] = item\n",
    "  \n",
    "  def pop(self):\n",
    "    output = self.peek()\n",
    "    if not self.isEmptyStack():\n",
    "        self.top -= 1 # Decrement index\n",
    "    return output\n",
    "\n",
    "  ########## Getter Method #####################################  \n",
    "  def peek(self):\n",
    "    if self.isEmptyStack():\n",
    "      return None\n",
    "    else:\n",
    "      return self.items[self.top]"
   ]
  },
  {
   "cell_type": "code",
   "execution_count": 2,
   "metadata": {
    "colab": {
     "base_uri": "https://localhost:8080/",
     "height": 323
    },
    "colab_type": "code",
    "executionInfo": {
     "elapsed": 4752,
     "status": "ok",
     "timestamp": 1575604436455,
     "user": {
      "displayName": "Terence Chan Zun Mun",
      "photoUrl": "https://lh5.googleusercontent.com/-IYY4Dckc8Zc/AAAAAAAAAAI/AAAAAAAAAaI/IQOlNduWB4s/s64/photo.jpg",
      "userId": "10052727034272156174"
     },
     "user_tz": -480
    },
    "id": "wcPYwkK7lhYw",
    "outputId": "b9af7a00-68b0-40f9-bbc2-d4b393557269"
   },
   "outputs": [
    {
     "name": "stdout",
     "output_type": "stream",
     "text": [
      "---------------Testing Q1a---------------\n",
      "TRUE SHOWS THAT IT WORKS!!!\n",
      "---Initialised Stack---\n",
      "size() True\n",
      "isEmptyStack() True\n",
      "isFullStack() True\n",
      "---Appending Elements---\n",
      "isEmptyStack() True\n",
      "isFullStack() True\n",
      "peek() True isEmptyStack() True isFullStack() True pop() True\n",
      "peek() True isEmptyStack() True isFullStack() True pop() True\n",
      "peek() True isEmptyStack() True isFullStack() True pop() True\n",
      "peek() True isEmptyStack() True isFullStack() True pop() True\n",
      "peek() True isEmptyStack() True isFullStack() True pop() True\n",
      "peek() True isEmptyStack() True isFullStack() True pop() True\n",
      "---Emptied Elements---\n",
      "isEmptyStack() True\n",
      "isFullStack() True\n"
     ]
    }
   ],
   "source": [
    "# Driver Code\n",
    "\n",
    "size = 6\n",
    "\n",
    "print(\"---------------Testing Q1a---------------\")\n",
    "print(\"TRUE SHOWS THAT IT WORKS!!!\")\n",
    "stack = Stack(size)\n",
    "print(\"---Initialised Stack---\")\n",
    "print(\"size()\", stack.size() == 0)\n",
    "print(\"isEmptyStack()\",stack.isEmptyStack() == True)\n",
    "print(\"isFullStack()\",stack.isFullStack() == False)\n",
    "\n",
    "print(\"---Appending Elements---\")\n",
    "for i in range(size):\n",
    "  stack.push(i)\n",
    "print(\"isEmptyStack()\",stack.isEmptyStack() == False)\n",
    "print(\"isFullStack()\",stack.isFullStack() == True)\n",
    "for i in range(size - 1, 0 - 1, -1):\n",
    "  print(\"peek()\", stack.peek() == i, \n",
    "        \"isEmptyStack()\",stack.isEmptyStack() == False, \n",
    "        \"isFullStack()\",stack.isFullStack() ==  (i == size-1), \n",
    "        \"pop()\", stack.pop() == i)\n",
    "  \n",
    "print(\"---Emptied Elements---\")\n",
    "print(\"isEmptyStack()\",stack.isEmptyStack() == True)\n",
    "print(\"isFullStack()\",stack.isFullStack() == False)\n",
    "\n"
   ]
  }
 ],
 "metadata": {
  "kernelspec": {
   "display_name": "Python 3",
   "language": "python",
   "name": "python3"
  },
  "language_info": {
   "codemirror_mode": {
    "name": "ipython",
    "version": 3
   },
   "file_extension": ".py",
   "mimetype": "text/x-python",
   "name": "python",
   "nbconvert_exporter": "python",
   "pygments_lexer": "ipython3",
   "version": "3.6.8"
  }
 },
 "nbformat": 4,
 "nbformat_minor": 4
}
