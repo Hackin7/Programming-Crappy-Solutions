{
 "cells": [
  {
   "cell_type": "markdown",
   "metadata": {
    "colab_type": "text",
    "id": "AzWo-_YMkzNl"
   },
   "source": [
    "# Q1 Array implementation of Stack Class\n",
    "a) Implement the Stack class using fixed sixed array"
   ]
  },
  {
   "cell_type": "code",
   "execution_count": 1,
   "metadata": {
    "colab": {},
    "colab_type": "code",
    "id": "Pog7wxG3hknS"
   },
   "outputs": [],
   "source": [
    "class Stack:\n",
    "  def __init__(self, capacity):\n",
    "    self.items = [None]*capacity\n",
    "    # initially set top to -1 since the stack is empty.\n",
    "    self.top = -1 \n",
    "  \n",
    "  ########## Getter Methods #####################################\n",
    "  def size(self):\n",
    "    return self.top + 1\n",
    "  \n",
    "  def isEmptyStack(self):\n",
    "    # Empty stack has the top pointer at -1 \n",
    "    return self.top == -1\n",
    "\n",
    "  def isFullStack(self):\n",
    "    # When top is equals to (capacity - 1), the stack is full.\n",
    "    return self.top == len(self.items) - 1\n",
    "\n",
    "  ########## Setter Methods #####################################\n",
    "  def push(self, item):\n",
    "    self.top += 1 #Increment index\n",
    "    # Validation code\n",
    "    if self.top >= len(self.items):\n",
    "      raise Exception(\"Stack is full!\")\n",
    "    else:\n",
    "      self.items[self.top] = item\n",
    "  \n",
    "  def pop(self):\n",
    "    output = self.peek()\n",
    "    if not self.isEmptyStack():\n",
    "        self.top -= 1 # Decrement index\n",
    "    return output\n",
    "\n",
    "  ########## Getter Method #####################################  \n",
    "  def peek(self):\n",
    "    if self.isEmptyStack():\n",
    "      return None\n",
    "    else:\n",
    "      return self.items[self.top]"
   ]
  },
  {
   "cell_type": "code",
   "execution_count": 2,
   "metadata": {
    "colab": {
     "base_uri": "https://localhost:8080/",
     "height": 323
    },
    "colab_type": "code",
    "executionInfo": {
     "elapsed": 4752,
     "status": "ok",
     "timestamp": 1575604436455,
     "user": {
      "displayName": "Terence Chan Zun Mun",
      "photoUrl": "https://lh5.googleusercontent.com/-IYY4Dckc8Zc/AAAAAAAAAAI/AAAAAAAAAaI/IQOlNduWB4s/s64/photo.jpg",
      "userId": "10052727034272156174"
     },
     "user_tz": -480
    },
    "id": "wcPYwkK7lhYw",
    "outputId": "b9af7a00-68b0-40f9-bbc2-d4b393557269"
   },
   "outputs": [
    {
     "name": "stdout",
     "output_type": "stream",
     "text": [
      "---------------Testing Q1a---------------\n",
      "TRUE SHOWS THAT IT WORKS!!!\n",
      "---Initialised Stack---\n",
      "size() True\n",
      "isEmptyStack() True\n",
      "isFullStack() True\n",
      "---Appending Elements---\n",
      "isEmptyStack() True\n",
      "isFullStack() True\n",
      "peek() True isEmptyStack() True isFullStack() True pop() True\n",
      "peek() True isEmptyStack() True isFullStack() True pop() True\n",
      "peek() True isEmptyStack() True isFullStack() True pop() True\n",
      "peek() True isEmptyStack() True isFullStack() True pop() True\n",
      "peek() True isEmptyStack() True isFullStack() True pop() True\n",
      "peek() True isEmptyStack() True isFullStack() True pop() True\n",
      "---Emptied Elements---\n",
      "isEmptyStack() True\n",
      "isFullStack() True\n"
     ]
    }
   ],
   "source": [
    "# Driver Code\n",
    "\n",
    "size = 6\n",
    "\n",
    "print(\"---------------Testing Q1a---------------\")\n",
    "print(\"TRUE SHOWS THAT IT WORKS!!!\")\n",
    "stack = Stack(size)\n",
    "print(\"---Initialised Stack---\")\n",
    "print(\"size()\", stack.size() == 0)\n",
    "print(\"isEmptyStack()\",stack.isEmptyStack() == True)\n",
    "print(\"isFullStack()\",stack.isFullStack() == False)\n",
    "\n",
    "print(\"---Appending Elements---\")\n",
    "for i in range(size):\n",
    "  stack.push(i)\n",
    "print(\"isEmptyStack()\",stack.isEmptyStack() == False)\n",
    "print(\"isFullStack()\",stack.isFullStack() == True)\n",
    "for i in range(size - 1, 0 - 1, -1):\n",
    "  print(\"peek()\", stack.peek() == i, \n",
    "        \"isEmptyStack()\",stack.isEmptyStack() == False, \n",
    "        \"isFullStack()\",stack.isFullStack() ==  (i == size-1), \n",
    "        \"pop()\", stack.pop() == i)\n",
    "  \n",
    "print(\"---Emptied Elements---\")\n",
    "print(\"isEmptyStack()\",stack.isEmptyStack() == True)\n",
    "print(\"isFullStack()\",stack.isFullStack() == False)\n",
    "\n"
   ]
  },
  {
   "cell_type": "markdown",
   "metadata": {
    "colab_type": "text",
    "id": "u3U_89VloKF2"
   },
   "source": [
    "# Q2\n",
    "a) Using a stack, write a function make_postfix(expr) which takes in a math expression in infix form\n",
    "and returns the expression in postfix format.\n",
    "\n",
    "Example, infix expression (1 + 2) * 3 can be converted to the postfix expression 1 2 + 3 *\n",
    "\n",
    "Make use of the Stack class you have implemented in question 1.\n",
    "\n",
    "\n",
    "Steps to convert from infix to postfix.\n",
    "Read in the tokens one at a time\n",
    "1. If a token is an integer, write it into the output\n",
    "2. If a token is a left parentheses '(', push it to the stack\n",
    "3. If a token is an operator, push it to the stack.\n",
    "4. If a token is a right parentheses ')', you pop the stack and write entries to output until you meet '('.\n",
    "Do not write brackets to output as postfix has no brackets.\n",
    "\n",
    "When you finish reading the string, you pop out all tokens which are left in the stack and write them\n",
    "to output.\n",
    "\n",
    "Hint: Use the string methods split() and isdigit()"
   ]
  },
  {
   "cell_type": "code",
   "execution_count": 3,
   "metadata": {
    "colab": {},
    "colab_type": "code",
    "id": "CwkvjP96oIJV"
   },
   "outputs": [],
   "source": [
    "def make_postfix(infix):\n",
    "  # Variable initialisation\n",
    "  tokens = infix.split()\n",
    "  output = \"\"\n",
    "  stack = Stack(len(tokens))\n",
    "  #Constants\n",
    "  spacing = \" \"\n",
    "  operators = [\"+\", \"-\", \"*\", \"/\"]\n",
    "  # Read tokens one at a time\n",
    "  for i in tokens:\n",
    "    if i.isdigit():\n",
    "      output += i + spacing\n",
    "    elif i == \"(\":\n",
    "      stack.push(i)\n",
    "    elif i in operators:\n",
    "      stack.push(i)\n",
    "    elif i == \")\":\n",
    "      while stack.peek() != \"(\":\n",
    "        output += stack.pop() + spacing\n",
    "      stack.pop() # Remove last paranthesism\n",
    "  # When you finish reading the string, you pop out all tokens \n",
    "  # which are left in the stack and write them to output.\n",
    "  while not stack.isEmptyStack():\n",
    "    output += stack.pop() + spacing\n",
    "  \n",
    "  if len(output) > 0:\n",
    "    output = output[:-1] #Remove empty space\n",
    "  return output"
   ]
  },
  {
   "cell_type": "code",
   "execution_count": 4,
   "metadata": {
    "colab": {
     "base_uri": "https://localhost:8080/",
     "height": 136
    },
    "colab_type": "code",
    "executionInfo": {
     "elapsed": 4740,
     "status": "ok",
     "timestamp": 1575604436459,
     "user": {
      "displayName": "Terence Chan Zun Mun",
      "photoUrl": "https://lh5.googleusercontent.com/-IYY4Dckc8Zc/AAAAAAAAAAI/AAAAAAAAAaI/IQOlNduWB4s/s64/photo.jpg",
      "userId": "10052727034272156174"
     },
     "user_tz": -480
    },
    "id": "tRnxlwzHrEa9",
    "outputId": "25cc4c6e-3608-408e-fd50-6199d8347ea9"
   },
   "outputs": [
    {
     "name": "stdout",
     "output_type": "stream",
     "text": [
      "---------------Testing Q2a--------------------------------------------\n",
      "Case                      | Expected                  | Output                    | Correct? \n",
      "------------------------- | ------------------------- | ------------------------- | ----\n",
      "1 + 2                     | 1 2 +                     | 1 2 +                     | True\n",
      "( 1 + 2 ) * 3             | 1 2 + 3 *                 | 1 2 + 3 *                 | True\n",
      "( 1 + 2 ) * ( 3 + 4 )     | 1 2 + 3 4 + *             | 1 2 + 3 4 + *             | True\n",
      "12 + 34                   | 12 34 +                   | 12 34 +                   | True\n"
     ]
    }
   ],
   "source": [
    "print(\"---------------Testing Q2a--------------------------------------------\")\n",
    "def test_case(case, expected):\n",
    "  print(f\"{case:<25} | {expected:<25} | {make_postfix(case):<25} | \\\n",
    "{'True' if make_postfix(case) == expected else 'False':<4}\")\n",
    "\n",
    "print(f\"{'Case':<25} | {'Expected':<25} | {'Output':<25} | {'Correct? ':<4}\")\n",
    "print(f\"{'-'*25:<25} | {'-'*25:<25} | {'-'*25:<25} | {'-'*4:<4}\")\n",
    "test_case(\"1 + 2\", \"1 2 +\")\n",
    "test_case(\"( 1 + 2 ) * 3\" ,\"1 2 + 3 *\")\n",
    "test_case(\"( 1 + 2 ) * ( 3 + 4 )\", \"1 2 + 3 4 + *\")\n",
    "test_case(\"12 + 34\", \"12 34 +\")\n"
   ]
  },
  {
   "cell_type": "markdown",
   "metadata": {
    "colab_type": "text",
    "id": "un69MWmOvukm"
   },
   "source": [
    "b) Convert Infix to Postfix (include order of precedence)\n",
    "The expressions in part (a) relies on brackets to determine the order of execution.\n",
    "\n",
    "Improve on function in 2(a) to write an advanced function make_postfix_adv(expr) which will take into consideration the order of precedence of the operators. Steps to convert from infix to postfix (include order of precedence):\n",
    "\n",
    "Read in the tokens one at a time\n",
    "1. If a token is an integer, write it into the output\n",
    "2. If a token is a left parentheses '(', push it to the stack\n",
    "3. If a token is an operator, push it to the stack. However, if the stack has operators with higher or\n",
    "equal priority, pop and write them to the output.\n",
    "4. If a token is a right parentheses ')', you pop the stack and write entries to output until you meet '('.\n",
    "Do not write brackets to output as postfix has no brackets."
   ]
  },
  {
   "cell_type": "code",
   "execution_count": 5,
   "metadata": {
    "colab": {},
    "colab_type": "code",
    "id": "Yrv6QTeDr4cm"
   },
   "outputs": [],
   "source": [
    "def make_postfix_adv(infix):\n",
    "  # Variable initialisation\n",
    "  tokens = infix.split()\n",
    "  output = \"\"\n",
    "  stack = Stack(len(tokens))\n",
    "  # Priority of operator in stack\n",
    "  stackPriority = 3 #Represents no priority\n",
    "  #Constants\n",
    "  spacing = \" \"\n",
    "  opLevel = {\"+\" : 2, \"-\" : 2, \"*\" : 1, \"/\" : 1}\n",
    "  operators = opLevel.keys()\n",
    "  # Read tokens one at a time\n",
    "  for i in tokens:\n",
    "    if i.isdigit():\n",
    "      output += i + spacing\n",
    "    elif i == \"(\":\n",
    "      stack.push(i)\n",
    "    elif i in operators:\n",
    "      if stackPriority <= opLevel[i]: #Higher level\n",
    "        #### Empty stack##############\n",
    "        while not stack.isEmptyStack():\n",
    "          output += stack.pop() + spacing\n",
    "        stackPriority = 3\n",
    "      stack.push(i)\n",
    "      stackPriority = opLevel[i]\n",
    "    elif i == \")\":\n",
    "      while not stack.isEmptyStack() and stack.peek() != \"(\":\n",
    "        output += stack.pop() + spacing\n",
    "      stack.pop() # Remove last paranthesism\n",
    "  # When you finish reading the string, you pop out all tokens \n",
    "  # which are left in the stack and write them to output.\n",
    "  while not stack.isEmptyStack():\n",
    "    output += stack.pop() + spacing\n",
    "  \n",
    "  if len(output) > 0:\n",
    "    output = output[:-1] #Remove empty space\n",
    "  return output\n"
   ]
  },
  {
   "cell_type": "code",
   "execution_count": 6,
   "metadata": {
    "colab": {
     "base_uri": "https://localhost:8080/",
     "height": 119
    },
    "colab_type": "code",
    "executionInfo": {
     "elapsed": 4728,
     "status": "ok",
     "timestamp": 1575604436461,
     "user": {
      "displayName": "Terence Chan Zun Mun",
      "photoUrl": "https://lh5.googleusercontent.com/-IYY4Dckc8Zc/AAAAAAAAAAI/AAAAAAAAAaI/IQOlNduWB4s/s64/photo.jpg",
      "userId": "10052727034272156174"
     },
     "user_tz": -480
    },
    "id": "bkHYhN5Jv9xl",
    "outputId": "79792b17-fa96-4cbf-d98a-2d20fd50bf1b"
   },
   "outputs": [
    {
     "name": "stdout",
     "output_type": "stream",
     "text": [
      "---------------Testing Q2b--------------------------------------------\n",
      "Case                      | Expected                  | Output                    | Correct? \n",
      "------------------------- | ------------------------- | ------------------------- | ----\n",
      "5 * 6 + 7 * 8             | 5 6 * 7 8 * +             | 5 6 * 7 8 * +             | True\n",
      "5 + 6 * 7 + 8             | 5 6 7 * + 8 +             | 5 6 7 * + 8 +             | True\n",
      "( 12 + 23 ) - 6 / 2       | 12 23 + 6 2 / -           | 12 23 + 6 2 / -           | True\n"
     ]
    }
   ],
   "source": [
    "print(\"---------------Testing Q2b--------------------------------------------\")\n",
    "def test_case(case, expected):\n",
    "  print(f\"{case:<25} | {expected:<25} | {make_postfix_adv(case):<25} | \\\n",
    "{'True' if make_postfix_adv(case) == expected else 'False':<4}\")\n",
    "\n",
    "print(f\"{'Case':<25} | {'Expected':<25} | {'Output':<25} | {'Correct? ':<4}\")\n",
    "print(f\"{'-'*25:<25} | {'-'*25:<25} | {'-'*25:<25} | {'-'*4:<4}\")\n",
    "test_case(\"5 * 6 + 7 * 8\", \"5 6 * 7 8 * +\")\n",
    "test_case(\"5 + 6 * 7 + 8\" , \"5 6 7 * + 8 +\")\n",
    "test_case(\"( 12 + 23 ) - 6 / 2 \", \"12 23 + 6 2 / -\")\n"
   ]
  },
  {
   "cell_type": "markdown",
   "metadata": {
    "colab_type": "text",
    "id": "VODMngK3ywoo"
   },
   "source": [
    "# Q3 Evaluating a Postfix Expression\n",
    "An application of Stack is to calculate postfix form expressions. The calculate function takes in a math expression in postfix form and returns the result of the expression as an integer (the expression is guaranteed to evaluate to an integer). The format of the input string is the same as the output in last question. For example, 1 2 + 3 *.\n",
    "\n",
    "Steps to parse and evaluate a postfix expression.\n",
    "1. We read the tokens in one at a time.\n",
    "2. If it is an integer, push it on the stack\n",
    "3. If it is a binary operator, pop the top two elements from the stack, apply the operator, and push\n",
    "the result back on the stack."
   ]
  },
  {
   "cell_type": "code",
   "execution_count": 7,
   "metadata": {
    "colab": {},
    "colab_type": "code",
    "id": "_xViO2VLywTq"
   },
   "outputs": [],
   "source": [
    "def calculate(postfix):\n",
    "  # Variable initialisation\n",
    "  tokens = postfix.split()\n",
    "  output = 0 \n",
    "  stack = Stack(len(tokens))\n",
    "  # Constants\n",
    "  operators = [\"+\", \"-\", \"*\", \"/\"]\n",
    "  for i in tokens:\n",
    "    if i.isdigit():\n",
    "      stack.push(int(i))\n",
    "    elif i in operators:\n",
    "      val2 = stack.pop() # last element put in first\n",
    "      val1 = stack.pop()\n",
    "      if i == \"+\":\n",
    "        valTotal = val1 + val2\n",
    "      elif i == \"-\":\n",
    "        valTotal = val1 - val2\n",
    "      elif i == \"*\":\n",
    "        valTotal = val1 * val2\n",
    "      elif i == \"/\":\n",
    "        valTotal = val1 / val2\n",
    "      stack.push(valTotal)\n",
    "  # Last Element is output\n",
    "  output = stack.peek()\n",
    "  return output"
   ]
  },
  {
   "cell_type": "code",
   "execution_count": 8,
   "metadata": {
    "colab": {
     "base_uri": "https://localhost:8080/",
     "height": 136
    },
    "colab_type": "code",
    "executionInfo": {
     "elapsed": 4717,
     "status": "ok",
     "timestamp": 1575604436463,
     "user": {
      "displayName": "Terence Chan Zun Mun",
      "photoUrl": "https://lh5.googleusercontent.com/-IYY4Dckc8Zc/AAAAAAAAAAI/AAAAAAAAAaI/IQOlNduWB4s/s64/photo.jpg",
      "userId": "10052727034272156174"
     },
     "user_tz": -480
    },
    "id": "XOn0eEYjzQd0",
    "outputId": "b880d461-abac-42a1-a7ed-b683f3626d7f"
   },
   "outputs": [
    {
     "name": "stdout",
     "output_type": "stream",
     "text": [
      "---------------Testing Q3--------------------------------------------\n",
      "Case                      | Expected                  | Output                    | Correct? \n",
      "------------------------- | ------------------------- | ------------------------- | ----\n",
      "1 2 +                     | 3                         | 3                         | True\n",
      "5 6 * 7 8 * +             | 86                        | 86                        | True\n",
      "5 6 7 * + 8 +             | 55                        | 55                        | True\n",
      "12 23 + 6 2 / -           | 32                        | 32.0                      | True\n"
     ]
    }
   ],
   "source": [
    "print(\"---------------Testing Q3--------------------------------------------\")\n",
    "def test_case(case, expected):\n",
    "  print(f\"{case:<25} | {expected:<25} | {calculate(case):<25} | \\\n",
    "{'True' if calculate(case) == expected else 'False':<4}\")\n",
    "\n",
    "print(f\"{'Case':<25} | {'Expected':<25} | {'Output':<25} | {'Correct? ':<4}\")\n",
    "print(f\"{'-'*25:<25} | {'-'*25:<25} | {'-'*25:<25} | {'-'*4:<4}\")\n",
    "\n",
    "test_case(\"1 2 +\", 3)\n",
    "test_case(\"5 6 * 7 8 * +\", 86)\n",
    "test_case(\"5 6 7 * + 8 +\", 55)\n",
    "test_case(\"12 23 + 6 2 / -\", 32)"
   ]
  }
 ],
 "metadata": {
  "colab": {
   "collapsed_sections": [],
   "name": "Chan Zun Mun Terence.ipynb",
   "provenance": []
  },
  "kernelspec": {
   "display_name": "Python 3",
   "language": "python",
   "name": "python3"
  },
  "language_info": {
   "codemirror_mode": {
    "name": "ipython",
    "version": 3
   },
   "file_extension": ".py",
   "mimetype": "text/x-python",
   "name": "python",
   "nbconvert_exporter": "python",
   "pygments_lexer": "ipython3",
   "version": "3.6.7"
  }
 },
 "nbformat": 4,
 "nbformat_minor": 4
}
