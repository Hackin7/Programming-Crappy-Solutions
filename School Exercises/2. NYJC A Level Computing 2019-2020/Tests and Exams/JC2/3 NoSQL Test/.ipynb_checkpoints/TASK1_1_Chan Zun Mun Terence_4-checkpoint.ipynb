{
 "cells": [
  {
   "cell_type": "code",
   "execution_count": 24,
   "metadata": {},
   "outputs": [],
   "source": [
    "## Task 1.1\n",
    "\n",
    "## Options\n",
    "FILENAME = \"STUDENTLIST.txt\"\n",
    "DATABASE_NAME = \"all_classes\"\n",
    "COLLECTION_NAME = \"student_details\"\n",
    "\n",
    "import csv\n",
    "\n",
    "def fileImport(filename):\n",
    "    processed_data = []\n",
    "    \n",
    "    f = open(filename)\n",
    "    csv_reader = csv.reader(f)\n",
    "    for i in csv_reader:\n",
    "        # Process each line\n",
    "        processed_data.append({\n",
    "            \"class\": i[0],\n",
    "            \"index_no\": int(i[1]),\n",
    "            \"name\": i[2]\n",
    "        })\n",
    "    f.close()\n",
    "    return processed_data\n",
    "\n",
    "## Opening and Writing to Database\n",
    "import pymongo\n",
    "conn = pymongo.MongoClient(\"127.0.0.1\",27017)\n",
    "db = conn.get_database(DATABASE_NAME)\n",
    "coll = db.get_collection(COLLECTION_NAME)\n",
    "# Insert data from file into database\n",
    "coll.insert_many(fileImport(FILENAME))\n",
    "conn.close()"
   ]
  },
  {
   "cell_type": "code",
   "execution_count": null,
   "metadata": {},
   "outputs": [],
   "source": [
    "# coll.delete_many() # Debugging"
   ]
  }
 ],
 "metadata": {
  "kernelspec": {
   "display_name": "Python 3",
   "language": "python",
   "name": "python3"
  },
  "language_info": {
   "codemirror_mode": {
    "name": "ipython",
    "version": 3
   },
   "file_extension": ".py",
   "mimetype": "text/x-python",
   "name": "python",
   "nbconvert_exporter": "python",
   "pygments_lexer": "ipython3",
   "version": "3.7.3"
  }
 },
 "nbformat": 4,
 "nbformat_minor": 2
}
