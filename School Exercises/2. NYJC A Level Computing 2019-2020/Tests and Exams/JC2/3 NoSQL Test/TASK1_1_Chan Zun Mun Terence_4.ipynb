{
 "cells": [
  {
   "cell_type": "code",
   "execution_count": 5,
   "metadata": {},
   "outputs": [
    {
     "name": "stderr",
     "output_type": "stream",
     "text": [
      "/usr/lib/python3/dist-packages/ipykernel_launcher.py:33: DeprecationWarning: collection_names is deprecated. Use list_collection_names instead.\n"
     ]
    }
   ],
   "source": [
    "## Task 1.1\n",
    "\n",
    "## Options\n",
    "FILENAME = \"STUDENTLIST.txt\"\n",
    "DATABASE_NAME = \"all_classes\"\n",
    "COLLECTION_NAME = \"student_details\"\n",
    "\n",
    "import csv\n",
    "\n",
    "def fileImport(filename):\n",
    "    ## Initialise Variables\n",
    "    processed_data = []\n",
    "    f = open(filename)\n",
    "    csv_reader = csv.reader(f)\n",
    "    \n",
    "    for i in csv_reader:\n",
    "        # Process each line\n",
    "        processed_data.append({\n",
    "            \"class\": i[0],\n",
    "            \"index_no\": int(i[1]),\n",
    "            \"name\": i[2]\n",
    "        })\n",
    "    f.close()\n",
    "    \n",
    "    return processed_data\n",
    "\n",
    "## Opening Database\n",
    "import pymongo\n",
    "conn = pymongo.MongoClient(\"127.0.0.1\",27017)\n",
    "db = conn.get_database(DATABASE_NAME)\n",
    "\n",
    "# Clear any previous collection\n",
    "collections = db.collection_names()\n",
    "if COLLECTION_NAME in collections:\n",
    "    db.drop_collection(COLLECTION_NAME)\n",
    "\n",
    "# Write to Database\n",
    "coll = db.get_collection(COLLECTION_NAME)\n",
    "\n",
    "# Insert data from file into database\n",
    "coll.insert_many(fileImport(FILENAME))\n",
    "\n",
    "conn.close()"
   ]
  },
  {
   "cell_type": "code",
   "execution_count": 3,
   "metadata": {},
   "outputs": [
    {
     "name": "stdout",
     "output_type": "stream",
     "text": [
      "['student_details']\n"
     ]
    },
    {
     "name": "stderr",
     "output_type": "stream",
     "text": [
      "/usr/lib/python3/dist-packages/ipykernel_launcher.py:6: DeprecationWarning: collection_names is deprecated. Use list_collection_names instead.\n",
      "  \n"
     ]
    }
   ],
   "source": [
    "'''\n",
    "import pymongo\n",
    "conn = pymongo.MongoClient(\"127.0.0.1\",27017)\n",
    "db = conn.get_database(DATABASE_NAME)\n",
    "coll = db.collection_names()\n",
    "print(coll)\n",
    "'''"
   ]
  }
 ],
 "metadata": {
  "kernelspec": {
   "display_name": "Python 3",
   "language": "python",
   "name": "python3"
  },
  "language_info": {
   "codemirror_mode": {
    "name": "ipython",
    "version": 3
   },
   "file_extension": ".py",
   "mimetype": "text/x-python",
   "name": "python",
   "nbconvert_exporter": "python",
   "pygments_lexer": "ipython3",
   "version": "3.7.3"
  }
 },
 "nbformat": 4,
 "nbformat_minor": 2
}
