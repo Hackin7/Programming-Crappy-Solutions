{
 "cells": [
  {
   "cell_type": "code",
   "execution_count": 1,
   "metadata": {},
   "outputs": [
    {
     "name": "stdout",
     "output_type": "stream",
     "text": [
      "Enter a cipher key: 1\n",
      "The key entered in is invalid, as it has non-alphabetical characters\n",
      "Enter a cipher key: Zebras\n",
      "Output: 6 3 2 4 1 5\n"
     ]
    },
    {
     "data": {
      "text/plain": [
       "'6 3 2 4 1 5'"
      ]
     },
     "execution_count": 1,
     "metadata": {},
     "output_type": "execute_result"
    }
   ],
   "source": [
    "#Task 1.1\n",
    "\n",
    "def isAlphaValid(string):\n",
    "    # Validation\n",
    "    for char in string:\n",
    "        # Check if each character is in the ASCII range for A-Z or a-z\n",
    "        if not ((65 <= ord(char) <=65+26-1) or \\\n",
    "                (97 <= ord(char) <=97+26-1)):\n",
    "            return False\n",
    "    return True\n",
    "\n",
    "def GenerateKeyOrderDriver():\n",
    "        CipherKey = input(\"Enter a cipher key: \")\n",
    "        # Validation loop\n",
    "        while not isAlphaValid(CipherKey):\n",
    "            print(\"The key entered in is invalid, as it has non-alphabetical characters\")\n",
    "            CipherKey = input(\"Enter a cipher key: \")\n",
    "        \n",
    "        order = GenerateKeyOrder(CipherKey)\n",
    "        print(\"Output:\", order)\n",
    "        return order\n",
    "    \n",
    "def GenerateKeyOrder(CipherKey):\n",
    "    CipherKey = CipherKey.lower() # Convert all to lowercase\n",
    "    characters = list(CipherKey)\n",
    "    characters = sorted(characters) # Get the order\n",
    "    \n",
    "    # Mapping the order using a Python Dictionary for quick access\n",
    "    mapping = {}\n",
    "    for order in range(len(characters)):\n",
    "        char = characters[order]\n",
    "        mapping[char] = order\n",
    "        \n",
    "    # Output\n",
    "    output = \"\"\n",
    "    for char in CipherKey:\n",
    "        output += f\"{mapping[char]+1} \" # Start from 1\n",
    "    output = output.strip() #Remove trailing whitespace\n",
    "    return output\n",
    "\n",
    "GenerateKeyOrderDriver()"
   ]
  },
  {
   "cell_type": "code",
   "execution_count": 29,
   "metadata": {},
   "outputs": [
    {
     "name": "stdout",
     "output_type": "stream",
     "text": [
      "Enter a cipher key: Zebras\n",
      "Output: 6 3 2 4 1 5\n",
      "The encoded message is:\n",
      "EVLN! ACDT! ESEA! ROFO! DEEC! WIREE\n"
     ]
    }
   ],
   "source": [
    "#Task 1.2\n",
    "\n",
    "def removeNonAlphaNumeric(message):\n",
    "    newMessage = \"\" # Only has alphabetical characters\n",
    "    for char in message:\n",
    "        if char.isalpha():\n",
    "            newMessage += char\n",
    "    return newMessage\n",
    "\n",
    "def contructTable(rows, columns):\n",
    "    ## Initialisation\n",
    "    table = []\n",
    "    for row in range(rows):\n",
    "        colEntry = []\n",
    "        for col in range(columns):\n",
    "            colEntry.append(\"!\")\n",
    "        table.append(colEntry)\n",
    "    return table\n",
    "def Encode():\n",
    "    keyOrder = GenerateKeyOrderDriver()\n",
    "    columnPermute = keyOrder.split(\" \")\n",
    "    \n",
    "    messageFile = open(\"Message.txt\", \"r\") #Read Mode\n",
    "    message = messageFile.read()\n",
    "    messageFile.close()\n",
    "    \n",
    "    newMessage = removeNonAlphaNumeric(message)\n",
    "        \n",
    "    # Computing number of rows and tables\n",
    "    columns = len(columnPermute)\n",
    "    ## Check if an extra row is need\n",
    "    rows = len(newMessage) // columns + (len(newMessage) % columns > 0) \n",
    "    \n",
    "    \n",
    "    # Creating a Table with 2D array (Simulated with nested lists)\n",
    "    ## Initialisation\n",
    "    table = contructTable(rows, columns)\n",
    "    ## Inputing in values\n",
    "    for charIndex in range(len(newMessage)):\n",
    "        row = charIndex // columns\n",
    "        col = charIndex % columns\n",
    "        char = newMessage[charIndex]    \n",
    "        table[row][col] = char\n",
    "        \n",
    "    # Mapping\n",
    "    output = \"\"\n",
    "    for colValue in range(1, columns+1): # 1-6\n",
    "        # Search for the column with that value\n",
    "        for colIndex in range(columns): \n",
    "            if int(columnPermute[colIndex]) == colValue:\n",
    "                for row in range(rows):\n",
    "                    output += table[row][colIndex]\n",
    "                output += ' ' # Separating whitespace\n",
    "\n",
    "    output = output.strip() # Remove trailing whitespace\n",
    "    print(\"The encoded message is:\")\n",
    "    print(output)\n",
    "\n",
    "Encode()"
   ]
  },
  {
   "cell_type": "code",
   "execution_count": 50,
   "metadata": {},
   "outputs": [
    {
     "name": "stdout",
     "output_type": "stream",
     "text": [
      "The decoded message is:\n",
      "WEAREDISCOVEREDFLEEATONCE\n"
     ]
    }
   ],
   "source": [
    "#Task 1.3\n",
    "def Decode(EncodedMessage, Key):\n",
    "    # Removes spaces and stuff\n",
    "    newMessage = \"\" # Only has alphabetical characters\n",
    "    for char in EncodedMessage:\n",
    "        if char.isalpha() or char == '!':\n",
    "            newMessage += char\n",
    "    \n",
    "    # Calculation of rows and Columns\n",
    "    columns = len(Key)\n",
    "    rows = (len(newMessage) // columns) + (len(newMessage) % columns > 0)\n",
    "    \n",
    "    # Get Permutation order\n",
    "    keyOrder = GenerateKeyOrder(Key)\n",
    "    columnPermute = keyOrder.split(\" \")\n",
    "    \n",
    "    # Transposition Table\n",
    "    table = contructTable(rows, columns)\n",
    "    msgIndex = 0\n",
    "    while msgIndex < len(newMessage):\n",
    "        colValue = (msgIndex // rows) + 1  # Starts from 1\n",
    "        # Search for the column with that value\n",
    "        for colIndex in range(columns):\n",
    "            if int(columnPermute[colIndex]) == colValue:\n",
    "                for row in range(rows):\n",
    "                    table[row][colIndex] = newMessage[msgIndex]\n",
    "                    msgIndex += 1\n",
    "\n",
    "    # Reading off transposition table\n",
    "    output = ''\n",
    "    for row in range(rows):\n",
    "        for col in range(columns):\n",
    "            if table[row][col] != '!': # Null Character\n",
    "                output += table[row][col]\n",
    "    \n",
    "    print(\"The decoded message is:\")\n",
    "    print(output)\n",
    "        \n",
    "Decode(\"EVLN! ACDT! ESEA! ROFO! DEEC! WIREE\", \"Zebras\")"
   ]
  }
 ],
 "metadata": {
  "kernelspec": {
   "display_name": "Python 3",
   "language": "python",
   "name": "python3"
  },
  "language_info": {
   "codemirror_mode": {
    "name": "ipython",
    "version": 3
   },
   "file_extension": ".py",
   "mimetype": "text/x-python",
   "name": "python",
   "nbconvert_exporter": "python",
   "pygments_lexer": "ipython3",
   "version": "3.6.7"
  }
 },
 "nbformat": 4,
 "nbformat_minor": 2
}
