{
 "cells": [
  {
   "cell_type": "code",
   "execution_count": 2,
   "metadata": {},
   "outputs": [
    {
     "name": "stdout",
     "output_type": "stream",
     "text": [
      "Enter a single letter: =\n",
      "The letter entered is invalid\n",
      "Enter a single letter: A\n",
      "A\n"
     ]
    }
   ],
   "source": [
    "#Task 1.1\n",
    "letter = input(\"Enter a single letter: \")\n",
    "#$$$$$Correction, cannot 65 to 122$$$$$$$$$$$$$$$$$$$$$$$$$$$$$$$$$$$$$$$$$$$$$$$$$$$$$$$$$$\n",
    "while not(len(letter) == 1 and (65 <= ord(letter) <= 65+25 or 122-25 <= ord(letter) <= 122)): \n",
    "    print(\"The letter entered is invalid\")\n",
    "    letter = input(\"Enter a single letter: \")\n",
    "print(letter)"
   ]
  },
  {
   "cell_type": "code",
   "execution_count": 6,
   "metadata": {},
   "outputs": [
    {
     "name": "stdout",
     "output_type": "stream",
     "text": [
      "Enter a single letter: B\n",
      "Enter the number base (between 10 to 15 exclusive): 11\n",
      "Letter              B\n",
      "Denary              66\n",
      "Number Base 11      60\n"
     ]
    }
   ],
   "source": [
    "#Task 1.2\n",
    "#$$$$ Correction, show evidence of testing for both $$$$$$$$$$$$$$$$$$$$$$$$$$$$$$$$$$$$$$$$$$$$$$$$$$$$$$$$$\n",
    "def task1_2():\n",
    "    ###Input#############################################################\n",
    "    letter = input(\"Enter a single letter: \")\n",
    "    while not(len(letter) == 1 and (65 <= ord(letter) <= 65+25 or 122-25 <= ord(letter) <= 122)): \n",
    "        print(\"The letter entered is invalid\")\n",
    "        letter = input(\"Enter a single letter: \")\n",
    "\n",
    "\n",
    "    message = \"Enter the number base (between 10 to 15 exclusive): \"\n",
    "    numberBase = int(input(message))\n",
    "    while not(10 < numberBase < 15): # Validation\n",
    "        print(\"The base input in is invalid\")\n",
    "        numberBase = int(input(message))\n",
    "\n",
    "    ###Processing#########################################################\n",
    "    #$$$ Function Wrong $$$$$$$$$$$$$$$$$$$$$$$$$$$$$$$$$$$$$$$$$$$$$\n",
    "    def convertBase(val, base):\n",
    "        output = \"\"\n",
    "        # Correct Digits for the values (retrieve by array index)\n",
    "        mapping = ['0','1','2','3','4','5','6','7','8','9','A','B','C','D','E','F']\n",
    "        while val >= base:\n",
    "            digit = mapping[val % base]\n",
    "            output = digit+output\n",
    "            val //= base # Get the remainder\n",
    "        #For the last digit\n",
    "        digit = mapping[val]\n",
    "        output = digit + output\n",
    "        return output\n",
    "\n",
    "\n",
    "    ###Output#############################################################\n",
    "    print(f\"{'Letter':20}{letter}\")\n",
    "    print(f\"{'Denary':20}{ord(letter)}\")\n",
    "    print(f\"{'Number Base '+ str(numberBase):20}{convertBase(ord(letter),numberBase)}\")\n",
    "\n",
    "task1_2()"
   ]
  },
  {
   "cell_type": "code",
   "execution_count": 5,
   "metadata": {},
   "outputs": [
    {
     "data": {
      "text/plain": [
       "'94A0'"
      ]
     },
     "execution_count": 5,
     "metadata": {},
     "output_type": "execute_result"
    }
   ],
   "source": [
    "#$$$ Function Wrong $$$$$$$$$$$$$$$$$$$$$$$$$$$$$$$$$$$$$$$$$$$$$\n",
    "def convertBase(val, base):\n",
    "    output = \"\"\n",
    "    # Correct Digits for the values (retrieve by array index)\n",
    "    mapping = ['0','1','2','3','4','5','6','7','8','9','A','B','C','D','E','F']\n",
    "    while val >= base:\n",
    "        digit = mapping[val % base]\n",
    "        output = digit+output\n",
    "        val //= base # Get the remainder\n",
    "    #For the last digit\n",
    "    digit = mapping[val]\n",
    "    output = digit + output\n",
    "    return output\n",
    "convertBase(12573, 11)"
   ]
  },
  {
   "cell_type": "code",
   "execution_count": 10,
   "metadata": {},
   "outputs": [
    {
     "name": "stdout",
     "output_type": "stream",
     "text": [
      "1. Enter a letter\n",
      "2. Convert to Denary\n",
      "3. Convert to Base 11\n",
      "4. Convert to Base 12\n",
      "5. Convert to Base 13\n",
      "6. Convert to Base 14\n",
      "7. End\n",
      ": 1\n",
      "Enter a single letter: X\n",
      "1. Enter a letter\n",
      "2. Convert to Denary\n",
      "3. Convert to Base 11\n",
      "4. Convert to Base 12\n",
      "5. Convert to Base 13\n",
      "6. Convert to Base 14\n",
      "7. End\n",
      ": 5\n",
      "6A\n",
      "1. Enter a letter\n",
      "2. Convert to Denary\n",
      "3. Convert to Base 11\n",
      "4. Convert to Base 12\n",
      "5. Convert to Base 13\n",
      "6. Convert to Base 14\n",
      "7. End\n",
      ": 3\n",
      "80\n",
      "1. Enter a letter\n",
      "2. Convert to Denary\n",
      "3. Convert to Base 11\n",
      "4. Convert to Base 12\n",
      "5. Convert to Base 13\n",
      "6. Convert to Base 14\n",
      "7. End\n",
      ": 1\n",
      "Enter a single letter: y\n",
      "1. Enter a letter\n",
      "2. Convert to Denary\n",
      "3. Convert to Base 11\n",
      "4. Convert to Base 12\n",
      "5. Convert to Base 13\n",
      "6. Convert to Base 14\n",
      "7. End\n",
      ": 2\n",
      "121\n",
      "1. Enter a letter\n",
      "2. Convert to Denary\n",
      "3. Convert to Base 11\n",
      "4. Convert to Base 12\n",
      "5. Convert to Base 13\n",
      "6. Convert to Base 14\n",
      "7. End\n",
      ": 7\n"
     ]
    }
   ],
   "source": [
    "#Task 1.3\n",
    "\n",
    "menuDisplay = \"\"\"\\\n",
    "1. Enter a letter\n",
    "2. Convert to Denary\n",
    "3. Convert to Base 11\n",
    "4. Convert to Base 12\n",
    "5. Convert to Base 13\n",
    "6. Convert to Base 14\n",
    "7. End\n",
    ": \\\n",
    "\"\"\"\n",
    "#$$$ Function Wrong $$$$$$$$$$$$$$$$$$$$$$$$$$$$$$$$$$$$$$$$$$$$$\n",
    "def convertBase(val, base):\n",
    "    output = \"\"\n",
    "    # Correct Digits for the values (retrieve by array index)\n",
    "    mapping = ['0','1','2','3','4','5','6','7','8','9','A','B','C','D','E','F']\n",
    "    while val >= base:\n",
    "        digit = mapping[val % base]\n",
    "        output = digit+output\n",
    "        val //= base # Get the remainder\n",
    "    #For the last digit\n",
    "    digit = mapping[val]\n",
    "    output = digit + output\n",
    "    return output\n",
    "\n",
    "letter = ''\n",
    "end = False #Condition whether to end the program\n",
    "while not end:\n",
    "    option = int(input(menuDisplay))\n",
    "    if option == 1:\n",
    "        letter = input(\"Enter a single letter: \")\n",
    "        while not(len(letter) == 1 and (65 <= ord(letter) <= 65+25 or 122-25 <= ord(letter) <= 122)): \n",
    "            print(\"The letter entered is invalid\")\n",
    "            letter = input(\"Enter a single letter: \")\n",
    "    elif option == 2:\n",
    "        val = ord(letter)\n",
    "        print(val)\n",
    "    elif option == 3:\n",
    "        # Convert ASCII value of letter to number base\n",
    "        val = convertBase(ord(letter),11)\n",
    "        print(val)\n",
    "    elif option == 4:\n",
    "        # Convert ASCII value of letter to number base\n",
    "        val = convertBase(ord(letter),12)\n",
    "        print(val)\n",
    "    elif option == 5:\n",
    "        # Convert ASCII value of letter to number base\n",
    "        val = convertBase(ord(letter),13)\n",
    "        print(val)\n",
    "    elif option == 6:\n",
    "        # Convert ASCII value of letter to number base\n",
    "        val = convertBase(ord(letter),14)\n",
    "        print(val)\n",
    "    elif option == 7:\n",
    "        end = True\n",
    "    #$$$ Need to validate $$$$$$$$$$$$$$$$$$$$$$$$$$$$$$$$$$$$$$$$$$$\n",
    "    else: \n",
    "        print(\"Invalid menu option choosen\")\n",
    "        \n",
    "#$$$ Need to run with correct code $$$$$$$$$$$$$$$$$$$$$$$$$$$$$$$$$$$$"
   ]
  }
 ],
 "metadata": {
  "kernelspec": {
   "display_name": "Python 3",
   "language": "python",
   "name": "python3"
  },
  "language_info": {
   "codemirror_mode": {
    "name": "ipython",
    "version": 3
   },
   "file_extension": ".py",
   "mimetype": "text/x-python",
   "name": "python",
   "nbconvert_exporter": "python",
   "pygments_lexer": "ipython3",
   "version": "3.7.3"
  }
 },
 "nbformat": 4,
 "nbformat_minor": 2
}
