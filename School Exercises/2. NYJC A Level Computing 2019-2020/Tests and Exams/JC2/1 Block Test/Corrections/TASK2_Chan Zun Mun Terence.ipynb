{
 "cells": [
  {
   "cell_type": "code",
   "execution_count": 4,
   "metadata": {},
   "outputs": [
    {
     "name": "stdout",
     "output_type": "stream",
     "text": [
      "Filename            Date                Size in KB          \n",
      "Day1Presentation    2019-10-23          1310                \n",
      "Day2Presentation    2019-10-23          1410                \n",
      "Day3Presentation    2019-10-23          1520                \n",
      "Day4Presentation    2019-10-23          1770                \n",
      "Exercise1Day1       2019-10-25          72                  \n",
      "Exercise1Day2       2019-10-25          78                  \n",
      "Exercise1Day3       2019-10-25          48                  \n",
      "Exercise1Day4       2019-10-25          98                  \n",
      "Exercise2Day1       2019-10-25          88                  \n",
      "Exercise2Day2       2019-10-25          80                  \n",
      "Exercise2Day3       2019-10-25          62                  \n",
      "Exercise2Day4       2019-10-25          108                 \n",
      "Exercise3Day1       2019-10-25          66                  \n",
      "Exercise3Day2       2019-10-25          102                 \n",
      "Exercise3Day3       2019-10-25          66                  \n",
      "Exercise3Day4       2019-10-25          54                  \n",
      "Exercise4Day1       2019-10-25          192                 \n",
      "Exercise4Day2       2019-10-25          184                 \n",
      "Exercise4Day3       2019-10-25          232                 \n",
      "Exercise4Day4       2019-10-25          134                 \n",
      "NotesDay1           2019-10-24          314                 \n",
      "NotesDay2           2019-10-24          370                 \n",
      "NotesDay3           2019-10-24          419                 \n",
      "NotesDay4           2019-10-24          678                 \n",
      "Program1            2019-10-21          4                   \n",
      "Program2            2019-10-21          2                   \n",
      "Program3            2019-10-21          1                   \n",
      "Program4            2019-10-21          3                   \n",
      "Program5            2019-10-21          3                   \n",
      "Results1            2019-10-24          10                  \n",
      "Results2            2019-10-24          10                  \n",
      "Results3            2019-10-24          10                  \n",
      "Results4            2019-10-24          24                  \n",
      "Results5            2019-10-24          26                  \n",
      "TestData1           2019-10-23          1                   \n",
      "TestData2           2019-10-23          1                   \n",
      "TestData4           2019-10-23          2                   \n",
      "TestData5           2019-10-23          2                   \n",
      "Testdata3           2019-10-23          1                   \n"
     ]
    }
   ],
   "source": [
    "#Task 2.1\n",
    "\n",
    "###Input############################\n",
    "file = open(\"TESTDATA.txt\")\n",
    "data = [] #Store data from the file\n",
    "for line in file:\n",
    "    data.append(line[:-1].split(\",\")) #Slicing to remove newline character\n",
    "    #data[-1] = int(data[-1])\n",
    "    \n",
    "file.close()\n",
    "\n",
    "####Quick Sort############################################################\n",
    "def cmp(a,b): \n",
    "    #Ascending order of filename\n",
    "    return a[0]<=b[0] \n",
    "\n",
    "#$$$ QuickSort was wrong $$$$$$$$$$$$$$$$$$$$$$$$$$$$$$$$$$$$$$$$$$$$$$$$$$$$\n",
    "def partition(arr,low,upper):\n",
    "    pivot = low\n",
    "    left = low + 1\n",
    "    right = upper\n",
    "    while left <= right:\n",
    "        #Increment pointers until they do not fufil condition\n",
    "        #$$$ Ordering of Conditionals was wrong $$$$$$$$$$$$$$$$$$$$$$$$$$$$$$$$\n",
    "        while left <= right and cmp(arr[left],arr[pivot]):\n",
    "            left += 1\n",
    "        while left <= right and cmp(arr[pivot],arr[right]):\n",
    "            right -= 1\n",
    "        #Swapping of values\n",
    "        if left <= right:\n",
    "            temp = arr[right]\n",
    "            arr[right] = arr[left]\n",
    "            arr[left] = temp\n",
    "            #print(arr,left,right, arr[pivot]) $$$Redundant\n",
    "    #Swapping the pivot value\n",
    "    #print(arr,left,right)\n",
    "    temp = arr[right]\n",
    "    arr[right] = arr[pivot] \n",
    "    arr[pivot] = temp #Swap in the lower boundary\n",
    "    return right # The splitpoint\n",
    "\n",
    "def quickSort(arr, low = 0, up = -1):\n",
    "    if up < 0: #Invalid value\n",
    "        up = len(arr) - 1\n",
    "    #Base Case\n",
    "    if (up - low) <= 1:\n",
    "        return\n",
    "    else: #Need Sorting\n",
    "        splitPoint = partition(arr,low,up)\n",
    "        #print(low,up,splitPoint)\n",
    "        quickSort(arr,low,splitPoint)\n",
    "        quickSort(arr,splitPoint+1,up)\n",
    "###Output##############################################################\n",
    "def display():\n",
    "    quickSort(data)\n",
    "    print (f\"{'Filename':20}{'Date':20}{'Size in KB':20}\")\n",
    "    for i in data:\n",
    "        print (f\"{i[0]:20}{i[1]:20}{i[2]:20}\")\n",
    "\n",
    "#$$$ Need Display$$$$$$$$$$$$$$$$$$$$$$\n",
    "display()\n",
    "###Output##############################\n",
    "file = open(\"TESTDATA_Filename_order_Chan Zun Mun Terence.txt\",\"w\")\n",
    "for line in data:\n",
    "    output=\"\"\n",
    "    for item in line:\n",
    "        output += str(item) + \",\"\n",
    "    output = output[:-1] + \"\\n\"\n",
    "    file.write(output)\n",
    "file.close()"
   ]
  },
  {
   "cell_type": "code",
   "execution_count": 24,
   "metadata": {},
   "outputs": [],
   "source": [
    "#Task 2.2\n",
    "\n",
    "#Sorting Comparator\n",
    "def cmp(a,b): \n",
    "    #Ascending order of date\n",
    "    return a[1]<=b[1] \n",
    "#$$$ Need to comment that this is bubbleSort $$$$$$$$$$$$$$$$$$$$$$$$$$$$$$$$\n",
    "def bubbleSort(arr):\n",
    "    lower = 0\n",
    "    upper = len(arr)-1\n",
    "    for j in range(lower, upper):\n",
    "        for i in range(lower, upper):\n",
    "            if not(cmp(arr[i],arr[i+1])): #If not sorted correctly\n",
    "                #Swap the Values\n",
    "                temp = arr[i]\n",
    "                arr[i] = arr[i+1]\n",
    "                arr[i+1] = temp\n",
    "                #Do not terminate early\n",
    "                \n",
    "def display():\n",
    "    bubbleSort(data)\n",
    "    print (f\"{'Filename':20}{'Date':20}{'Size in KB':20}\")\n",
    "    for i in data:\n",
    "        print (f\"{i[0]:20}{i[1]:20}{i[2]:20}\")\n",
    "    \n",
    "def searchName():\n",
    "    name = input(\"Enter the name:\")\n",
    "    for i in data:\n",
    "        if i[0] == name:\n",
    "            print(\"Date:\",i[1])\n",
    "            print(\"File Size (in KB)\",i[2])\n",
    "            return\n",
    "    print(\"File Not Found\")\n",
    "    \n",
    "def searchDate():\n",
    "    date = input(\"Enter the date of the files (YYYY-MM-DD):\")\n",
    "    files = 0\n",
    "    for i in data:\n",
    "        if i[1] == date:\n",
    "            print(\"Name:\",i[0])\n",
    "            print(\"File Size (in KB)\",i[2])\n",
    "            files += 1\n",
    "    if files == 0:\n",
    "        print(\"Files Not Found\")\n"
   ]
  },
  {
   "cell_type": "code",
   "execution_count": 19,
   "metadata": {},
   "outputs": [
    {
     "name": "stdout",
     "output_type": "stream",
     "text": [
      "Filename            Date                Size in KB          \n",
      "Program3            2019-10-21          1                   \n",
      "Program2            2019-10-21          2                   \n",
      "Program4            2019-10-21          3                   \n",
      "Program5            2019-10-21          3                   \n",
      "Program1            2019-10-21          4                   \n",
      "TestData1           2019-10-23          1                   \n",
      "TestData2           2019-10-23          1                   \n",
      "Testdata3           2019-10-23          1                   \n",
      "Day1Presentation    2019-10-23          1310                \n",
      "Day2Presentation    2019-10-23          1410                \n",
      "Day3Presentation    2019-10-23          1520                \n",
      "Day4Presentation    2019-10-23          1770                \n",
      "TestData4           2019-10-23          2                   \n",
      "TestData5           2019-10-23          2                   \n",
      "Results1            2019-10-24          10                  \n",
      "Results2            2019-10-24          10                  \n",
      "Results3            2019-10-24          10                  \n",
      "Results4            2019-10-24          24                  \n",
      "Results5            2019-10-24          26                  \n",
      "NotesDay1           2019-10-24          314                 \n",
      "NotesDay2           2019-10-24          370                 \n",
      "NotesDay3           2019-10-24          419                 \n",
      "NotesDay4           2019-10-24          678                 \n",
      "Exercise3Day2       2019-10-25          102                 \n",
      "Exercise2Day4       2019-10-25          108                 \n",
      "Exercise4Day4       2019-10-25          134                 \n",
      "Exercise4Day2       2019-10-25          184                 \n",
      "Exercise4Day1       2019-10-25          192                 \n",
      "Exercise4Day3       2019-10-25          232                 \n",
      "Exercise1Day3       2019-10-25          48                  \n",
      "Exercise3Day4       2019-10-25          54                  \n",
      "Exercise2Day3       2019-10-25          62                  \n",
      "Exercise3Day1       2019-10-25          66                  \n",
      "Exercise3Day3       2019-10-25          66                  \n",
      "Exercise1Day1       2019-10-25          72                  \n",
      "Exercise1Day2       2019-10-25          78                  \n",
      "Exercise2Day2       2019-10-25          80                  \n",
      "Exercise2Day1       2019-10-25          88                  \n",
      "Exercise1Day4       2019-10-25          98                  \n"
     ]
    }
   ],
   "source": [
    "display()"
   ]
  },
  {
   "cell_type": "code",
   "execution_count": 21,
   "metadata": {},
   "outputs": [
    {
     "name": "stdout",
     "output_type": "stream",
     "text": [
      "Enter the name:NotesDay1\n",
      "Date: 2019-10-24\n",
      "File Size (in KB) 314\n"
     ]
    }
   ],
   "source": [
    "searchName()"
   ]
  },
  {
   "cell_type": "code",
   "execution_count": 22,
   "metadata": {},
   "outputs": [
    {
     "name": "stdout",
     "output_type": "stream",
     "text": [
      "Enter the name:Nil\n",
      "File Not Found\n"
     ]
    }
   ],
   "source": [
    "searchName()"
   ]
  },
  {
   "cell_type": "code",
   "execution_count": 25,
   "metadata": {},
   "outputs": [
    {
     "name": "stdout",
     "output_type": "stream",
     "text": [
      "Enter the date of the files (YYYY-MM-DD):2019-10-24\n",
      "Name: Results1\n",
      "File Size (in KB) 10\n",
      "Name: Results2\n",
      "File Size (in KB) 10\n",
      "Name: Results3\n",
      "File Size (in KB) 10\n",
      "Name: Results4\n",
      "File Size (in KB) 24\n",
      "Name: Results5\n",
      "File Size (in KB) 26\n",
      "Name: NotesDay1\n",
      "File Size (in KB) 314\n",
      "Name: NotesDay2\n",
      "File Size (in KB) 370\n",
      "Name: NotesDay3\n",
      "File Size (in KB) 419\n",
      "Name: NotesDay4\n",
      "File Size (in KB) 678\n"
     ]
    }
   ],
   "source": [
    "searchDate()"
   ]
  },
  {
   "cell_type": "code",
   "execution_count": 26,
   "metadata": {},
   "outputs": [
    {
     "name": "stdout",
     "output_type": "stream",
     "text": [
      "Enter the date of the files (YYYY-MM-DD):2002-10-23\n",
      "Files Not Found\n"
     ]
    }
   ],
   "source": [
    "searchDate()"
   ]
  }
 ],
 "metadata": {
  "kernelspec": {
   "display_name": "Python 3",
   "language": "python",
   "name": "python3"
  },
  "language_info": {
   "codemirror_mode": {
    "name": "ipython",
    "version": 3
   },
   "file_extension": ".py",
   "mimetype": "text/x-python",
   "name": "python",
   "nbconvert_exporter": "python",
   "pygments_lexer": "ipython3",
   "version": "3.7.3"
  }
 },
 "nbformat": 4,
 "nbformat_minor": 2
}
