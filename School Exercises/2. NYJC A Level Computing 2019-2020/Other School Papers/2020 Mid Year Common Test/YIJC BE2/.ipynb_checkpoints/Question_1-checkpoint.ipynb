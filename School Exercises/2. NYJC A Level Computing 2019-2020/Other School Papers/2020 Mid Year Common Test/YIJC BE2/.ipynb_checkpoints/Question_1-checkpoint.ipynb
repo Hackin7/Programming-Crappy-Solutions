{
 "cells": [
  {
   "cell_type": "code",
   "execution_count": 5,
   "metadata": {},
   "outputs": [],
   "source": [
    "# Task 1.1\n",
    "\n",
    "def readFile(filename):\n",
    "    data = []\n",
    "    infile = open(filename, 'r')\n",
    "    for line in infile:\n",
    "        data.append(line.strip())\n",
    "    infile.close()\n",
    "    return data\n",
    "\n",
    "def quicksort(arr, low, high, inOrder):\n",
    "    if low >= high:\n",
    "        return\n",
    "    \n",
    "    pivot = low\n",
    "    left = low + 1\n",
    "    right = high\n",
    "    while left < right:\n",
    "        while left < right and inOrder(arr[left], arr[pivot]):\n",
    "            left += 1\n",
    "        while left < right and inOrder(arr[pivot], arr[right]):\n",
    "            right -= 1\n",
    "            \n",
    "        if left < right:\n",
    "            # Swap\n",
    "            temp = arr[right]\n",
    "            arr[right] = arr[left]\n",
    "            arr[left] = temp\n",
    "            \n",
    "    temp = arr[right]\n",
    "    arr[right] = arr[pivot]\n",
    "    arr[pivot] = temp\n",
    "    quicksort(arr, low, right - 1, inOrder)\n",
    "    quicksort(arr, right + 1, high, inOrder)\n",
    "\n",
    "def writeFile(filename, data):\n",
    "    outfile = open(filename, 'w')\n",
    "    for record in data:\n",
    "        outfile.write(f\"{record}\\n\")\n",
    "    outfile.close()\n",
    "\n",
    "### Main ##########################################\n",
    "def inOrder(a, b): # Python's built in string comparison function\n",
    "    return a <= b\n",
    "\n",
    "def task1_1():\n",
    "    data = readFile(\"MRT.txt\")\n",
    "    quicksort(data, 0, len(data)-1, inOrder)\n",
    "    #print(data)\n",
    "    #print(sorted(data))\n",
    "    writeFile(\"SORTED_MRT.TXT\", data)\n",
    "task1_1()"
   ]
  },
  {
   "cell_type": "code",
   "execution_count": 37,
   "metadata": {},
   "outputs": [
    {
     "name": "stdout",
     "output_type": "stream",
     "text": [
      "The names are:\n",
      "Admiralty, Ang Mo Kio, Aljunied, Bartley, Botanic Gardens, Bayfront, Beauty World, Bayshore, Bedok North, Bedok, Expo, Bedok Reservoir, Bedok South, Bencoolen, Boon Keng, Bishan, Buangkok, Boon Lay, Braddell, Bras Basah, Bukit Gombak, Bright Hill, Bukit Batok, Bugis, Bukit Panjang, Caldecott, Buona Vista, Canberra, Cashew, Cantonment, Changi Airport, Choa Chu Kang, Chinatown, Chinese Garden, City Hall, Holland Village, Clarke Quay, Commonwealth, Clementi, Havelock, Dakota, Dover, Dhoby Ghaut, Farrer Road, Downtown, Fort Canning, Esplanade, Eunos, Hillview, HarbourFront, Kallang, Hougang, Joo Koon, Hume, Kent Ridge, Jurong East, Kembangan, Kaki Bukit, Keppel, Kovan, Khatib, King Albert Park, Mountbatten, Kranji, Labrador Park, Pioneer, Lakeside, Lavender, Little India, Lentor, Lorong Chuan, Marina Bay, MacPherson, Marsiling, Marine Terrace, Newton, Marymount, Mayflower, Orchard, Novena, Outram Park, Paya Lebar, Pasir Ris, Potong Pasir, Punggol, Promenade, Somerset, Queenstown, Raffles Place, Stevens, Redhill, Sembawang, Rochor, Sengkang, Siglap, Serangoon, Sixth Avenue, Simei, Stadium, Sungei Bedok, Tampines, Tai Seng, Tai Seng, Tanah Merah, Tan Kah Kee, Tanjong Pagar, Telok Blangah, Teck Ghee, Telok Ayer, Tiong Bahru, Toa Payoh, Woodlands, Upper Thomson, Woodleigh, Yishun, Yio Chu Kang\n",
      "Enter name to search for: Sembawang\n",
      "False\n"
     ]
    }
   ],
   "source": [
    "# Task 1.2\n",
    "\n",
    "def readFile(filename):\n",
    "    data = []\n",
    "    infile = open(filename, 'r')\n",
    "    for line in infile:\n",
    "        data.append(line.strip())\n",
    "    infile.close()\n",
    "    return data\n",
    "\n",
    "def displayNames(data):\n",
    "    print(\"The names are:\")\n",
    "    output = \"\"\n",
    "    for name in data:\n",
    "        output += f'{name}, '\n",
    "    print(output[:-2])\n",
    "\n",
    "def binarySearch(data, val):\n",
    "    low = 0\n",
    "    high = len(data) -1\n",
    "    mid = (low + high) // 2\n",
    "    \n",
    "    while low <= high and data[mid] != val:\n",
    "        if data[mid] < val: # Data in right section\n",
    "            low = mid + 1\n",
    "        elif val < data[mid]: # Data in left section\n",
    "            high = mid - 1\n",
    "        mid = (low + high) // 2\n",
    "        \n",
    "    if data[mid] == val:\n",
    "        return mid\n",
    "    else:\n",
    "        return -1\n",
    "    \n",
    "### Main ######################################\n",
    "def task1_2():\n",
    "    data = readFile(\"SORTED_MRT.TXT\")\n",
    "    \n",
    "    displayNames(data)\n",
    "    name = input(\"Enter name to search for: \")\n",
    "    print(binarySearch(data, name) != -1)\n",
    "task1_2()"
   ]
  },
  {
   "cell_type": "markdown",
   "metadata": {},
   "source": [
    "### Task 1.3\n",
    "#### Test Data\n",
    "\n",
    "Input: Sembawang\n",
    "Reason: Normal Data (Name in file)\n",
    "Expected Output: True\n",
    "\n",
    "Input: hello\n",
    "Reason: Normal Data (Name not in file)\n",
    "Expected Output: False"
   ]
  },
  {
   "cell_type": "code",
   "execution_count": 38,
   "metadata": {},
   "outputs": [
    {
     "name": "stdout",
     "output_type": "stream",
     "text": [
      "The names are:\n",
      "Admiralty, Ang Mo Kio, Aljunied, Bartley, Botanic Gardens, Bayfront, Beauty World, Bayshore, Bedok North, Bedok, Expo, Bedok Reservoir, Bedok South, Bencoolen, Boon Keng, Bishan, Buangkok, Boon Lay, Braddell, Bras Basah, Bukit Gombak, Bright Hill, Bukit Batok, Bugis, Bukit Panjang, Caldecott, Buona Vista, Canberra, Cashew, Cantonment, Changi Airport, Choa Chu Kang, Chinatown, Chinese Garden, City Hall, Holland Village, Clarke Quay, Commonwealth, Clementi, Havelock, Dakota, Dover, Dhoby Ghaut, Farrer Road, Downtown, Fort Canning, Esplanade, Eunos, Hillview, HarbourFront, Kallang, Hougang, Joo Koon, Hume, Kent Ridge, Jurong East, Kembangan, Kaki Bukit, Keppel, Kovan, Khatib, King Albert Park, Mountbatten, Kranji, Labrador Park, Pioneer, Lakeside, Lavender, Little India, Lentor, Lorong Chuan, Marina Bay, MacPherson, Marsiling, Marine Terrace, Newton, Marymount, Mayflower, Orchard, Novena, Outram Park, Paya Lebar, Pasir Ris, Potong Pasir, Punggol, Promenade, Somerset, Queenstown, Raffles Place, Stevens, Redhill, Sembawang, Rochor, Sengkang, Siglap, Serangoon, Sixth Avenue, Simei, Stadium, Sungei Bedok, Tampines, Tai Seng, Tai Seng, Tanah Merah, Tan Kah Kee, Tanjong Pagar, Telok Blangah, Teck Ghee, Telok Ayer, Tiong Bahru, Toa Payoh, Woodlands, Upper Thomson, Woodleigh, Yishun, Yio Chu Kang\n",
      "Enter name to search for: Sembawang\n",
      "False\n",
      "The names are:\n",
      "Admiralty, Ang Mo Kio, Aljunied, Bartley, Botanic Gardens, Bayfront, Beauty World, Bayshore, Bedok North, Bedok, Expo, Bedok Reservoir, Bedok South, Bencoolen, Boon Keng, Bishan, Buangkok, Boon Lay, Braddell, Bras Basah, Bukit Gombak, Bright Hill, Bukit Batok, Bugis, Bukit Panjang, Caldecott, Buona Vista, Canberra, Cashew, Cantonment, Changi Airport, Choa Chu Kang, Chinatown, Chinese Garden, City Hall, Holland Village, Clarke Quay, Commonwealth, Clementi, Havelock, Dakota, Dover, Dhoby Ghaut, Farrer Road, Downtown, Fort Canning, Esplanade, Eunos, Hillview, HarbourFront, Kallang, Hougang, Joo Koon, Hume, Kent Ridge, Jurong East, Kembangan, Kaki Bukit, Keppel, Kovan, Khatib, King Albert Park, Mountbatten, Kranji, Labrador Park, Pioneer, Lakeside, Lavender, Little India, Lentor, Lorong Chuan, Marina Bay, MacPherson, Marsiling, Marine Terrace, Newton, Marymount, Mayflower, Orchard, Novena, Outram Park, Paya Lebar, Pasir Ris, Potong Pasir, Punggol, Promenade, Somerset, Queenstown, Raffles Place, Stevens, Redhill, Sembawang, Rochor, Sengkang, Siglap, Serangoon, Sixth Avenue, Simei, Stadium, Sungei Bedok, Tampines, Tai Seng, Tai Seng, Tanah Merah, Tan Kah Kee, Tanjong Pagar, Telok Blangah, Teck Ghee, Telok Ayer, Tiong Bahru, Toa Payoh, Woodlands, Upper Thomson, Woodleigh, Yishun, Yio Chu Kang\n",
      "Enter name to search for: hello\n",
      "False\n"
     ]
    }
   ],
   "source": [
    "# Task 1.3\n",
    "task1_2()\n",
    "print()\n",
    "task1_2()"
   ]
  }
 ],
 "metadata": {
  "kernelspec": {
   "display_name": "Python 3",
   "language": "python",
   "name": "python3"
  },
  "language_info": {
   "codemirror_mode": {
    "name": "ipython",
    "version": 3
   },
   "file_extension": ".py",
   "mimetype": "text/x-python",
   "name": "python",
   "nbconvert_exporter": "python",
   "pygments_lexer": "ipython3",
   "version": "3.6.7"
  }
 },
 "nbformat": 4,
 "nbformat_minor": 2
}
