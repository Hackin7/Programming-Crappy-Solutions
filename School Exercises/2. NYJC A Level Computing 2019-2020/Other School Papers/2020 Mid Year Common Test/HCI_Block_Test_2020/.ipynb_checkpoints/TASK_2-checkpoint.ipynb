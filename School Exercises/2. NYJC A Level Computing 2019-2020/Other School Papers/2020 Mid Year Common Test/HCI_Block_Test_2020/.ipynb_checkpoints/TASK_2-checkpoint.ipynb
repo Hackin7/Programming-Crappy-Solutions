{
 "cells": [
  {
   "cell_type": "code",
   "execution_count": 1,
   "metadata": {},
   "outputs": [],
   "source": [
    "# Task 2.1\n",
    "def isPrime(n: int) -> bool:\n",
    "    for factor in range(2, int(n**0.5)+1):\n",
    "        if n % factor == 0:\n",
    "            return False\n",
    "    return True # If no divisible factors"
   ]
  },
  {
   "cell_type": "code",
   "execution_count": 3,
   "metadata": {},
   "outputs": [
    {
     "name": "stdout",
     "output_type": "stream",
     "text": [
      "1\n",
      "2\n",
      "3\n",
      "5\n",
      "7\n",
      "11\n",
      "13\n",
      "17\n",
      "19\n",
      "23\n",
      "29\n",
      "31\n",
      "37\n",
      "41\n",
      "43\n",
      "47\n",
      "53\n",
      "59\n",
      "61\n",
      "67\n",
      "71\n",
      "73\n",
      "79\n",
      "83\n",
      "89\n",
      "97\n",
      "\n",
      "Total Number of Prime Numbers: 26\n"
     ]
    }
   ],
   "source": [
    "# Task 2.2\n",
    "total = 0\n",
    "for number in range(1, 100+1): # To be inclusive of 1\n",
    "    if number == 1 or isPrime(number):\n",
    "        print(number)\n",
    "        total += 1\n",
    "        \n",
    "print() # New line\n",
    "print(\"Total Number of Prime Numbers:\", total)"
   ]
  },
  {
   "cell_type": "code",
   "execution_count": null,
   "metadata": {},
   "outputs": [],
   "source": [
    "# Task 2.3\n",
    "num_list = []\n",
    "for num in range(0, 100):\n",
    "    num_list.append(num)\n",
    "\n"
   ]
  }
 ],
 "metadata": {
  "kernelspec": {
   "display_name": "Python 3",
   "language": "python",
   "name": "python3"
  },
  "language_info": {
   "codemirror_mode": {
    "name": "ipython",
    "version": 3
   },
   "file_extension": ".py",
   "mimetype": "text/x-python",
   "name": "python",
   "nbconvert_exporter": "python",
   "pygments_lexer": "ipython3",
   "version": "3.6.7"
  }
 },
 "nbformat": 4,
 "nbformat_minor": 2
}
