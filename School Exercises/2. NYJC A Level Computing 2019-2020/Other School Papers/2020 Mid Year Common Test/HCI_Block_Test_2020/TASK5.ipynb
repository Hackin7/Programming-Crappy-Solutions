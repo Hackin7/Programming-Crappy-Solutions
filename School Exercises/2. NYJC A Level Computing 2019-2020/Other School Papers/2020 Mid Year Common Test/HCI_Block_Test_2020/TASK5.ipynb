{
 "cells": [
  {
   "cell_type": "code",
   "execution_count": 7,
   "metadata": {},
   "outputs": [
    {
     "name": "stdout",
     "output_type": "stream",
     "text": [
      "Enter the size of the array: 5\n",
      "The size input in is invalid: it is not greater than 5 and less than 12\n",
      "Enter the size of the array: 12\n",
      "The size input in is invalid: it is not greater than 5 and less than 12\n",
      "Enter the size of the array: 10\n",
      "Enter integer numbers in the format eg. `1 2 3 4 5 6` : 33 11 22 66 55 11 8 66 77 44\n",
      "\n",
      "Sorted Array\n",
      "[8, 11, 11, 22, 33, 44, 55, 66, 66, 77]\n"
     ]
    }
   ],
   "source": [
    "## Task 5\n",
    "\n",
    "### Input ################################################################\n",
    "def arrayInput():\n",
    "    size = None # first entry value\n",
    "    # if first entry or the size is not in range\n",
    "    while size == None or not(5 < size < 12): \n",
    "        if size != None:\n",
    "            print(\"The size input in is invalid: it is not greater than 5 and less than 12\")\n",
    "        size = int(input(\"Enter the size of the array: \"))\n",
    "    \n",
    "    data = input(\"Enter integer numbers in the format eg. `1 2 3 4 5 6` : \")\n",
    "    array = data.split(\" \")\n",
    "    for index in range(len(array)):\n",
    "        if array[index] != \"\":\n",
    "            array[index] = int(array[index])\n",
    "    \n",
    "    return array\n",
    "\n",
    "### Out of place quicksort ###############################################\n",
    "def quicksort(array):\n",
    "    ### Base Case: 0-1 elements are already sorted ######\n",
    "    if len(array) <= 1:\n",
    "        return array \n",
    "    ### Recursive case ##################################\n",
    "    # Variables\n",
    "    key = array[0]\n",
    "    left = [] # items less than the key go here\n",
    "    right = [] # items greater than or equal to the key go here\n",
    "    \n",
    "    # Partiioning\n",
    "    for item in array[1:]: # Exclude first elemet\n",
    "        if item < key:\n",
    "            left.append(item)\n",
    "        else:\n",
    "            right.append(item)\n",
    "            \n",
    "    # Recursive call\n",
    "    left = quicksort(left)\n",
    "    right = quicksort(right)\n",
    "    return left + [key] + right\n",
    "\n",
    "quicksort([1,4,3,2])\n",
    "\n",
    "### Display items ##########################################################\n",
    "def displayArray(array, message=None):\n",
    "    if message != None:\n",
    "        print(message)\n",
    "    print(str(array))\n",
    "    \n",
    "### Overall ################################################################\n",
    "def task5():\n",
    "    array = arrayInput()\n",
    "    sorted_array = quicksort(array)\n",
    "    displayArray(sorted_array, \"\\nSorted Array\")\n",
    "    \n",
    "# Sample data to test (size 10 array): 33 11 22 66 55 11 8 66 77 44\n",
    "task5()"
   ]
  }
 ],
 "metadata": {
  "kernelspec": {
   "display_name": "Python 3",
   "language": "python",
   "name": "python3"
  },
  "language_info": {
   "codemirror_mode": {
    "name": "ipython",
    "version": 3
   },
   "file_extension": ".py",
   "mimetype": "text/x-python",
   "name": "python",
   "nbconvert_exporter": "python",
   "pygments_lexer": "ipython3",
   "version": "3.6.7"
  }
 },
 "nbformat": 4,
 "nbformat_minor": 2
}
