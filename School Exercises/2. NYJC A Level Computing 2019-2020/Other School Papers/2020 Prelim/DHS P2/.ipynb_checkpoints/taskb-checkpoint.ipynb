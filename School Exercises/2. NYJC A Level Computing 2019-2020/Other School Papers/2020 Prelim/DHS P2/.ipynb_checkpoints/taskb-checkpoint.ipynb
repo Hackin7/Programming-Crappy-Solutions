{
 "cells": [
  {
   "cell_type": "code",
   "execution_count": 7,
   "metadata": {},
   "outputs": [
    {
     "data": {
      "text/plain": [
       "3"
      ]
     },
     "execution_count": 7,
     "metadata": {},
     "output_type": "execute_result"
    }
   ],
   "source": [
    "## Bonus Task\n",
    "class Stack:\n",
    "    def __init__(self):\n",
    "        self.list = []\n",
    "    \n",
    "    def push(self, data):\n",
    "        self.list.append(data)\n",
    "    \n",
    "    def pop(self):\n",
    "        return self.list.pop()\n",
    "    \n",
    "    def isEmpty(self):\n",
    "        return len(self.list) > 0\n",
    "\n",
    "def postfixEvaluation(exp):\n",
    "    stack = Stack()\n",
    "    \n",
    "    operators = [\"+\", \"-\", \"*\", \"/\"]\n",
    "    tokens = exp.split(\" \")\n",
    "    for token in tokens:\n",
    "        if token.isdigit():\n",
    "            stack.push(int(token))\n",
    "        elif token in operators:\n",
    "            num2 = stack.pop()\n",
    "            num1 = stack.pop()\n",
    "            operator = token\n",
    "            if operator == '+':\n",
    "                ans = num1 + num2\n",
    "            elif operator == '-':\n",
    "                ans = num1 - num2\n",
    "            elif operator == '*':\n",
    "                ans = num1 * num2\n",
    "            elif operator == '/':\n",
    "                ans = num1 / num2\n",
    "            stack.push(ans)\n",
    "        #print(stack.list)\n",
    "        \n",
    "    return stack.pop()\n",
    "\n",
    "postfixEvaluation(\"2 3 1 + * 5 -\")"
   ]
  }
 ],
 "metadata": {
  "kernelspec": {
   "display_name": "Python 3",
   "language": "python",
   "name": "python3"
  },
  "language_info": {
   "codemirror_mode": {
    "name": "ipython",
    "version": 3
   },
   "file_extension": ".py",
   "mimetype": "text/x-python",
   "name": "python",
   "nbconvert_exporter": "python",
   "pygments_lexer": "ipython3",
   "version": "3.6.7"
  }
 },
 "nbformat": 4,
 "nbformat_minor": 2
}
