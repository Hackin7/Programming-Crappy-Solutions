{
 "cells": [
  {
   "cell_type": "code",
   "execution_count": 24,
   "metadata": {},
   "outputs": [],
   "source": [
    "# Task 1.1\n",
    "import pymongo\n",
    "def task1_1():\n",
    "    client = pymongo.MongoClient('127.0.0.1', 27017)\n",
    "    db = client.get_database(\"GovTech\")\n",
    "    coll = db.get_collection(\"Datasets\")\n",
    "    return client, db, coll\n",
    "\n",
    "client, db, coll = task1_1()\n",
    "client.drop_database(\"GovTech\")\n",
    "client.close()"
   ]
  },
  {
   "cell_type": "code",
   "execution_count": 25,
   "metadata": {},
   "outputs": [],
   "source": [
    "# Task 1.2\n",
    "import csv\n",
    "def readCSVToColl(filename, coll):\n",
    "    # Initialisation\n",
    "    infile = open(filename, 'r')\n",
    "    reader = csv.reader(infile)\n",
    "    headers = next(reader)\n",
    "    \n",
    "    # Reading Records\n",
    "    for record in reader:\n",
    "        # Create document\n",
    "        document = {}\n",
    "        for index in range(len(headers)):\n",
    "            header = headers[index]\n",
    "            value = record[index]\n",
    "            # Type casting\n",
    "            if header in ['_id']:\n",
    "                document[header] = int(value)\n",
    "            else:\n",
    "                document[header] = value\n",
    "        coll.insert_one(document)\n",
    "    \n",
    "    infile.close()\n",
    "    \n",
    "def task1_2():\n",
    "    client, db, coll = task1_1()\n",
    "    readCSVToColl(\"data-gov-sg-dataset-listing.csv\", coll)\n",
    "    client.close()\n",
    "task1_2()"
   ]
  },
  {
   "cell_type": "code",
   "execution_count": 26,
   "metadata": {},
   "outputs": [
    {
     "name": "stdout",
     "output_type": "stream",
     "text": [
      "ID    Dataset Name\n",
      "2     3G Public Cellular Mobile Telephone Services - Average Success Rate Across All Cells\n",
      "3     3G Public Cellular Mobile Telephone Services - Average Success Rate Across All Cells\n",
      "4     3G Public Cellular Mobile Telephone Services - Average Success Rate Across All Cells\n",
      "5     3G Public Cellular Mobile Telephone Services - Average Drop Call Rate\n",
      "6     3G Public Cellular Mobile Telephone Services  - Nation-wide Service Coverage\n",
      "142   Arts Classification Database\n"
     ]
    }
   ],
   "source": [
    "# Task 1.3\n",
    "\n",
    "def task1_3():\n",
    "    client, db, coll = task1_1()\n",
    "    query = {\"organisation\": \"Infocomm Media Development Authority\"}\n",
    "    print(f\"{'ID':<5} {'Dataset Name'}\")\n",
    "    cursor = coll.find(query, {\"_id\":True, \"dataset_name\":True})\n",
    "    for record in cursor:\n",
    "        print(f\"{record['_id']:<5} {record['dataset_name']}\")\n",
    "    client.close()\n",
    "        \n",
    "task1_3()"
   ]
  },
  {
   "cell_type": "code",
   "execution_count": 28,
   "metadata": {},
   "outputs": [
    {
     "name": "stdout",
     "output_type": "stream",
     "text": [
      "The number of datasets that have `resource_format` which is `KML`, `GeoJSON` or `SHP` is 37\n"
     ]
    }
   ],
   "source": [
    "# Task 1.4\n",
    "def task1_4():\n",
    "    client, db, coll = task1_1()\n",
    "    query = {\"resource_format\":{\"$in\":['KML', 'GeoJSON', 'SHP']}}\n",
    "    count = coll.count_documents(query)\n",
    "    print(\"The number of datasets that have `resource_format` which is `KML`, `GeoJSON` or `SHP` is\", count)\n",
    "    client.close()\n",
    "task1_4()"
   ]
  },
  {
   "cell_type": "code",
   "execution_count": 29,
   "metadata": {},
   "outputs": [
    {
     "name": "stdout",
     "output_type": "stream",
     "text": [
      "ID   \n",
      "51    na   \n",
      "52    na   \n",
      "182   na   \n",
      "183   na   \n",
      "184   na   \n",
      "185   na   \n",
      "186   na   \n",
      "187   na   \n",
      "188   na   \n",
      "189   na   \n",
      "190   na   \n",
      "191   na   \n",
      "192   na   \n",
      "193   na   \n",
      "194   na   \n",
      "195   na   \n",
      "196   na   \n",
      "197   na   \n",
      "198   na   \n",
      "199   na   \n",
      "200   na   \n"
     ]
    }
   ],
   "source": [
    "# Task 1.5\n",
    "\n",
    "def task1_5():\n",
    "    client, db, coll = task1_1()\n",
    "    query = {\"frequency\": \"Adhoc\", \"coverage_start\":\"na\"}\n",
    "    print(f\"{'ID':<5}\")\n",
    "    cursor = coll.find(query, {\"_id\":True, \"coverage_start\": True})\n",
    "    for record in cursor:\n",
    "        print(f\"{record['_id']:<5} {record['coverage_start']:<5}\")\n",
    "    client.close()\n",
    "        \n",
    "task1_5()"
   ]
  }
 ],
 "metadata": {
  "kernelspec": {
   "display_name": "Python 3",
   "language": "python",
   "name": "python3"
  },
  "language_info": {
   "codemirror_mode": {
    "name": "ipython",
    "version": 3
   },
   "file_extension": ".py",
   "mimetype": "text/x-python",
   "name": "python",
   "nbconvert_exporter": "python",
   "pygments_lexer": "ipython3",
   "version": "3.6.7"
  }
 },
 "nbformat": 4,
 "nbformat_minor": 2
}
