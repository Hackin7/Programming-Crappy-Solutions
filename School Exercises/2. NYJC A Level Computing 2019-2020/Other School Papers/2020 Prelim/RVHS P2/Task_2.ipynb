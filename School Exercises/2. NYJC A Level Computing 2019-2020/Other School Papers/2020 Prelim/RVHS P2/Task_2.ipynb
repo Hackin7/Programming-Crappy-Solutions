{
 "cells": [
  {
   "cell_type": "code",
   "execution_count": null,
   "metadata": {},
   "outputs": [],
   "source": [
    "#Task 2.1\n",
    "class linkedlist:\n",
    "    pass\n",
    "\n",
    "                \n",
    "def freeTestCase():\n",
    "    ll1 = linkedlist(10)\n",
    "    ll1.insert(11,\"apple\")\n",
    "    ll1.insert(22,\"banana\")\n",
    "    ll1.insert(33,\"carrot\")\n",
    "    ll1.insert(44,\"dragonfruit\")\n",
    "    ll1.insert(55,\"egplant\")\n",
    "    ll1.insert(66,\"figs\")\n",
    "    ll1.insert(77,\"grape\")\n",
    "    ll1.insert(88,\"honeydew\")\n",
    "    ll1.insert(99,\"imbe\")\n",
    "    ll1.insert(110,\"jackfruit\")\n",
    "    ll1.insert(121,\"kiwi\")\n",
    "    ll1.displayList() # Result is displayed fruits in decreasing alphabetical order.\n",
    "\n",
    "freeTestCase()"
   ]
  },
  {
   "cell_type": "code",
   "execution_count": null,
   "metadata": {},
   "outputs": [],
   "source": [
    "#Task 2.2\n",
    "class DirectChainingHashTable:\n",
    "    pass\n",
    "\n",
    "        \n",
    "def freeTestCase1():\n",
    "    print(\"Free Test Case 1\")\n",
    "    DCHT = DirectChainingHashTable(11, 10)\n",
    "    # to test for collision resolution\n",
    "    DCHT.insert_key_value_pair(10,\"apple\")\n",
    "    DCHT.insert_key_value_pair(21,\"banana\")\n",
    "    DCHT.insert_key_value_pair(32,\"carrot\")\n",
    "    DCHT.insert_key_value_pair(43,\"dragonfruit\")\n",
    "    DCHT.insert_key_value_pair(54,\"eggplant\")\n",
    "    DCHT.insert_key_value_pair(65,\"figs\")\n",
    "    DCHT.insert_key_value_pair(76,\"grape\")\n",
    "    DCHT.insert_key_value_pair(87,\"honeydew\")\n",
    "    DCHT.insert_key_value_pair(98,\"imbe\")\n",
    "    DCHT.insert_key_value_pair(109,\"jackfruit\")\n",
    "    DCHT.insert_key_value_pair(120,\"kiwi\") # Not added\n",
    "    #for item in [11,22,33,44,55,66,77,88,99,110,121]:\n",
    "    for item in [10,21,32,43,54,65,76,87,98,109,120]:\n",
    "        print(DCHT.search(item)) # Result is displayed fruits in increasing alphabetical order without kiwi.\n",
    "\n",
    "def freeTestCase2():\n",
    "    print(\"Free Test Case 2\")\n",
    "    DCHT = DirectChainingHashTable(11, 10)\n",
    "    # to test for hashing on different slot and collision\n",
    "    DCHT.insert_key_value_pair(11,\"apple\")\n",
    "    DCHT.insert_key_value_pair(23,\"banana\")\n",
    "    DCHT.insert_key_value_pair(35,\"carrot\")\n",
    "    DCHT.insert_key_value_pair(47,\"dragonfruit\")\n",
    "    DCHT.insert_key_value_pair(59,\"eggplant\")\n",
    "    DCHT.insert_key_value_pair(71,\"figs\")\n",
    "    DCHT.insert_key_value_pair(83,\"grape\")\n",
    "    DCHT.insert_key_value_pair(95,\"honeydew\")\n",
    "    DCHT.insert_key_value_pair(107,\"imbe\")\n",
    "    DCHT.insert_key_value_pair(119,\"jackfruit\")\n",
    "    DCHT.insert_key_value_pair(132,\"kiwi\")\n",
    "    DCHT.insert_key_value_pair(143,\"lemon\")\n",
    "    DCHT.insert_key_value_pair(34,\"mango\")\n",
    "    #for item in [11,22,33,44,55,66,77,88,99,110,121]:\n",
    "    for item in [11,23,35,47,59,71,83,95,107,119,132,143,34]:\n",
    "        print(DCHT.search(item)) # # Result is displayed fruits in increasing alphabetical order for all 13 fruits.\n",
    "\n",
    "freeTestCase1()\n",
    "freeTestCase2()"
   ]
  },
  {
   "cell_type": "code",
   "execution_count": null,
   "metadata": {},
   "outputs": [],
   "source": []
  }
 ],
 "metadata": {
  "kernelspec": {
   "display_name": "Python 3",
   "language": "python",
   "name": "python3"
  },
  "language_info": {
   "codemirror_mode": {
    "name": "ipython",
    "version": 3
   },
   "file_extension": ".py",
   "mimetype": "text/x-python",
   "name": "python",
   "nbconvert_exporter": "python",
   "pygments_lexer": "ipython3",
   "version": "3.6.7"
  }
 },
 "nbformat": 4,
 "nbformat_minor": 2
}
