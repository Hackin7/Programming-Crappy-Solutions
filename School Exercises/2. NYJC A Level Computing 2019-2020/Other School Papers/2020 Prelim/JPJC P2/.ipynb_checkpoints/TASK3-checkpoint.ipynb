{
 "cells": [
  {
   "cell_type": "code",
   "execution_count": 86,
   "metadata": {},
   "outputs": [],
   "source": [
    "# Task 3.1\n",
    "class BSTNode:\n",
    "    def __init__(self, ISBN: int, Title: str):\n",
    "        self.SetISBN(ISBN)\n",
    "        self.SetTitle(Title)\n",
    "        # Pointers: Supposed to store another BST Node, currently None as a Placeholder\n",
    "        self.__Left = None\n",
    "        self.__Right = None \n",
    "        \n",
    "    ### Getter Methods ##########################\n",
    "    def GetISBN(self) -> int:\n",
    "        return self.__ISBN\n",
    "    \n",
    "    def GetTitle(self) -> int:\n",
    "        return self.__Title\n",
    "    \n",
    "    def GetLeft(self):\n",
    "        return self.__Left\n",
    "    \n",
    "    def GetRight(self):\n",
    "        return self.__Right\n",
    "    \n",
    "    ### Setter Methods ##########################\n",
    "    def SetISBN(self, ISBN: int):\n",
    "        self.__ISBN = int(ISBN)\n",
    "    \n",
    "    def SetTitle(self, Title: str):\n",
    "        self.__Title = str(Title)\n",
    "    \n",
    "    def SetLeft(self, Left): # Left is a BST Node\n",
    "        self.__Left = Left \n",
    "    \n",
    "    def SetRight(self, Right): # Left is a BST Node\n",
    "        self.__Right = Right \n",
    "    \n",
    "    ### Additional Methods I added for use ##################\n",
    "    # I don't think they expect us to do iterative in order traversal\n",
    "    def __str__(self):\n",
    "        return f\"ISBN: {self.GetISBN()}, Title: {self.GetTitle()}\"\n",
    "    \n",
    "    def _InOrderTraversal(self):\n",
    "        if self.GetLeft() != None:\n",
    "            self.GetLeft()._InOrderTraversal()\n",
    "        \n",
    "        print(str(self))\n",
    "        \n",
    "        if self.GetRight() != None:\n",
    "            self.GetRight()._InOrderTraversal()\n",
    "    \n",
    "class BST:\n",
    "    def __init__(self):\n",
    "        self.__Root = None # A Placeholder\n",
    "        \n",
    "    def GetRoot(self):\n",
    "        return self.__Root\n",
    "\n",
    "    def SetRoot(self, Root):\n",
    "        self.__Root = Root\n",
    "    \n",
    "    def AddNode(self, ISBN: int, Title: str):\n",
    "        # Create New Node\n",
    "        newNode = BSTNode(int(ISBN), str(Title))\n",
    "        \n",
    "        if self.GetRoot() == None: # Insert if nothing in BST\n",
    "            self.SetRoot(newNode)\n",
    "        else: # Insert in appropriate place in node\n",
    "            prev = None\n",
    "            curr = self.GetRoot()\n",
    "            position = 'X'\n",
    "            while curr != None:\n",
    "                prev = curr\n",
    "                if curr.GetISBN() < ISBN: # Traverse Left\n",
    "                    position = 'L'\n",
    "                    curr = curr.GetLeft()\n",
    "                else: # Traverse Right\n",
    "                    position = 'R'\n",
    "                    curr = curr.GetRight()\n",
    "            \n",
    "            if position == 'L':\n",
    "                prev.SetLeft(newNode)\n",
    "            elif position == 'R':\n",
    "                prev.SetRight(newNode)\n",
    "        \n",
    "    def Display(self):\n",
    "        if self.GetRoot() == None: # Insert if nothing in BST\n",
    "            print(\"The BST is empty\")\n",
    "        else:\n",
    "            print(\"The contents of the BST displayed in order are:\")\n",
    "            self.GetRoot()._InOrderTraversal()"
   ]
  },
  {
   "cell_type": "code",
   "execution_count": 87,
   "metadata": {},
   "outputs": [
    {
     "data": {
      "text/plain": [
       "9"
      ]
     },
     "execution_count": 87,
     "metadata": {},
     "output_type": "execute_result"
    }
   ],
   "source": [
    "# Task 3.2\n",
    "def CalcHash(my_string):\n",
    "    summedVal = 0\n",
    "    for pos in range(1, len(my_string) + 1):\n",
    "        char = my_string[pos - 1]\n",
    "        summedVal = ord(char) * pos\n",
    "    \n",
    "    result = summedVal % 19 + 1\n",
    "    return result\n",
    "\n",
    "CalcHash('classics')"
   ]
  },
  {
   "cell_type": "code",
   "execution_count": 88,
   "metadata": {},
   "outputs": [],
   "source": [
    "# Task 3.3\n",
    "def task3_3():\n",
    "    # Python list to simlate an array\n",
    "    HashTable = []\n",
    "    for i in range(19 + 1): # 1-indexed, ignore 0 index\n",
    "        HashTable.append([\"\", BST()])\n",
    "    return HashTable\n",
    "HashTable = task3_3()"
   ]
  },
  {
   "cell_type": "code",
   "execution_count": 89,
   "metadata": {},
   "outputs": [],
   "source": [
    "# Task 3.4\n",
    "\n",
    "def readCategories(HashTable, filename=\"CATEGORIES.TXT\"):\n",
    "    infile = open(filename, 'r')\n",
    "    for line in infile:\n",
    "        Category = line.strip()\n",
    "        insertCategory(HashTable, Category)\n",
    "    infile.close()\n",
    "    \n",
    "def insertCategory(HashTable, Category):\n",
    "    index = CalcHash(Category)\n",
    "    if HashTable[index][0] == \"\": # Empty object, Insert at start\n",
    "        HashTable[index][0] = Category\n",
    "    else: # Linear Probing\n",
    "        curr = max(1, (index + 1) % 20) # From 1 to 19\n",
    "        while curr != index and HashTable[curr][0] != \"\":\n",
    "            curr = max(1, (curr + 1) % 20) # From 1 to 19\n",
    "            \n",
    "        \n",
    "        if curr == index:\n",
    "            print(\"Hash table is full! Cannot insert!\")\n",
    "        else:\n",
    "            HashTable[curr][0] = Category\n",
    "    \n",
    "### Main #######################\n",
    "HashTable = task3_3()\n",
    "readCategories(HashTable)"
   ]
  },
  {
   "cell_type": "code",
   "execution_count": 90,
   "metadata": {},
   "outputs": [],
   "source": [
    "# Task 3.5\n",
    "import csv\n",
    "def readBooksIntoHT(HashTable, filename=\"BOOKS.TXT\"):\n",
    "    infile = open(filename, 'r')\n",
    "    reader = csv.reader(infile)\n",
    "    for record in reader:\n",
    "        Category = record[0]\n",
    "        ISBN = int(record[1])\n",
    "        Title = record[2]\n",
    "        # Insert into Hash Table\n",
    "        index = CalcHash(Category)\n",
    "        HashTable[index][1].AddNode(ISBN, Title)\n",
    "    infile.close()\n",
    "    \n",
    "### Main ######################\n",
    "readBooksIntoHT(HashTable)"
   ]
  },
  {
   "cell_type": "code",
   "execution_count": 91,
   "metadata": {},
   "outputs": [
    {
     "name": "stdout",
     "output_type": "stream",
     "text": [
      "ISBN and Title of books belonging to classics\n",
      "The contents of the BST displayed in order are:\n",
      "ISBN: 1322851738, Title: Heidi\n",
      "ISBN: 1211844730, Title: Moby Dick\n",
      "ISBN: 1139856732, Title: Macbeth\n",
      "ISBN: 1110216068, Title: Dracula\n",
      "ISBN: 1100856732, Title: Othello\n",
      "ISBN: 1000234567, Title: Pride and Prejudice\n"
     ]
    }
   ],
   "source": [
    "# Task 3.6\n",
    "def task3_6():\n",
    "    title = 'classics'\n",
    "    index = CalcHash(title)\n",
    "    print(f\"ISBN and Title of books belonging to {title}\")\n",
    "    HashTable[index][1].Display()\n",
    "task3_6()"
   ]
  },
  {
   "cell_type": "code",
   "execution_count": null,
   "metadata": {},
   "outputs": [],
   "source": [
    "# 1h 5min left"
   ]
  }
 ],
 "metadata": {
  "kernelspec": {
   "display_name": "Python 3",
   "language": "python",
   "name": "python3"
  },
  "language_info": {
   "codemirror_mode": {
    "name": "ipython",
    "version": 3
   },
   "file_extension": ".py",
   "mimetype": "text/x-python",
   "name": "python",
   "nbconvert_exporter": "python",
   "pygments_lexer": "ipython3",
   "version": "3.6.7"
  }
 },
 "nbformat": 4,
 "nbformat_minor": 2
}
