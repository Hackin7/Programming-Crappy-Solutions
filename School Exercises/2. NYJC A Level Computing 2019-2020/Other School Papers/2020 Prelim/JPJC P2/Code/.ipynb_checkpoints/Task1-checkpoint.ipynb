{
 "cells": [
  {
   "cell_type": "code",
   "execution_count": 1,
   "metadata": {},
   "outputs": [
    {
     "name": "stdout",
     "output_type": "stream",
     "text": [
      "day     A    B    C    D    E    F\n",
      "===========================================\n",
      "Mon1    0    0    2    1    -1   0    \n",
      "Tue1    0    1    0    0    -1   -5   \n",
      "Wed1    0    0    -1   0    -1   -5   \n",
      "Thu1    2    0    -1   0    -2   -5   \n",
      "Fri1    2    1    -2   0    -4   -4   \n",
      "Mon2    4    2    -2   0    -10  -3   \n",
      "Tue2    0    0    -3   0    -2   -5   \n",
      "Wed2    3    0    -1   0    0    0    \n",
      "Thu2    4    0    0    0    0    0    \n",
      "Fri2    -2   0    0    0    0    0    \n",
      "Mon3    -5   1    -2   2    0    0    \n",
      "Tue3    0    0    0    0    1    -2   \n",
      "Wed3    0    0    1    0    2    -3   \n",
      "Thu3    3    0    1    0    -3   1    \n",
      "Fri3    4    2    1    0    1    1    \n",
      "Mon4    -1   0    1    0    1    1    \n",
      "Tue4    8    0    -1   0    3    0    \n",
      "Wed4    1    1    -1   0    -1   0    \n",
      "Thu4    1    0    2    0    0    -2   \n",
      "Fri4    -2   0    -2   0    0    -5   \n"
     ]
    }
   ],
   "source": [
    "class Record:\n",
    "    def __init__(self,day,A,B,C,D,E,F):\n",
    "        self.day = day\n",
    "        self.routes = [A,B,C,D,E,F] # list of integer\n",
    "    \n",
    "    def display(self):\n",
    "        print(self.day.ljust(8),end=\"\")\n",
    "        for route in self.routes:\n",
    "            print(str(route).ljust(5),end=\"\")\n",
    "        print()\n",
    "\n",
    "        \n",
    "# Task 1.1\n",
    "Records = [] # python list of record data structure\n",
    "file = open(\"SURVEY.TXT\",\"r\")\n",
    "for line in file:\n",
    "    line = line.strip()\n",
    "    day,A,B,C,D,E,F = line.split(\",\")\n",
    "    temp = Record(day,int(A),int(B),int(C),int(D),int(E),int(F))\n",
    "    Records.append(temp)\n",
    "file.close()\n",
    "\n",
    "print(\"day\".ljust(8)+\"A\".ljust(5)+\"B\".ljust(5)+\"C\".ljust(5)+\"D\".ljust(5)+\"E\".ljust(5)+\"F\")\n",
    "print(\"===========================================\")\n",
    "for record in Records:\n",
    "    record.display()"
   ]
  },
  {
   "cell_type": "code",
   "execution_count": 2,
   "metadata": {},
   "outputs": [
    {
     "name": "stdout",
     "output_type": "stream",
     "text": [
      "                                          A      B      C      D      E      F\n",
      "\n",
      "\n",
      "No. of late arrivals for each bus route   4      0      10     0      9      10     \n",
      "\n",
      "Average no. of minutes late               2.5    0.0    1.6    0.0    2.78   3.9    \n",
      "\n",
      "Bus route C has the highest number of days late\n"
     ]
    }
   ],
   "source": [
    "# Task 1.2\n",
    "late_arrivals = [0]*6 # array of integer\n",
    "average_mins_late = [0.0]*6 # array of float\n",
    "for i in range(6): # 6 bus routes\n",
    "    for record in Records:\n",
    "        if int(record.routes[i]) < 0:\n",
    "            late_arrivals[i] += 1\n",
    "            average_mins_late[i] += abs(int(record.routes[i]))\n",
    "    if late_arrivals[i] != 0:\n",
    "        average_mins_late[i] = round(average_mins_late[i]/late_arrivals[i],2)\n",
    "\n",
    "        \n",
    "print(\"\".ljust(42)+\"A\".ljust(7)+\"B\".ljust(7)+\"C\".ljust(7)+\"D\".ljust(7)+\"E\".ljust(7)+\"F\")\n",
    "print()\n",
    "print()\n",
    "print(\"No. of late arrivals for each bus route\".ljust(42),end=\"\")\n",
    "for i in range(6):\n",
    "    print(str(late_arrivals[i]).ljust(7),end=\"\")\n",
    "print()\n",
    "print()\n",
    "print(\"Average no. of minutes late\".ljust(42),end=\"\")\n",
    "for i in range(6):\n",
    "    print(str(average_mins_late[i]).ljust(7),end=\"\")\n",
    "print()\n",
    "print()\n",
    "\n",
    "name_of_routes = [\"A\",\"B\",\"C\",\"D\",\"E\",\"F\"]\n",
    "greatest = late_arrivals[0]\n",
    "greatest_index = 0\n",
    "for i in range(1,len(late_arrivals)):\n",
    "    if late_arrivals[i] > greatest:\n",
    "        greatest = late_arrivals[i]\n",
    "        greatest_index = i\n",
    "print(\"Bus route\",name_of_routes[greatest_index],\"has the highest number of days late\")"
   ]
  },
  {
   "cell_type": "code",
   "execution_count": 3,
   "metadata": {},
   "outputs": [
    {
     "name": "stdout",
     "output_type": "stream",
     "text": [
      "Enter a dayTue1\n",
      "E was late and by 1 mins\n",
      "F was late and by 5 mins\n",
      "2 buses were late that day\n",
      "\n",
      "Enter a dayThu2\n",
      "0 buses were late that day\n",
      "\n"
     ]
    }
   ],
   "source": [
    "# Task 1.3\n",
    "def search(Records):\n",
    "    name = input(\"Enter a day\") # assume input is valid\n",
    "    for record in Records:\n",
    "        if name == record.day:\n",
    "            name_of_routes = [\"A\",\"B\",\"C\",\"D\",\"E\",\"F\"]\n",
    "            total_late = 0\n",
    "            for i in range(6):\n",
    "                if int(record.routes[i])<0:\n",
    "                    print(name_of_routes[i],\"was late and by\",abs(int(record.routes[i])),\"mins\")\n",
    "                    total_late += 1\n",
    "            print(total_late,\"buses were late that day\")\n",
    "            print()\n",
    "search(Records)\n",
    "search(Records)\n",
    "                "
   ]
  },
  {
   "cell_type": "code",
   "execution_count": null,
   "metadata": {},
   "outputs": [],
   "source": []
  }
 ],
 "metadata": {
  "kernelspec": {
   "display_name": "Python 3",
   "language": "python",
   "name": "python3"
  },
  "language_info": {
   "codemirror_mode": {
    "name": "ipython",
    "version": 3
   },
   "file_extension": ".py",
   "mimetype": "text/x-python",
   "name": "python",
   "nbconvert_exporter": "python",
   "pygments_lexer": "ipython3",
   "version": "3.6.7"
  }
 },
 "nbformat": 4,
 "nbformat_minor": 2
}
