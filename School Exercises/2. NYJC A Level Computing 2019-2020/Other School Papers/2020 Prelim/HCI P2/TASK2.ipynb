{
 "cells": [
  {
   "cell_type": "code",
   "execution_count": 1,
   "metadata": {},
   "outputs": [
    {
     "data": {
      "text/plain": [
       "14"
      ]
     },
     "execution_count": 1,
     "metadata": {},
     "output_type": "execute_result"
    }
   ],
   "source": [
    "# Task 2.1\n",
    "\n",
    "def HashKey(Country: str) -> int:\n",
    "    Country = str(Country)\n",
    "    total = 0 # Sum of ascii values of all ascii characters\n",
    "    for char in Country:\n",
    "        total += ord(char.lower())\n",
    "        \n",
    "    remainder = total % 30\n",
    "    return remainder\n",
    "\n",
    "HashKey(\"Brazil\")"
   ]
  },
  {
   "cell_type": "code",
   "execution_count": 2,
   "metadata": {},
   "outputs": [
    {
     "name": "stdout",
     "output_type": "stream",
     "text": [
      "The Hash Table is full, cannot insert country: Philipines\n",
      "The Hash Table is full, cannot insert country: Australia\n",
      "The Hash Table is full, cannot insert country: Malaysia\n",
      "The Hash Table is full, cannot insert country: Thailand\n",
      "The Hash Table is full, cannot insert country: Maldives\n",
      "Final Hash Table: ['Spain', 'Canada', 'SaudiArabia', 'Russia', 'Belarus', 'Germany', 'Iran', 'Italy', 'India', 'China', 'Netherlands', 'Chile', 'Switzerland', 'Portugal', 'UK', 'Brazil', 'Turkey', 'Mexico', 'Sweden', 'Pakistan', 'Ecuador', 'Belgium', 'Singapore', 'France', 'Peru', 'Bangladesh', 'Indonesia', 'Qatar', 'Japan', 'USA']\n"
     ]
    }
   ],
   "source": [
    "# Task 2.2\n",
    "\n",
    "class HashTable:\n",
    "    def __init__(self, size=30):\n",
    "        # Python list to simulate an array\n",
    "        self.size = size\n",
    "        self.array = []\n",
    "        for i in range(self.size):\n",
    "            self.array.append(None)\n",
    "    \n",
    "    def get(self, key):\n",
    "        return self.array[key]\n",
    "    \n",
    "    def store(self, key, value):\n",
    "        current = key\n",
    "        if self.array[current] == None:\n",
    "            self.array[current] = value\n",
    "            return 0 # No issues\n",
    "        else: \n",
    "            # Linear Probing: in the event of a collision\n",
    "            current = (current + 1) % self.size\n",
    "            while current != key:\n",
    "                if self.array[current] == None:\n",
    "                    self.array[current] = value                \n",
    "                    return 0 # No issues\n",
    "                current = (current + 1) % self.size\n",
    "                \n",
    "            return 1 # Error message\n",
    "        \n",
    "def task2_2(filename=\"COUNTRY1.TXT\"):\n",
    "    hashtable = HashTable() # Create hash table \n",
    "    \n",
    "    file = open(filename, 'r')\n",
    "    for line in file:\n",
    "        country = line.strip()\n",
    "        key = HashKey(country)\n",
    "        if hashtable.store(key, country):\n",
    "            print(\"The Hash Table is full, cannot insert country:\", country)\n",
    "    file.close()\n",
    "    \n",
    "    print(\"Final Hash Table:\",hashtable.array)\n",
    "    return hashtable\n",
    "\n",
    "hashtable = task2_2()"
   ]
  },
  {
   "cell_type": "code",
   "execution_count": 4,
   "metadata": {},
   "outputs": [
    {
     "name": "stdout",
     "output_type": "stream",
     "text": [
      "The Hash Table is full, cannot insert country: Philipines\n",
      "The Hash Table is full, cannot insert country: Australia\n",
      "The Hash Table is full, cannot insert country: Malaysia\n",
      "The Hash Table is full, cannot insert country: Thailand\n",
      "The Hash Table is full, cannot insert country: Maldives\n",
      "Final Hash Table: ['Spain', 'Canada', 'SaudiArabia', 'Russia', 'Belarus', 'Germany', 'Iran', 'Italy', 'India', 'China', 'Netherlands', 'Chile', 'Switzerland', 'Portugal', 'UK', 'Brazil', 'Turkey', 'Mexico', 'Sweden', 'Pakistan', 'Ecuador', 'Belgium', 'Singapore', 'France', 'Peru', 'Bangladesh', 'Indonesia', 'Qatar', 'Japan', 'USA']\n",
      "The country name is found at address 22\n",
      "None\n",
      "The country name is not found\n",
      "None\n",
      "The country name is not found\n",
      "None\n"
     ]
    }
   ],
   "source": [
    "# Task 2.3\n",
    "def SearchCountry(Country: str, HashTable: list):\n",
    "    Country = str(Country)\n",
    "    size = len(HashTable)\n",
    "    hashAddress = HashKey(Country)\n",
    "    foundAddress = None\n",
    "    \n",
    "    current = hashAddress\n",
    "    if HashTable[current] == Country:\n",
    "        foundAddress = current\n",
    "    else: \n",
    "        # Linear Probing: in the event of a collision\n",
    "        current = (current + 1) % size\n",
    "        while current != hashAddress:\n",
    "            if HashTable[current] == Country:\n",
    "                foundAddress = current\n",
    "            current = (current + 1) % size\n",
    "        \n",
    "    if foundAddress != None:\n",
    "        print(f\"The country name is found at address {foundAddress}\")\n",
    "    else:\n",
    "        print(f\"The country name is not found\")\n",
    "        \n",
    "\"\"\"\n",
    "Test Cases\n",
    "\n",
    "Type: Normal (For something in list, but not at hashed value)\n",
    "Input: SearchCountry('Singapore',HashTable) \n",
    "Expected Output: The country name is found at address 22\n",
    "\n",
    "Type: Normal (For something not in list)\n",
    "Input: SearchCountry('Maldives', HashTable)\n",
    "Expected Output: The country name is not found\n",
    "\n",
    "Type: Abnormal (Not a country name)\n",
    "Input: SearchCountry(1, HashTable)\n",
    "Expected Output: The country name is not found\n",
    "\"\"\"\n",
    "def task2_3_driver(filename=\"COUNTRY1.TXT\"):\n",
    "    hashtable = task2_2()\n",
    "    \n",
    "    #print(\"Final Hash Table:\",hashtable.array)\n",
    "    print(SearchCountry('Singapore', hashtable.array))\n",
    "    print(SearchCountry('Maldives', hashtable.array))\n",
    "    print(SearchCountry(1, hashtable.array))\n",
    "    \n",
    "task2_3_driver()"
   ]
  },
  {
   "cell_type": "code",
   "execution_count": 5,
   "metadata": {},
   "outputs": [
    {
     "name": "stdout",
     "output_type": "stream",
     "text": [
      "Belgium,16.4\n",
      "France,15.4\n",
      "UK,14.4\n",
      "Italy,14.1\n",
      "Netherlands,12.9\n",
      "Sweden,12.4\n",
      "Mexico,10.6\n",
      "Spain,10.0\n",
      "Ecuador,8.2\n",
      "Canada,7.5\n",
      "Brazil,6.7\n",
      "Philipines,6.6\n",
      "Indonesia,6.4\n",
      "Switzerland,6.1\n",
      "USA,6.0\n",
      "Iran,5.9\n",
      "China,5.6\n",
      "Germany,4.6\n",
      "Japan,4.5\n",
      "Portugal,4.2\n",
      "Turkey,2.8\n",
      "India,2.8\n",
      "Peru,2.8\n",
      "Pakistan,2.1\n",
      "Thailand,1.9\n",
      "Malaysia,1.6\n",
      "Bangladesh,1.5\n",
      "Australia,1.4\n",
      "Chile,1.0\n",
      "Russia,0.9\n",
      "SaudiArabia,0.6\n",
      "Belarus,0.6\n",
      "Maldives,0.4\n",
      "Singapore,0.1\n",
      "Qatar,0.0\n"
     ]
    }
   ],
   "source": [
    "# Task 2.4\n",
    "def readCountry2ToRate(filename=\"COUNTRY2.TXT\"):\n",
    "    data = []\n",
    "    file = open(filename, 'r')\n",
    "    for line in file:\n",
    "        record = line.strip().split(\",\")\n",
    "        country = record[0]\n",
    "        confirmedCases = int(record[1])\n",
    "        deathCases = int(record[2])\n",
    "        \n",
    "        rate = round(deathCases/confirmedCases*100, 1) # Round to 1 dp\n",
    "        newRecord = (country, rate)\n",
    "        data.append(newRecord)\n",
    "    file.close()\n",
    "    return data\n",
    "    \n",
    "def inOrder(a, b):\n",
    "    return a[1] >= b[1] # Descending order of death rate\n",
    "\n",
    "def bubblesort(data, inOrder):\n",
    "    haveSwaps = True\n",
    "    while haveSwaps:\n",
    "        haveSwaps = False\n",
    "        for i in range(0, len(data) - 1):\n",
    "            if not inOrder(data[i], data[i+1]):\n",
    "                # Swapping\n",
    "                temp = data[i]\n",
    "                data[i] = data[i+1]\n",
    "                data[i+1] = temp\n",
    "                haveSwaps = True\n",
    "        #print(data)\n",
    "\n",
    "def generateRateFile(data, filename=\"RATE.TXT\"):\n",
    "    file = open(filename, 'w') # Write mode\n",
    "    for index in range(len(data)):\n",
    "        record = data[index]\n",
    "        output = f\"{record[0]},{record[1]}\"\n",
    "        print(output)\n",
    "        if index != len(data) - 1: # If not last element\n",
    "            output += \"\\n\"\n",
    "        file.write(output)\n",
    "    file.close()\n",
    "\n",
    "def task2_4():\n",
    "    data = readCountry2ToRate()\n",
    "    bubblesort(data, inOrder)\n",
    "    generateRateFile(data)\n",
    "    \n",
    "task2_4()"
   ]
  },
  {
   "cell_type": "code",
   "execution_count": 41,
   "metadata": {},
   "outputs": [
    {
     "name": "stdout",
     "output_type": "stream",
     "text": [
      "0\n",
      "1\n",
      "2\n",
      "3\n",
      "[3, 2, 1, 3, 4, 4]\n",
      "0\n",
      "1\n",
      "[2, 1, 3, 3, 4, 4]\n",
      "0\n",
      "[1, 2, 3, 3, 4, 4]\n",
      "[1, 2, 3, 3, 4, 4]\n",
      "[1, 2, 3, 3, 4, 4]\n"
     ]
    }
   ],
   "source": [
    "def bubblesorttester():\n",
    "    def cmp(a,b):return a<=b\n",
    "    lis = [4,3,2,1,3,4]\n",
    "    bubblesort(lis, cmp)\n",
    "    print(lis)\n",
    "bubblesorttester()"
   ]
  }
 ],
 "metadata": {
  "kernelspec": {
   "display_name": "Python 3",
   "language": "python",
   "name": "python3"
  },
  "language_info": {
   "codemirror_mode": {
    "name": "ipython",
    "version": 3
   },
   "file_extension": ".py",
   "mimetype": "text/x-python",
   "name": "python",
   "nbconvert_exporter": "python",
   "pygments_lexer": "ipython3",
   "version": "3.6.7"
  }
 },
 "nbformat": 4,
 "nbformat_minor": 2
}
