{
 "cells": [
  {
   "cell_type": "code",
   "execution_count": 15,
   "metadata": {},
   "outputs": [
    {
     "name": "stdout",
     "output_type": "stream",
     "text": [
      "Highest # cases (1426) is on 20 April 2020\n",
      "Lowest # cases (447) is on 15 April 2020, 2 May 2020\n"
     ]
    }
   ],
   "source": [
    "# Task 1.1\n",
    "\n",
    "from datetime import datetime, timedelta\n",
    "def readFile(filename=\"COVID19.TXT\"):\n",
    "    data = {} # Store cumulative total indexed by date\n",
    "    file = open(filename, 'r')\n",
    "    # should already be in order (insertion order is already sorted)\n",
    "    for line in file:\n",
    "        record = list(line.strip().split(','))\n",
    "        date = datetime(year=2020, \n",
    "                             month=int(record[0][2:]),\n",
    "                             day=int(record[0][:2])\n",
    "                            )\n",
    "        cumulativeTotal = int(record[1])\n",
    "        data[date] = cumulativeTotal\n",
    "    file.close()\n",
    "    return data\n",
    "\n",
    "def newCasePerDay(dataForCumulative,startDate,endDate):\n",
    "    dataForNewCase = {}\n",
    "    for date, cumulativeTotal in dataForCumulative.items():\n",
    "        if startDate <= date <= endDate:\n",
    "            # Find new cases from previous cases\n",
    "            prevDate = date - timedelta(days=1)\n",
    "            if dataForCumulative.get(prevDate) != None:\n",
    "                newCase = dataForCumulative.get(date) - dataForCumulative.get(prevDate)\n",
    "            else:\n",
    "                newCase = dataForCumulative.get(date)\n",
    "            dataForNewCase[date] = newCase \n",
    "    return dataForNewCase\n",
    "\n",
    "def highestLowest(dataForNewCase):\n",
    "    highestVal = -1 # invalid value\n",
    "    highest = []\n",
    "    lowestVal = -1\n",
    "    lowest = []\n",
    "    for date, newCase in dataForNewCase.items():\n",
    "        # Highest\n",
    "        if highestVal == -1 or highestVal < newCase:\n",
    "            highestVal = newCase\n",
    "            highest.clear()\n",
    "            highest.append(date)\n",
    "        elif highestVal == newCase:\n",
    "            highest.append(date)\n",
    "        # Lowest\n",
    "        if lowestVal == -1 or lowestVal > newCase:\n",
    "            lowestVal = newCase\n",
    "            lowest.clear()\n",
    "            lowest.append(date)\n",
    "        elif lowestVal == newCase:\n",
    "            lowest.append(date)\n",
    "            \n",
    "    return highestVal, highest, lowestVal, lowest\n",
    "\n",
    "def dateString(date):\n",
    "    months = [\"\", \"January\", \"Febuary\", \"March\", \"April\", \"May\", \"June\", \"July\", \"August\", \"September\", \"October\", \"November\", \"December\"]\n",
    "    return f\"{date.day} {months[date.month]} {date.year}\"\n",
    "\n",
    "def displayHighestLowest(dataForNewCase):\n",
    "    highestVal, highest, lowestVal, lowest = highestLowest(dataForNewCase)\n",
    "    \n",
    "    highestDates = \"\"\n",
    "    for date in highest:\n",
    "        highestDates += dateString(date)+\", \"\n",
    "    highestDates = highestDates[:-2]\n",
    "    \n",
    "    lowestDates = \"\"\n",
    "    for date in lowest:\n",
    "        lowestDates += dateString(date)+\", \"\n",
    "    lowestDates = lowestDates[:-2]\n",
    "    \n",
    "    output = \"\"\n",
    "    output += f\"Highest # cases ({highestVal}) is on {highestDates}\\n\"\n",
    "    output += f\"Lowest # cases ({lowestVal}) is on {lowestDates}\"\n",
    "    print(output)\n",
    "    \n",
    "def task1_1():\n",
    "    dataForCumulative = readFile()\n",
    "    dataForNewCase = newCasePerDay(dataForCumulative,\n",
    "                                   datetime(2020, 4, 15),\n",
    "                                   datetime(2020, 5, 15))\n",
    "    displayHighestLowest(dataForNewCase)\n",
    "    \n",
    "task1_1()"
   ]
  },
  {
   "cell_type": "code",
   "execution_count": 20,
   "metadata": {},
   "outputs": [
    {
     "name": "stdout",
     "output_type": "stream",
     "text": [
      "Longest ascending streak is 3 days\n"
     ]
    }
   ],
   "source": [
    "# Task 1.2\n",
    "def ascendingStreak(dataForNewCase):\n",
    "    prevCases = 0\n",
    "    dateStreak = 0\n",
    "    currStreak = 0\n",
    "    # should already be in order (insertion order is already sorted)\n",
    "    for date, newCases in dataForNewCase.items():\n",
    "        #print(date, newCases)\n",
    "        if newCases > prevCases:\n",
    "            dateStreak += 1\n",
    "        else:\n",
    "            currStreak = max(currStreak, dateStreak)\n",
    "            dateStreak = 1\n",
    "        prevCases = newCases\n",
    "            \n",
    "    currStreak = max(currStreak, dateStreak)\n",
    "    return currStreak\n",
    "\n",
    "def task1_2():\n",
    "    dataForCumulative = readFile()\n",
    "    dataForNewCase = newCasePerDay(dataForCumulative,\n",
    "                                   datetime(2020, 4, 15),\n",
    "                                   datetime(2020, 5, 15))\n",
    "    streak = ascendingStreak(dataForNewCase)\n",
    "    print(f\"Longest ascending streak is {streak} days\")\n",
    "\n",
    "task1_2()"
   ]
  },
  {
   "cell_type": "code",
   "execution_count": null,
   "metadata": {},
   "outputs": [],
   "source": []
  }
 ],
 "metadata": {
  "kernelspec": {
   "display_name": "Python 3",
   "language": "python",
   "name": "python3"
  },
  "language_info": {
   "codemirror_mode": {
    "name": "ipython",
    "version": 3
   },
   "file_extension": ".py",
   "mimetype": "text/x-python",
   "name": "python",
   "nbconvert_exporter": "python",
   "pygments_lexer": "ipython3",
   "version": "3.6.7"
  }
 },
 "nbformat": 4,
 "nbformat_minor": 2
}
