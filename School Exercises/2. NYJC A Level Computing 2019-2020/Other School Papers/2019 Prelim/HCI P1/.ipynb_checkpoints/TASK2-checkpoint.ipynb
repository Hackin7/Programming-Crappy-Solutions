{
 "cells": [
  {
   "cell_type": "code",
   "execution_count": 8,
   "metadata": {},
   "outputs": [],
   "source": [
    "# Task 2.1\n",
    "\n",
    "def isAscending(a, b):\n",
    "    return a <= b\n",
    "\n",
    "def insertionSort(arr, inOrder=isAscending):\n",
    "    for i in range(1, len(arr)):\n",
    "        key = arr[i]\n",
    "        \n",
    "        # Shifting\n",
    "        j = i - 1\n",
    "        while j >= 0 and not inOrder(arr[j], key):\n",
    "            arr[j + 1] = arr[j]\n",
    "            j -= 1\n",
    "        # Inserting\n",
    "        arr[j + 1] = key\n",
    "    \n",
    "\n",
    "\n",
    "insertionSort([4,3,2,1])"
   ]
  },
  {
   "cell_type": "code",
   "execution_count": 66,
   "metadata": {},
   "outputs": [
    {
     "data": {
      "text/plain": [
       "[3, 4]"
      ]
     },
     "execution_count": 66,
     "metadata": {},
     "output_type": "execute_result"
    }
   ],
   "source": [
    "# Task 2.2\n",
    "\n",
    "# Binary Search the Answer\n",
    "def binarySearchTheAnswer(arr, conditionFunc):\n",
    "    low = 0\n",
    "    high = len(arr) - 1\n",
    "    \n",
    "    while low <= high:\n",
    "        mid = (low + high) // 2\n",
    "        condition = conditionFunc(arr[mid])\n",
    "        if condition: # Search left\n",
    "            high = mid - 1\n",
    "        else:\n",
    "            low = mid + 1\n",
    "        \n",
    "    return (low + high) // 2\n",
    "\n",
    "# Find the minimum i that f(i) is true\n",
    "def binarySearch(arr, targetedInt): # Sorted array as input\n",
    "    def highestCmp(a):\n",
    "        return a > targetedInt\n",
    "    def lowestCmp(a):\n",
    "        return a >= targetedInt\n",
    "    highestIndex = binarySearchTheAnswer(arr, highestCmp)\n",
    "    lowestIndex = binarySearchTheAnswer(arr, lowestCmp) + 1\n",
    "    \n",
    "    if highestIndex - lowestIndex < 0:\n",
    "        return -1\n",
    "    else:\n",
    "        indices = []\n",
    "        for i in range(lowestIndex, highestIndex + 1):\n",
    "            indices.append(i)\n",
    "        return indices\n",
    "    \n",
    "binarySearch([1, 2, 3, 4, 4, 5, 6, 7, 8, 9, 10, 11], 4)"
   ]
  },
  {
   "cell_type": "code",
   "execution_count": 68,
   "metadata": {},
   "outputs": [
    {
     "name": "stdout",
     "output_type": "stream",
     "text": [
      "[11, 23, 23, 23, 23, 24, 24, 26, 32, 37, 43, 43, 43, 56, 61, 65, 65, 78, 86, 94]\n",
      "Enter a target (an integer) to be searched: 23\n",
      "The target is found at indices [1, 2, 3, 4]\n",
      "\n",
      "[11, 23, 23, 23, 23, 24, 24, 26, 32, 37, 43, 43, 43, 56, 61, 65, 65, 78, 86, 94]\n",
      "Enter a target (an integer) to be searched: 94\n",
      "The target is found at indices [19]\n",
      "\n",
      "[11, 23, 23, 23, 23, 24, 24, 26, 32, 37, 43, 43, 43, 56, 61, 65, 65, 78, 86, 94]\n",
      "Enter a target (an integer) to be searched: -1\n",
      "The target is not found\n",
      "\n"
     ]
    }
   ],
   "source": [
    "# Task 2.3\n",
    "\n",
    "def readFile(filename=\"NUMBERS.txt\"):\n",
    "    data = []\n",
    "    infile = open(filename, 'r')\n",
    "    for line in infile:\n",
    "        data.append(int(line))\n",
    "    infile.close()\n",
    "    return data\n",
    "\n",
    "### Main ### ##############################\n",
    "def task2_3():\n",
    "    data = readFile()\n",
    "    insertionSort(data)\n",
    "    print(data)\n",
    "    target = int(input('Enter a target (an integer) to be searched: '))\n",
    "    indices = binarySearch(data, target)\n",
    "    if indices == -1:\n",
    "        print('The target is not found')\n",
    "    else:\n",
    "        print(f'The target is found at indices {indices}')\n",
    "\n",
    "'''\n",
    "Test Cases:\n",
    "\n",
    "Input: 23\n",
    "Reason: Normal Data\n",
    "Expected Output: The target is found at indices [1, 2, 3, 4]\n",
    "\n",
    "Input: 94\n",
    "Reason: Extreme Data (At the end of the array)\n",
    "Expected Output: The target is found at indices [19]\n",
    "\n",
    "Input: -1\n",
    "Reason: Abnormal Data (Negative Integer)\n",
    "Expected Output: The target is not found\n",
    "\n",
    "'''\n",
    "for i in range(3):\n",
    "    task2_3()\n",
    "    print()"
   ]
  },
  {
   "cell_type": "code",
   "execution_count": null,
   "metadata": {},
   "outputs": [],
   "source": [
    "# 35min or so"
   ]
  }
 ],
 "metadata": {
  "kernelspec": {
   "display_name": "Python 3",
   "language": "python",
   "name": "python3"
  },
  "language_info": {
   "codemirror_mode": {
    "name": "ipython",
    "version": 3
   },
   "file_extension": ".py",
   "mimetype": "text/x-python",
   "name": "python",
   "nbconvert_exporter": "python",
   "pygments_lexer": "ipython3",
   "version": "3.6.7"
  }
 },
 "nbformat": 4,
 "nbformat_minor": 2
}
