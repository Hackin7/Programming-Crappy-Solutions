{
 "cells": [
  {
   "cell_type": "code",
   "execution_count": 9,
   "metadata": {},
   "outputs": [],
   "source": [
    "# Task 1.1\n",
    "\n",
    "class Time:\n",
    "    def strToHour(time):\n",
    "        return int(time[:2]) + int(time[2:]) / 60\n",
    "    \n",
    "    def __init__(self, time):\n",
    "        self.hour = Time.strToHour(time)\n",
    "    \n",
    "    def diffFrom(self, time):\n",
    "        newHour = Time.strToHour(time)\n",
    "        hourDiff = abs(newHour - self.hour)\n",
    "        # Round up\n",
    "        return hourDiff + (hourDiff - int(hourDiff) > 0)\n",
    "    \n",
    "    def isAfter(self, time):\n",
    "        newHour = Time.strToHour(time)\n",
    "        return newHour >= self.hour\n",
    "        \n",
    "def Price(start: str, end:str) -> float:\n",
    "    before5pm = Time(start).diffFrom(\"1700\")\n",
    "    isAfter5pm = Time(start).isAfter(\"1700\")\n",
    "    cost = before5pm * 1.50 + 3 * isAfter5pm\n",
    "    return round(cost, 2)"
   ]
  },
  {
   "cell_type": "code",
   "execution_count": 12,
   "metadata": {},
   "outputs": [],
   "source": [
    "# Task 1.2\n",
    "\n",
    "import csv\n",
    "\n",
    "def readFileCSV(filename='CARPARK.txt'):\n",
    "    data = []\n",
    "    file = open(filename) #,'r')\n",
    "    reader = csv.reader(file, delimiter=',')\n",
    "    for record in reader:\n",
    "        data.append(record)\n",
    "    file.close()\n",
    "    return data\n",
    "\n",
    "def processing(data):\n",
    "    newData = []\n",
    "    for record in data:\n",
    "        newRecord = (record[0], Price(record[1], record[2]))\n",
    "        newData.append(newRecord)\n",
    "    return newData    \n",
    "    \n",
    "def writeCSV(data, filename='CHARGE.txt'):\n",
    "    file = open(filename, 'w')\n",
    "    for record in data:\n",
    "        file.write(f\"{record[0]},{record[1]:.2f}\\n\")\n",
    "    file.close()\n",
    "\n",
    "writeCSV(processing(readFileCSV()))"
   ]
  },
  {
   "cell_type": "code",
   "execution_count": null,
   "metadata": {},
   "outputs": [],
   "source": [
    "# 13:54 min to complete"
   ]
  }
 ],
 "metadata": {
  "kernelspec": {
   "display_name": "Python 3",
   "language": "python",
   "name": "python3"
  },
  "language_info": {
   "codemirror_mode": {
    "name": "ipython",
    "version": 3
   },
   "file_extension": ".py",
   "mimetype": "text/x-python",
   "name": "python",
   "nbconvert_exporter": "python",
   "pygments_lexer": "ipython3",
   "version": "3.6.7"
  }
 },
 "nbformat": 4,
 "nbformat_minor": 2
}
