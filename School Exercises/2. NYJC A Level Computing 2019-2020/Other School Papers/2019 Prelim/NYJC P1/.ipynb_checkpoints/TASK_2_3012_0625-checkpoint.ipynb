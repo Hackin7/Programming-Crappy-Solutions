{
 "cells": [
  {
   "cell_type": "code",
   "execution_count": 18,
   "metadata": {},
   "outputs": [
    {
     "data": {
      "text/plain": [
       "['Albania',\n",
       " 'Armenia',\n",
       " 'Bahrain',\n",
       " 'Bhutan',\n",
       " 'Bosnia and Herzegovina',\n",
       " 'Botswana',\n",
       " 'Comoros',\n",
       " 'Croatia',\n",
       " 'Cyprus',\n",
       " 'Djibouti',\n",
       " 'Equatorial Guinea',\n",
       " 'Estonia',\n",
       " 'Fiji',\n",
       " 'Gabon',\n",
       " 'Gambia',\n",
       " 'Georgia',\n",
       " 'Guinea-Bissau',\n",
       " 'Jamaica',\n",
       " 'Latvia',\n",
       " 'Lesotho',\n",
       " 'Lithuania',\n",
       " 'Mauritius',\n",
       " 'Moldova',\n",
       " 'Mongolia',\n",
       " 'Namibia',\n",
       " 'North Macedonia',\n",
       " 'Panama',\n",
       " 'Qatar',\n",
       " 'Slovenia',\n",
       " 'Swaziland',\n",
       " 'Timor-Leste',\n",
       " 'Trinidad and Tobago',\n",
       " 'Uruguay']"
      ]
     },
     "execution_count": 18,
     "metadata": {},
     "output_type": "execute_result"
    }
   ],
   "source": [
    "# Task 2.1\n",
    "def recursiveInsertionSort(arr, low, high):\n",
    "    ### Base Case #########################\n",
    "    if (high - low + 1) <= 1:  # If Array size <= 1\n",
    "        return\n",
    "    ### Recursive Case ####################\n",
    "    recursiveInsertionSort(arr, low, high - 1)\n",
    "    ### Insertion #########################\n",
    "    key = arr[high]\n",
    "    curr = high - 1\n",
    "    while curr >= low and arr[curr] > key: # Shift when out of order\n",
    "        # Python string comparison\n",
    "        arr[curr + 1] = arr[curr]\n",
    "        curr -= 1\n",
    "    arr[curr + 1] = key\n",
    "    \n",
    "data = [\"Bhutan\",\"Comoros\",\"Fiji\",\"Djibouti\",\"Cyprus\",\"Mauritius\",\"Estonia\",\"Timor-Leste\",\"Equatorial Guinea\",\"Trinidad and Tobago\",\"Swaziland\",\"Bahrain\",\"Latvia\",\"Guinea-Bissau\",\"Slovenia\",\"North Macedonia\",\"Gabon\",\"Gambia\",\"Lesotho\",\"Botswana\",\"Namibia\",\"Qatar\",\"Lithuania\",\"Jamaica\",\"Armenia\",\"Albania\",\"Mongolia\",\"Uruguay\",\"Bosnia and Herzegovina\",\"Georgia\",\"Moldova\",\"Croatia\",\"Panama\"]\n",
    "recursiveInsertionSort(data, 0, len(data) - 1)\n",
    "data"
   ]
  },
  {
   "cell_type": "code",
   "execution_count": 21,
   "metadata": {},
   "outputs": [
    {
     "name": "stdout",
     "output_type": "stream",
     "text": [
      "Element at position 1 is being inserted in position 1\n",
      "Element at position 2 is being inserted in position 2\n",
      "Element at position 3 is being inserted in position 2\n",
      "Element at position 4 is being inserted in position 2\n",
      "Element at position 5 is being inserted in position 5\n",
      "Element at position 6 is being inserted in position 4\n",
      "Element at position 7 is being inserted in position 7\n",
      "Element at position 8 is being inserted in position 4\n",
      "Element at position 9 is being inserted in position 9\n",
      "Element at position 10 is being inserted in position 8\n",
      "Element at position 11 is being inserted in position 0\n",
      "Element at position 12 is being inserted in position 8\n",
      "Element at position 13 is being inserted in position 8\n",
      "Element at position 14 is being inserted in position 11\n",
      "Element at position 15 is being inserted in position 11\n",
      "Element at position 16 is being inserted in position 8\n",
      "Element at position 17 is being inserted in position 9\n",
      "Element at position 18 is being inserted in position 12\n",
      "Element at position 19 is being inserted in position 2\n",
      "Element at position 20 is being inserted in position 15\n",
      "Element at position 21 is being inserted in position 17\n",
      "Element at position 22 is being inserted in position 14\n",
      "Element at position 23 is being inserted in position 12\n",
      "Element at position 24 is being inserted in position 0\n",
      "Element at position 25 is being inserted in position 0\n",
      "Element at position 26 is being inserted in position 19\n",
      "Element at position 27 is being inserted in position 27\n",
      "Element at position 28 is being inserted in position 4\n",
      "Element at position 29 is being inserted in position 14\n",
      "Element at position 30 is being inserted in position 21\n",
      "Element at position 31 is being inserted in position 7\n",
      "Element at position 32 is being inserted in position 26\n"
     ]
    },
    {
     "data": {
      "text/plain": [
       "['Albania',\n",
       " 'Armenia',\n",
       " 'Bahrain',\n",
       " 'Bhutan',\n",
       " 'Bosnia and Herzegovina',\n",
       " 'Botswana',\n",
       " 'Comoros',\n",
       " 'Croatia',\n",
       " 'Cyprus',\n",
       " 'Djibouti',\n",
       " 'Equatorial Guinea',\n",
       " 'Estonia',\n",
       " 'Fiji',\n",
       " 'Gabon',\n",
       " 'Gambia',\n",
       " 'Georgia',\n",
       " 'Guinea-Bissau',\n",
       " 'Jamaica',\n",
       " 'Latvia',\n",
       " 'Lesotho',\n",
       " 'Lithuania',\n",
       " 'Mauritius',\n",
       " 'Moldova',\n",
       " 'Mongolia',\n",
       " 'Namibia',\n",
       " 'North Macedonia',\n",
       " 'Panama',\n",
       " 'Qatar',\n",
       " 'Slovenia',\n",
       " 'Swaziland',\n",
       " 'Timor-Leste',\n",
       " 'Trinidad and Tobago',\n",
       " 'Uruguay']"
      ]
     },
     "execution_count": 21,
     "metadata": {},
     "output_type": "execute_result"
    }
   ],
   "source": [
    "# Task 2.2\n",
    "def recursiveInsertionSort(arr, low, high):\n",
    "    ### Base Case #########################\n",
    "    if (high - low + 1) <= 1:  # If Array size <= 1\n",
    "        return\n",
    "    ### Recursive Case ####################\n",
    "    recursiveInsertionSort(arr, low, high - 1)\n",
    "    ### Insertion #########################\n",
    "    key = arr[high]\n",
    "    curr = high - 1\n",
    "    while curr >= low and arr[curr] > key: # Shift when out of order\n",
    "        # Python string comparison\n",
    "        arr[curr + 1] = arr[curr]\n",
    "        curr -= 1\n",
    "    print(f\"Element at position {high} is being inserted in position {curr + 1}\") # The only new code lmao\n",
    "    arr[curr + 1] = key\n",
    "    \n",
    "data = [\"Bhutan\",\"Comoros\",\"Fiji\",\"Djibouti\",\"Cyprus\",\"Mauritius\",\"Estonia\",\"Timor-Leste\",\"Equatorial Guinea\",\"Trinidad and Tobago\",\"Swaziland\",\"Bahrain\",\"Latvia\",\"Guinea-Bissau\",\"Slovenia\",\"North Macedonia\",\"Gabon\",\"Gambia\",\"Lesotho\",\"Botswana\",\"Namibia\",\"Qatar\",\"Lithuania\",\"Jamaica\",\"Armenia\",\"Albania\",\"Mongolia\",\"Uruguay\",\"Bosnia and Herzegovina\",\"Georgia\",\"Moldova\",\"Croatia\",\"Panama\"]\n",
    "recursiveInsertionSort(data, 0, len(data) - 1)\n",
    "data"
   ]
  }
 ],
 "metadata": {
  "kernelspec": {
   "display_name": "Python 3",
   "language": "python",
   "name": "python3"
  },
  "language_info": {
   "codemirror_mode": {
    "name": "ipython",
    "version": 3
   },
   "file_extension": ".py",
   "mimetype": "text/x-python",
   "name": "python",
   "nbconvert_exporter": "python",
   "pygments_lexer": "ipython3",
   "version": "3.6.7"
  }
 },
 "nbformat": 4,
 "nbformat_minor": 2
}
