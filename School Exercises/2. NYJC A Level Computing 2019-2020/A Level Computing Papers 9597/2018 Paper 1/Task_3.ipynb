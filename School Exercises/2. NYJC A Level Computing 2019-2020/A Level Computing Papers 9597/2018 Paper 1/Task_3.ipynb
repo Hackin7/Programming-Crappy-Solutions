{
 "cells": [
  {
   "cell_type": "code",
   "execution_count": 4,
   "metadata": {},
   "outputs": [],
   "source": [
    "directory=\"\""
   ]
  },
  {
   "cell_type": "markdown",
   "metadata": {
    "colab_type": "text",
    "id": "Tjsx5EUKwYEv"
   },
   "source": [
    "## Q3\n",
    "**Task 3.1**\n",
    "\n",
    "Use program code to create a \n",
    "* record structure to hold the name and telephone number for one person\n",
    "* data structure, using this record structure to store 500 records\n",
    "\n",
    "**Evidence 7**\n",
    "\n",
    "Your program code."
   ]
  },
  {
   "cell_type": "code",
   "execution_count": 5,
   "metadata": {
    "colab": {},
    "colab_type": "code",
    "id": "SY8fBlXEw6qk"
   },
   "outputs": [],
   "source": [
    "class RecordStructure:\n",
    "    def __init__(self,name,telephone):\n",
    "        self.name = name\n",
    "        self.telephone = telephone\n",
    "    ###Getter Methods######################\n",
    "    def getName(self):\n",
    "        return self.name\n",
    "    def getTelephone(self):\n",
    "        return self.telephone\n",
    "    ###Setter Methods######################\n",
    "    def setName(self,name):\n",
    "        self.name = name\n",
    "    def setTelephone(self,telephone):\n",
    "        self.telephone = telephone\n",
    "\n",
    "class DataStructure:\n",
    "    def __init__(self):\n",
    "        self.capacity = 500\n",
    "        self.data = [None] * self.capacity\n",
    "    def insert(self, index, record):\n",
    "        self.data[index] = record\n",
    "    def getCapacity(self):\n",
    "        return self.capacity\n",
    "    def getRecord(self, index):\n",
    "        return self.data[index]"
   ]
  },
  {
   "cell_type": "markdown",
   "metadata": {
    "colab_type": "text",
    "id": "cUS8Es1sw7Yj"
   },
   "source": [
    "**Task 3.2**\n",
    "\n",
    "**Evidence 8**\n",
    "\n",
    "Your program code\n",
    "\n",
    "**Evidence 9**\n",
    "\n",
    "A screenshot showing the output"
   ]
  },
  {
   "cell_type": "code",
   "execution_count": 6,
   "metadata": {
    "colab": {
     "base_uri": "https://localhost:8080/",
     "height": 1000
    },
    "colab_type": "code",
    "id": "7z-2MXTQawxz",
    "outputId": "fa8015cf-82ff-458f-a882-d0a42bdd0ec0"
   },
   "outputs": [
    {
     "name": "stdout",
     "output_type": "stream",
     "text": [
      "Index| Name                           | Telephone Number\n",
      "    3| Boon Keng V.                   | 07492 546415\n",
      "    6| Ahmad Yusof                    | 07439 778665\n",
      "    7| Durno Peter                    | 07662 863518\n",
      "    8| Batisah Wong                   | 07362 156265\n",
      "   10| Thomson Chew                   | 07572 745913\n",
      "   11| Czlapski Ron                   | 07892 442478\n",
      "   12| Chow Sophie                    | 07230 389505\n",
      "   13| Bin Saidi Wee                  | 07170 785199\n",
      "   15| Thrower Chew                   | 07637 249146\n",
      "   17| Clancy Serge                   | 07586 484294\n",
      "   19| Wai Keung Bilal                | 07596 954677\n",
      "   21| Wilson Arvind                  | 07870 150845\n",
      "   25| Yanmei Agu                     | 07934 385175\n",
      "   26| Lee Kit                        | 07927 397622\n",
      "   33| Ng Jeremy                      | 07257 935443\n",
      "   34| Wong Alexander                 | 07691 730250\n",
      "   35| Chin Chye Tan                  | 07309 896252\n",
      "   37| Davidson Robert                | 07252 703736\n",
      "   41| Ser Miang Goh                  | 07880 272160\n",
      "   49| Kim Wee Lee                    | 07651 822745\n",
      "   51| Craig Sam                      | 07936 964632\n",
      "   54| Seng Song Goh                  | 07221 415330\n",
      "   55| Sim Ferlyn                     | 07240 957328\n",
      "   56| Conn Sellapan                  | 07539 173178\n",
      "   60| Keng Swee Lim                  | 07522 343059\n",
      "   65| Szady Desmond                  | 07366 308820\n",
      "   67| Ming Yang John                 | 07806 207896\n",
      "   68| Kim San Lee                    | 07746 984751\n",
      "   73| Chan Tegan-Leigh               | 07884 337473\n",
      "   76| Duncan Poh                     | 07665 389272\n",
      "   79| Cheng Tan                      | 07207 796847\n",
      "   82| Davidson Rhys                  | 07244 838849\n",
      "   85| Duncan Peter                   | 07203 411004\n",
      "   86| Kah Kee Lim                    | 07695 470647\n",
      "   87| Tait Davinder                  | 07814 480289\n",
      "   89| Chang Taufik                   | 07898 955356\n",
      "   90| bin Ishak Wee                  | 07732 530909\n",
      "   91| Charlie Tan                    | 07840 435405\n",
      "   93| En Oliwier                     | 07700 572235\n",
      "   98| Truszynska Chan                | 07441 209892\n",
      "  100| Heng Chee Michael              | 07547 998245\n",
      "  101| Christine Lim Sofia            | 07386 751438\n",
      "  103| Singh Fann                     | 07660 831899\n",
      "  104| Sheng Jian Georgie             | 07424 454414\n",
      "  105| Wee Meng Baey                  | 07657 184406\n",
      "  113| Yong-Boon George Adnan         | 07936 296459\n",
      "  117| Thia Khiang Chia               | 07180 631414\n",
      "  118| Howe Liang Maciej              | 07958 654858\n",
      "  119| Vee Meng Burton                | 07230 374454\n",
      "  120| Lin Kara-Jane                  | 07939 379163\n",
      "  122| Chok Tong Tan                  | 07716 523074\n",
      "  125| Geok Choo Ng                   | 07512 313447\n",
      "  127| Tan Wei Lian Daniel            | 07288 773245\n",
      "  133| Kong Chian Lee                 | 07833 311732\n",
      "  135| Yun Chung Abdul                | 07598 112706\n",
      "  136| Kumar Kwa                      | 07604 460576\n",
      "  137| Christie Sofia                 | 07172 726761\n",
      "  140| Cruickshank Rory               | 07431 250021\n",
      "  142| Wee Kit Bella                  | 07112 136190\n",
      "  143| Jeyaretnam Lionel              | 07679 439620\n",
      "  144| Wink Ann-Marie                 | 07405 739316\n",
      "  145| Dhanabalan Rebecca             | 07827 776870\n",
      "  146| Tat Chuan Connor               | 07605 727841\n",
      "  153| Youngson Abdullah              | 07153 249688\n",
      "  156| Anandan Yeo                    | 07357 641650\n",
      "  161| Wee Seng Ayla                  | 07698 561356\n",
      "  163| Beng Seng Wong                 | 07719 753650\n",
      "  166| Lim Keela                      | 07441 896083\n",
      "  169| Thye Poh Chew                  | 07837 129358\n",
      "  171| Kim Heng Lee                   | 07931 921989\n",
      "  174| Cempiel Teo                    | 07565 960713\n",
      "  176| See Tong Gurmit                | 07146 584009\n",
      "  177| Singh Felicia                  | 07841 913665\n",
      "  180| Winsemius Angel                | 07406 859420\n",
      "  183| Kin Lian Lee                   | 07303 633186\n",
      "  187| Cheng Liang Tan                | 07686 795518\n",
      "  189| Chroszcz Siow                  | 07894 793974\n",
      "  191| Seng Wee Goh                   | 07233 456788\n",
      "  192| Eileen Thornton Ong            | 07720 235583\n",
      "  193| Benjamin Jeyaretnam Wong       | 07273 210315\n",
      "  195| Dabrowski Robert               | 07784 223076\n",
      "  196| Jiawei Ling                    | 07415 815928\n",
      "  197| Cheng Bock Tan                 | 07265 819475\n",
      "  201| Tiku Cheng                     | 07164 717980\n",
      "  202| Sreenivasan Fandi              | 07220 314959\n",
      "  203| Tomczakowski Charley           | 07115 687729\n",
      "  205| Khoon Hong Lee                 | 07999 642079\n",
      "  211| Peng Soon Hon                  | 07678 773310\n",
      "  212| Ping Tjin Ho                   | 07900 794366\n",
      "  213| Keng Yong Li                   | 07556 178698\n",
      "  216| Yip Yan Adrian                 | 07895 708320\n",
      "  219| Craig Russell                  | 07217 637754\n",
      "  224| Tan David                      | 07756 644118\n",
      "  226| Chua Shunmugam                 | 07232 333645\n",
      "  230| Keck Kim Lim                   | 07888 674831\n",
      "  231| Dunbar Primus                  | 07544 844366\n",
      "  232| Chap Huat Tanya                | 07481 898123\n",
      "  233| Lim Karla                      | 07242 661895\n",
      "  234| Choon Seng Stefanie            | 07662 975686\n",
      "  235| Susilo Emily                   | 07181 159121\n",
      "  236| Teck Puat Christina            | 07993 872151\n",
      "  237| Ong Jack                       | 07854 494644\n",
      "  240| Lee Chin Khoo                  | 07658 185587\n",
      "  241| Goh Ng                         | 07927 695588\n",
      "  242| Lewis Khaw                     | 07507 529531\n",
      "  244| Goi Ng                         | 07273 140773\n",
      "  245| Taylor Chua                    | 07489 750887\n",
      "  252| Jayakumar Loo                  | 07791 549604\n",
      "  253| Qarmugi Corrinne               | 07532 834289\n",
      "  254| Kuek Kwek                      | 07192 716743\n",
      "  255| Chin Tan                       | 07528 358569\n",
      "  256| Jee Say Loi                    | 07824 662555\n",
      "  259| Lim Katie                      | 07282 506088\n",
      "  261| Gunaratna Nathan               | 07885 354421\n",
      "  262| Bo Seng Wee                    | 07992 459933\n",
      "  266| Chong Tee Su-Chen              | 07864 306893\n",
      "  269| Sui Sen Eyup                   | 07260 700183\n",
      "  272| Gek Khim Nicholas              | 07765 377637\n",
      "  274| Keng Yam Tony Li               | 07804 714170\n",
      "  278| Swee Keat Dick                 | 07659 193914\n",
      "  279| Vee Meng Calvin                | 07645 363342\n",
      "  281| Czernik Ronald                 | 07517 238582\n",
      "  283| Kuan Yew Lawrence              | 07493 416583\n",
      "  284| Boy Tee Tin                    | 07382 210024\n",
      "  288| Cho Yaw Tan                    | 07617 580464\n",
      "  290| Thomson Chia                   | 07894 144184\n",
      "  291| Olsen Jakub                    | 07988 892922\n",
      "  294| Pei Ling Igor                  | 07463 610638\n",
      "  298| Pun Ho                         | 07118 488960\n",
      "  300| Ser Cher Goh                   | 07301 540304\n",
      "  303| Eng Hen Olivia                 | 07594 964873\n",
      "  306| Cow Yaw Sam                    | 07572 882107\n",
      "  308| Kai Meng Lim                   | 07824 322024\n",
      "  309| Bala Woon                      | 07267 322377\n",
      "  310| Hsien Loong Lydia              | 07672 926359\n",
      "  312| Chong Yong Steven              | 07551 788461\n",
      "  314| Kiah Hong Steve Lee            | 07596 245415\n",
      "  316| Kumar Kuok                     | 07304 409885\n",
      "  319| Lim Kelvin                     | 07697 401657\n",
      "  321| Lim Keith                      | 07437 660059\n",
      "  329| Lark Sye Kuik                  | 07610 819106\n",
      "  333| Sun Eunice                     | 07634 805965\n",
      "  335| Peng Siong Ibukunoluwa         | 07516 492122\n",
      "  337| Xie Ajay                       | 07280 702654\n",
      "  338| Yew Hock Afroditi              | 07705 559426\n",
      "  340| Tze Law Chan                   | 07543 633381\n",
      "  341| Ramanathan Hazlina             | 07585 159163\n",
      "  343| Cempiel Tharman                | 07374 888114\n",
      "  347| Li Ken                         | 07705 638595\n",
      "  350| Walker Benjamin                | 07729 211970\n",
      "  353| Kan Seng Lim                   | 07264 870386\n",
      "  355| Teng Fong Chiam                | 07200 458162\n",
      "  357| Halim Natasha                  | 07796 840080\n",
      "  360| Low Julie                      | 07614 935278\n",
      "  361| Oon Kuin Ivan                  | 07964 712475\n",
      "  366| Hee Mikey                      | 07360 647355\n",
      "  368| Kian Guan Lee                  | 07478 766896\n",
      "  376| Williamson Ashleigh            | 07535 307922\n",
      "  377| Ng Jiang                       | 07310 485248\n",
      "  378| Chua Simon                     | 07594 220593\n",
      "  382| Tock Seng Charlie              | 07914 413140\n",
      "  385| Chee Hean Tan                  | 07238 768242\n",
      "  387| Traynor Chan                   | 07407 115252\n",
      "  389| Min John                       | 07533 915954\n",
      "  390| Hsien Yang Lucca               | 07550 719236\n",
      "  393| Long Kacper                    | 07375 160047\n",
      "  394| Aw Yam                         | 07686 978624\n",
      "  396| Nikita Wilkosz Jeanette        | 07225 641875\n",
      "  399| Boon Wan Toh                   | 07747 961460\n",
      "  401| Charles Tang                   | 07899 872956\n",
      "  403| Rajaratnam Heng                | 07253 698079\n",
      "  404| Boon Hui Vivian                | 07714 112801\n",
      "  408| Heng Michelle                  | 07348 949727\n",
      "  409| Jun Hong Lin                   | 07733 744432\n",
      "  414| Dong Rajesh                    | 07479 469038\n",
      "  415| Pang Indranee                  | 07317 822485\n",
      "  416| Kum Kwek                       | 07655 972413\n",
      "  423| How Doong Maia                 | 07475 458953\n",
      "  426| Wilson Armandas                | 07914 679472\n",
      "  427| Duncan Philip                  | 07472 814834\n",
      "  441| Davies Remy                    | 07742 773186\n",
      "  442| Chong Ngen Subhas              | 07578 458545\n",
      "  445| Maidin Joshua                  | 07829 942463\n",
      "  450| Lee Kimberly                   | 07726 292406\n",
      "  452| Casmir Thum                    | 07707 119501\n",
      "  454| Chukwu Shaw                    | 07664 932771\n",
      "  455| Swie Hian Devan                | 07171 365837\n",
      "  458| May Joshua                     | 07648 357588\n",
      "  459| Charlie Love                   | 07831 598262\n",
      "  461| Loi Kam                        | 07331 546438\n",
      "  463| Zarzoso Aaron                  | 07541 677136\n",
      "  464| Chua Sinnathamby               | 07596 810970\n",
      "  466| Wong Albert                    | 07769 573403\n",
      "  467| Rajah Henry                    | 07422 565052\n",
      "  476| Wiggins-Morris Asia            | 07887 735448\n",
      "  478| Lee Koh                        | 07109 366129\n",
      "  480| Leng Beng Khoo                 | 07146 883853\n",
      "  482| Dubiel Raj                     | 07651 553946\n",
      "  487| Chong Susan                    | 07651 126696\n",
      "  491| Crawford Rui                   | 07836 597508\n",
      "  498| Ling Peng Kamil                | 07575 194175\n",
      "  499| Tomczyszyn Chang               | 07425 951260\n"
     ]
    }
   ],
   "source": [
    "data = DataStructure()\n",
    "\n",
    "###Extract Data from file\n",
    "hashedDataFile = open(directory + \"HASHEDDATA.TXT\")\n",
    "for line in hashedDataFile:\n",
    "    recordData = line.rstrip().split(\",\")\n",
    "    index = int(recordData[0])\n",
    "    name = recordData[1]\n",
    "    telephoneNumber = recordData[2]\n",
    "    record = RecordStructure(name, telephoneNumber)\n",
    "    data.insert(index, record)\n",
    "\n",
    "hashedDataFile.close()\n",
    "\n",
    "def DisplayValues():\n",
    "    print(f\"{'Index':5}| {'Name':30} | {'Telephone Number'}\")\n",
    "    for i in range(data.capacity):\n",
    "        record = data.getRecord(i)\n",
    "        if record.name != \"\": #If the name exists\n",
    "            print(f\"{i:5}| {record.name:30} | {record.telephone}\")\n",
    "DisplayValues()"
   ]
  },
  {
   "cell_type": "markdown",
   "metadata": {
    "colab_type": "text",
    "id": "eY67hHo0xW8S"
   },
   "source": [
    "**Task 3.3**\n",
    "\n",
    "**Evidence 10**\n",
    "\n",
    "Your program code\n",
    "\n",
    "**Evidence 11**\n",
    "\n",
    "A screenshot (or screenshots) of your program to show the results of the hash calclation for both the given test data values."
   ]
  },
  {
   "cell_type": "code",
   "execution_count": 7,
   "metadata": {
    "colab": {},
    "colab_type": "code",
    "id": "7-2vpM5KxjYG"
   },
   "outputs": [],
   "source": [
    "def GenerateHash(SearchName:str) -> int:\n",
    "    ##Following Pseudocode\n",
    "    HashTotal = 0\n",
    "    for position in range(len(SearchName)):\n",
    "        character = SearchName[position]\n",
    "        asciiCode = ord(character)\n",
    "        HashTotal += asciiCode * (position + 1) #Position is 1 indexed\n",
    "    Hash = HashTotal % 500\n",
    "    return Hash"
   ]
  },
  {
   "cell_type": "code",
   "execution_count": 8,
   "metadata": {
    "colab": {
     "base_uri": "https://localhost:8080/",
     "height": 34
    },
    "colab_type": "code",
    "id": "wE9ldHqJdm4A",
    "outputId": "e4111a50-9fe7-4312-a00e-3e6696e5b79a"
   },
   "outputs": [
    {
     "data": {
      "text/plain": [
       "87"
      ]
     },
     "execution_count": 8,
     "metadata": {},
     "output_type": "execute_result"
    }
   ],
   "source": [
    "GenerateHash(\"Tait Davinder\")"
   ]
  },
  {
   "cell_type": "code",
   "execution_count": 9,
   "metadata": {
    "colab": {
     "base_uri": "https://localhost:8080/",
     "height": 34
    },
    "colab_type": "code",
    "id": "TSifBMwLd0to",
    "outputId": "fb440e25-2c84-4449-9302-7393c5e299b7"
   },
   "outputs": [
    {
     "data": {
      "text/plain": [
       "156"
      ]
     },
     "execution_count": 9,
     "metadata": {},
     "output_type": "execute_result"
    }
   ],
   "source": [
    "GenerateHash(\"Anandan Yeo\")"
   ]
  },
  {
   "cell_type": "markdown",
   "metadata": {
    "colab_type": "text",
    "id": "4ec0BoUneGxd"
   },
   "source": [
    "**Task 3.4**\n"
   ]
  },
  {
   "cell_type": "code",
   "execution_count": 10,
   "metadata": {
    "colab": {},
    "colab_type": "code",
    "id": "ciwzq5W6eJL2"
   },
   "outputs": [],
   "source": [
    "def SearchRecord(name):\n",
    "    recordIndex = GenerateHash(name)\n",
    "    record = data.getRecord(recordIndex)\n",
    "    while record.name != name and record.name != \"\":\n",
    "        recordIndex += 1 #Compare with next record\n",
    "        record.name = data.getRecord(recordIndex).name\n",
    "    if record.name == \"\": #An empty record is found\n",
    "        print(\"The name is NOT FOUND\")\n",
    "    else: #Record is found\n",
    "        print(\"Index:\",recordIndex)\n",
    "        print(\"Name:\",record.name)\n",
    "        print(\"Telephone:\",record.telephone)"
   ]
  },
  {
   "cell_type": "code",
   "execution_count": 11,
   "metadata": {
    "colab": {
     "base_uri": "https://localhost:8080/",
     "height": 68
    },
    "colab_type": "code",
    "id": "pKJHdzOXfZv9",
    "outputId": "347850cf-9ee1-4a73-e392-4e4b7f05ce17"
   },
   "outputs": [
    {
     "name": "stdout",
     "output_type": "stream",
     "text": [
      "Index: 459\n",
      "Name: Charlie Love\n",
      "Telephone: 07831 598262\n"
     ]
    }
   ],
   "source": [
    "SearchRecord(\"Charlie Love\")"
   ]
  },
  {
   "cell_type": "code",
   "execution_count": 12,
   "metadata": {
    "colab": {
     "base_uri": "https://localhost:8080/",
     "height": 68
    },
    "colab_type": "code",
    "id": "cR9AQAi1fdZd",
    "outputId": "97a9e68d-7702-4a84-ce2a-b0ad3e7bcf44"
   },
   "outputs": [
    {
     "name": "stdout",
     "output_type": "stream",
     "text": [
      "Index: 255\n",
      "Name: Chin Tan\n",
      "Telephone: 07532 834289\n"
     ]
    }
   ],
   "source": [
    "SearchRecord(\"Chin Tan\")"
   ]
  },
  {
   "cell_type": "code",
   "execution_count": 13,
   "metadata": {
    "colab": {
     "base_uri": "https://localhost:8080/",
     "height": 34
    },
    "colab_type": "code",
    "id": "q7p5OqPNfe0d",
    "outputId": "c1f925ce-b889-4a7b-f5b5-879cedf3c8f1"
   },
   "outputs": [
    {
     "name": "stdout",
     "output_type": "stream",
     "text": [
      "The name is NOT FOUND\n"
     ]
    }
   ],
   "source": [
    "SearchRecord(\"John Barrowman\")"
   ]
  }
 ],
 "metadata": {
  "kernelspec": {
   "display_name": "Python 3",
   "language": "python",
   "name": "python3"
  },
  "language_info": {
   "codemirror_mode": {
    "name": "ipython",
    "version": 3
   },
   "file_extension": ".py",
   "mimetype": "text/x-python",
   "name": "python",
   "nbconvert_exporter": "python",
   "pygments_lexer": "ipython3",
   "version": "3.7.3"
  }
 },
 "nbformat": 4,
 "nbformat_minor": 4
}
