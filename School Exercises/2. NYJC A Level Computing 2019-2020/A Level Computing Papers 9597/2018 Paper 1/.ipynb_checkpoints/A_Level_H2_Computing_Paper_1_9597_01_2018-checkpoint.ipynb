{
  "nbformat": 4,
  "nbformat_minor": 0,
  "metadata": {
    "colab": {
      "name": "A Level H2 Computing Paper 1 9597/01 2018.ipynb",
      "provenance": [],
      "collapsed_sections": []
    },
    "kernelspec": {
      "name": "python3",
      "display_name": "Python 3"
    }
  },
  "cells": [
    {
      "cell_type": "markdown",
      "metadata": {
        "id": "EaB9UhwPu1x-",
        "colab_type": "text"
      },
      "source": [
        "# A Level H2 Computing Paper 1 9597/01 2018"
      ]
    },
    {
      "cell_type": "code",
      "metadata": {
        "id": "ecLjjAwQZXBw",
        "colab_type": "code",
        "colab": {}
      },
      "source": [
        "directory = \"\"\n",
        "directory = \"/content/drive/My Drive/ColabFiles/A Level H2 Computing Paper 1 9579_01 2018/\""
      ],
      "execution_count": 0,
      "outputs": []
    },
    {
      "cell_type": "code",
      "metadata": {
        "id": "5WN9cXon4OOA",
        "colab_type": "code",
        "outputId": "ee87093e-da70-4c6a-d75b-d75cc43a6610",
        "colab": {
          "base_uri": "https://localhost:8080/",
          "height": 34
        }
      },
      "source": [
        "from google.colab import drive\n",
        "drive.mount('/content/drive/', force_remount=True)"
      ],
      "execution_count": 0,
      "outputs": [
        {
          "output_type": "stream",
          "text": [
            "Mounted at /content/drive/\n"
          ],
          "name": "stdout"
        }
      ]
    },
    {
      "cell_type": "code",
      "metadata": {
        "id": "UrFTMXeiY_1N",
        "colab_type": "code",
        "colab": {}
      },
      "source": [
        "from os import listdir\n",
        "from os.path import isfile, join"
      ],
      "execution_count": 0,
      "outputs": []
    },
    {
      "cell_type": "code",
      "metadata": {
        "id": "dwyKZjc4uZFt",
        "colab_type": "code",
        "outputId": "3369e34a-b8b7-4359-ceaa-f970b9f219e7",
        "colab": {
          "base_uri": "https://localhost:8080/",
          "height": 68
        }
      },
      "source": [
        "mypath=\"/\"\n",
        "onlyfiles = [f for f in listdir(mypath) if isfile(join(mypath, f))]\n",
        "onlyfiles"
      ],
      "execution_count": 0,
      "outputs": [
        {
          "output_type": "execute_result",
          "data": {
            "text/plain": [
              "['.dockerenv',\n",
              " 'dlib-19.18.0-cp36-cp36m-linux_x86_64.whl',\n",
              " 'dlib-19.18.0-cp27-cp27mu-linux_x86_64.whl']"
            ]
          },
          "metadata": {
            "tags": []
          },
          "execution_count": 17
        }
      ]
    },
    {
      "cell_type": "markdown",
      "metadata": {
        "id": "63QpVrkUzWXi",
        "colab_type": "text"
      },
      "source": [
        "# Q1\n",
        "**Task 1.1**\n",
        "\n",
        "**Evidence 1** \n",
        "\n",
        "Your program code"
      ]
    },
    {
      "cell_type": "code",
      "metadata": {
        "id": "WHXSyCz5u0_B",
        "colab_type": "code",
        "colab": {}
      },
      "source": [
        "def task1_1():\n",
        "    ###Input########################################################\n",
        "    noMembers = int(input(\"Enter the number of members: \"))\n",
        "    ###Validation\n",
        "    while not(0 <= noMembers <= 10):\n",
        "        print(\"Only 0 to 10 whole members can be entered into the program\")\n",
        "        noMembers = int(input(\"Enter the number of memebers: \"))\n",
        "\n",
        "    def memberInput():\n",
        "        name = input(\"Enter your name: \")\n",
        "        steps = int(input(\"Enter the number of steps you have taken: \"))\n",
        "        ###Validation###\n",
        "        while not(0 <= steps <= 100000):\n",
        "            print(\"The steps input in is not within 0 to 100000 inclusive\")\n",
        "            steps = int(input(\"Enter the number of steps you have taken: \"))\n",
        "        return (name,steps)\n",
        "\n",
        "    ###Input & Comparison#################################################\n",
        "    starName = \"\" #the walker with the greatest number of steps\n",
        "    starSteps = 0 #The greatest number of steps\n",
        "    for i in range(noMembers): #10 Members\n",
        "        member = memberInput()\n",
        "        # Find walker who has taken the greatest number of steps from this data\n",
        "        if member[1] > starSteps:\n",
        "            starName = member[0]\n",
        "            starSteps = member[1]\n",
        "\n",
        "    ###Read data about the previous star of the week#########################\n",
        "    starFile = open(directory+\"STAR.TXT\")\n",
        "    prevStar = starFile.read().split(\",\")\n",
        "    prevStarName = prevStar[0]\n",
        "    prevStarSteps = prevStar[1]\n",
        "    starFile.close()\n",
        "\n",
        "    ###Displat a message###################################################\n",
        "    print(f\"Last week, {prevStarName} was the 'Star of the week' with \"+\n",
        "        f\"{prevStarSteps} steps taken.\")\n",
        "    print(f\"This week, {starName} is the 'Star of the week' with \"+\n",
        "        f\"{starSteps} steps taken.\")\n",
        "\n",
        "    ###Update the Textfile##############################################\n",
        "    starFile = open(directory+\"STAR.TXT\",\"w\")\n",
        "    starFile.write(f\"{starName}\\n,{starSteps}\")\n",
        "    starFile.close\n"
      ],
      "execution_count": 0,
      "outputs": []
    },
    {
      "cell_type": "markdown",
      "metadata": {
        "id": "-RninVMnzwBX",
        "colab_type": "text"
      },
      "source": [
        "**Evidence 2**\n",
        "Completed table with other test cases added\n",
        "\n",
        "Test data | Purpose of test data | Expected results\n",
        "--|--|--\n",
        "Yi Ling Aw,10232 Ryan Batisah,42231 Lee Casmir,35020 Daniel Bennett, 60192 Sarah Heng Chee, 29389 Vanessa Lim, 67152 Wong Yip, 53231 Rin Xie, 34200 Tin Wee, 49480 David Bala, 32010| Test the maximum of 10 values entered into the program | 10 values entered and star of the week is Vanessa Lim with 67152 steps taken\n",
        "Jenny Aw, 100001| Test if there is validation checking of the number of steps | The steps input in is not within 0 to 100000 inclusive and the program prompts for the steps taken again\n",
        "Jenny Aw, -1 | Test if there is validation checking of the number of steps | The steps input in is not within 0 to 100000 inclusive and the program prompts for the steps taken again\n",
        "Jenny Aw, 2 Wendy,1| Test if the number of members which can be entered in are variable| 2 values are entered and star of the week is Jenny Aw with 2 steps taken\n",
        "Jenny Aw, 2 Wendy,1 Adrian,1000| Test if the number of members which can be entered in are variable, and test the comparison between small and large numbers of steps| 3 values are entered and star of the week is Adrian with 1000 steps taken\n",
        "\n",
        "\n",
        "**Task 1.3**\n",
        "\n",
        "Use **three** of the test cases in the table, and produce a screenshot for each\n",
        "\n",
        "**Evidence 3**\n",
        "\n",
        "Three screenshots of test cases"
      ]
    },
    {
      "cell_type": "code",
      "metadata": {
        "id": "2A82TcFD0iON",
        "colab_type": "code",
        "outputId": "bc327f79-89b3-4293-f523-923239f12c6f",
        "colab": {
          "base_uri": "https://localhost:8080/",
          "height": 221
        }
      },
      "source": [
        "task1_1()"
      ],
      "execution_count": 0,
      "outputs": [
        {
          "output_type": "stream",
          "text": [
            "Enter the number of members: 2\n",
            "Enter your name: Jenny Aw\n",
            "Enter the number of steps you have taken: 100001\n",
            "The steps input in is not within 0 to 100000 inclusive\n",
            "Enter the number of steps you have taken: -1\n",
            "The steps input in is not within 0 to 100000 inclusive\n",
            "Enter the number of steps you have taken: 2\n",
            "Enter your name: Wendy\n",
            "Enter the number of steps you have taken: 1\n",
            "Last week, Jenny Smith\n",
            " was the 'Star of the week' with 75827 steps taken.\n",
            "This week, Jenny Aw is the 'Star of the week' with 2 steps taken.\n"
          ],
          "name": "stdout"
        }
      ]
    },
    {
      "cell_type": "markdown",
      "metadata": {
        "id": "scXDoKnJvf87",
        "colab_type": "text"
      },
      "source": [
        "## Q2\n",
        "**Task 2.1**\n",
        "\n",
        "Write program code to implement this algorithm. Ensure you add the missing code to complete the algorithm. The area of missing code is highlighted as `<swap Scores[First] with Scores[RightMark]`\n",
        "Copy the sample data available in the SCORES.TXT file.Paste this into your programming code to set up the data to be sorted\n",
        "\n",
        "**Evidence 4**\n",
        "\n",
        "Your Program code\n"
      ]
    },
    {
      "cell_type": "code",
      "metadata": {
        "id": "fHQWtpowvfO7",
        "colab_type": "code",
        "colab": {}
      },
      "source": [
        "def QuickSort(Scores):\n",
        "    QuickSortHelper(Scores, 0, len(Scores) - 1)\n",
        "    return Scores    \n",
        "\n",
        "def QuickSortHelper(Scores, First, Last):\n",
        "    if First < Last:\n",
        "        SplitPoint = Partition(Scores, First, Last)\n",
        "        QuickSortHelper(Scores, First, SplitPoint - 1)\n",
        "        QuickSortHelper(Scores, SplitPoint + 1, Last)\n",
        "    return Scores    \n",
        "\n",
        "def Partition(Scores, First, Last):\n",
        "    PivotValue = Scores[First]\n",
        "    LeftMark = First + 1\n",
        "    RightMark = Last\n",
        "    Done = False\n",
        "    while (Done == False): \n",
        "        while LeftMark <= RightMark and Scores[LeftMark] <= PivotValue:\n",
        "            LeftMark = LeftMark + 1\n",
        "        while Scores[RightMark] >= PivotValue and RightMark >= LeftMark:\n",
        "            RightMark = RightMark - 1        \n",
        "        if RightMark < LeftMark:\n",
        "                Done = True\n",
        "        else:\n",
        "            Temp = Scores[LeftMark]\n",
        "            Scores[LeftMark] = Scores[RightMark]\n",
        "            Scores[RightMark] = Temp\n",
        "    #<swap Scores[First] with Scores[RightMark]>\n",
        "    temp = Scores[First]\n",
        "    Scores[First] = Scores[RightMark]\n",
        "    Scores[RightMark] = temp\n",
        "\n",
        "    return RightMark\n",
        "\n",
        "scores = [72,45,120,57,76,29,40,42,113,77,64,29,91,122,134,139,24,92,136,73,78,62,27,126,76,116,67,34,20,90,75,128,128,89,98,41,37,58,124,24,101,132]"
      ],
      "execution_count": 0,
      "outputs": []
    },
    {
      "cell_type": "markdown",
      "metadata": {
        "id": "LXtEXDXIwFG6",
        "colab_type": "text"
      },
      "source": [
        "**Task 2.2**\n",
        "\n",
        "Add a function to your code to output Scores. Call this function before and after the operation of quick sort so that the unsorted and sorted data is displayed\n",
        "\n",
        "**Evidence 5**\n",
        "\n",
        "Your program code\n",
        "\n",
        "**Evidence 6**\n",
        "\n",
        "Screenshot showing the unsorted and sorted Scores data."
      ]
    },
    {
      "cell_type": "code",
      "metadata": {
        "id": "I1IX5QOWwXoU",
        "colab_type": "code",
        "outputId": "cbff97df-607f-499e-8922-3dfcb83b8629",
        "colab": {
          "base_uri": "https://localhost:8080/",
          "height": 105
        }
      },
      "source": [
        "def outputScores():\n",
        "    print(str(scores)[1:-1])\n",
        "\n",
        "print(\"Scores Before Sorting\",end=\"\\n \")\n",
        "outputScores()\n",
        "QuickSort(scores)\n",
        "print(\"Scores After Sorting\",end=\"\\n \")\n",
        "outputScores()"
      ],
      "execution_count": 0,
      "outputs": [
        {
          "output_type": "stream",
          "text": [
            "Scores Before Sorting\n",
            " 72, 45, 120, 57, 76, 29, 40, 42, 113, 77, 64, 29, 91, 122, 134, 139, 24, 92, 136, 73, 78, 62, 27, 126, 76, 116, 67, 34, 20, 90, 75, 128, 128, 89, 98, 41, 37, 58, 124, 24, 101, 132\n",
            "Scores After Sorting\n",
            " 20, 24, 24, 27, 29, 29, 34, 37, 40, 41, 42, 45, 57, 58, 62, 64, 67, 72, 73, 75, 76, 76, 77, 78, 89, 90, 91, 92, 98, 101, 113, 116, 120, 122, 124, 126, 128, 128, 132, 134, 136, 139\n"
          ],
          "name": "stdout"
        }
      ]
    },
    {
      "cell_type": "markdown",
      "metadata": {
        "id": "Tjsx5EUKwYEv",
        "colab_type": "text"
      },
      "source": [
        "## Q3\n",
        "**Task 3.1**\n",
        "\n",
        "Use program code to create a \n",
        "* record structure to hold the name and telephone number for one person\n",
        "* data structure, using this record structure to store 500 records\n",
        "\n",
        "**Evidence 7**\n",
        "\n",
        "Your program code."
      ]
    },
    {
      "cell_type": "code",
      "metadata": {
        "id": "SY8fBlXEw6qk",
        "colab_type": "code",
        "colab": {}
      },
      "source": [
        "class RecordStructure:\n",
        "    def __init__(self,name,telephone):\n",
        "        self.name = name\n",
        "        self.telephone = telephone\n",
        "    ###Getter Methods######################\n",
        "    def getName(self):\n",
        "        return self.name\n",
        "    def getTelephone(self):\n",
        "        return self.telephone\n",
        "    ###Setter Methods######################\n",
        "    def setName(self,name):\n",
        "        self.name = name\n",
        "    def setTelephone(self,telephone):\n",
        "        self.telephone = telephone\n",
        "\n",
        "class DataStructure:\n",
        "    def __init__(self):\n",
        "        self.capacity = 500\n",
        "        self.data = [None] * self.capacity\n",
        "    def insert(self, index, record):\n",
        "        self.data[index] = record\n",
        "    def getCapacity(self):\n",
        "        return self.capacity\n",
        "    def getRecord(self, index):\n",
        "        return self.data[index]"
      ],
      "execution_count": 0,
      "outputs": []
    },
    {
      "cell_type": "markdown",
      "metadata": {
        "id": "cUS8Es1sw7Yj",
        "colab_type": "text"
      },
      "source": [
        "**Task 3.2**\n",
        "\n",
        "**Evidence 8**\n",
        "\n",
        "Your program code\n",
        "\n",
        "**Evidence 9**\n",
        "\n",
        "A screenshot showing the output"
      ]
    },
    {
      "cell_type": "code",
      "metadata": {
        "colab_type": "code",
        "id": "7z-2MXTQawxz",
        "outputId": "fa8015cf-82ff-458f-a882-d0a42bdd0ec0",
        "colab": {
          "base_uri": "https://localhost:8080/",
          "height": 1000
        }
      },
      "source": [
        "data = DataStructure()\n",
        "\n",
        "###Extract Data from file\n",
        "hashedDataFile = open(directory + \"HASHEDDATA.TXT\")\n",
        "for line in hashedDataFile:\n",
        "    recordData = line.rstrip().split(\",\")\n",
        "    index = int(recordData[0])\n",
        "    name = recordData[1]\n",
        "    telephoneNumber = recordData[2]\n",
        "    record = RecordStructure(name, telephoneNumber)\n",
        "    data.insert(index, record)\n",
        "\n",
        "hashedDataFile.close()\n",
        "\n",
        "def DisplayValues():\n",
        "    print(f\"{'Index':5}| {'Name':30} | {'Telephone Number'}\")\n",
        "    for i in range(data.capacity):\n",
        "        record = data.getRecord(i)\n",
        "        if record.name != \"\": #If the name exists\n",
        "            print(f\"{i:5}| {record.name:30} | {record.telephone}\")\n",
        "DisplayValues()"
      ],
      "execution_count": 0,
      "outputs": [
        {
          "output_type": "stream",
          "text": [
            "Index| Name                           | Telephone Number\n",
            "    3| Boon Keng V.                   | 07492 546415\n",
            "    6| Ahmad Yusof                    | 07439 778665\n",
            "    7| Durno Peter                    | 07662 863518\n",
            "    8| Batisah Wong                   | 07362 156265\n",
            "   10| Thomson Chew                   | 07572 745913\n",
            "   11| Czlapski Ron                   | 07892 442478\n",
            "   12| Chow Sophie                    | 07230 389505\n",
            "   13| Bin Saidi Wee                  | 07170 785199\n",
            "   15| Thrower Chew                   | 07637 249146\n",
            "   17| Clancy Serge                   | 07586 484294\n",
            "   19| Wai Keung Bilal                | 07596 954677\n",
            "   21| Wilson Arvind                  | 07870 150845\n",
            "   25| Yanmei Agu                     | 07934 385175\n",
            "   26| Lee Kit                        | 07927 397622\n",
            "   33| Ng Jeremy                      | 07257 935443\n",
            "   34| Wong Alexander                 | 07691 730250\n",
            "   35| Chin Chye Tan                  | 07309 896252\n",
            "   37| Davidson Robert                | 07252 703736\n",
            "   41| Ser Miang Goh                  | 07880 272160\n",
            "   49| Kim Wee Lee                    | 07651 822745\n",
            "   51| Craig Sam                      | 07936 964632\n",
            "   54| Seng Song Goh                  | 07221 415330\n",
            "   55| Sim Ferlyn                     | 07240 957328\n",
            "   56| Conn Sellapan                  | 07539 173178\n",
            "   60| Keng Swee Lim                  | 07522 343059\n",
            "   65| Szady Desmond                  | 07366 308820\n",
            "   67| Ming Yang John                 | 07806 207896\n",
            "   68| Kim San Lee                    | 07746 984751\n",
            "   73| Chan Tegan-Leigh               | 07884 337473\n",
            "   76| Duncan Poh                     | 07665 389272\n",
            "   79| Cheng Tan                      | 07207 796847\n",
            "   82| Davidson Rhys                  | 07244 838849\n",
            "   85| Duncan Peter                   | 07203 411004\n",
            "   86| Kah Kee Lim                    | 07695 470647\n",
            "   87| Tait Davinder                  | 07814 480289\n",
            "   89| Chang Taufik                   | 07898 955356\n",
            "   90| bin Ishak Wee                  | 07732 530909\n",
            "   91| Charlie Tan                    | 07840 435405\n",
            "   93| En Oliwier                     | 07700 572235\n",
            "   98| Truszynska Chan                | 07441 209892\n",
            "  100| Heng Chee Michael              | 07547 998245\n",
            "  101| Christine Lim Sofia            | 07386 751438\n",
            "  103| Singh Fann                     | 07660 831899\n",
            "  104| Sheng Jian Georgie             | 07424 454414\n",
            "  105| Wee Meng Baey                  | 07657 184406\n",
            "  113| Yong-Boon George Adnan         | 07936 296459\n",
            "  117| Thia Khiang Chia               | 07180 631414\n",
            "  118| Howe Liang Maciej              | 07958 654858\n",
            "  119| Vee Meng Burton                | 07230 374454\n",
            "  120| Lin Kara-Jane                  | 07939 379163\n",
            "  122| Chok Tong Tan                  | 07716 523074\n",
            "  125| Geok Choo Ng                   | 07512 313447\n",
            "  127| Tan Wei Lian Daniel            | 07288 773245\n",
            "  133| Kong Chian Lee                 | 07833 311732\n",
            "  135| Yun Chung Abdul                | 07598 112706\n",
            "  136| Kumar Kwa                      | 07604 460576\n",
            "  137| Christie Sofia                 | 07172 726761\n",
            "  140| Cruickshank Rory               | 07431 250021\n",
            "  142| Wee Kit Bella                  | 07112 136190\n",
            "  143| Jeyaretnam Lionel              | 07679 439620\n",
            "  144| Wink Ann-Marie                 | 07405 739316\n",
            "  145| Dhanabalan Rebecca             | 07827 776870\n",
            "  146| Tat Chuan Connor               | 07605 727841\n",
            "  153| Youngson Abdullah              | 07153 249688\n",
            "  156| Anandan Yeo                    | 07357 641650\n",
            "  161| Wee Seng Ayla                  | 07698 561356\n",
            "  163| Beng Seng Wong                 | 07719 753650\n",
            "  166| Lim Keela                      | 07441 896083\n",
            "  169| Thye Poh Chew                  | 07837 129358\n",
            "  171| Kim Heng Lee                   | 07931 921989\n",
            "  174| Cempiel Teo                    | 07565 960713\n",
            "  176| See Tong Gurmit                | 07146 584009\n",
            "  177| Singh Felicia                  | 07841 913665\n",
            "  180| Winsemius Angel                | 07406 859420\n",
            "  183| Kin Lian Lee                   | 07303 633186\n",
            "  187| Cheng Liang Tan                | 07686 795518\n",
            "  189| Chroszcz Siow                  | 07894 793974\n",
            "  191| Seng Wee Goh                   | 07233 456788\n",
            "  192| Eileen Thornton Ong            | 07720 235583\n",
            "  193| Benjamin Jeyaretnam Wong       | 07273 210315\n",
            "  195| Dabrowski Robert               | 07784 223076\n",
            "  196| Jiawei Ling                    | 07415 815928\n",
            "  197| Cheng Bock Tan                 | 07265 819475\n",
            "  201| Tiku Cheng                     | 07164 717980\n",
            "  202| Sreenivasan Fandi              | 07220 314959\n",
            "  203| Tomczakowski Charley           | 07115 687729\n",
            "  205| Khoon Hong Lee                 | 07999 642079\n",
            "  211| Peng Soon Hon                  | 07678 773310\n",
            "  212| Ping Tjin Ho                   | 07900 794366\n",
            "  213| Keng Yong Li                   | 07556 178698\n",
            "  216| Yip Yan Adrian                 | 07895 708320\n",
            "  219| Craig Russell                  | 07217 637754\n",
            "  224| Tan David                      | 07756 644118\n",
            "  226| Chua Shunmugam                 | 07232 333645\n",
            "  230| Keck Kim Lim                   | 07888 674831\n",
            "  231| Dunbar Primus                  | 07544 844366\n",
            "  232| Chap Huat Tanya                | 07481 898123\n",
            "  233| Lim Karla                      | 07242 661895\n",
            "  234| Choon Seng Stefanie            | 07662 975686\n",
            "  235| Susilo Emily                   | 07181 159121\n",
            "  236| Teck Puat Christina            | 07993 872151\n",
            "  237| Ong Jack                       | 07854 494644\n",
            "  240| Lee Chin Khoo                  | 07658 185587\n",
            "  241| Goh Ng                         | 07927 695588\n",
            "  242| Lewis Khaw                     | 07507 529531\n",
            "  244| Goi Ng                         | 07273 140773\n",
            "  245| Taylor Chua                    | 07489 750887\n",
            "  252| Jayakumar Loo                  | 07791 549604\n",
            "  253| Qarmugi Corrinne               | 07532 834289\n",
            "  254| Kuek Kwek                      | 07192 716743\n",
            "  255| Chin Tan                       | 07528 358569\n",
            "  256| Jee Say Loi                    | 07824 662555\n",
            "  259| Lim Katie                      | 07282 506088\n",
            "  261| Gunaratna Nathan               | 07885 354421\n",
            "  262| Bo Seng Wee                    | 07992 459933\n",
            "  266| Chong Tee Su-Chen              | 07864 306893\n",
            "  269| Sui Sen Eyup                   | 07260 700183\n",
            "  272| Gek Khim Nicholas              | 07765 377637\n",
            "  274| Keng Yam Tony Li               | 07804 714170\n",
            "  278| Swee Keat Dick                 | 07659 193914\n",
            "  279| Vee Meng Calvin                | 07645 363342\n",
            "  281| Czernik Ronald                 | 07517 238582\n",
            "  283| Kuan Yew Lawrence              | 07493 416583\n",
            "  284| Boy Tee Tin                    | 07382 210024\n",
            "  288| Cho Yaw Tan                    | 07617 580464\n",
            "  290| Thomson Chia                   | 07894 144184\n",
            "  291| Olsen Jakub                    | 07988 892922\n",
            "  294| Pei Ling Igor                  | 07463 610638\n",
            "  298| Pun Ho                         | 07118 488960\n",
            "  300| Ser Cher Goh                   | 07301 540304\n",
            "  303| Eng Hen Olivia                 | 07594 964873\n",
            "  306| Cow Yaw Sam                    | 07572 882107\n",
            "  308| Kai Meng Lim                   | 07824 322024\n",
            "  309| Bala Woon                      | 07267 322377\n",
            "  310| Hsien Loong Lydia              | 07672 926359\n",
            "  312| Chong Yong Steven              | 07551 788461\n",
            "  314| Kiah Hong Steve Lee            | 07596 245415\n",
            "  316| Kumar Kuok                     | 07304 409885\n",
            "  319| Lim Kelvin                     | 07697 401657\n",
            "  321| Lim Keith                      | 07437 660059\n",
            "  329| Lark Sye Kuik                  | 07610 819106\n",
            "  333| Sun Eunice                     | 07634 805965\n",
            "  335| Peng Siong Ibukunoluwa         | 07516 492122\n",
            "  337| Xie Ajay                       | 07280 702654\n",
            "  338| Yew Hock Afroditi              | 07705 559426\n",
            "  340| Tze Law Chan                   | 07543 633381\n",
            "  341| Ramanathan Hazlina             | 07585 159163\n",
            "  343| Cempiel Tharman                | 07374 888114\n",
            "  347| Li Ken                         | 07705 638595\n",
            "  350| Walker Benjamin                | 07729 211970\n",
            "  353| Kan Seng Lim                   | 07264 870386\n",
            "  355| Teng Fong Chiam                | 07200 458162\n",
            "  357| Halim Natasha                  | 07796 840080\n",
            "  360| Low Julie                      | 07614 935278\n",
            "  361| Oon Kuin Ivan                  | 07964 712475\n",
            "  366| Hee Mikey                      | 07360 647355\n",
            "  368| Kian Guan Lee                  | 07478 766896\n",
            "  376| Williamson Ashleigh            | 07535 307922\n",
            "  377| Ng Jiang                       | 07310 485248\n",
            "  378| Chua Simon                     | 07594 220593\n",
            "  382| Tock Seng Charlie              | 07914 413140\n",
            "  385| Chee Hean Tan                  | 07238 768242\n",
            "  387| Traynor Chan                   | 07407 115252\n",
            "  389| Min John                       | 07533 915954\n",
            "  390| Hsien Yang Lucca               | 07550 719236\n",
            "  393| Long Kacper                    | 07375 160047\n",
            "  394| Aw Yam                         | 07686 978624\n",
            "  396| Nikita Wilkosz Jeanette        | 07225 641875\n",
            "  399| Boon Wan Toh                   | 07747 961460\n",
            "  401| Charles Tang                   | 07899 872956\n",
            "  403| Rajaratnam Heng                | 07253 698079\n",
            "  404| Boon Hui Vivian                | 07714 112801\n",
            "  408| Heng Michelle                  | 07348 949727\n",
            "  409| Jun Hong Lin                   | 07733 744432\n",
            "  414| Dong Rajesh                    | 07479 469038\n",
            "  415| Pang Indranee                  | 07317 822485\n",
            "  416| Kum Kwek                       | 07655 972413\n",
            "  423| How Doong Maia                 | 07475 458953\n",
            "  426| Wilson Armandas                | 07914 679472\n",
            "  427| Duncan Philip                  | 07472 814834\n",
            "  441| Davies Remy                    | 07742 773186\n",
            "  442| Chong Ngen Subhas              | 07578 458545\n",
            "  445| Maidin Joshua                  | 07829 942463\n",
            "  450| Lee Kimberly                   | 07726 292406\n",
            "  452| Casmir Thum                    | 07707 119501\n",
            "  454| Chukwu Shaw                    | 07664 932771\n",
            "  455| Swie Hian Devan                | 07171 365837\n",
            "  458| May Joshua                     | 07648 357588\n",
            "  459| Charlie Love                   | 07831 598262\n",
            "  461| Loi Kam                        | 07331 546438\n",
            "  463| Zarzoso Aaron                  | 07541 677136\n",
            "  464| Chua Sinnathamby               | 07596 810970\n",
            "  466| Wong Albert                    | 07769 573403\n",
            "  467| Rajah Henry                    | 07422 565052\n",
            "  476| Wiggins-Morris Asia            | 07887 735448\n",
            "  478| Lee Koh                        | 07109 366129\n",
            "  480| Leng Beng Khoo                 | 07146 883853\n",
            "  482| Dubiel Raj                     | 07651 553946\n",
            "  487| Chong Susan                    | 07651 126696\n",
            "  491| Crawford Rui                   | 07836 597508\n",
            "  498| Ling Peng Kamil                | 07575 194175\n",
            "  499| Tomczyszyn Chang               | 07425 951260\n"
          ],
          "name": "stdout"
        }
      ]
    },
    {
      "cell_type": "markdown",
      "metadata": {
        "id": "eY67hHo0xW8S",
        "colab_type": "text"
      },
      "source": [
        "**Task 3.3**\n",
        "\n",
        "**Evidence 10**\n",
        "\n",
        "Your program code\n",
        "\n",
        "**Evidence 11**\n",
        "\n",
        "A screenshot (or screenshots) of your program to show the results of the hash calclation for both the given test data values."
      ]
    },
    {
      "cell_type": "code",
      "metadata": {
        "id": "7-2vpM5KxjYG",
        "colab_type": "code",
        "colab": {}
      },
      "source": [
        "def GenerateHash(SearchName:str) -> int:\n",
        "    ##Following Pseudocode\n",
        "    HashTotal = 0\n",
        "    for position in range(len(SearchName)):\n",
        "        character = SearchName[position]\n",
        "        asciiCode = ord(character)\n",
        "        HashTotal += asciiCode * (position + 1) #Position is 1 indexed\n",
        "    Hash = HashTotal % 500\n",
        "    return Hash"
      ],
      "execution_count": 0,
      "outputs": []
    },
    {
      "cell_type": "code",
      "metadata": {
        "id": "wE9ldHqJdm4A",
        "colab_type": "code",
        "outputId": "e4111a50-9fe7-4312-a00e-3e6696e5b79a",
        "colab": {
          "base_uri": "https://localhost:8080/",
          "height": 34
        }
      },
      "source": [
        "GenerateHash(\"Tait Davinder\")"
      ],
      "execution_count": 0,
      "outputs": [
        {
          "output_type": "execute_result",
          "data": {
            "text/plain": [
              "87"
            ]
          },
          "metadata": {
            "tags": []
          },
          "execution_count": 53
        }
      ]
    },
    {
      "cell_type": "code",
      "metadata": {
        "id": "TSifBMwLd0to",
        "colab_type": "code",
        "outputId": "fb440e25-2c84-4449-9302-7393c5e299b7",
        "colab": {
          "base_uri": "https://localhost:8080/",
          "height": 34
        }
      },
      "source": [
        "GenerateHash(\"Anandan Yeo\")"
      ],
      "execution_count": 0,
      "outputs": [
        {
          "output_type": "execute_result",
          "data": {
            "text/plain": [
              "156"
            ]
          },
          "metadata": {
            "tags": []
          },
          "execution_count": 54
        }
      ]
    },
    {
      "cell_type": "markdown",
      "metadata": {
        "id": "4ec0BoUneGxd",
        "colab_type": "text"
      },
      "source": [
        "**Task 3.4**\n"
      ]
    },
    {
      "cell_type": "code",
      "metadata": {
        "id": "ciwzq5W6eJL2",
        "colab_type": "code",
        "colab": {}
      },
      "source": [
        "def SearchRecord(name):\n",
        "    recordIndex = GenerateHash(name)\n",
        "    record = data.getRecord(recordIndex)\n",
        "    while record.name != name and record.name != \"\":\n",
        "        recordIndex += 1 #Compare with next record\n",
        "        record.name = data.getRecord(recordIndex).name\n",
        "    if record.name == \"\": #An empty record is found\n",
        "        print(\"The name is NOT FOUND\")\n",
        "    else: #Record is found\n",
        "        print(\"Index:\",recordIndex)\n",
        "        print(\"Name:\",record.name)\n",
        "        print(\"Telephone:\",record.telephone)"
      ],
      "execution_count": 0,
      "outputs": []
    },
    {
      "cell_type": "code",
      "metadata": {
        "id": "pKJHdzOXfZv9",
        "colab_type": "code",
        "outputId": "347850cf-9ee1-4a73-e392-4e4b7f05ce17",
        "colab": {
          "base_uri": "https://localhost:8080/",
          "height": 68
        }
      },
      "source": [
        "SearchRecord(\"Charlie Love\")"
      ],
      "execution_count": 0,
      "outputs": [
        {
          "output_type": "stream",
          "text": [
            "Index: 459\n",
            "Name: Charlie Love\n",
            "Telephone: 07831 598262\n"
          ],
          "name": "stdout"
        }
      ]
    },
    {
      "cell_type": "code",
      "metadata": {
        "id": "cR9AQAi1fdZd",
        "colab_type": "code",
        "outputId": "97a9e68d-7702-4a84-ce2a-b0ad3e7bcf44",
        "colab": {
          "base_uri": "https://localhost:8080/",
          "height": 68
        }
      },
      "source": [
        "SearchRecord(\"Chin Tan\")"
      ],
      "execution_count": 0,
      "outputs": [
        {
          "output_type": "stream",
          "text": [
            "Index: 255\n",
            "Name: Chin Tan\n",
            "Telephone: 07532 834289\n"
          ],
          "name": "stdout"
        }
      ]
    },
    {
      "cell_type": "code",
      "metadata": {
        "id": "q7p5OqPNfe0d",
        "colab_type": "code",
        "outputId": "c1f925ce-b889-4a7b-f5b5-879cedf3c8f1",
        "colab": {
          "base_uri": "https://localhost:8080/",
          "height": 34
        }
      },
      "source": [
        "SearchRecord(\"John Barrowman\")"
      ],
      "execution_count": 0,
      "outputs": [
        {
          "output_type": "stream",
          "text": [
            "The name is NOT FOUND\n"
          ],
          "name": "stdout"
        }
      ]
    },
    {
      "cell_type": "markdown",
      "metadata": {
        "id": "gJGc5rD-xj-D",
        "colab_type": "text"
      },
      "source": [
        "## Q4\n",
        "(Took 48 min in total)\n",
        "\n",
        "**Task 4.1**\n",
        "\n",
        "**Evidence 14**\n"
      ]
    },
    {
      "cell_type": "code",
      "metadata": {
        "id": "N8kZSZCDxvgH",
        "colab_type": "code",
        "colab": {}
      },
      "source": [
        "###Map Data##############################\n",
        "data = \\\n",
        "\"\"\"\\\n",
        "XXXXXXXXXX\n",
        "X........X\n",
        "X.X.X.XX.X\n",
        "X.X..P...X\n",
        "X.XXXXXX.X\n",
        "X...O....X\n",
        "X.X.XX.X.X\n",
        "X.X....X.X\n",
        "X.XX.XXX.X\n",
        "X........X\n",
        "XXXXXXXXXX\\\n",
        "\"\"\"\n",
        "\n",
        "###Map Processing##################################\n",
        "layout = data.split(\"\\n\") # List of rows\n",
        "for y in range(len(layout)): #Make each row be a list\n",
        "    layout[y] = list(layout[y])\n",
        "\n",
        "width = len(layout[1])\n",
        "height = len(layout)\n",
        "\n",
        "###Remove Interactive items\n",
        "layout[5][4] = '.'\n",
        "layout[3][5] = '.'"
      ],
      "execution_count": 0,
      "outputs": []
    },
    {
      "cell_type": "markdown",
      "metadata": {
        "id": "9RGb2soox0N0",
        "colab_type": "text"
      },
      "source": [
        "**Task 4.2**\n",
        "\n",
        "**Evidence 15**\n",
        "\n",
        "Your program code\n",
        "\n",
        "**Evidence 16**\n",
        "\n",
        "A screenshot of the maze as output by your program"
      ]
    },
    {
      "cell_type": "code",
      "metadata": {
        "id": "QJaf0lzdxzrK",
        "colab_type": "code",
        "outputId": "2997eca7-ac0f-4a5e-deef-50bd12794031",
        "colab": {
          "base_uri": "https://localhost:8080/",
          "height": 196
        }
      },
      "source": [
        "def display(layout, height, width,coordinatesMap = {}):\n",
        "    output = \"\"\n",
        "    for y in range(height):\n",
        "        for x in range(width):\n",
        "            if (x,y) in coordinatesMap.keys():\n",
        "                output += coordinatesMap[(x,y)]\n",
        "            else:\n",
        "                output += layout[y][x]\n",
        "        output += \"\\n\" #New line\n",
        "    print(output[:-1]) #Exclude last new line\n",
        "\n",
        "def randomCoordinates(layout, height, width):\n",
        "    # Generate random coordinates for prize\n",
        "    from random import randint\n",
        "    prizeX = randint(0,width-1)\n",
        "    prizeY = randint(0,height-1)\n",
        "    # Regenerate coordinates if current coordinates not suitable\n",
        "    while layout[prizeY][prizeX] == 'X':\n",
        "        prizeX = randint(0,width-1)\n",
        "        prizeY = randint(0,height-1)\n",
        "    return (prizeX,prizeY)\n",
        "\n",
        "items = {}\n",
        "items[randomCoordinates(layout, height, width)] = 'P'\n",
        "display(layout, height, width,items)"
      ],
      "execution_count": 0,
      "outputs": [
        {
          "output_type": "stream",
          "text": [
            "XXXXXXXXXX\n",
            "X........X\n",
            "X.X.X.XX.X\n",
            "X.X......X\n",
            "X.XXXXXX.X\n",
            "X........X\n",
            "X.X.XX.X.X\n",
            "X.X....X.X\n",
            "X.XX.XXX.X\n",
            "X..P.....X\n",
            "XXXXXXXXXX\n"
          ],
          "name": "stdout"
        }
      ]
    },
    {
      "cell_type": "code",
      "metadata": {
        "id": "5KTFuJng-Q7D",
        "colab_type": "code",
        "colab": {}
      },
      "source": [
        ""
      ],
      "execution_count": 0,
      "outputs": []
    },
    {
      "cell_type": "markdown",
      "metadata": {
        "id": "agL674otyDrt",
        "colab_type": "text"
      },
      "source": [
        "**Task 4.3**\n",
        "\n",
        "**Evidence 17**\n",
        "\n",
        "Your program code"
      ]
    },
    {
      "cell_type": "markdown",
      "metadata": {
        "id": "kQjXjOrZyKfV",
        "colab_type": "text"
      },
      "source": [
        "**Task 4.4**\n",
        "\n",
        "**Evidence 18**\n",
        "\n",
        "Your program code\n",
        "\n",
        "**Evidence 19**\n",
        "\n",
        "Screenshots of \n",
        "* entering each direction\n",
        "* player changing position\n",
        "* end of game (player wins)"
      ]
    },
    {
      "cell_type": "markdown",
      "metadata": {
        "id": "S8m-Qv5HAbhZ",
        "colab_type": "text"
      },
      "source": [
        "Task 4.3 and Task 4.4 have the same code"
      ]
    },
    {
      "cell_type": "code",
      "metadata": {
        "id": "UXjh_YDPyC4C",
        "colab_type": "code",
        "outputId": "e4263183-4e47-4ca6-faf6-22a55cbba7b8",
        "colab": {
          "base_uri": "https://localhost:8080/",
          "height": 1000
        }
      },
      "source": [
        "def gameplay(layout, height, width):\n",
        "    # Starting positions\n",
        "    playerX = 4\n",
        "    playerY = 5\n",
        "    prizeCoordinates = randomCoordinates(layout, height, width)\n",
        "    while (playerX,playerY) == prizeCoordinates:\n",
        "         prizeCoordinates = randomCoordinates(layout, height, width)\n",
        "\n",
        "    # Initialising items\n",
        "    items = {}\n",
        "    items[(playerX,playerY)] = 'O'\n",
        "    items[prizeCoordinates] = 'P'\n",
        "\n",
        "    # Menu\n",
        "    print(\"Commands:\")\n",
        "    print(\"1. 'U' to move up\")\n",
        "    print(\"2. 'D' to move down\")\n",
        "    print(\"3. 'L' to move left\")\n",
        "    print(\"4. 'R' to move right\")\n",
        "    print(\"5. '' to continue with the previous move. If there is no previous move, do nothing\" )\n",
        "    # Gameplay Loop\n",
        "    prevDirection = \"\"\n",
        "    while (playerX,playerY) != prizeCoordinates:\n",
        "        print(\"\\n###Current Layout#########################\")\n",
        "        display(layout, height, width,items)\n",
        "        direction = input(\"Enter direction: \")\n",
        "\n",
        "        del items[(playerX,playerY)] #Remove past Coordinates\n",
        "        # Movement: Continue with previous direction\n",
        "        # If no previous direction, direction would be \"\", and not match\n",
        "        if direction == \"\":\n",
        "            direction = prevDirection\n",
        "        # Movement: Check direction and if new position if valid\n",
        "        if direction == 'U' and layout[playerY-1][playerX] != 'X': #Up\n",
        "            playerY -= 1 \n",
        "        elif direction == 'D' and layout[playerY+1][playerX] != 'X': #Down\n",
        "            playerY += 1\n",
        "        elif direction == 'L' and layout[playerY][playerX-1] != 'X': #Left\n",
        "            playerX -= 1\n",
        "        elif direction == 'R' and layout[playerY][playerX+1] != 'X': #Right\n",
        "            playerX += 1\n",
        "\n",
        "        items[(playerX,playerY)] = 'O'\n",
        "        prevDirection = direction\n",
        "\n",
        "    print(\"Player has reached the prize\")\n",
        "\n",
        "gameplay(layout, height, width)"
      ],
      "execution_count": 0,
      "outputs": [
        {
          "output_type": "stream",
          "text": [
            "Commands:\n",
            "1. 'U' to move up\n",
            "2. 'D' to move down\n",
            "3. 'L' to move left\n",
            "4. 'R' to move right\n",
            "5. '' to continue with the previous move. If there is no previous move, do nothing\n",
            "\n",
            "###Current Layout#########################\n",
            "XXXXXXXXXX\n",
            "X........X\n",
            "X.X.X.XX.X\n",
            "X.X......X\n",
            "X.XXXXXX.X\n",
            "X...O....X\n",
            "X.X.XX.X.X\n",
            "X.X....X.X\n",
            "X.XX.XXXPX\n",
            "X........X\n",
            "XXXXXXXXXX\n",
            "Enter direction: U\n",
            "\n",
            "###Current Layout#########################\n",
            "XXXXXXXXXX\n",
            "X........X\n",
            "X.X.X.XX.X\n",
            "X.X......X\n",
            "X.XXXXXX.X\n",
            "X...O....X\n",
            "X.X.XX.X.X\n",
            "X.X....X.X\n",
            "X.XX.XXXPX\n",
            "X........X\n",
            "XXXXXXXXXX\n",
            "Enter direction: D\n",
            "\n",
            "###Current Layout#########################\n",
            "XXXXXXXXXX\n",
            "X........X\n",
            "X.X.X.XX.X\n",
            "X.X......X\n",
            "X.XXXXXX.X\n",
            "X...O....X\n",
            "X.X.XX.X.X\n",
            "X.X....X.X\n",
            "X.XX.XXXPX\n",
            "X........X\n",
            "XXXXXXXXXX\n",
            "Enter direction: L\n",
            "\n",
            "###Current Layout#########################\n",
            "XXXXXXXXXX\n",
            "X........X\n",
            "X.X.X.XX.X\n",
            "X.X......X\n",
            "X.XXXXXX.X\n",
            "X..O.....X\n",
            "X.X.XX.X.X\n",
            "X.X....X.X\n",
            "X.XX.XXXPX\n",
            "X........X\n",
            "XXXXXXXXXX\n",
            "Enter direction: \n",
            "\n",
            "###Current Layout#########################\n",
            "XXXXXXXXXX\n",
            "X........X\n",
            "X.X.X.XX.X\n",
            "X.X......X\n",
            "X.XXXXXX.X\n",
            "X.O......X\n",
            "X.X.XX.X.X\n",
            "X.X....X.X\n",
            "X.XX.XXXPX\n",
            "X........X\n",
            "XXXXXXXXXX\n",
            "Enter direction: \n",
            "\n",
            "###Current Layout#########################\n",
            "XXXXXXXXXX\n",
            "X........X\n",
            "X.X.X.XX.X\n",
            "X.X......X\n",
            "X.XXXXXX.X\n",
            "XO.......X\n",
            "X.X.XX.X.X\n",
            "X.X....X.X\n",
            "X.XX.XXXPX\n",
            "X........X\n",
            "XXXXXXXXXX\n",
            "Enter direction: \n",
            "\n",
            "###Current Layout#########################\n",
            "XXXXXXXXXX\n",
            "X........X\n",
            "X.X.X.XX.X\n",
            "X.X......X\n",
            "X.XXXXXX.X\n",
            "XO.......X\n",
            "X.X.XX.X.X\n",
            "X.X....X.X\n",
            "X.XX.XXXPX\n",
            "X........X\n",
            "XXXXXXXXXX\n",
            "Enter direction: D\n",
            "\n",
            "###Current Layout#########################\n",
            "XXXXXXXXXX\n",
            "X........X\n",
            "X.X.X.XX.X\n",
            "X.X......X\n",
            "X.XXXXXX.X\n",
            "X........X\n",
            "XOX.XX.X.X\n",
            "X.X....X.X\n",
            "X.XX.XXXPX\n",
            "X........X\n",
            "XXXXXXXXXX\n",
            "Enter direction: \n",
            "\n",
            "###Current Layout#########################\n",
            "XXXXXXXXXX\n",
            "X........X\n",
            "X.X.X.XX.X\n",
            "X.X......X\n",
            "X.XXXXXX.X\n",
            "X........X\n",
            "X.X.XX.X.X\n",
            "XOX....X.X\n",
            "X.XX.XXXPX\n",
            "X........X\n",
            "XXXXXXXXXX\n",
            "Enter direction: \n",
            "\n",
            "###Current Layout#########################\n",
            "XXXXXXXXXX\n",
            "X........X\n",
            "X.X.X.XX.X\n",
            "X.X......X\n",
            "X.XXXXXX.X\n",
            "X........X\n",
            "X.X.XX.X.X\n",
            "X.X....X.X\n",
            "XOXX.XXXPX\n",
            "X........X\n",
            "XXXXXXXXXX\n",
            "Enter direction: \n",
            "\n",
            "###Current Layout#########################\n",
            "XXXXXXXXXX\n",
            "X........X\n",
            "X.X.X.XX.X\n",
            "X.X......X\n",
            "X.XXXXXX.X\n",
            "X........X\n",
            "X.X.XX.X.X\n",
            "X.X....X.X\n",
            "X.XX.XXXPX\n",
            "XO.......X\n",
            "XXXXXXXXXX\n",
            "Enter direction: R\n",
            "\n",
            "###Current Layout#########################\n",
            "XXXXXXXXXX\n",
            "X........X\n",
            "X.X.X.XX.X\n",
            "X.X......X\n",
            "X.XXXXXX.X\n",
            "X........X\n",
            "X.X.XX.X.X\n",
            "X.X....X.X\n",
            "X.XX.XXXPX\n",
            "X.O......X\n",
            "XXXXXXXXXX\n",
            "Enter direction: \n",
            "\n",
            "###Current Layout#########################\n",
            "XXXXXXXXXX\n",
            "X........X\n",
            "X.X.X.XX.X\n",
            "X.X......X\n",
            "X.XXXXXX.X\n",
            "X........X\n",
            "X.X.XX.X.X\n",
            "X.X....X.X\n",
            "X.XX.XXXPX\n",
            "X..O.....X\n",
            "XXXXXXXXXX\n",
            "Enter direction: \n",
            "\n",
            "###Current Layout#########################\n",
            "XXXXXXXXXX\n",
            "X........X\n",
            "X.X.X.XX.X\n",
            "X.X......X\n",
            "X.XXXXXX.X\n",
            "X........X\n",
            "X.X.XX.X.X\n",
            "X.X....X.X\n",
            "X.XX.XXXPX\n",
            "X...O....X\n",
            "XXXXXXXXXX\n",
            "Enter direction: \n",
            "\n",
            "###Current Layout#########################\n",
            "XXXXXXXXXX\n",
            "X........X\n",
            "X.X.X.XX.X\n",
            "X.X......X\n",
            "X.XXXXXX.X\n",
            "X........X\n",
            "X.X.XX.X.X\n",
            "X.X....X.X\n",
            "X.XX.XXXPX\n",
            "X....O...X\n",
            "XXXXXXXXXX\n",
            "Enter direction: \n",
            "\n",
            "###Current Layout#########################\n",
            "XXXXXXXXXX\n",
            "X........X\n",
            "X.X.X.XX.X\n",
            "X.X......X\n",
            "X.XXXXXX.X\n",
            "X........X\n",
            "X.X.XX.X.X\n",
            "X.X....X.X\n",
            "X.XX.XXXPX\n",
            "X.....O..X\n",
            "XXXXXXXXXX\n",
            "Enter direction: \n",
            "\n",
            "###Current Layout#########################\n",
            "XXXXXXXXXX\n",
            "X........X\n",
            "X.X.X.XX.X\n",
            "X.X......X\n",
            "X.XXXXXX.X\n",
            "X........X\n",
            "X.X.XX.X.X\n",
            "X.X....X.X\n",
            "X.XX.XXXPX\n",
            "X......O.X\n",
            "XXXXXXXXXX\n",
            "Enter direction: \n",
            "\n",
            "###Current Layout#########################\n",
            "XXXXXXXXXX\n",
            "X........X\n",
            "X.X.X.XX.X\n",
            "X.X......X\n",
            "X.XXXXXX.X\n",
            "X........X\n",
            "X.X.XX.X.X\n",
            "X.X....X.X\n",
            "X.XX.XXXPX\n",
            "X.......OX\n",
            "XXXXXXXXXX\n",
            "Enter direction: \n",
            "\n",
            "###Current Layout#########################\n",
            "XXXXXXXXXX\n",
            "X........X\n",
            "X.X.X.XX.X\n",
            "X.X......X\n",
            "X.XXXXXX.X\n",
            "X........X\n",
            "X.X.XX.X.X\n",
            "X.X....X.X\n",
            "X.XX.XXXPX\n",
            "X.......OX\n",
            "XXXXXXXXXX\n",
            "Enter direction: D\n",
            "\n",
            "###Current Layout#########################\n",
            "XXXXXXXXXX\n",
            "X........X\n",
            "X.X.X.XX.X\n",
            "X.X......X\n",
            "X.XXXXXX.X\n",
            "X........X\n",
            "X.X.XX.X.X\n",
            "X.X....X.X\n",
            "X.XX.XXXPX\n",
            "X.......OX\n",
            "XXXXXXXXXX\n",
            "Enter direction: U\n",
            "Player has reached the prize\n"
          ],
          "name": "stdout"
        }
      ]
    }
  ]
}