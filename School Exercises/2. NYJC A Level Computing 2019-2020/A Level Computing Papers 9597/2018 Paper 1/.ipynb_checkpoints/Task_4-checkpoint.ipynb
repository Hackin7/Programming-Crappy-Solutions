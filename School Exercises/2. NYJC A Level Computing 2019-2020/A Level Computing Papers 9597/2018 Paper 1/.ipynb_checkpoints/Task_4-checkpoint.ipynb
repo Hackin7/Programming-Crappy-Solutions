{
 "cells": [
  {
   "cell_type": "code",
   "execution_count": 1,
   "metadata": {},
   "outputs": [],
   "source": [
    "directory=\"\""
   ]
  },
  {
   "cell_type": "markdown",
   "metadata": {
    "colab_type": "text",
    "id": "gJGc5rD-xj-D"
   },
   "source": [
    "## Q4\n",
    "(Took 48 min in total)\n",
    "\n",
    "**Task 4.1**\n",
    "\n",
    "**Evidence 14**\n"
   ]
  },
  {
   "cell_type": "code",
   "execution_count": 5,
   "metadata": {
    "colab": {},
    "colab_type": "code",
    "id": "N8kZSZCDxvgH"
   },
   "outputs": [
    {
     "name": "stdout",
     "output_type": "stream",
     "text": [
      "X X X X X X X X X X \n",
      "X . . . . . . . . X \n",
      "X . X . X . X X . X \n",
      "X . X . . . . . . X \n",
      "X . X X X X X X . X \n",
      "X . . . . . . . . X \n",
      "X . X . X X . X . X \n",
      "X . X . . . . X . X \n",
      "X . X X . X X X . X \n",
      "X . . . . . . . . X \n",
      "X X X X X X X X X X \n"
     ]
    }
   ],
   "source": [
    "###Map Data##############################\n",
    "data = \\\n",
    "\"\"\"\\\n",
    "XXXXXXXXXX\n",
    "X........X\n",
    "X.X.X.XX.X\n",
    "X.X..P...X\n",
    "X.XXXXXX.X\n",
    "X...O....X\n",
    "X.X.XX.X.X\n",
    "X.X....X.X\n",
    "X.XX.XXX.X\n",
    "X........X\n",
    "XXXXXXXXXX\\\n",
    "\"\"\"\n",
    "\n",
    "###Map Processing##################################\n",
    "layout = data.split(\"\\n\") # List of rows\n",
    "for y in range(len(layout)): #Make each row be a list\n",
    "    layout[y] = list(layout[y])\n",
    "\n",
    "width = len(layout[1])\n",
    "height = len(layout)\n",
    "\n",
    "###Remove Interactive items\n",
    "layout[5][4] = '.'\n",
    "layout[3][5] = '.'\n",
    "\n",
    "def display(layout, height, width,coordinatesMap = {}):\n",
    "    output = \"\"\n",
    "    for y in range(height):\n",
    "        for x in range(width):\n",
    "            if (x,y) in coordinatesMap.keys():\n",
    "                output += coordinatesMap[(x,y)] + \" \"\n",
    "            else:\n",
    "                output += layout[y][x] + \" \"\n",
    "        output += \"\\n\" #New line\n",
    "    print(output[:-1]) #Exclude last new line\n",
    "display(layout,height,width)"
   ]
  },
  {
   "cell_type": "markdown",
   "metadata": {
    "colab_type": "text",
    "id": "9RGb2soox0N0"
   },
   "source": [
    "**Task 4.2**\n",
    "\n",
    "**Evidence 15**\n",
    "\n",
    "Your program code\n",
    "\n",
    "**Evidence 16**\n",
    "\n",
    "A screenshot of the maze as output by your program"
   ]
  },
  {
   "cell_type": "code",
   "execution_count": 6,
   "metadata": {
    "colab": {
     "base_uri": "https://localhost:8080/",
     "height": 196
    },
    "colab_type": "code",
    "id": "QJaf0lzdxzrK",
    "outputId": "2997eca7-ac0f-4a5e-deef-50bd12794031"
   },
   "outputs": [
    {
     "name": "stdout",
     "output_type": "stream",
     "text": [
      "X X X X X X X X X X \n",
      "X . . . . . . . . X \n",
      "X . X . X . X X . X \n",
      "X . X . . . . . . X \n",
      "X . X X X X X X P X \n",
      "X . . . . . . . . X \n",
      "X . X . X X . X . X \n",
      "X . X . . . . X . X \n",
      "X . X X . X X X . X \n",
      "X . . . . . . . . X \n",
      "X X X X X X X X X X \n"
     ]
    }
   ],
   "source": [
    "def randomCoordinates(layout, height, width):\n",
    "    # Generate random coordinates for prize\n",
    "    from random import randint\n",
    "    prizeX = randint(0,width-1)\n",
    "    prizeY = randint(0,height-1)\n",
    "    # Regenerate coordinates if current coordinates not suitable\n",
    "    while layout[prizeY][prizeX] == 'X':\n",
    "        prizeX = randint(0,width-1)\n",
    "        prizeY = randint(0,height-1)\n",
    "    return (prizeX,prizeY)\n",
    "\n",
    "items = {}\n",
    "items[randomCoordinates(layout, height, width)] = 'P'\n",
    "display(layout, height, width,items)"
   ]
  },
  {
   "cell_type": "markdown",
   "metadata": {
    "colab_type": "text",
    "id": "agL674otyDrt"
   },
   "source": [
    "**Task 4.3**\n",
    "\n",
    "**Evidence 17**\n",
    "\n",
    "Your program code"
   ]
  },
  {
   "cell_type": "markdown",
   "metadata": {
    "colab_type": "text",
    "id": "kQjXjOrZyKfV"
   },
   "source": [
    "**Task 4.4**\n",
    "\n",
    "**Evidence 18**\n",
    "\n",
    "Your program code\n",
    "\n",
    "**Evidence 19**\n",
    "\n",
    "Screenshots of \n",
    "* entering each direction\n",
    "* player changing position\n",
    "* end of game (player wins)"
   ]
  },
  {
   "cell_type": "markdown",
   "metadata": {
    "colab_type": "text",
    "id": "S8m-Qv5HAbhZ"
   },
   "source": [
    "Task 4.3 and Task 4.4 have the same code"
   ]
  },
  {
   "cell_type": "code",
   "execution_count": 7,
   "metadata": {
    "colab": {
     "base_uri": "https://localhost:8080/",
     "height": 1000
    },
    "colab_type": "code",
    "id": "UXjh_YDPyC4C",
    "outputId": "e4263183-4e47-4ca6-faf6-22a55cbba7b8"
   },
   "outputs": [
    {
     "name": "stdout",
     "output_type": "stream",
     "text": [
      "Commands:\n",
      "1. 'U' to move up\n",
      "2. 'D' to move down\n",
      "3. 'L' to move left\n",
      "4. 'R' to move right\n",
      "5. '' to continue with the previous move. If there is no previous move, do nothing\n",
      "\n",
      "###Current Layout#########################\n",
      "X X X X X X X X X X \n",
      "X . . . . . . P . X \n",
      "X . X . X . X X . X \n",
      "X . X . . . . . . X \n",
      "X . X X X X X X . X \n",
      "X . . . O . . . . X \n",
      "X . X . X X . X . X \n",
      "X . X . . . . X . X \n",
      "X . X X . X X X . X \n",
      "X . . . . . . . . X \n",
      "X X X X X X X X X X \n"
     ]
    },
    {
     "name": "stdin",
     "output_type": "stream",
     "text": [
      "Enter direction:  U\n"
     ]
    },
    {
     "name": "stdout",
     "output_type": "stream",
     "text": [
      "\n",
      "###Current Layout#########################\n",
      "X X X X X X X X X X \n",
      "X . . . . . . P . X \n",
      "X . X . X . X X . X \n",
      "X . X . . . . . . X \n",
      "X . X X X X X X . X \n",
      "X . . . O . . . . X \n",
      "X . X . X X . X . X \n",
      "X . X . . . . X . X \n",
      "X . X X . X X X . X \n",
      "X . . . . . . . . X \n",
      "X X X X X X X X X X \n"
     ]
    },
    {
     "name": "stdin",
     "output_type": "stream",
     "text": [
      "Enter direction:  U\n"
     ]
    },
    {
     "name": "stdout",
     "output_type": "stream",
     "text": [
      "\n",
      "###Current Layout#########################\n",
      "X X X X X X X X X X \n",
      "X . . . . . . P . X \n",
      "X . X . X . X X . X \n",
      "X . X . . . . . . X \n",
      "X . X X X X X X . X \n",
      "X . . . O . . . . X \n",
      "X . X . X X . X . X \n",
      "X . X . . . . X . X \n",
      "X . X X . X X X . X \n",
      "X . . . . . . . . X \n",
      "X X X X X X X X X X \n"
     ]
    },
    {
     "name": "stdin",
     "output_type": "stream",
     "text": [
      "Enter direction:  R\n"
     ]
    },
    {
     "name": "stdout",
     "output_type": "stream",
     "text": [
      "\n",
      "###Current Layout#########################\n",
      "X X X X X X X X X X \n",
      "X . . . . . . P . X \n",
      "X . X . X . X X . X \n",
      "X . X . . . . . . X \n",
      "X . X X X X X X . X \n",
      "X . . . . O . . . X \n",
      "X . X . X X . X . X \n",
      "X . X . . . . X . X \n",
      "X . X X . X X X . X \n",
      "X . . . . . . . . X \n",
      "X X X X X X X X X X \n"
     ]
    },
    {
     "name": "stdin",
     "output_type": "stream",
     "text": [
      "Enter direction:  \n"
     ]
    },
    {
     "name": "stdout",
     "output_type": "stream",
     "text": [
      "\n",
      "###Current Layout#########################\n",
      "X X X X X X X X X X \n",
      "X . . . . . . P . X \n",
      "X . X . X . X X . X \n",
      "X . X . . . . . . X \n",
      "X . X X X X X X . X \n",
      "X . . . . . O . . X \n",
      "X . X . X X . X . X \n",
      "X . X . . . . X . X \n",
      "X . X X . X X X . X \n",
      "X . . . . . . . . X \n",
      "X X X X X X X X X X \n"
     ]
    },
    {
     "name": "stdin",
     "output_type": "stream",
     "text": [
      "Enter direction:  R\n"
     ]
    },
    {
     "name": "stdout",
     "output_type": "stream",
     "text": [
      "\n",
      "###Current Layout#########################\n",
      "X X X X X X X X X X \n",
      "X . . . . . . P . X \n",
      "X . X . X . X X . X \n",
      "X . X . . . . . . X \n",
      "X . X X X X X X . X \n",
      "X . . . . . . O . X \n",
      "X . X . X X . X . X \n",
      "X . X . . . . X . X \n",
      "X . X X . X X X . X \n",
      "X . . . . . . . . X \n",
      "X X X X X X X X X X \n"
     ]
    },
    {
     "name": "stdin",
     "output_type": "stream",
     "text": [
      "Enter direction:  R\n"
     ]
    },
    {
     "name": "stdout",
     "output_type": "stream",
     "text": [
      "\n",
      "###Current Layout#########################\n",
      "X X X X X X X X X X \n",
      "X . . . . . . P . X \n",
      "X . X . X . X X . X \n",
      "X . X . . . . . . X \n",
      "X . X X X X X X . X \n",
      "X . . . . . . . O X \n",
      "X . X . X X . X . X \n",
      "X . X . . . . X . X \n",
      "X . X X . X X X . X \n",
      "X . . . . . . . . X \n",
      "X X X X X X X X X X \n"
     ]
    },
    {
     "name": "stdin",
     "output_type": "stream",
     "text": [
      "Enter direction:  L\n"
     ]
    },
    {
     "name": "stdout",
     "output_type": "stream",
     "text": [
      "\n",
      "###Current Layout#########################\n",
      "X X X X X X X X X X \n",
      "X . . . . . . P . X \n",
      "X . X . X . X X . X \n",
      "X . X . . . . . . X \n",
      "X . X X X X X X . X \n",
      "X . . . . . . O . X \n",
      "X . X . X X . X . X \n",
      "X . X . . . . X . X \n",
      "X . X X . X X X . X \n",
      "X . . . . . . . . X \n",
      "X X X X X X X X X X \n"
     ]
    },
    {
     "name": "stdin",
     "output_type": "stream",
     "text": [
      "Enter direction:  \n"
     ]
    },
    {
     "name": "stdout",
     "output_type": "stream",
     "text": [
      "\n",
      "###Current Layout#########################\n",
      "X X X X X X X X X X \n",
      "X . . . . . . P . X \n",
      "X . X . X . X X . X \n",
      "X . X . . . . . . X \n",
      "X . X X X X X X . X \n",
      "X . . . . . O . . X \n",
      "X . X . X X . X . X \n",
      "X . X . . . . X . X \n",
      "X . X X . X X X . X \n",
      "X . . . . . . . . X \n",
      "X X X X X X X X X X \n"
     ]
    },
    {
     "name": "stdin",
     "output_type": "stream",
     "text": [
      "Enter direction:  D\n"
     ]
    },
    {
     "name": "stdout",
     "output_type": "stream",
     "text": [
      "\n",
      "###Current Layout#########################\n",
      "X X X X X X X X X X \n",
      "X . . . . . . P . X \n",
      "X . X . X . X X . X \n",
      "X . X . . . . . . X \n",
      "X . X X X X X X . X \n",
      "X . . . . . . . . X \n",
      "X . X . X X O X . X \n",
      "X . X . . . . X . X \n",
      "X . X X . X X X . X \n",
      "X . . . . . . . . X \n",
      "X X X X X X X X X X \n"
     ]
    },
    {
     "name": "stdin",
     "output_type": "stream",
     "text": [
      "Enter direction:  \n"
     ]
    },
    {
     "name": "stdout",
     "output_type": "stream",
     "text": [
      "\n",
      "###Current Layout#########################\n",
      "X X X X X X X X X X \n",
      "X . . . . . . P . X \n",
      "X . X . X . X X . X \n",
      "X . X . . . . . . X \n",
      "X . X X X X X X . X \n",
      "X . . . . . . . . X \n",
      "X . X . X X . X . X \n",
      "X . X . . . O X . X \n",
      "X . X X . X X X . X \n",
      "X . . . . . . . . X \n",
      "X X X X X X X X X X \n"
     ]
    },
    {
     "name": "stdin",
     "output_type": "stream",
     "text": [
      "Enter direction:  U\n"
     ]
    },
    {
     "name": "stdout",
     "output_type": "stream",
     "text": [
      "\n",
      "###Current Layout#########################\n",
      "X X X X X X X X X X \n",
      "X . . . . . . P . X \n",
      "X . X . X . X X . X \n",
      "X . X . . . . . . X \n",
      "X . X X X X X X . X \n",
      "X . . . . . . . . X \n",
      "X . X . X X O X . X \n",
      "X . X . . . . X . X \n",
      "X . X X . X X X . X \n",
      "X . . . . . . . . X \n",
      "X X X X X X X X X X \n"
     ]
    },
    {
     "name": "stdin",
     "output_type": "stream",
     "text": [
      "Enter direction:  \n"
     ]
    },
    {
     "name": "stdout",
     "output_type": "stream",
     "text": [
      "\n",
      "###Current Layout#########################\n",
      "X X X X X X X X X X \n",
      "X . . . . . . P . X \n",
      "X . X . X . X X . X \n",
      "X . X . . . . . . X \n",
      "X . X X X X X X . X \n",
      "X . . . . . O . . X \n",
      "X . X . X X . X . X \n",
      "X . X . . . . X . X \n",
      "X . X X . X X X . X \n",
      "X . . . . . . . . X \n",
      "X X X X X X X X X X \n"
     ]
    },
    {
     "name": "stdin",
     "output_type": "stream",
     "text": [
      "Enter direction:  R\n"
     ]
    },
    {
     "name": "stdout",
     "output_type": "stream",
     "text": [
      "\n",
      "###Current Layout#########################\n",
      "X X X X X X X X X X \n",
      "X . . . . . . P . X \n",
      "X . X . X . X X . X \n",
      "X . X . . . . . . X \n",
      "X . X X X X X X . X \n",
      "X . . . . . . O . X \n",
      "X . X . X X . X . X \n",
      "X . X . . . . X . X \n",
      "X . X X . X X X . X \n",
      "X . . . . . . . . X \n",
      "X X X X X X X X X X \n"
     ]
    },
    {
     "name": "stdin",
     "output_type": "stream",
     "text": [
      "Enter direction:  \n"
     ]
    },
    {
     "name": "stdout",
     "output_type": "stream",
     "text": [
      "\n",
      "###Current Layout#########################\n",
      "X X X X X X X X X X \n",
      "X . . . . . . P . X \n",
      "X . X . X . X X . X \n",
      "X . X . . . . . . X \n",
      "X . X X X X X X . X \n",
      "X . . . . . . . O X \n",
      "X . X . X X . X . X \n",
      "X . X . . . . X . X \n",
      "X . X X . X X X . X \n",
      "X . . . . . . . . X \n",
      "X X X X X X X X X X \n"
     ]
    },
    {
     "name": "stdin",
     "output_type": "stream",
     "text": [
      "Enter direction:  U\n"
     ]
    },
    {
     "name": "stdout",
     "output_type": "stream",
     "text": [
      "\n",
      "###Current Layout#########################\n",
      "X X X X X X X X X X \n",
      "X . . . . . . P . X \n",
      "X . X . X . X X . X \n",
      "X . X . . . . . . X \n",
      "X . X X X X X X O X \n",
      "X . . . . . . . . X \n",
      "X . X . X X . X . X \n",
      "X . X . . . . X . X \n",
      "X . X X . X X X . X \n",
      "X . . . . . . . . X \n",
      "X X X X X X X X X X \n"
     ]
    },
    {
     "name": "stdin",
     "output_type": "stream",
     "text": [
      "Enter direction:  \n"
     ]
    },
    {
     "name": "stdout",
     "output_type": "stream",
     "text": [
      "\n",
      "###Current Layout#########################\n",
      "X X X X X X X X X X \n",
      "X . . . . . . P . X \n",
      "X . X . X . X X . X \n",
      "X . X . . . . . O X \n",
      "X . X X X X X X . X \n",
      "X . . . . . . . . X \n",
      "X . X . X X . X . X \n",
      "X . X . . . . X . X \n",
      "X . X X . X X X . X \n",
      "X . . . . . . . . X \n",
      "X X X X X X X X X X \n"
     ]
    },
    {
     "name": "stdin",
     "output_type": "stream",
     "text": [
      "Enter direction:  \n"
     ]
    },
    {
     "name": "stdout",
     "output_type": "stream",
     "text": [
      "\n",
      "###Current Layout#########################\n",
      "X X X X X X X X X X \n",
      "X . . . . . . P . X \n",
      "X . X . X . X X O X \n",
      "X . X . . . . . . X \n",
      "X . X X X X X X . X \n",
      "X . . . . . . . . X \n",
      "X . X . X X . X . X \n",
      "X . X . . . . X . X \n",
      "X . X X . X X X . X \n",
      "X . . . . . . . . X \n",
      "X X X X X X X X X X \n"
     ]
    },
    {
     "name": "stdin",
     "output_type": "stream",
     "text": [
      "Enter direction:  \n"
     ]
    },
    {
     "name": "stdout",
     "output_type": "stream",
     "text": [
      "\n",
      "###Current Layout#########################\n",
      "X X X X X X X X X X \n",
      "X . . . . . . P O X \n",
      "X . X . X . X X . X \n",
      "X . X . . . . . . X \n",
      "X . X X X X X X . X \n",
      "X . . . . . . . . X \n",
      "X . X . X X . X . X \n",
      "X . X . . . . X . X \n",
      "X . X X . X X X . X \n",
      "X . . . . . . . . X \n",
      "X X X X X X X X X X \n"
     ]
    },
    {
     "name": "stdin",
     "output_type": "stream",
     "text": [
      "Enter direction:  L\n"
     ]
    },
    {
     "name": "stdout",
     "output_type": "stream",
     "text": [
      "Player has reached the prize\n"
     ]
    }
   ],
   "source": [
    "def gameplay(layout, height, width):\n",
    "    # Starting positions\n",
    "    playerX = 4\n",
    "    playerY = 5\n",
    "    prizeCoordinates = randomCoordinates(layout, height, width)\n",
    "    while (playerX,playerY) == prizeCoordinates:\n",
    "         prizeCoordinates = randomCoordinates(layout, height, width)\n",
    "\n",
    "    # Initialising items\n",
    "    items = {}\n",
    "    items[(playerX,playerY)] = 'O'\n",
    "    items[prizeCoordinates] = 'P'\n",
    "\n",
    "    # Menu\n",
    "    print(\"Commands:\")\n",
    "    print(\"1. 'U' to move up\")\n",
    "    print(\"2. 'D' to move down\")\n",
    "    print(\"3. 'L' to move left\")\n",
    "    print(\"4. 'R' to move right\")\n",
    "    print(\"5. '' to continue with the previous move. If there is no previous move, do nothing\" )\n",
    "    # Gameplay Loop\n",
    "    prevDirection = \"\"\n",
    "    while (playerX,playerY) != prizeCoordinates:\n",
    "        print(\"\\n###Current Layout#########################\")\n",
    "        display(layout, height, width,items)\n",
    "        direction = input(\"Enter direction: \")\n",
    "\n",
    "        del items[(playerX,playerY)] #Remove past Coordinates\n",
    "        # Movement: Continue with previous direction\n",
    "        # If no previous direction, direction would be \"\", and not match\n",
    "        if direction == \"\":\n",
    "            direction = prevDirection\n",
    "        # Movement: Check direction and if new position if valid\n",
    "        if direction == 'U' and layout[playerY-1][playerX] != 'X': #Up\n",
    "            playerY -= 1 \n",
    "        elif direction == 'D' and layout[playerY+1][playerX] != 'X': #Down\n",
    "            playerY += 1\n",
    "        elif direction == 'L' and layout[playerY][playerX-1] != 'X': #Left\n",
    "            playerX -= 1\n",
    "        elif direction == 'R' and layout[playerY][playerX+1] != 'X': #Right\n",
    "            playerX += 1\n",
    "\n",
    "        items[(playerX,playerY)] = 'O'\n",
    "        prevDirection = direction\n",
    "\n",
    "    print(\"Player has reached the prize\")\n",
    "\n",
    "gameplay(layout, height, width)"
   ]
  }
 ],
 "metadata": {
  "kernelspec": {
   "display_name": "Python 3",
   "language": "python",
   "name": "python3"
  },
  "language_info": {
   "codemirror_mode": {
    "name": "ipython",
    "version": 3
   },
   "file_extension": ".py",
   "mimetype": "text/x-python",
   "name": "python",
   "nbconvert_exporter": "python",
   "pygments_lexer": "ipython3",
   "version": "3.7.3"
  }
 },
 "nbformat": 4,
 "nbformat_minor": 4
}
