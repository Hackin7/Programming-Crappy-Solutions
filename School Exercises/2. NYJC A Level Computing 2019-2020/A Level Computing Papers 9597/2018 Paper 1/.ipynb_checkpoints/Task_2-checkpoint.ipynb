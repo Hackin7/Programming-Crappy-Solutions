{
 "cells": [
  {
   "cell_type": "code",
   "execution_count": 1,
   "metadata": {},
   "outputs": [],
   "source": [
    "directory=\"\""
   ]
  },
  {
   "cell_type": "markdown",
   "metadata": {
    "colab_type": "text",
    "id": "scXDoKnJvf87"
   },
   "source": [
    "## Q2\n",
    "**Task 2.1**\n",
    "\n",
    "Write program code to implement this algorithm. Ensure you add the missing code to complete the algorithm. The area of missing code is highlighted as `<swap Scores[First] with Scores[RightMark]`\n",
    "Copy the sample data available in the SCORES.TXT file.Paste this into your programming code to set up the data to be sorted\n",
    "\n",
    "**Evidence 4**\n",
    "\n",
    "Your Program code\n"
   ]
  },
  {
   "cell_type": "code",
   "execution_count": 2,
   "metadata": {
    "colab": {},
    "colab_type": "code",
    "id": "fHQWtpowvfO7"
   },
   "outputs": [],
   "source": [
    "def QuickSort(Scores):\n",
    "    QuickSortHelper(Scores, 0, len(Scores) - 1)\n",
    "    return Scores    \n",
    "\n",
    "def QuickSortHelper(Scores, First, Last):\n",
    "    if First < Last:\n",
    "        SplitPoint = Partition(Scores, First, Last)\n",
    "        QuickSortHelper(Scores, First, SplitPoint - 1)\n",
    "        QuickSortHelper(Scores, SplitPoint + 1, Last)\n",
    "    return Scores    \n",
    "\n",
    "def Partition(Scores, First, Last):\n",
    "    PivotValue = Scores[First]\n",
    "    LeftMark = First + 1\n",
    "    RightMark = Last\n",
    "    Done = False\n",
    "    while (Done == False): \n",
    "        while LeftMark <= RightMark and Scores[LeftMark] <= PivotValue:\n",
    "            LeftMark = LeftMark + 1\n",
    "        while Scores[RightMark] >= PivotValue and RightMark >= LeftMark:\n",
    "            RightMark = RightMark - 1        \n",
    "        if RightMark < LeftMark:\n",
    "                Done = True\n",
    "        else:\n",
    "            Temp = Scores[LeftMark]\n",
    "            Scores[LeftMark] = Scores[RightMark]\n",
    "            Scores[RightMark] = Temp\n",
    "    #<swap Scores[First] with Scores[RightMark]>\n",
    "    temp = Scores[First]\n",
    "    Scores[First] = Scores[RightMark]\n",
    "    Scores[RightMark] = temp\n",
    "\n",
    "    return RightMark\n",
    "\n",
    "scores = [72,45,120,57,76,29,40,42,113,77,64,29,91,122,134,139,24,92,136,73,78,62,27,126,76,116,67,34,20,90,75,128,128,89,98,41,37,58,124,24,101,132]"
   ]
  },
  {
   "cell_type": "markdown",
   "metadata": {
    "colab_type": "text",
    "id": "LXtEXDXIwFG6"
   },
   "source": [
    "**Task 2.2**\n",
    "\n",
    "Add a function to your code to output Scores. Call this function before and after the operation of quick sort so that the unsorted and sorted data is displayed\n",
    "\n",
    "**Evidence 5**\n",
    "\n",
    "Your program code\n",
    "\n",
    "**Evidence 6**\n",
    "\n",
    "Screenshot showing the unsorted and sorted Scores data."
   ]
  },
  {
   "cell_type": "code",
   "execution_count": 3,
   "metadata": {
    "colab": {
     "base_uri": "https://localhost:8080/",
     "height": 105
    },
    "colab_type": "code",
    "id": "I1IX5QOWwXoU",
    "outputId": "cbff97df-607f-499e-8922-3dfcb83b8629"
   },
   "outputs": [
    {
     "name": "stdout",
     "output_type": "stream",
     "text": [
      "Scores Before Sorting\n",
      " 72, 45, 120, 57, 76, 29, 40, 42, 113, 77, 64, 29, 91, 122, 134, 139, 24, 92, 136, 73, 78, 62, 27, 126, 76, 116, 67, 34, 20, 90, 75, 128, 128, 89, 98, 41, 37, 58, 124, 24, 101, 132\n",
      "Scores After Sorting\n",
      " 20, 24, 24, 27, 29, 29, 34, 37, 40, 41, 42, 45, 57, 58, 62, 64, 67, 72, 73, 75, 76, 76, 77, 78, 89, 90, 91, 92, 98, 101, 113, 116, 120, 122, 124, 126, 128, 128, 132, 134, 136, 139\n"
     ]
    }
   ],
   "source": [
    "def outputScores():\n",
    "    print(str(scores)[1:-1])\n",
    "\n",
    "print(\"Scores Before Sorting\",end=\"\\n \")\n",
    "outputScores()\n",
    "QuickSort(scores)\n",
    "print(\"Scores After Sorting\",end=\"\\n \")\n",
    "outputScores()"
   ]
  }
 ],
 "metadata": {
  "kernelspec": {
   "display_name": "Python 3",
   "language": "python",
   "name": "python3"
  },
  "language_info": {
   "codemirror_mode": {
    "name": "ipython",
    "version": 3
   },
   "file_extension": ".py",
   "mimetype": "text/x-python",
   "name": "python",
   "nbconvert_exporter": "python",
   "pygments_lexer": "ipython3",
   "version": "3.7.3"
  }
 },
 "nbformat": 4,
 "nbformat_minor": 4
}
