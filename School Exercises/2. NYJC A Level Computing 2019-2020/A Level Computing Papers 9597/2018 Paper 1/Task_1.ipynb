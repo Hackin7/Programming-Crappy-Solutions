{
 "cells": [
  {
   "cell_type": "markdown",
   "metadata": {
    "colab_type": "text",
    "id": "EaB9UhwPu1x-"
   },
   "source": [
    "# A Level H2 Computing Paper 1 9597/01 2018"
   ]
  },
  {
   "cell_type": "code",
   "execution_count": 2,
   "metadata": {
    "colab": {},
    "colab_type": "code",
    "id": "ecLjjAwQZXBw"
   },
   "outputs": [],
   "source": [
    "directory = \"\""
   ]
  },
  {
   "cell_type": "markdown",
   "metadata": {
    "colab_type": "text",
    "id": "63QpVrkUzWXi"
   },
   "source": [
    "# Q1\n",
    "**Task 1.1**\n",
    "\n",
    "**Evidence 1** \n",
    "\n",
    "Your program code"
   ]
  },
  {
   "cell_type": "code",
   "execution_count": 2,
   "metadata": {
    "colab": {},
    "colab_type": "code",
    "id": "WHXSyCz5u0_B"
   },
   "outputs": [],
   "source": [
    "def task1_1():\n",
    "    ###Input########################################################\n",
    "    noMembers = int(input(\"Enter the number of members: \"))\n",
    "    ###Validation\n",
    "    while not(0 <= noMembers <= 10):\n",
    "        print(\"Only 0 to 10 whole members can be entered into the program\")\n",
    "        noMembers = int(input(\"Enter the number of memebers: \"))\n",
    "\n",
    "    def memberInput():\n",
    "        name = input(\"Enter your name: \")\n",
    "        steps = int(input(\"Enter the number of steps you have taken: \"))\n",
    "        ###Validation###\n",
    "        while not(0 <= steps <= 100000):\n",
    "            print(\"The steps input in is not within 0 to 100000 inclusive\")\n",
    "            steps = int(input(\"Enter the number of steps you have taken: \"))\n",
    "        return (name,steps)\n",
    "\n",
    "    ###Input & Comparison#################################################\n",
    "    starName = \"\" #the walker with the greatest number of steps\n",
    "    starSteps = 0 #The greatest number of steps\n",
    "    for i in range(noMembers): #10 Members\n",
    "        member = memberInput()\n",
    "        # Find walker who has taken the greatest number of steps from this data\n",
    "        if member[1] > starSteps:\n",
    "            starName = member[0]\n",
    "            starSteps = member[1]\n",
    "\n",
    "    ###Read data about the previous star of the week#########################\n",
    "    starFile = open(directory+\"STAR.TXT\")\n",
    "    prevStar = starFile.read().split(\",\")\n",
    "    prevStarName = prevStar[0]\n",
    "    prevStarSteps = prevStar[1]\n",
    "    starFile.close()\n",
    "\n",
    "    ###Displat a message###################################################\n",
    "    print(f\"Last week, {prevStarName} was the 'Star of the week' with \"+\n",
    "        f\"{prevStarSteps} steps taken.\")\n",
    "    print(f\"This week, {starName} is the 'Star of the week' with \"+\n",
    "        f\"{starSteps} steps taken.\")\n",
    "\n",
    "    ###Update the Textfile##############################################\n",
    "    starFile = open(directory+\"STAR.TXT\",\"w\")\n",
    "    starFile.write(f\"{starName}\\n,{starSteps}\")\n",
    "    starFile.close\n"
   ]
  },
  {
   "cell_type": "markdown",
   "metadata": {
    "colab_type": "text",
    "id": "-RninVMnzwBX"
   },
   "source": [
    "**Evidence 2**\n",
    "Completed table with other test cases added\n",
    "\n",
    "Test data | Purpose of test data | Expected results\n",
    "--|--|--\n",
    "Yi Ling Aw,10232 Ryan Batisah,42231 Lee Casmir,35020 Daniel Bennett, 60192 Sarah Heng Chee, 29389 Vanessa Lim, 67152 Wong Yip, 53231 Rin Xie, 34200 Tin Wee, 49480 David Bala, 32010| Test the maximum of 10 values entered into the program | 10 values entered and star of the week is Vanessa Lim with 67152 steps taken\n",
    "Jenny Aw, 100001| Boundary Invalid Case: Test if there is validation checking of the number of steps | The steps input in is not within 0 to 100000 inclusive and the program prompts for the steps taken again\n",
    "Jenny Aw, -1 | Boundary Invalid Case: Test if there is validation checking of the number of steps | The steps input in is not within 0 to 100000 inclusive and the program prompts for the steps taken again\n",
    "Jenny Aw, 2 Wendy,1| Normal Case: Test if the number of members which can be entered in are variable| 2 values are entered and star of the week is Jenny Aw with 2 steps taken\n",
    "Jenny Aw, 2 Wendy,1 Adrian,10000| Boundary Valid Case: Test if the number of members which can be entered in are variable, and test the comparison between small and large numbers of steps| 3 values are entered and star of the week is Adrian with 10000 steps taken\n",
    "Jenny Aw, h Wendy,1 Adrian,10000| Erronous/Abnormal Case|Program should crash\n",
    "\n",
    "\n",
    "**Task 1.3**\n",
    "\n",
    "Use **three** of the test cases in the table, and produce a screenshot for each\n",
    "\n",
    "**Evidence 3**\n",
    "\n",
    "Three screenshots of test cases"
   ]
  },
  {
   "cell_type": "code",
   "execution_count": 4,
   "metadata": {
    "colab": {
     "base_uri": "https://localhost:8080/",
     "height": 221
    },
    "colab_type": "code",
    "id": "2A82TcFD0iON",
    "outputId": "bc327f79-89b3-4293-f523-923239f12c6f"
   },
   "outputs": [
    {
     "name": "stdin",
     "output_type": "stream",
     "text": [
      "Enter the number of members:  3\n",
      "Enter your name:  Jenny Aw\n",
      "Enter the number of steps you have taken:  100001\n"
     ]
    },
    {
     "name": "stdout",
     "output_type": "stream",
     "text": [
      "The steps input in is not within 0 to 100000 inclusive\n"
     ]
    },
    {
     "name": "stdin",
     "output_type": "stream",
     "text": [
      "Enter the number of steps you have taken:  -1\n"
     ]
    },
    {
     "name": "stdout",
     "output_type": "stream",
     "text": [
      "The steps input in is not within 0 to 100000 inclusive\n"
     ]
    },
    {
     "name": "stdin",
     "output_type": "stream",
     "text": [
      "Enter the number of steps you have taken:  2\n",
      "Enter your name:  Wendy\n",
      "Enter the number of steps you have taken:  1\n",
      "Enter your name:  Adrian\n",
      "Enter the number of steps you have taken:  1000\n"
     ]
    },
    {
     "name": "stdout",
     "output_type": "stream",
     "text": [
      "Last week, Jenny Smith\n",
      " was the 'Star of the week' with 75827\n",
      " steps taken.\n",
      "This week, Adrian is the 'Star of the week' with 1000 steps taken.\n"
     ]
    }
   ],
   "source": [
    "task1_1()"
   ]
  },
  {
   "cell_type": "code",
   "execution_count": 4,
   "metadata": {},
   "outputs": [
    {
     "name": "stdin",
     "output_type": "stream",
     "text": [
      "Enter the number of members:  2\n",
      "Enter your name:  Jenny Aw\n",
      "Enter the number of steps you have taken:  h\n"
     ]
    },
    {
     "ename": "ValueError",
     "evalue": "invalid literal for int() with base 10: 'h'",
     "output_type": "error",
     "traceback": [
      "\u001b[0;31m---------------------------------------------------------------------------\u001b[0m",
      "\u001b[0;31mValueError\u001b[0m                                Traceback (most recent call last)",
      "\u001b[0;32m<ipython-input-4-55e24d04e2a7>\u001b[0m in \u001b[0;36m<module>\u001b[0;34m()\u001b[0m\n\u001b[0;32m----> 1\u001b[0;31m \u001b[0mtask1_1\u001b[0m\u001b[0;34m(\u001b[0m\u001b[0;34m)\u001b[0m\u001b[0;34m\u001b[0m\u001b[0;34m\u001b[0m\u001b[0m\n\u001b[0m",
      "\u001b[0;32m<ipython-input-2-cf181a713362>\u001b[0m in \u001b[0;36mtask1_1\u001b[0;34m()\u001b[0m\n\u001b[1;32m     20\u001b[0m     \u001b[0mstarSteps\u001b[0m \u001b[0;34m=\u001b[0m \u001b[0;36m0\u001b[0m \u001b[0;31m#The greatest number of steps\u001b[0m\u001b[0;34m\u001b[0m\u001b[0;34m\u001b[0m\u001b[0m\n\u001b[1;32m     21\u001b[0m     \u001b[0;32mfor\u001b[0m \u001b[0mi\u001b[0m \u001b[0;32min\u001b[0m \u001b[0mrange\u001b[0m\u001b[0;34m(\u001b[0m\u001b[0mnoMembers\u001b[0m\u001b[0;34m)\u001b[0m\u001b[0;34m:\u001b[0m \u001b[0;31m#10 Members\u001b[0m\u001b[0;34m\u001b[0m\u001b[0;34m\u001b[0m\u001b[0m\n\u001b[0;32m---> 22\u001b[0;31m         \u001b[0mmember\u001b[0m \u001b[0;34m=\u001b[0m \u001b[0mmemberInput\u001b[0m\u001b[0;34m(\u001b[0m\u001b[0;34m)\u001b[0m\u001b[0;34m\u001b[0m\u001b[0;34m\u001b[0m\u001b[0m\n\u001b[0m\u001b[1;32m     23\u001b[0m         \u001b[0;31m# Find walker who has taken the greatest number of steps from this data\u001b[0m\u001b[0;34m\u001b[0m\u001b[0;34m\u001b[0m\u001b[0;34m\u001b[0m\u001b[0m\n\u001b[1;32m     24\u001b[0m         \u001b[0;32mif\u001b[0m \u001b[0mmember\u001b[0m\u001b[0;34m[\u001b[0m\u001b[0;36m1\u001b[0m\u001b[0;34m]\u001b[0m \u001b[0;34m>\u001b[0m \u001b[0mstarSteps\u001b[0m\u001b[0;34m:\u001b[0m\u001b[0;34m\u001b[0m\u001b[0;34m\u001b[0m\u001b[0m\n",
      "\u001b[0;32m<ipython-input-2-cf181a713362>\u001b[0m in \u001b[0;36mmemberInput\u001b[0;34m()\u001b[0m\n\u001b[1;32m      9\u001b[0m     \u001b[0;32mdef\u001b[0m \u001b[0mmemberInput\u001b[0m\u001b[0;34m(\u001b[0m\u001b[0;34m)\u001b[0m\u001b[0;34m:\u001b[0m\u001b[0;34m\u001b[0m\u001b[0;34m\u001b[0m\u001b[0m\n\u001b[1;32m     10\u001b[0m         \u001b[0mname\u001b[0m \u001b[0;34m=\u001b[0m \u001b[0minput\u001b[0m\u001b[0;34m(\u001b[0m\u001b[0;34m\"Enter your name: \"\u001b[0m\u001b[0;34m)\u001b[0m\u001b[0;34m\u001b[0m\u001b[0;34m\u001b[0m\u001b[0m\n\u001b[0;32m---> 11\u001b[0;31m         \u001b[0msteps\u001b[0m \u001b[0;34m=\u001b[0m \u001b[0mint\u001b[0m\u001b[0;34m(\u001b[0m\u001b[0minput\u001b[0m\u001b[0;34m(\u001b[0m\u001b[0;34m\"Enter the number of steps you have taken: \"\u001b[0m\u001b[0;34m)\u001b[0m\u001b[0;34m)\u001b[0m\u001b[0;34m\u001b[0m\u001b[0;34m\u001b[0m\u001b[0m\n\u001b[0m\u001b[1;32m     12\u001b[0m         \u001b[0;31m###Validation###\u001b[0m\u001b[0;34m\u001b[0m\u001b[0;34m\u001b[0m\u001b[0;34m\u001b[0m\u001b[0m\n\u001b[1;32m     13\u001b[0m         \u001b[0;32mwhile\u001b[0m \u001b[0;32mnot\u001b[0m\u001b[0;34m(\u001b[0m\u001b[0;36m0\u001b[0m \u001b[0;34m<=\u001b[0m \u001b[0msteps\u001b[0m \u001b[0;34m<=\u001b[0m \u001b[0;36m100000\u001b[0m\u001b[0;34m)\u001b[0m\u001b[0;34m:\u001b[0m\u001b[0;34m\u001b[0m\u001b[0;34m\u001b[0m\u001b[0m\n",
      "\u001b[0;31mValueError\u001b[0m: invalid literal for int() with base 10: 'h'"
     ]
    }
   ],
   "source": [
    "task1_1()"
   ]
  }
 ],
 "metadata": {
  "kernelspec": {
   "display_name": "Python 3",
   "language": "python",
   "name": "python3"
  },
  "language_info": {
   "codemirror_mode": {
    "name": "ipython",
    "version": 3
   },
   "file_extension": ".py",
   "mimetype": "text/x-python",
   "name": "python",
   "nbconvert_exporter": "python",
   "pygments_lexer": "ipython3",
   "version": "3.7.3"
  }
 },
 "nbformat": 4,
 "nbformat_minor": 4
}
