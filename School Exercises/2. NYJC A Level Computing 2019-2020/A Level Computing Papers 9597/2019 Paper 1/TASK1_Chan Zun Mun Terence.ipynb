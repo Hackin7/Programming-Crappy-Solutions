{
 "cells": [
  {
   "cell_type": "markdown",
   "metadata": {
    "colab_type": "text",
    "id": "AyqBRxWEx1S2"
   },
   "source": [
    "## Q1\n",
    "**Task 1.1**"
   ]
  },
  {
   "cell_type": "code",
   "execution_count": 1,
   "metadata": {
    "colab": {
     "base_uri": "https://localhost:8080/",
     "height": 51
    },
    "colab_type": "code",
    "id": "IOSerqMvx9D1",
    "outputId": "e6eaa955-0f02-4fc4-c4f8-c27262ab440d"
   },
   "outputs": [
    {
     "name": "stdout",
     "output_type": "stream",
     "text": [
      "The highest high tide is 7.4\n",
      "The lowest low tide is 0.1\n"
     ]
    }
   ],
   "source": [
    "directory = \"\"\n",
    "tidesFile = open(directory + \"TIDES.txt\")\n",
    "highestHighTide = -1 # Invalid\n",
    "lowestLowTide = -1 # Invalid\n",
    "for i in tidesFile:\n",
    "    data = i.split(\"\\t\")\n",
    "\n",
    "    tide = data[2]\n",
    "    height = float(data[3])\n",
    "\n",
    "    if tide == \"LOW\" and \\\n",
    "       (height < lowestLowTide or lowestLowTide == -1):\n",
    "       lowestLowTide = height\n",
    "    if tide == \"HIGH\" and \\\n",
    "       (height > highestHighTide or highestHighTide == -1):\n",
    "       highestHighTide = height\n",
    "\n",
    "tidesFile.close()\n",
    "\n",
    "print(f\"The highest high tide is {highestHighTide}\")\n",
    "print(f\"The lowest low tide is {lowestLowTide}\")"
   ]
  },
  {
   "cell_type": "markdown",
   "metadata": {
    "colab_type": "text",
    "id": "jU3sHRrxz4pi"
   },
   "source": [
    "**Task 1.2**"
   ]
  },
  {
   "cell_type": "code",
   "execution_count": 2,
   "metadata": {
    "colab": {
     "base_uri": "https://localhost:8080/",
     "height": 105
    },
    "colab_type": "code",
    "id": "6rWX4qgUz3r7",
    "outputId": "e23005d0-e1fc-47f3-b375-621584c1dabd"
   },
   "outputs": [
    {
     "name": "stdout",
     "output_type": "stream",
     "text": [
      "The highest high tide is 7.4\n",
      "The lowest low tide is 0.1\n",
      "The largest tidal range is 7.4 and the date on which the second tide occurs is 2017-08-23\n",
      "The smallest tidal range is 0.1 and the date on which the second tide occurs is 2017-08-22\n"
     ]
    }
   ],
   "source": [
    "tidesFile = open(directory + \"TIDES.txt\")\n",
    "\n",
    "highestHighTide = -1 # Invalid\n",
    "lowestLowTide = -1 # Invalid\n",
    "\n",
    "largestTidalRange = -1\n",
    "largestDate = \"\"\n",
    "smallestTidalRange = -1\n",
    "smallestDate = \"\"\n",
    "\n",
    "prevHeight = 0\n",
    "for i in tidesFile:\n",
    "    data = i.split(\"\\t\")\n",
    "\n",
    "    tide = data[2]\n",
    "    height = float(data[3])\n",
    "\n",
    "    # Tidal Range\n",
    "    if lowestLowTide != -1: #Not the first one\n",
    "        tidalRange = abs(height - prevHeight)\n",
    "        if tidalRange > largestTidalRange:\n",
    "            largestTidalRange = tidalRange\n",
    "            if smallestTidalRange == -1:\n",
    "                smallestTidalRange = tidalRange\n",
    "            largestDate = data[0]\n",
    "        if tidalRange < smallestTidalRange:\n",
    "            smallestTidalRange = tidalRange\n",
    "            smallestDate = data[0]\n",
    "        \n",
    "    # Tide Range\n",
    "    if tide == \"LOW\" and \\\n",
    "       (height < lowestLowTide or lowestLowTide == -1):\n",
    "       lowestLowTide = height\n",
    "    if tide == \"HIGH\" and \\\n",
    "       (height > highestHighTide or highestHighTide == -1):\n",
    "       highestHighTide = height\n",
    "    \n",
    "    prevHeight = 0\n",
    "\n",
    "tidesFile.close()\n",
    "\n",
    "print(f\"The highest high tide is {highestHighTide}\")\n",
    "print(f\"The lowest low tide is {lowestLowTide}\")\n",
    "\n",
    "\n",
    "print(f\"The largest tidal range is {largestTidalRange} and \\\n",
    "the date on which the second tide occurs is {largestDate}\")\n",
    "print(f\"The smallest tidal range is {smallestTidalRange} and \\\n",
    "the date on which the second tide occurs is {smallestDate}\")"
   ]
  }
 ],
 "metadata": {
  "kernelspec": {
   "display_name": "Python 3",
   "language": "python",
   "name": "python3"
  },
  "language_info": {
   "codemirror_mode": {
    "name": "ipython",
    "version": 3
   },
   "file_extension": ".py",
   "mimetype": "text/x-python",
   "name": "python",
   "nbconvert_exporter": "python",
   "pygments_lexer": "ipython3",
   "version": "3.7.3"
  }
 },
 "nbformat": 4,
 "nbformat_minor": 4
}
