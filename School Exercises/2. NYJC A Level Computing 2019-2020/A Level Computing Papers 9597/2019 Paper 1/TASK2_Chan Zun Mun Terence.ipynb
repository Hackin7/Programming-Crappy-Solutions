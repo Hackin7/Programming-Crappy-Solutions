{
 "cells": [
  {
   "cell_type": "markdown",
   "metadata": {
    "colab_type": "text",
    "id": "HAMR_RqL76DR"
   },
   "source": [
    "## Q2\n",
    "**Task 2.1**"
   ]
  },
  {
   "cell_type": "code",
   "execution_count": 1,
   "metadata": {
    "colab": {
     "base_uri": "https://localhost:8080/",
     "height": 51
    },
    "colab_type": "code",
    "id": "GzGKd4udsFmx",
    "outputId": "fee3360e-082a-490b-e553-bba577ecd5ce"
   },
   "outputs": [
    {
     "name": "stdin",
     "output_type": "stream",
     "text": [
      "Enter a string of characters:  This is a word.\n"
     ]
    },
    {
     "name": "stdout",
     "output_type": "stream",
     "text": [
      "Converted: Guvf vf n jbeq.\n"
     ]
    }
   ],
   "source": [
    "def ROT_13(string):\n",
    "    uppers = \"ABCDEFGHIJKLMNOPQRSTUVWXYZ\"\n",
    "    lowers = \"abcdefghijklmnopqrstuvwxyz\"\n",
    "    \n",
    "    shift = 13\n",
    "    output = \"\"\n",
    "    for i in string:\n",
    "        if i in uppers:\n",
    "            output += chr((ord(i)- 65 + shift) % 26 + 65)\n",
    "        elif i in lowers:\n",
    "            output += chr((ord(i)- 97 + shift) % 26 + 97)\n",
    "        else:\n",
    "            output += i\n",
    "    return output\n",
    "\n",
    "def ROT_13_Driver():\n",
    "    string_of_characters = input(\"Enter a string of characters: \")\n",
    "    print(\"Converted:\",ROT_13(string_of_characters))\n",
    "ROT_13_Driver()"
   ]
  },
  {
   "cell_type": "code",
   "execution_count": 2,
   "metadata": {
    "colab": {
     "base_uri": "https://localhost:8080/",
     "height": 51
    },
    "colab_type": "code",
    "id": "U6uz3tjBmV6l",
    "outputId": "4806e3e4-162f-4636-8fa4-e358daf44372"
   },
   "outputs": [
    {
     "name": "stdin",
     "output_type": "stream",
     "text": [
      "Enter a string of characters:  ALL &&&& CAPITALS\n"
     ]
    },
    {
     "name": "stdout",
     "output_type": "stream",
     "text": [
      "Converted: NYY &&&& PNCVGNYF\n"
     ]
    }
   ],
   "source": [
    "ROT_13_Driver()"
   ]
  },
  {
   "cell_type": "code",
   "execution_count": 3,
   "metadata": {
    "colab": {
     "base_uri": "https://localhost:8080/",
     "height": 51
    },
    "colab_type": "code",
    "id": "mnqhMfnJmXCK",
    "outputId": "ec0d6582-e156-4f05-eed1-75cf5098e200"
   },
   "outputs": [
    {
     "name": "stdin",
     "output_type": "stream",
     "text": [
      "Enter a string of characters:  UpperCamelCase12()\n"
     ]
    },
    {
     "name": "stdout",
     "output_type": "stream",
     "text": [
      "Converted: HccrePnzryPnfr12()\n"
     ]
    }
   ],
   "source": [
    "ROT_13_Driver()"
   ]
  },
  {
   "cell_type": "markdown",
   "metadata": {
    "colab_type": "text",
    "id": "1Vx9xZcWmwnB"
   },
   "source": [
    "**Task 2.2**"
   ]
  },
  {
   "cell_type": "code",
   "execution_count": 4,
   "metadata": {
    "colab": {
     "base_uri": "https://localhost:8080/",
     "height": 51
    },
    "colab_type": "code",
    "id": "Wkf1Hc_WmygC",
    "outputId": "9ac08a20-c308-4dcb-ab19-8c95d5a5eec6"
   },
   "outputs": [
    {
     "name": "stdin",
     "output_type": "stream",
     "text": [
      "Enter a string of characters:  This is a word.\n"
     ]
    },
    {
     "name": "stdout",
     "output_type": "stream",
     "text": [
      "Converted: This is a word.\n"
     ]
    }
   ],
   "source": [
    "def ROT_13(string):\n",
    "    uppers = \"ABCDEFGHIJKLMNOPQRSTUVWXYZ\"\n",
    "    lowers = \"abcdefghijklmnopqrstuvwxyz\"\n",
    "    \n",
    "    shift = 13\n",
    "    output = \"\"\n",
    "    for i in string:\n",
    "        if i in uppers:\n",
    "            output += chr((ord(i)- 65 + shift) % 26 + 65)\n",
    "        elif i in lowers:\n",
    "            output += chr((ord(i)- 96 + shift) % 26 + 96)\n",
    "        else:\n",
    "            output += i\n",
    "    return output\n",
    "\n",
    "def ROT_13_Driver():\n",
    "    string_of_characters = input(\"Enter a string of characters: \")\n",
    "    print(\"Converted:\",ROT_13(ROT_13(string_of_characters)))\n",
    "ROT_13_Driver()"
   ]
  }
 ],
 "metadata": {
  "kernelspec": {
   "display_name": "Python 3",
   "language": "python",
   "name": "python3"
  },
  "language_info": {
   "codemirror_mode": {
    "name": "ipython",
    "version": 3
   },
   "file_extension": ".py",
   "mimetype": "text/x-python",
   "name": "python",
   "nbconvert_exporter": "python",
   "pygments_lexer": "ipython3",
   "version": "3.7.3"
  }
 },
 "nbformat": 4,
 "nbformat_minor": 4
}
