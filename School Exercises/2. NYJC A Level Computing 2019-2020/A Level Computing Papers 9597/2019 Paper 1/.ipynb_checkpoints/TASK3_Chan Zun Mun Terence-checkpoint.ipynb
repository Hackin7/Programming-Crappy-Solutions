{
 "cells": [
  {
   "cell_type": "markdown",
   "metadata": {
    "colab_type": "text",
    "id": "UzVKMgWFsIc4"
   },
   "source": [
    "## Q3\n",
    "**Task 3.1**\n",
    "Write program code to define the class ToDo\n",
    "\n",
    "**Evidence 5**\n",
    "Your program code\n"
   ]
  },
  {
   "cell_type": "code",
   "execution_count": 1,
   "metadata": {
    "colab": {},
    "colab_type": "code",
    "id": "f2zRRM7msUSd"
   },
   "outputs": [],
   "source": [
    "class ToDo:\n",
    "    def __init__(self, c: str, d: str):\n",
    "        #print(c,d)\n",
    "        self.category = str(c)\n",
    "        self.description = str(d)\n",
    "    \n",
    "    def set_category(self, s: str):\n",
    "        self.category = s\n",
    "    \n",
    "    def set_description(self, s: str):\n",
    "        self.description = s\n",
    "    \n",
    "    def get_category(self) -> str:\n",
    "        return self.category\n",
    "    \n",
    "    def get_description(self) -> str:\n",
    "        return self.description\n",
    "    \n",
    "    def summary(self):\n",
    "        output = f\"Category: {self.get_category()}, Description: {self.get_description()}\"\n",
    "        return output "
   ]
  },
  {
   "cell_type": "markdown",
   "metadata": {
    "colab_type": "text",
    "id": "w2XdlSN4vEXP"
   },
   "source": [
    "**Task 3.2** \n",
    "Write Program code to\n",
    "* implement the `compare_width()` method\n",
    "* create an empty list of ToDo objects\n",
    "* add each of the four objects in the text file `TASK3_2.TXT` to its appropriate place in the list\n",
    "* print out the contents using the summary method\n",
    "\n",
    "**Evidence 6** Your program code"
   ]
  },
  {
   "cell_type": "code",
   "execution_count": 3,
   "metadata": {
    "colab": {
     "base_uri": "https://localhost:8080/",
     "height": 102
    },
    "colab_type": "code",
    "id": "KvsbOkqqsntP",
    "outputId": "82273d00-6106-46e1-8c63-47070af39521"
   },
   "outputs": [
    {
     "name": "stdout",
     "output_type": "stream",
     "text": [
      "ToDo Objects:\n",
      "Category: reading, Description: Go to the library\n",
      "Category: reading, Description: Search on the web\n",
      "Category: reading, Description: Try some Shakespeare\n",
      "Category: shopping, Description: Consider items to recycle\n"
     ]
    }
   ],
   "source": [
    "#Task 3.2\n",
    "\n",
    "#Have to copy the code over again\n",
    "class ToDo:\n",
    "    def __init__(self, c: str, d: str):\n",
    "        #print(c,d)\n",
    "        self.category = str(c)\n",
    "        self.description = str(d)\n",
    "    \n",
    "    def set_category(self, s: str):\n",
    "        self.category = s\n",
    "    \n",
    "    def set_description(self, s: str):\n",
    "        self.description = s\n",
    "    \n",
    "    def get_category(self) -> str:\n",
    "        return self.category\n",
    "    \n",
    "    def get_description(self) -> str:\n",
    "        return self.description\n",
    "    \n",
    "    def summary(self):\n",
    "        output = f\"Category: {self.get_category()}, Description: {self.get_description()}\"\n",
    "        return output \n",
    "        \n",
    "    def compare_with(self, td) -> int:\n",
    "        if self.get_category() < td.get_category():\n",
    "            return -1\n",
    "        elif self.get_category() == td.get_category():\n",
    "            # Remeber to read the question, compare this if the same\n",
    "            if self.get_description() < td.get_description():\n",
    "                return -1\n",
    "            elif self.get_description() < td.get_description():\n",
    "                return 0\n",
    "            elif self.get_description() > td.get_description():\n",
    "                return 1\n",
    "        elif self.get_category() > td.get_category():\n",
    "            return 1\n",
    "\n",
    "        \n",
    "todoObjects = []\n",
    "\n",
    "to_insert = [ToDo(\"reading\", \"Try some Shakespeare\"),\n",
    "             ToDo(\"shopping\", \"Consider items to recycle\"),\n",
    "             ToDo(\"reading\", \"Search on the web\"),\n",
    "             ToDo(\"reading\", \"Go to the library\")]\n",
    "\n",
    "def cmp(a, b):\n",
    "    return a.compare_with(b) < 0 #Instance is before ToDo\n",
    "\n",
    "def insert(lis, obj, cmp=cmp):\n",
    "    i = 0 #List position\n",
    "    while i < len(lis) and cmp(lis[i],obj):\n",
    "        i += 1\n",
    "    #lis = lis[:i] + [obj] + lis[i:]\n",
    "    ###Preferred method: Insert/Append###\n",
    "    if i < len(lis):\n",
    "        lis.insert(i,obj)\n",
    "    else:\n",
    "        lis.append(obj)\n",
    "    return lis\n",
    "\n",
    "for i in to_insert:\n",
    "    todoObjects = insert(todoObjects,i)\n",
    "\n",
    "print(\"ToDo Objects:\")\n",
    "for i in todoObjects:\n",
    "    print(i.summary())"
   ]
  },
  {
   "cell_type": "markdown",
   "metadata": {
    "colab_type": "text",
    "id": "Kn_vH7kR0L6D"
   },
   "source": [
    "**Evidence 7** Your program code"
   ]
  },
  {
   "cell_type": "code",
   "execution_count": 4,
   "metadata": {
    "colab": {
     "base_uri": "https://localhost:8080/",
     "height": 153
    },
    "colab_type": "code",
    "id": "N7C6a6gMyzuj",
    "outputId": "f2b31649-c605-433d-9996-4319fab61f63"
   },
   "outputs": [
    {
     "name": "stdout",
     "output_type": "stream",
     "text": [
      "ToDo Objects:\n",
      "Category: shopping, Description: buy lemons, Due Date: 2019-11-21\n",
      "Category: reading, Description: read the newspaper, Due Date: 2019-12-01\n",
      "Category: shopping, Description: buy bread, Due Date: 2019-12-15\n",
      "Category: reading, Description: Go to the library\n",
      "Category: reading, Description: Search on the web\n",
      "Category: reading, Description: Try some Shakespeare\n",
      "Category: shopping, Description: Consider items to recycle\n"
     ]
    }
   ],
   "source": [
    "# Task 3.3\n",
    "class DatedToDo(ToDo):\n",
    "    def __init__(self,dt,c,d):\n",
    "        ToDo.__init__(self,c,d)\n",
    "        self.due_date = dt\n",
    "    \n",
    "    def set_due_date(self, d):\n",
    "        self.due_date = d\n",
    "    \n",
    "    def get_due_date(self):\n",
    "        return self.due_date\n",
    "\n",
    "    def compare_with(self, td):\n",
    "        # Using super method is prefered\n",
    "        super_comparison = super().compare_with(td) #ToDo.compare_with(self,td)\n",
    "        if type(td) == ToDo:\n",
    "            return -1 #Dated should go in front\n",
    "        else:\n",
    "            if self.due_date < td.due_date:\n",
    "                return -1\n",
    "            elif self.due_date == td.due_date:\n",
    "                return super_comparison\n",
    "            else:\n",
    "                return 1\n",
    "\n",
    "    def summary(self):\n",
    "        return ToDo.summary(self)+ \", Due Date: \"+self.due_date\n",
    "todoObjects = []\n",
    "\n",
    "to_insert = [ToDo(\"reading\", \"Try some Shakespeare\"),\n",
    "            DatedToDo(\"2019-12-15\", \"shopping\", \"buy bread\"),\n",
    "            DatedToDo(\"2019-12-01\", \"reading\", \"read the newspaper\"),\n",
    "            ToDo(\"shopping\", \"Consider items to recycle\"),\n",
    "            ToDo(\"reading\", \"Search on the web\"),\n",
    "            DatedToDo(\"2019-11-21\", \"shopping\", \"buy lemons\"),\n",
    "            ToDo(\"reading\", \"Go to the library\")]\n",
    "\n",
    "def cmp(a, b):\n",
    "    if type(a) == DatedToDo: #a is DatedToDo\n",
    "        return a.compare_with(b) < 0\n",
    "    elif type(b) ==  DatedToDo: #Only b is DatedToDo\n",
    "        return b.compare_with(a) > 0\n",
    "    else: #Both normal ToDo Objects\n",
    "        return a.compare_with(b) < 0\n",
    "\n",
    "def insert(lis, obj, cmp=cmp):\n",
    "    i = 0 #List position\n",
    "    while i < len(lis) and cmp(lis[i],obj):\n",
    "        i += 1\n",
    "    #lis = lis[:i]+[obj]+lis[i:]\n",
    "    ###Preferred method: Insert/Append###\n",
    "    if i < len(lis):\n",
    "        lis.insert(i,obj)\n",
    "    else:\n",
    "        lis.append(obj)\n",
    "    return lis\n",
    "\n",
    "for i in to_insert:\n",
    "    todoObjects = insert(todoObjects,i)\n",
    "\n",
    "print(\"ToDo Objects:\")\n",
    "for i in todoObjects:\n",
    "    print(i.summary())"
   ]
  },
  {
   "cell_type": "markdown",
   "metadata": {
    "colab_type": "text",
    "id": "5TNmynnZ3EQ9"
   },
   "source": [
    "**Evidence 8** Your amended code"
   ]
  },
  {
   "cell_type": "code",
   "execution_count": 13,
   "metadata": {
    "colab": {
     "base_uri": "https://localhost:8080/",
     "height": 153
    },
    "colab_type": "code",
    "id": "5makjFwl2ofI",
    "outputId": "4b0ee8f1-42e6-495d-f042-fc7206e34bda"
   },
   "outputs": [
    {
     "name": "stdout",
     "output_type": "stream",
     "text": [
      "The task with the following properties does not exist:\n",
      "Category: reading, Description: Try some Shakespeare\n",
      "The task with the following properties does not exist:\n",
      "Category: shopping, Description: buy bread\n",
      "The task with the following properties does not exist:\n",
      "Category: shopping, Description: buy lemons, Due Date: 2019-11-21\n",
      "The task with the following properties does not exist:\n",
      "Category: watching, Description: Go to the cinema\n",
      "\n",
      "ToDo Objects:\n",
      "Category: shopping, Description: buy lemons, Due Date: 2019-11-21\n",
      "Category: reading, Description: read the newspaper, Due Date: 2019-12-01\n",
      "Category: shopping, Description: buy bread, Due Date: 2019-12-15\n",
      "Category: reading, Description: Go to the library\n",
      "Category: reading, Description: Search on the web\n",
      "Category: reading, Description: Try some Shakespeare\n",
      "Category: shopping, Description: Consider items to recycle\n"
     ]
    }
   ],
   "source": [
    "###Recreate List from Task 3.3######################################\n",
    "class DatedToDo(ToDo):\n",
    "    def __init__(self,dt,c,d):\n",
    "        ToDo.__init__(self,c,d)\n",
    "        self.due_date = dt\n",
    "    \n",
    "    def set_due_date(self, d):\n",
    "        self.due_date = d\n",
    "    \n",
    "    def get_due_date(self):\n",
    "        return self.due_date\n",
    "\n",
    "    def compare_with(self, td):\n",
    "        # Using super method is prefered\n",
    "        super_comparison = super().compare_with(td) #ToDo.compare_with(self,td)\n",
    "        if type(td) == ToDo:\n",
    "            return -1 #Dated should go in front\n",
    "        else:\n",
    "            if self.due_date < td.due_date:\n",
    "                return -1\n",
    "            elif self.due_date == td.due_date:\n",
    "                return super_comparison\n",
    "            else:\n",
    "                return 1\n",
    "\n",
    "    def summary(self):\n",
    "        return ToDo.summary(self)+ \", Due Date: \"+self.due_date\n",
    "\n",
    "todoObjects = []\n",
    "to_insert = [ToDo(\"reading\", \"Try some Shakespeare\"),\n",
    "            DatedToDo(\"2019-12-15\", \"shopping\", \"buy bread\"),\n",
    "            DatedToDo(\"2019-12-01\", \"reading\", \"read the newspaper\"),\n",
    "            ToDo(\"shopping\", \"Consider items to recycle\"),\n",
    "            ToDo(\"reading\", \"Search on the web\"),\n",
    "            DatedToDo(\"2019-11-21\", \"shopping\", \"buy lemons\"),\n",
    "            ToDo(\"reading\", \"Go to the library\")]\n",
    "\n",
    "def cmp(a, b):\n",
    "    if type(a) == DatedToDo: #a is DatedToDo\n",
    "        return a.compare_with(b) < 0\n",
    "    elif type(b) ==  DatedToDo: #Only b is DatedToDo\n",
    "        return b.compare_with(a) > 0\n",
    "    else: #Both normal ToDo Objects\n",
    "        return a.compare_with(b) < 0\n",
    "\n",
    "def insert(lis, obj, cmp=cmp):\n",
    "    i = 0 #List position\n",
    "    while i < len(lis) and cmp(lis[i],obj):\n",
    "        i += 1\n",
    "    lis = lis[:i]+[obj]+lis[i:]\n",
    "    #print(i,lis)\n",
    "    return lis\n",
    "\n",
    "for i in to_insert:\n",
    "    todoObjects = insert(todoObjects,i)\n",
    "################################################################\n",
    "\n",
    "def equateTasks(a,b):\n",
    "    # Use the compare_with method\n",
    "    return a.compare_with(b) == 0\n",
    "        \n",
    "completed_tasks = [ToDo(\"reading\", \"Try some Shakespeare\"),\n",
    "                    ToDo(\"shopping\", \"buy bread\"),\n",
    "                    DatedToDo(\"2019-11-21\", \"shopping\", \"buy lemons\"),\n",
    "                    ToDo(\"watching\", \"Go to the cinema\")]\n",
    "i = 0 # Counter for todoObjects\n",
    "for completed in completed_tasks:\n",
    "    i = 0\n",
    "    while i < len(todoObjects):\n",
    "        if equateTasks(completed,todoObjects[i]):\n",
    "            todoObjects.pop(i)\n",
    "            i = len(todoObjects)+1\n",
    "        else:\n",
    "            i += 1\n",
    "    if i == len(todoObjects):\n",
    "        print(\"The task with the following properties does not exist:\")\n",
    "        print(completed.summary())\n",
    "\n",
    "print()\n",
    "print(\"ToDo Objects:\")\n",
    "for i in todoObjects:\n",
    "    print(i.summary())"
   ]
  }
 ],
 "metadata": {
  "kernelspec": {
   "display_name": "Python 3",
   "language": "python",
   "name": "python3"
  },
  "language_info": {
   "codemirror_mode": {
    "name": "ipython",
    "version": 3
   },
   "file_extension": ".py",
   "mimetype": "text/x-python",
   "name": "python",
   "nbconvert_exporter": "python",
   "pygments_lexer": "ipython3",
   "version": "3.7.3"
  }
 },
 "nbformat": 4,
 "nbformat_minor": 4
}
