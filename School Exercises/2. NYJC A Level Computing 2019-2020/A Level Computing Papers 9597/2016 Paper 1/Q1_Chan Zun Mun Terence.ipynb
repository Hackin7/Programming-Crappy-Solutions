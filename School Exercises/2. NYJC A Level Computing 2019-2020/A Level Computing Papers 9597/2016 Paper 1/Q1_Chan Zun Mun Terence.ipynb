{
 "cells": [
  {
   "cell_type": "code",
   "execution_count": 1,
   "metadata": {},
   "outputs": [
    {
     "name": "stdout",
     "output_type": "stream",
     "text": [
      "Integer   Frequency \n",
      "1:        52        \n",
      "2:        48        \n",
      "3:        45        \n",
      "4:        60        \n",
      "5:        57        \n",
      "6:        53        \n",
      "7:        50        \n",
      "8:        45        \n",
      "9:        50        \n",
      "10:       53        \n",
      "11:       54        \n",
      "12:       45        \n",
      "13:       42        \n",
      "14:       39        \n",
      "15:       57        \n",
      "16:       50        \n",
      "17:       44        \n",
      "18:       43        \n",
      "19:       50        \n",
      "20:       63        \n",
      "\n"
     ]
    }
   ],
   "source": [
    "## Task 1.1, Evidence 1\n",
    "import random\n",
    "def generate(numbers, range_of_numbers):\n",
    "    # Generate placeholder values\n",
    "    frequencies = []\n",
    "    for i in range(range_of_numbers + 1):\n",
    "        frequencies.append(0)\n",
    "    # Generate random numbers and mapping them\n",
    "    for i in range(numbers):\n",
    "        integer = random.randint(1,20)\n",
    "        frequencies[integer] += 1\n",
    "    return frequencies\n",
    "\n",
    "def frequency_table(frequencies):\n",
    "    output = \"\"\n",
    "    # Heading\n",
    "    output += f\"{'Integer':<10}{'Frequency':<10}\\n\"\n",
    "    # Data\n",
    "    for integer in range(1,len(frequencies)):\n",
    "        frequency = frequencies[integer]\n",
    "        # Assuming by difference, the expected value is meant\n",
    "        output += f\"{str(integer) + ':':<10}{frequency:<10}\\n\"\n",
    "    print(output)\n",
    "\n",
    "\n",
    "def task1_1():\n",
    "    numbers = 1000\n",
    "    range_of_numbers = 20\n",
    "    frequency_table( generate(numbers, range_of_numbers))\n",
    "\n",
    "task1_1()"
   ]
  },
  {
   "cell_type": "code",
   "execution_count": 2,
   "metadata": {},
   "outputs": [
    {
     "name": "stdout",
     "output_type": "stream",
     "text": [
      "Expected frequency for each number: 50.0\n",
      "Integer   Frequency Difference from expected frequency\n",
      "1:        55        5.0       \n",
      "2:        50        0.0       \n",
      "3:        48        2.0       \n",
      "4:        43        7.0       \n",
      "5:        53        3.0       \n",
      "6:        51        1.0       \n",
      "7:        49        1.0       \n",
      "8:        40        10.0      \n",
      "9:        67        17.0      \n",
      "10:       43        7.0       \n",
      "11:       50        0.0       \n",
      "12:       46        4.0       \n",
      "13:       51        1.0       \n",
      "14:       54        4.0       \n",
      "15:       50        0.0       \n",
      "16:       48        2.0       \n",
      "17:       42        8.0       \n",
      "18:       51        1.0       \n",
      "19:       57        7.0       \n",
      "20:       52        2.0       \n",
      "\n"
     ]
    }
   ],
   "source": [
    "## Task 1.2, Evidence 2\n",
    "def frequency_table(frequencies, expected):\n",
    "    output = \"\"\n",
    "    # Heading\n",
    "    output += f\"{'Integer':<10}{'Frequency':<10}{'Difference from expected frequency'}\\n\"\n",
    "    # Data\n",
    "    for integer in range(1,len(frequencies)):\n",
    "        frequency = frequencies[integer]\n",
    "        # Assuming difference refers to absolute difference\n",
    "        output += f\"{str(integer) + ':':<10}{frequency:<10}{abs(expected - frequency):<10}\\n\"\n",
    "    print(output)\n",
    "\n",
    "def expected_frequency(numbers,range_of_numbers):\n",
    "    return numbers / range_of_numbers\n",
    "\n",
    "def task1_2():\n",
    "    numbers = 1000\n",
    "    range_of_numbers = 20\n",
    "    expected = expected_frequency(numbers,range_of_numbers)\n",
    "    print(f\"Expected frequency for each number: {expected}\")\n",
    "    frequency_table( generate(numbers, range_of_numbers), expected)\n",
    "\n",
    "task1_2()"
   ]
  }
 ],
 "metadata": {
  "kernelspec": {
   "display_name": "Python 3",
   "language": "python",
   "name": "python3"
  },
  "language_info": {
   "codemirror_mode": {
    "name": "ipython",
    "version": 3
   },
   "file_extension": ".py",
   "mimetype": "text/x-python",
   "name": "python",
   "nbconvert_exporter": "python",
   "pygments_lexer": "ipython3",
   "version": "3.6.7"
  }
 },
 "nbformat": 4,
 "nbformat_minor": 2
}
