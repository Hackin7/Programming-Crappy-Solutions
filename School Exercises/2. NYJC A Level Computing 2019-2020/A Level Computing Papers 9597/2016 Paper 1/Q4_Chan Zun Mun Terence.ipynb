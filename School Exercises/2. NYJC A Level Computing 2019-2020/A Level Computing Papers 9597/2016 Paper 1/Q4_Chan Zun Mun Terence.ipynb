{
 "cells": [
  {
   "cell_type": "code",
   "execution_count": 1,
   "metadata": {},
   "outputs": [
    {
     "name": "stdout",
     "output_type": "stream",
     "text": [
      "Enter hexadecimal number in this form eg.'0F': 0F\n",
      "The denary representation of that number is: 15\n"
     ]
    }
   ],
   "source": [
    "## Task 4.1\n",
    "\n",
    "def is_valid_hexadecimal(string):\n",
    "    valid_characters = \"0123456789ABCDEFabcdef\"\n",
    "    valid = True\n",
    "    for character in string:\n",
    "        if character not in valid_characters:\n",
    "            valid = False\n",
    "    return valid\n",
    "    \n",
    "def digit_to_denary_mappings():\n",
    "    mappings = {} # Maps character to denary value\n",
    "    # Generate mappings\n",
    "    # Numbers\n",
    "    for i in range(0,9+1):\n",
    "        mappings[str(i)] = i\n",
    "    # Letters\n",
    "    for i in range(26):\n",
    "        mappings[chr(65+i)] = 10+i # Uppercase ASCII\n",
    "        mappings[chr(97+i)] = 10+i # Lowercase ASCII\n",
    "    return mappings\n",
    "    \n",
    "def hexadecimal_to_denary_digit(digit, mappings=digit_to_denary_mappings()):\n",
    "    return mappings[digit]\n",
    "    \n",
    "def hexadecimal_to_denary(hexadecimal):\n",
    "    mappings = digit_to_denary_mappings()\n",
    "    denary = 0\n",
    "    pos_base = 16\n",
    "    pos_exp = 0 # Position exponent\n",
    "    for digit in hexadecimal[::-1]: # Inverted hexadecimal string\n",
    "        denary += hexadecimal_to_denary_digit(digit, mappings) *\\\n",
    "                  (pos_base ** pos_exp)\n",
    "        pos_exp += 1\n",
    "    return denary\n",
    "\n",
    "def task4_1():\n",
    "    hexadecimal_number = input(\"Enter hexadecimal number in this form eg.'0F': \").strip()\n",
    "    while not is_valid_hexadecimal(hexadecimal_number):\n",
    "        print('The number was invalid')\n",
    "        hexadecimal_number = input(\"Enter hexadecimal number in this form eg.'0F': \").strip()\n",
    "    print(\"The denary representation of that number is:\",hexadecimal_to_denary(hexadecimal_number))\n",
    "\n",
    "task4_1()"
   ]
  },
  {
   "cell_type": "markdown",
   "metadata": {},
   "source": [
    "## Task 4.2 \n",
    "Hexadecimal number | Purpose of the test | Expected output\n",
    "--|--|--\n",
    "6ADE | Normal Test Data | 27358\n",
    "Z34A | Normal Test Data | The number was invalid\n",
    "FFFF | Extreme Test Data (Corrections done here) | 65535"
   ]
  },
  {
   "cell_type": "code",
   "execution_count": 2,
   "metadata": {},
   "outputs": [
    {
     "name": "stdout",
     "output_type": "stream",
     "text": [
      "Enter hexadecimal number in this form eg.'0F': 6ADE\n",
      "The denary representation of that number is: 27358\n",
      "Enter hexadecimal number in this form eg.'0F': Z34A\n",
      "The number was invalid\n",
      "Enter hexadecimal number in this form eg.'0F': FFFF\n",
      "The denary representation of that number is: 65535\n"
     ]
    }
   ],
   "source": [
    "## Task 4.2\n",
    "for i in range(2):\n",
    "    task4_1()"
   ]
  },
  {
   "cell_type": "code",
   "execution_count": 3,
   "metadata": {},
   "outputs": [
    {
     "name": "stdout",
     "output_type": "stream",
     "text": [
      "Enter a denary number: 0\n",
      "The hexadecimal representation of that number is:  0\n"
     ]
    }
   ],
   "source": [
    "## Task 4.3\n",
    "def denary_to_hexadecimal(denary):\n",
    "    # Mappings\n",
    "    inverted_mappings = digit_to_denary_mappings()\n",
    "    # Revert the mappings back to a usable form\n",
    "    mappings = {}\n",
    "    for character, value in inverted_mappings.items():\n",
    "        # Only uppercase and digits\n",
    "        if character.isupper() or character.isdigit(): \n",
    "            mappings[value] = character\n",
    "    # Conversion\n",
    "    hexadecimal = \"\"\n",
    "    remaining_value = denary\n",
    "    pos_base = 16\n",
    "    if remaining_value == 0:\n",
    "        return \"0\"\n",
    "    else:\n",
    "        while remaining_value > 0:\n",
    "            pos_value = remaining_value % pos_base\n",
    "            remaining_value = remaining_value // pos_base\n",
    "            hexadecimal = mappings[pos_value] + hexadecimal\n",
    "        return hexadecimal\n",
    "\n",
    "def task4_3():\n",
    "    number_string = input('Enter a denary number: ').strip()\n",
    "    while not number_string.isdigit():\n",
    "        print('The number input in was invalid')\n",
    "        number_string = input('Enter a denary number: ').strip()\n",
    "    number = int(number_string)\n",
    "    print(\"The hexadecimal representation of that number is: \",denary_to_hexadecimal(number))\n",
    "task4_3()"
   ]
  },
  {
   "cell_type": "markdown",
   "metadata": {},
   "source": [
    "## Task 4.4\n",
    "Denary number | Purpose of the test | Expected output\n",
    "--|--|--\n",
    "27358 | Normal Test Data | 6ADE\n",
    "9A | Abnormal Test Data | The number input in was invalid\n",
    "0 | Extreme Test Data | 0"
   ]
  },
  {
   "cell_type": "code",
   "execution_count": 4,
   "metadata": {},
   "outputs": [
    {
     "name": "stdout",
     "output_type": "stream",
     "text": [
      "Enter a denary number: 27358\n",
      "The hexadecimal representation of that number is:  6ADE\n",
      "Enter a denary number: 9A\n",
      "The number input in was invalid\n",
      "Enter a denary number: 0\n",
      "The hexadecimal representation of that number is:  0\n"
     ]
    }
   ],
   "source": [
    "## Task 4.4\n",
    "task4_3()\n",
    "task4_3()"
   ]
  }
 ],
 "metadata": {
  "kernelspec": {
   "display_name": "Python 3",
   "language": "python",
   "name": "python3"
  },
  "language_info": {
   "codemirror_mode": {
    "name": "ipython",
    "version": 3
   },
   "file_extension": ".py",
   "mimetype": "text/x-python",
   "name": "python",
   "nbconvert_exporter": "python",
   "pygments_lexer": "ipython3",
   "version": "3.6.7"
  }
 },
 "nbformat": 4,
 "nbformat_minor": 2
}
