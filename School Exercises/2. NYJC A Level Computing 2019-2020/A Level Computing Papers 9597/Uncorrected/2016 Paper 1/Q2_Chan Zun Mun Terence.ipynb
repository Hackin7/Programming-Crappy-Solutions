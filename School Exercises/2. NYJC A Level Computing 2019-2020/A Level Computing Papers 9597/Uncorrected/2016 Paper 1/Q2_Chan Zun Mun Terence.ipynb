{
 "cells": [
  {
   "cell_type": "code",
   "execution_count": 20,
   "metadata": {},
   "outputs": [
    {
     "name": "stdout",
     "output_type": "stream",
     "text": [
      "None\n",
      "None\n",
      "None\n",
      "None\n",
      "4\n",
      "None\n",
      "None\n",
      "7\n",
      "None\n",
      "None\n",
      "None\n",
      "None\n",
      "None\n",
      "None\n",
      "None\n",
      "None\n",
      "None\n",
      "17\n",
      "None\n",
      "19\n"
     ]
    }
   ],
   "source": [
    "## Task 2.1, Evidence 3\n",
    "class HashTable:\n",
    "    def __init__(self):\n",
    "        self.max = 20\n",
    "        # Python list to simulate an array\n",
    "        self.table = []\n",
    "        for i in range(self.max): # 0 to Max-1\n",
    "            self.table.append(None)\n",
    "        \n",
    "    def hashingFunction(IDNumber, Max=20):\n",
    "        return IDNumber % Max\n",
    "    \n",
    "    def insert(self,value):\n",
    "        address = HashTable.hashingFunction(value, self.max)\n",
    "        self.table[address] = value\n",
    "    \n",
    "    def print(self):\n",
    "        for value in self.table:\n",
    "            print(value)\n",
    "\n",
    "def readFile(filename, insert):\n",
    "    file = open(filename, 'r') # Open in read mode\n",
    "    for line in file:\n",
    "        number = int(line)\n",
    "        insert(number)\n",
    "    file.close()\n",
    "\n",
    "def task2_1():\n",
    "    table = HashTable()\n",
    "    readFile(\"KEYS1.TXT\",table.insert)\n",
    "    table.print()\n",
    "\n",
    "task2_1()"
   ]
  },
  {
   "cell_type": "code",
   "execution_count": 21,
   "metadata": {},
   "outputs": [
    {
     "name": "stdout",
     "output_type": "stream",
     "text": [
      "57\n",
      "77\n",
      "None\n",
      "None\n",
      "4\n",
      "None\n",
      "None\n",
      "7\n",
      "None\n",
      "None\n",
      "None\n",
      "None\n",
      "None\n",
      "None\n",
      "None\n",
      "None\n",
      "None\n",
      "17\n",
      "37\n",
      "19\n"
     ]
    }
   ],
   "source": [
    "## Task 2.2, Evidence 4\n",
    "class HashTableWithOpenHashing(HashTable):\n",
    "    \n",
    "    def insert(self, value):\n",
    "        address = HashTable.hashingFunction(value, self.max)\n",
    "        ## New Code #########################################################\n",
    "        # Check for an open address\n",
    "        originalAddress = address\n",
    "        while self.table[address] != None:\n",
    "            address += 1 # Move on to next address\n",
    "            address %= self.max # Prevent exceeding the index and looping around\n",
    "            if address == originalAddress:\n",
    "                raise Exception(f\"HashTable is full with a maximum capacity of {self.max}\")\n",
    "        #####################################################################\n",
    "        self.table[address] = value\n",
    "        \n",
    "def task2_2():\n",
    "    table = HashTableWithOpenHashing()\n",
    "    readFile(\"KEYS2.TXT\",table.insert)\n",
    "    table.print()\n",
    "\n",
    "task2_2()"
   ]
  },
  {
   "cell_type": "code",
   "execution_count": 23,
   "metadata": {},
   "outputs": [
    {
     "name": "stdout",
     "output_type": "stream",
     "text": [
      "Enter ID Number: 37\n",
      "Address: 18\n",
      "Enter ID Number: 77\n",
      "Address: 1\n",
      "Enter ID Number: 97\n",
      "Address: None\n"
     ]
    }
   ],
   "source": [
    "## Task 2.3, Evidence 5\n",
    "\n",
    "def findAddress(self, value): # self is the HashTable\n",
    "    counter = 0\n",
    "    while counter < len(self.table):\n",
    "        if self.table[counter] == value:\n",
    "            return counter\n",
    "        counter += 1\n",
    "\n",
    "def task2_3():\n",
    "    table = HashTableWithOpenHashing()\n",
    "    readFile(\"KEYS2.TXT\",table.insert)\n",
    "    \n",
    "    idNumber = int(input(\"Enter ID Number: \"))\n",
    "    print(f\"Address: {findAddress(table, idNumber)}\")\n",
    "\n",
    "for i in range(3):\n",
    "    task2_3()"
   ]
  },
  {
   "cell_type": "code",
   "execution_count": null,
   "metadata": {},
   "outputs": [],
   "source": []
  }
 ],
 "metadata": {
  "kernelspec": {
   "display_name": "Python 3",
   "language": "python",
   "name": "python3"
  },
  "language_info": {
   "codemirror_mode": {
    "name": "ipython",
    "version": 3
   },
   "file_extension": ".py",
   "mimetype": "text/x-python",
   "name": "python",
   "nbconvert_exporter": "python",
   "pygments_lexer": "ipython3",
   "version": "3.6.7"
  }
 },
 "nbformat": 4,
 "nbformat_minor": 2
}
