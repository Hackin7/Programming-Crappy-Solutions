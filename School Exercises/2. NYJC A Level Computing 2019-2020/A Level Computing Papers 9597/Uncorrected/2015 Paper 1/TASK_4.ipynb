{
 "cells": [
  {
   "cell_type": "markdown",
   "metadata": {},
   "source": [
    "## Task 4.1\n",
    "Test Number | User ID | Return value | Explanation of the test case\n",
    "-|-|-|-\n",
    "1 | 2015_0987 | 0 | Valid User ID\n",
    "2 | 2015_12345 | 1 | Invalid User ID: Length check: The ID is not 9 characters long\n",
    "3 | 2016_1234 | 2 | Invalid User ID: Format check, First 5 characters are incorrect\n",
    "4 | 2015_a!dh | 3 | Invalid User ID: Last 4 characters are not digits"
   ]
  },
  {
   "cell_type": "code",
   "execution_count": 1,
   "metadata": {},
   "outputs": [
    {
     "name": "stdout",
     "output_type": "stream",
     "text": [
      "Enter ID: 2015_12345\n",
      "The ID is invalid: The ID is not 9 characters long\n"
     ]
    }
   ],
   "source": [
    "## Task 4.2, Evidence 14\n",
    "\n",
    "def isDigit(string):\n",
    "    numbers = \"0123456789\"\n",
    "    for character in string:\n",
    "        if character not in numbers:\n",
    "            return False\n",
    "    return True\n",
    "def ValidateUserID(ThisUserID: str) -> int:\n",
    "    if len(ThisUserID) != 9:\n",
    "        return 1\n",
    "    elif ThisUserID[0:5] != \"2015_\":\n",
    "        return 2\n",
    "    elif not isDigit(ThisUserID[5:]):\n",
    "        return 3\n",
    "    else:\n",
    "        return 0\n",
    "\n",
    "def task4_2():\n",
    "    ID = input(\"Enter ID: \")\n",
    "    code = ValidateUserID(ID)\n",
    "    \n",
    "    if code == 0:\n",
    "        message = \"The ID is valid\"\n",
    "    elif code == 1:\n",
    "        message = \"The ID is invalid: The ID is not 9 characters long\"\n",
    "    elif code == 2:\n",
    "        message = \"The ID is invalid: First 5 characters are incorrect\"\n",
    "    elif code == 3:\n",
    "        message = \"The ID is invalid: Last 4 characters are not digits\"\n",
    "    else:\n",
    "        message = \"The ID is invalid: Unknown error\"\n",
    "    print(message)\n",
    "\n",
    "task4_2()"
   ]
  },
  {
   "cell_type": "code",
   "execution_count": 2,
   "metadata": {},
   "outputs": [
    {
     "name": "stdout",
     "output_type": "stream",
     "text": [
      "Enter ID: 2015_12345\n",
      "The ID is invalid: The ID is not 9 characters long\n",
      "Enter ID: 2016_1234\n",
      "The ID is invalid: First 5 characters are incorrect\n",
      "Enter ID: 2015_a!dh\n",
      "The ID is invalid: Last 4 characters are not digits\n"
     ]
    }
   ],
   "source": [
    "## Evidence 14 Screenshots\n",
    "for i in range(3):\n",
    "    task4_2()"
   ]
  },
  {
   "cell_type": "code",
   "execution_count": 18,
   "metadata": {},
   "outputs": [],
   "source": [
    "## Task 4.3, Evidence 15\n",
    "class PrintJob:\n",
    "    def __init__(self, userID, terminalNumber, fileSize):\n",
    "        self.userID = userID\n",
    "        self.terminalNumber = terminalNumber # from which the print request was sent\n",
    "        if not (1 <= self.terminalNumber <= 172):\n",
    "            raise Exception(\"Invalid Terminal number\")\n",
    "        self.fileSize = fileSize # in Kbytes\n",
    "\n",
    "class Queue:\n",
    "    def __init__(self):\n",
    "        self.list = [] # Python LIst implementation\n",
    "    \n",
    "    def push(self, value):\n",
    "        if len(self.list) < 5:\n",
    "            self.list = [value] + self.list\n",
    "            return True\n",
    "        else:\n",
    "            return False\n",
    "    \n",
    "    def peek(self):\n",
    "        return self.list[-1]\n",
    "    \n",
    "    def pop(self):\n",
    "        return self.list.pop()\n",
    "    \n",
    "class Printer:\n",
    "    def __init__(self, name=None):\n",
    "        self.name = name\n",
    "        self.queue = Queue()\n",
    "    \n",
    "    def addPrintJob(self, userID, terminalNumber, fileSize):\n",
    "        return self.queue.push(PrintJob(userID, terminalNumber, fileSize))\n",
    "    \n",
    "    def nextPrintJob(self):\n",
    "        return self.queue.peek()"
   ]
  },
  {
   "cell_type": "code",
   "execution_count": 19,
   "metadata": {},
   "outputs": [],
   "source": [
    "## Task 4.4, Evidence 16\n",
    "MENU_TEXT = \"\"\"\n",
    "/---------------------------------------\\\\\\n| 1. New print job added to print queue |\n",
    "| 2. Next print job output from printer |\n",
    "| 3. Current print queue displayed      |\n",
    "| 4. End                                |\n",
    "\\---------------------------------------/\"\"\"\n",
    "def menu():\n",
    "    printer = initialisePrintQueue()\n",
    "    option = 0 # Invalid option makes the program loop again\n",
    "    while option != 4:\n",
    "        print(MENU_TEXT)\n",
    "        option = int(input(\"Enter option: \"))\n",
    "        if option == 1:\n",
    "            addPrintJob(printer)\n",
    "        elif option == 2:\n",
    "            nextPrintJobOutput(printer)\n",
    "        elif option == 3:\n",
    "            displayPrintQueue(printer)\n",
    "    "
   ]
  },
  {
   "cell_type": "code",
   "execution_count": 23,
   "metadata": {},
   "outputs": [],
   "source": [
    "## Task 4.5, Evidence 17\n",
    "def initialisePrintQueue():\n",
    "    printer = Printer(\"Room16\")\n",
    "    displayPrintQueue(printer)\n",
    "    return printer\n",
    "\n",
    "def displayPrintQueue(printer):\n",
    "    print(\"\\nCurrent Print Queue (Maximum size 5):\")\n",
    "    print(\"User ID | Terminal Number | File Size (in Kbytes)\")\n",
    "    for printJob in printer.queue.list:\n",
    "        print(f\"{printJob.userID:7} | {printJob.terminalNumber:15} | {printJob.fileSize}\")"
   ]
  },
  {
   "cell_type": "code",
   "execution_count": 24,
   "metadata": {},
   "outputs": [],
   "source": [
    "## Task 4.6, Evidence 18\n",
    "from random import randint\n",
    "def addPrintJob(printer):\n",
    "    code = printer.addPrintJob(1, 172, randint(1,5))\n",
    "    if code == True:\n",
    "        print(\"Added\")\n",
    "    else:\n",
    "        print(\"The print queue is full! (max size 5)\")"
   ]
  },
  {
   "cell_type": "code",
   "execution_count": 25,
   "metadata": {},
   "outputs": [
    {
     "name": "stdout",
     "output_type": "stream",
     "text": [
      "\n",
      "Current Print Queue (Maximum size 5):\n",
      "User ID | Terminal Number | File Size (in Kbytes)\n",
      "\n",
      "/---------------------------------------\\\n",
      "| 1. New print job added to print queue |\n",
      "| 2. Next print job output from printer |\n",
      "| 3. Current print queue displayed      |\n",
      "| 4. End                                |\n",
      "\\---------------------------------------/\n",
      "Enter option: 1\n",
      "Added\n",
      "\n",
      "/---------------------------------------\\\n",
      "| 1. New print job added to print queue |\n",
      "| 2. Next print job output from printer |\n",
      "| 3. Current print queue displayed      |\n",
      "| 4. End                                |\n",
      "\\---------------------------------------/\n",
      "Enter option: 1\n",
      "Added\n",
      "\n",
      "/---------------------------------------\\\n",
      "| 1. New print job added to print queue |\n",
      "| 2. Next print job output from printer |\n",
      "| 3. Current print queue displayed      |\n",
      "| 4. End                                |\n",
      "\\---------------------------------------/\n",
      "Enter option: 1\n",
      "Added\n",
      "\n",
      "/---------------------------------------\\\n",
      "| 1. New print job added to print queue |\n",
      "| 2. Next print job output from printer |\n",
      "| 3. Current print queue displayed      |\n",
      "| 4. End                                |\n",
      "\\---------------------------------------/\n",
      "Enter option: 2\n",
      "\n",
      "Next Print Job:\n",
      "User ID | Terminal Number | File Size (in Kbytes)\n",
      "      1 |             172 | 4\n",
      "\n",
      "/---------------------------------------\\\n",
      "| 1. New print job added to print queue |\n",
      "| 2. Next print job output from printer |\n",
      "| 3. Current print queue displayed      |\n",
      "| 4. End                                |\n",
      "\\---------------------------------------/\n",
      "Enter option: 3\n",
      "\n",
      "Current Print Queue (Maximum size 5):\n",
      "User ID | Terminal Number | File Size (in Kbytes)\n",
      "      1 |             172 | 2\n",
      "      1 |             172 | 4\n",
      "      1 |             172 | 4\n",
      "\n",
      "/---------------------------------------\\\n",
      "| 1. New print job added to print queue |\n",
      "| 2. Next print job output from printer |\n",
      "| 3. Current print queue displayed      |\n",
      "| 4. End                                |\n",
      "\\---------------------------------------/\n",
      "Enter option: 4\n"
     ]
    }
   ],
   "source": [
    "## Task 4.7, Evidence 19\n",
    "def nextPrintJobOutput(printer):\n",
    "    printJob = printer.nextPrintJob()\n",
    "    print(\"\\nNext Print Job:\")\n",
    "    print(\"User ID | Terminal Number | File Size (in Kbytes)\")\n",
    "    print(f\"{printJob.userID:7} | {printJob.terminalNumber:15} | {printJob.fileSize}\")\n",
    "\n",
    "menu()"
   ]
  }
 ],
 "metadata": {
  "kernelspec": {
   "display_name": "Python 3",
   "language": "python",
   "name": "python3"
  },
  "language_info": {
   "codemirror_mode": {
    "name": "ipython",
    "version": 3
   },
   "file_extension": ".py",
   "mimetype": "text/x-python",
   "name": "python",
   "nbconvert_exporter": "python",
   "pygments_lexer": "ipython3",
   "version": "3.6.7"
  }
 },
 "nbformat": 4,
 "nbformat_minor": 2
}
