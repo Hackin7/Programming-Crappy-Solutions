{
 "cells": [
  {
   "cell_type": "code",
   "execution_count": 2,
   "metadata": {},
   "outputs": [
    {
     "name": "stdout",
     "output_type": "stream",
     "text": [
      "0\n",
      "0\n",
      "0\n",
      "1\n",
      "1\n",
      "1\n"
     ]
    }
   ],
   "source": [
    "## Task 2.1, Evidence 6\n",
    "def Converter(DenaryNumber: int):\n",
    "    if DenaryNumber == 0 or DenaryNumber == 1:\n",
    "        print(DenaryNumber)\n",
    "    else:\n",
    "        print(DenaryNumber % 2)\n",
    "        Converter(DenaryNumber // 2) # Floor Division\n",
    "Converter(56)"
   ]
  },
  {
   "cell_type": "markdown",
   "metadata": {},
   "source": [
    "## Task 2.2\n",
    "### Evidence 7\n",
    "The algorithm prints the binary number in reverse, as the positions of line 7 and line 6 is such that the recursive call happens after printing. It prints from the smallest digit place to the largest digit place, instead of the other wat around\n",
    "\n",
    "## Task 2.3\n",
    "### Evidence 8, Test Cases\n",
    "\n",
    "For the expected output, each character has a new line after it\n",
    "eg. `10` =>\n",
    "```\n",
    "1\n",
    "0\n",
    "```\n",
    "\n",
    "Denary Number | Purpose of the test | Expected output\n",
    "--|--|--\n",
    "1 | Test on normal data (base case) | 1\n",
    "8 | Test on normal data | 1000\n",
    "4096 | Test on extreme data | 1000000000000"
   ]
  },
  {
   "cell_type": "code",
   "execution_count": 8,
   "metadata": {},
   "outputs": [
    {
     "name": "stdout",
     "output_type": "stream",
     "text": [
      "The data used: 1\n",
      "1\n",
      "The data used: 8\n",
      "1\n",
      "0\n",
      "0\n",
      "0\n",
      "The data used: 4096\n",
      "1\n",
      "0\n",
      "0\n",
      "0\n",
      "0\n",
      "0\n",
      "0\n",
      "0\n",
      "0\n",
      "0\n",
      "0\n",
      "0\n",
      "0\n"
     ]
    }
   ],
   "source": [
    "## Task 2.3, Evidence 8\n",
    "def Converter(DenaryNumber: int):\n",
    "    if DenaryNumber == 0 or DenaryNumber == 1:\n",
    "        print(DenaryNumber)\n",
    "    else:\n",
    "        Converter(DenaryNumber // 2) # Floor Division\n",
    "        print(DenaryNumber % 2)\n",
    "\n",
    "testData = [1, 8, 4096]\n",
    "for data in testData:\n",
    "    print(f\"The data used: {data}\")\n",
    "    Converter(data)"
   ]
  }
 ],
 "metadata": {
  "kernelspec": {
   "display_name": "Python 3",
   "language": "python",
   "name": "python3"
  },
  "language_info": {
   "codemirror_mode": {
    "name": "ipython",
    "version": 3
   },
   "file_extension": ".py",
   "mimetype": "text/x-python",
   "name": "python",
   "nbconvert_exporter": "python",
   "pygments_lexer": "ipython3",
   "version": "3.6.4"
  }
 },
 "nbformat": 4,
 "nbformat_minor": 2
}
