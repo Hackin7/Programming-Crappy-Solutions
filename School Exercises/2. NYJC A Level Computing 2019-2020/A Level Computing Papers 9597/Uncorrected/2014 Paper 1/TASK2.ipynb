{
 "cells": [
  {
   "cell_type": "markdown",
   "metadata": {},
   "source": [
    "# Task 2.1\n",
    "```\n",
    "A: Low > High\n",
    "B: (Low + High) DIV 2\n",
    "C: BinarySearch(ThisArray, FindValue, Middle + 1, High)\n",
    "```"
   ]
  },
  {
   "cell_type": "code",
   "execution_count": 8,
   "metadata": {},
   "outputs": [
    {
     "name": "stdout",
     "output_type": "stream",
     "text": [
      "Enter animal name: ant\n",
      "The animal name is found at MyAnimal[1]\n"
     ]
    }
   ],
   "source": [
    "# Task 2.2\n",
    "def initialiseAnimals():\n",
    "    # Python list to simulate an array\n",
    "    global MyAnimal\n",
    "    MyAnimal = []\n",
    "    for i in range(32+1):\n",
    "        MyAnimal.append(\"\")\n",
    "    MyAnimal[0]=\"aardvark\"\n",
    "    MyAnimal[1]=\"ant\"\n",
    "    MyAnimal[2]=\"antelope\"\n",
    "    MyAnimal[3]=\"bat\"\n",
    "    MyAnimal[4]=\"boa constrictor\"\n",
    "    MyAnimal[5]=\"camel\"\n",
    "    MyAnimal[6]=\"cat\"\n",
    "    MyAnimal[7]=\"cheetah\"\n",
    "    MyAnimal[8]=\"dog\"\n",
    "    MyAnimal[9]=\"donkey\"\n",
    "    MyAnimal[10]=\"duck\"\n",
    "    MyAnimal[11]=\"elephant\"\n",
    "    MyAnimal[12]=\"frog\"\n",
    "    MyAnimal[13]=\"giraffe\"\n",
    "    MyAnimal[14]=\"hare\"\n",
    "    MyAnimal[15]=\"horse\"\n",
    "    MyAnimal[16]=\"iguana\"\n",
    "    MyAnimal[17]=\"jackass\"\n",
    "    MyAnimal[18]=\"jaguar\"\n",
    "    MyAnimal[19]=\"leopard\"\n",
    "    MyAnimal[20]=\"lion\"\n",
    "    MyAnimal[21]=\"llama\"\n",
    "    MyAnimal[22]=\"mouse\"\n",
    "    MyAnimal[23]=\"ostrich\"\n",
    "    MyAnimal[24]=\"panther\"\n",
    "    MyAnimal[25]=\"parrot\"\n",
    "    MyAnimal[26]=\"rhinoceros\"\n",
    "    MyAnimal[27]=\"seahorse\"\n",
    "    MyAnimal[28]=\"seal\"\n",
    "    MyAnimal[29]=\"spider\"\n",
    "    MyAnimal[30]=\"turtle\"\n",
    "    MyAnimal[31]=\"whale\"\n",
    "    MyAnimal[32]=\"zebra\"\n",
    "\n",
    "def BinarySearch(ThisArray, FindValue, Low, High):\n",
    "    if Low > High:\n",
    "        return -1 # Not found\n",
    "    else:\n",
    "        Middle = (Low + High) // 2\n",
    "        if ThisArray[Middle] > FindValue:\n",
    "            return BinarySearch(ThisArray, FindValue, Low, Middle - 1)\n",
    "        elif ThisArray[Middle] < FindValue:\n",
    "            return BinarySearch(ThisArray, FindValue, Middle + 1, High)\n",
    "        else:\n",
    "            return Middle\n",
    "        \n",
    "#BinarySearch([1,2,3,4,5,6,7], 2,0,7)\n",
    "def task2_2():\n",
    "    initialiseAnimals()\n",
    "    animal = input(\"Enter animal name: \")\n",
    "    pos = BinarySearch(MyAnimal, animal, 0, len(MyAnimal))\n",
    "    if pos == -1: # Not found\n",
    "        print(f\"The animal name is not found\")\n",
    "    else:\n",
    "        print(f\"The animal name is found at MyAnimal[{pos}]\")\n",
    "\n",
    "task2_2()"
   ]
  },
  {
   "cell_type": "code",
   "execution_count": 11,
   "metadata": {},
   "outputs": [
    {
     "name": "stdout",
     "output_type": "stream",
     "text": [
      "Enter animal name: horse\n",
      "After 6 function calls of BinarySearch were made\n",
      "The animal name is found at MyAnimal[15]\n",
      "Enter animal name: hello\n",
      "After 7 function calls of BinarySearch were made\n",
      "The animal name is not found\n"
     ]
    }
   ],
   "source": [
    "# Task 2.3\n",
    "def BinarySearch(ThisArray, FindValue, Low, High): # Returns pos, functionCalls\n",
    "    if Low > High:\n",
    "        return -1, 1 # Not found\n",
    "    else:\n",
    "        Middle = (Low + High) // 2\n",
    "        if ThisArray[Middle] > FindValue:\n",
    "            pos, functionCalls = BinarySearch(ThisArray, FindValue, Low, Middle - 1)\n",
    "            return pos, functionCalls + 1\n",
    "        elif ThisArray[Middle] < FindValue:\n",
    "            pos, functionCalls = BinarySearch(ThisArray, FindValue, Middle + 1, High)\n",
    "            return pos, functionCalls + 1\n",
    "        else:\n",
    "            return Middle, 1\n",
    "        \n",
    "def task2_3():\n",
    "    MyAnimal = initialiseAnimals()\n",
    "    animal = input(\"Enter animal name: \")\n",
    "    pos, functionCalls = BinarySearch(MyAnimal, animal, 0, len(MyAnimal))\n",
    "    print(f\"After {functionCalls} function calls of BinarySearch were made\")\n",
    "    if pos == -1: # Not found\n",
    "        print(f\"The animal name is not found\")\n",
    "    else:\n",
    "        print(f\"The animal name is found at MyAnimal[{pos}]\")\n",
    "\n",
    "for i in range(2):\n",
    "    task2_3()"
   ]
  }
 ],
 "metadata": {
  "kernelspec": {
   "display_name": "Python 3",
   "language": "python",
   "name": "python3"
  },
  "language_info": {
   "codemirror_mode": {
    "name": "ipython",
    "version": 3
   },
   "file_extension": ".py",
   "mimetype": "text/x-python",
   "name": "python",
   "nbconvert_exporter": "python",
   "pygments_lexer": "ipython3",
   "version": "3.6.7"
  }
 },
 "nbformat": 4,
 "nbformat_minor": 2
}
