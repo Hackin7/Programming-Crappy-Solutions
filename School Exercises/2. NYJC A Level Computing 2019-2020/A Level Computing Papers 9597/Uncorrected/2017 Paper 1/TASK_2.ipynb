{
 "cells": [
  {
   "cell_type": "code",
   "execution_count": 27,
   "metadata": {},
   "outputs": [
    {
     "data": {
      "text/plain": [
       "\"\\n\\nAnswers are commented out\\n\\nA: CheckDigit = CalCheckDigit(NewNumber,Total)\\nB: return 'X' \\nC: return Number + CheckDigit\\n\\n\""
      ]
     },
     "execution_count": 27,
     "metadata": {},
     "output_type": "execute_result"
    }
   ],
   "source": [
    "## Task 2.1\n",
    "## Evidence 3\n",
    "'''\n",
    "\n",
    "Answers are commented out\n",
    "\n",
    "A: CheckDigit = CalCheckDigit(NewNumber,Total)\n",
    "B: return 'X' \n",
    "C: return Number + CheckDigit\n",
    "\n",
    "'''"
   ]
  },
  {
   "cell_type": "code",
   "execution_count": 28,
   "metadata": {},
   "outputs": [
    {
     "name": "stdout",
     "output_type": "stream",
     "text": [
      "0070109109\n",
      "0070311366\n",
      "0026515628\n",
      "0030020786\n",
      "0030350840\n",
      "0070350485\n",
      "007035958X\n"
     ]
    }
   ],
   "source": [
    "## Task 2.2\n",
    "## Evidence 4 and Evidence 5\n",
    "\n",
    "def CalCheckDigit(Number:str, Total:int) -> str:\n",
    "    if len(Number) > 1:\n",
    "        Digit = int(Number[0]) # Get leftmost character\n",
    "        Total = Total + (Digit * (len(Number)+1))\n",
    "        NewNumber = Number[-(len(Number)-1):] # Get remaining characters\n",
    "        ### A ################################\n",
    "        CheckDigit = CalCheckDigit(NewNumber,Total)\n",
    "    else:\n",
    "        ## Calculate Check Digit\n",
    "        Digit = int(Number[0]) # Get leftmost character\n",
    "        Total = Total + (Digit * (len(Number)+1))\n",
    "        CalcModulus = Total % 11 \n",
    "        CheckValue = 11 - CalcModulus\n",
    "        if CheckValue == 11: # Equality Check\n",
    "            return str(0)\n",
    "        else:\n",
    "            if CheckValue == 10:\n",
    "                ### B ##############################\n",
    "                return 'X' \n",
    "            else:\n",
    "                return str(CheckValue)\n",
    "\n",
    "    if len(Number) == 9:\n",
    "        ### C #########################\n",
    "        return Number + CheckDigit # Return the final ISBN\n",
    "    else:\n",
    "        return CheckDigit\n",
    "        \n",
    "\n",
    "    #ISBN = CalCheckDigit(\"184146208\",0)\n",
    "\n",
    "def readIsbnFromFile(filename):\n",
    "    isbns = [] # list as appropriate data structure\n",
    "    \n",
    "    file = open(filename, \"r\") # Open in read mode\n",
    "    for i in file:\n",
    "        isbns.append(i.strip()) #Remove trailing new line\n",
    "    file.close()\n",
    "    \n",
    "    return isbns\n",
    "\n",
    "isbns = readIsbnFromFile(\"ISBNPRE.txt\")\n",
    "\n",
    "#print(f\"{'CalCheckDigit'}\")\n",
    "for isbn in isbns:\n",
    "    print(f\"{CalCheckDigit(isbn,0)}\")"
   ]
  }
 ],
 "metadata": {
  "kernelspec": {
   "display_name": "Python 3",
   "language": "python",
   "name": "python3"
  },
  "language_info": {
   "codemirror_mode": {
    "name": "ipython",
    "version": 3
   },
   "file_extension": ".py",
   "mimetype": "text/x-python",
   "name": "python",
   "nbconvert_exporter": "python",
   "pygments_lexer": "ipython3",
   "version": "3.8.2"
  }
 },
 "nbformat": 4,
 "nbformat_minor": 2
}
