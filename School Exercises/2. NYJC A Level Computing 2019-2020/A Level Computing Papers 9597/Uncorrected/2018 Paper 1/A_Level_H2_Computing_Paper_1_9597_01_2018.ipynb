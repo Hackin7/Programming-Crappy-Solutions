{
 "cells": [
  {
   "cell_type": "markdown",
   "metadata": {
    "colab_type": "text",
    "id": "EaB9UhwPu1x-"
   },
   "source": [
    "# A Level H2 Computing Paper 1 9597/01 2018"
   ]
  },
  {
   "cell_type": "code",
   "execution_count": 8,
   "metadata": {
    "colab": {},
    "colab_type": "code",
    "id": "ecLjjAwQZXBw"
   },
   "outputs": [],
   "source": [
    "directory = \"\"\n",
    "#directory = \"/content/drive/My Drive/ColabFiles/A Level H2 Computing Paper 1 9579_01 2018/\""
   ]
  },
  {
   "cell_type": "code",
   "execution_count": 9,
   "metadata": {
    "colab": {
     "base_uri": "https://localhost:8080/",
     "height": 34
    },
    "colab_type": "code",
    "id": "5WN9cXon4OOA",
    "outputId": "ee87093e-da70-4c6a-d75b-d75cc43a6610"
   },
   "outputs": [],
   "source": [
    "#from google.colab import drive\n",
    "#drive.mount('/content/drive/', force_remount=True)"
   ]
  },
  {
   "cell_type": "code",
   "execution_count": 10,
   "metadata": {
    "colab": {},
    "colab_type": "code",
    "id": "UrFTMXeiY_1N"
   },
   "outputs": [],
   "source": [
    "#from os import listdir\n",
    "#from os.path import isfile, join"
   ]
  },
  {
   "cell_type": "markdown",
   "metadata": {
    "colab_type": "text",
    "id": "63QpVrkUzWXi"
   },
   "source": [
    "# Q1\n",
    "**Task 1.1**\n",
    "\n",
    "**Evidence 1** \n",
    "\n",
    "Your program code"
   ]
  },
  {
   "cell_type": "code",
   "execution_count": 11,
   "metadata": {
    "colab": {},
    "colab_type": "code",
    "id": "WHXSyCz5u0_B"
   },
   "outputs": [],
   "source": [
    "def task1_1():\n",
    "    ###Input########################################################\n",
    "    noMembers = int(input(\"Enter the number of members: \"))\n",
    "    ###Validation\n",
    "    while not(0 <= noMembers <= 10):\n",
    "        print(\"Only 0 to 10 whole members can be entered into the program\")\n",
    "        noMembers = int(input(\"Enter the number of memebers: \"))\n",
    "\n",
    "    def memberInput():\n",
    "        name = input(\"Enter your name: \")\n",
    "        steps = int(input(\"Enter the number of steps you have taken: \"))\n",
    "        ###Validation###\n",
    "        while not(0 <= steps <= 100000):\n",
    "            print(\"The steps input in is not within 0 to 100000 inclusive\")\n",
    "            steps = int(input(\"Enter the number of steps you have taken: \"))\n",
    "        return (name,steps)\n",
    "\n",
    "    ###Input & Comparison#################################################\n",
    "    starName = \"\" #the walker with the greatest number of steps\n",
    "    starSteps = 0 #The greatest number of steps\n",
    "    for i in range(noMembers): #10 Members\n",
    "        member = memberInput()\n",
    "        # Find walker who has taken the greatest number of steps from this data\n",
    "        if member[1] > starSteps:\n",
    "            starName = member[0]\n",
    "            starSteps = member[1]\n",
    "\n",
    "    ###Read data about the previous star of the week#########################\n",
    "    starFile = open(directory+\"STAR.TXT\")\n",
    "    prevStar = starFile.read().split(\",\")\n",
    "    prevStarName = prevStar[0]\n",
    "    prevStarSteps = prevStar[1]\n",
    "    starFile.close()\n",
    "\n",
    "    ###Displat a message###################################################\n",
    "    print(f\"Last week, {prevStarName} was the 'Star of the week' with \"+\n",
    "        f\"{prevStarSteps} steps taken.\")\n",
    "    print(f\"This week, {starName} is the 'Star of the week' with \"+\n",
    "        f\"{starSteps} steps taken.\")\n",
    "\n",
    "    ###Update the Textfile##############################################\n",
    "    starFile = open(directory+\"STAR.TXT\",\"w\")\n",
    "    starFile.write(f\"{starName}\\n,{starSteps}\")\n",
    "    starFile.close\n"
   ]
  },
  {
   "cell_type": "markdown",
   "metadata": {
    "colab_type": "text",
    "id": "-RninVMnzwBX"
   },
   "source": [
    "**Evidence 2**\n",
    "Completed table with other test cases added\n",
    "\n",
    "Test data | Purpose of test data | Expected results\n",
    "--|--|--\n",
    "Yi Ling Aw,10232 Ryan Batisah,42231 Lee Casmir,35020 Daniel Bennett, 60192 Sarah Heng Chee, 29389 Vanessa Lim, 67152 Wong Yip, 53231 Rin Xie, 34200 Tin Wee, 49480 David Bala, 32010| Test the maximum of 10 values entered into the program | 10 values entered and star of the week is Vanessa Lim with 67152 steps taken\n",
    "Jenny Aw, 100001| Test if there is validation checking of the number of steps | The steps input in is not within 0 to 100000 inclusive and the program prompts for the steps taken again\n",
    "Jenny Aw, -1 | Test if there is validation checking of the number of steps | The steps input in is not within 0 to 100000 inclusive and the program prompts for the steps taken again\n",
    "Jenny Aw, 2 Wendy,1| Test if the number of members which can be entered in are variable| 2 values are entered and star of the week is Jenny Aw with 2 steps taken\n",
    "Jenny Aw, 2 Wendy,1 Adrian,1000| Test if the number of members which can be entered in are variable, and test the comparison between small and large numbers of steps| 3 values are entered and star of the week is Adrian with 1000 steps taken\n",
    "\n",
    "\n",
    "**Task 1.3**\n",
    "\n",
    "Use **three** of the test cases in the table, and produce a screenshot for each\n",
    "\n",
    "**Evidence 3**\n",
    "\n",
    "Three screenshots of test cases"
   ]
  },
  {
   "cell_type": "code",
   "execution_count": 12,
   "metadata": {
    "colab": {
     "base_uri": "https://localhost:8080/",
     "height": 221
    },
    "colab_type": "code",
    "id": "2A82TcFD0iON",
    "outputId": "bc327f79-89b3-4293-f523-923239f12c6f"
   },
   "outputs": [
    {
     "name": "stdin",
     "output_type": "stream",
     "text": [
      "Enter the number of members:  0\n"
     ]
    },
    {
     "name": "stdout",
     "output_type": "stream",
     "text": [
      "Last week, Jenny Aw\n",
      " was the 'Star of the week' with 2 steps taken.\n",
      "This week,  is the 'Star of the week' with 0 steps taken.\n"
     ]
    }
   ],
   "source": [
    "task1_1()"
   ]
  },
  {
   "cell_type": "markdown",
   "metadata": {
    "colab_type": "text",
    "id": "scXDoKnJvf87"
   },
   "source": [
    "## Q2\n",
    "**Task 2.1**\n",
    "\n",
    "Write program code to implement this algorithm. Ensure you add the missing code to complete the algorithm. The area of missing code is highlighted as `<swap Scores[First] with Scores[RightMark]`\n",
    "Copy the sample data available in the SCORES.TXT file.Paste this into your programming code to set up the data to be sorted\n",
    "\n",
    "**Evidence 4**\n",
    "\n",
    "Your Program code\n"
   ]
  },
  {
   "cell_type": "code",
   "execution_count": 13,
   "metadata": {
    "colab": {},
    "colab_type": "code",
    "id": "fHQWtpowvfO7"
   },
   "outputs": [],
   "source": [
    "def QuickSort(Scores):\n",
    "    QuickSortHelper(Scores, 0, len(Scores) - 1)\n",
    "    return Scores    \n",
    "\n",
    "def QuickSortHelper(Scores, First, Last):\n",
    "    if First < Last:\n",
    "        SplitPoint = Partition(Scores, First, Last)\n",
    "        QuickSortHelper(Scores, First, SplitPoint - 1)\n",
    "        QuickSortHelper(Scores, SplitPoint + 1, Last)\n",
    "    return Scores    \n",
    "\n",
    "def Partition(Scores, First, Last):\n",
    "    PivotValue = Scores[First]\n",
    "    LeftMark = First + 1\n",
    "    RightMark = Last\n",
    "    Done = False\n",
    "    while (Done == False): \n",
    "        while LeftMark <= RightMark and Scores[LeftMark] <= PivotValue:\n",
    "            LeftMark = LeftMark + 1\n",
    "        while Scores[RightMark] >= PivotValue and RightMark >= LeftMark:\n",
    "            RightMark = RightMark - 1        \n",
    "        if RightMark < LeftMark:\n",
    "                Done = True\n",
    "        else:\n",
    "            Temp = Scores[LeftMark]\n",
    "            Scores[LeftMark] = Scores[RightMark]\n",
    "            Scores[RightMark] = Temp\n",
    "    #<swap Scores[First] with Scores[RightMark]>\n",
    "    temp = Scores[First]\n",
    "    Scores[First] = Scores[RightMark]\n",
    "    Scores[RightMark] = temp\n",
    "\n",
    "    return RightMark\n",
    "\n",
    "scores = [72,45,120,57,76,29,40,42,113,77,64,29,91,122,134,139,24,92,136,73,78,62,27,126,76,116,67,34,20,90,75,128,128,89,98,41,37,58,124,24,101,132]"
   ]
  },
  {
   "cell_type": "markdown",
   "metadata": {
    "colab_type": "text",
    "id": "LXtEXDXIwFG6"
   },
   "source": [
    "**Task 2.2**\n",
    "\n",
    "Add a function to your code to output Scores. Call this function before and after the operation of quick sort so that the unsorted and sorted data is displayed\n",
    "\n",
    "**Evidence 5**\n",
    "\n",
    "Your program code\n",
    "\n",
    "**Evidence 6**\n",
    "\n",
    "Screenshot showing the unsorted and sorted Scores data."
   ]
  },
  {
   "cell_type": "code",
   "execution_count": 14,
   "metadata": {
    "colab": {
     "base_uri": "https://localhost:8080/",
     "height": 105
    },
    "colab_type": "code",
    "id": "I1IX5QOWwXoU",
    "outputId": "cbff97df-607f-499e-8922-3dfcb83b8629"
   },
   "outputs": [
    {
     "name": "stdout",
     "output_type": "stream",
     "text": [
      "Scores Before Sorting\n",
      " 72, 45, 120, 57, 76, 29, 40, 42, 113, 77, 64, 29, 91, 122, 134, 139, 24, 92, 136, 73, 78, 62, 27, 126, 76, 116, 67, 34, 20, 90, 75, 128, 128, 89, 98, 41, 37, 58, 124, 24, 101, 132\n",
      "Scores After Sorting\n",
      " 20, 24, 24, 27, 29, 29, 34, 37, 40, 41, 42, 45, 57, 58, 62, 64, 67, 72, 73, 75, 76, 76, 77, 78, 89, 90, 91, 92, 98, 101, 113, 116, 120, 122, 124, 126, 128, 128, 132, 134, 136, 139\n"
     ]
    }
   ],
   "source": [
    "def outputScores():\n",
    "    print(str(scores)[1:-1])\n",
    "\n",
    "print(\"Scores Before Sorting\",end=\"\\n \")\n",
    "outputScores()\n",
    "QuickSort(scores)\n",
    "print(\"Scores After Sorting\",end=\"\\n \")\n",
    "outputScores()"
   ]
  },
  {
   "cell_type": "markdown",
   "metadata": {
    "colab_type": "text",
    "id": "Tjsx5EUKwYEv"
   },
   "source": [
    "## Q3\n",
    "**Task 3.1**\n",
    "\n",
    "Use program code to create a \n",
    "* record structure to hold the name and telephone number for one person\n",
    "* data structure, using this record structure to store 500 records\n",
    "\n",
    "**Evidence 7**\n",
    "\n",
    "Your program code."
   ]
  },
  {
   "cell_type": "code",
   "execution_count": 15,
   "metadata": {
    "colab": {},
    "colab_type": "code",
    "id": "SY8fBlXEw6qk"
   },
   "outputs": [],
   "source": [
    "class RecordStructure:\n",
    "    def __init__(self,name,telephone):\n",
    "        self.name = name\n",
    "        self.telephone = telephone\n",
    "    ###Getter Methods######################\n",
    "    def getName(self):\n",
    "        return self.name\n",
    "    def getTelephone(self):\n",
    "        return self.telephone\n",
    "    ###Setter Methods######################\n",
    "    def setName(self,name):\n",
    "        self.name = name\n",
    "    def setTelephone(self,telephone):\n",
    "        self.telephone = telephone\n",
    "\n",
    "class DataStructure:\n",
    "    def __init__(self):\n",
    "        self.capacity = 500\n",
    "        self.data = [None] * self.capacity\n",
    "    def insert(self, index, record):\n",
    "        self.data[index] = record\n",
    "    def getCapacity(self):\n",
    "        return self.capacity\n",
    "    def getRecord(self, index):\n",
    "        return self.data[index]"
   ]
  },
  {
   "cell_type": "markdown",
   "metadata": {
    "colab_type": "text",
    "id": "cUS8Es1sw7Yj"
   },
   "source": [
    "**Task 3.2**\n",
    "\n",
    "**Evidence 8**\n",
    "\n",
    "Your program code\n",
    "\n",
    "**Evidence 9**\n",
    "\n",
    "A screenshot showing the output"
   ]
  },
  {
   "cell_type": "code",
   "execution_count": 16,
   "metadata": {
    "colab": {
     "base_uri": "https://localhost:8080/",
     "height": 1000
    },
    "colab_type": "code",
    "id": "7z-2MXTQawxz",
    "outputId": "fa8015cf-82ff-458f-a882-d0a42bdd0ec0"
   },
   "outputs": [
    {
     "ename": "FileNotFoundError",
     "evalue": "[Errno 2] No such file or directory: 'HASHEDDATA.TXT'",
     "output_type": "error",
     "traceback": [
      "\u001b[0;31m---------------------------------------------------------------------------\u001b[0m",
      "\u001b[0;31mFileNotFoundError\u001b[0m                         Traceback (most recent call last)",
      "\u001b[0;32m<ipython-input-16-a1c31b27e5ac>\u001b[0m in \u001b[0;36m<module>\u001b[0;34m()\u001b[0m\n\u001b[1;32m      2\u001b[0m \u001b[0;34m\u001b[0m\u001b[0m\n\u001b[1;32m      3\u001b[0m \u001b[0;31m###Extract Data from file\u001b[0m\u001b[0;34m\u001b[0m\u001b[0;34m\u001b[0m\u001b[0;34m\u001b[0m\u001b[0m\n\u001b[0;32m----> 4\u001b[0;31m \u001b[0mhashedDataFile\u001b[0m \u001b[0;34m=\u001b[0m \u001b[0mopen\u001b[0m\u001b[0;34m(\u001b[0m\u001b[0mdirectory\u001b[0m \u001b[0;34m+\u001b[0m \u001b[0;34m\"HASHEDDATA.TXT\"\u001b[0m\u001b[0;34m)\u001b[0m\u001b[0;34m\u001b[0m\u001b[0;34m\u001b[0m\u001b[0m\n\u001b[0m\u001b[1;32m      5\u001b[0m \u001b[0;32mfor\u001b[0m \u001b[0mline\u001b[0m \u001b[0;32min\u001b[0m \u001b[0mhashedDataFile\u001b[0m\u001b[0;34m:\u001b[0m\u001b[0;34m\u001b[0m\u001b[0;34m\u001b[0m\u001b[0m\n\u001b[1;32m      6\u001b[0m     \u001b[0mrecordData\u001b[0m \u001b[0;34m=\u001b[0m \u001b[0mline\u001b[0m\u001b[0;34m.\u001b[0m\u001b[0mrstrip\u001b[0m\u001b[0;34m(\u001b[0m\u001b[0;34m)\u001b[0m\u001b[0;34m.\u001b[0m\u001b[0msplit\u001b[0m\u001b[0;34m(\u001b[0m\u001b[0;34m\",\"\u001b[0m\u001b[0;34m)\u001b[0m\u001b[0;34m\u001b[0m\u001b[0;34m\u001b[0m\u001b[0m\n",
      "\u001b[0;31mFileNotFoundError\u001b[0m: [Errno 2] No such file or directory: 'HASHEDDATA.TXT'"
     ]
    }
   ],
   "source": [
    "data = DataStructure()\n",
    "\n",
    "###Extract Data from file\n",
    "hashedDataFile = open(directory + \"HASHEDDATA.TXT\")\n",
    "for line in hashedDataFile:\n",
    "    recordData = line.rstrip().split(\",\")\n",
    "    index = int(recordData[0])\n",
    "    name = recordData[1]\n",
    "    telephoneNumber = recordData[2]\n",
    "    record = RecordStructure(name, telephoneNumber)\n",
    "    data.insert(index, record)\n",
    "\n",
    "hashedDataFile.close()\n",
    "\n",
    "def DisplayValues():\n",
    "    print(f\"{'Index':5}| {'Name':30} | {'Telephone Number'}\")\n",
    "    for i in range(data.capacity):\n",
    "        record = data.getRecord(i)\n",
    "        if record.name != \"\": #If the name exists\n",
    "            print(f\"{i:5}| {record.name:30} | {record.telephone}\")\n",
    "DisplayValues()"
   ]
  },
  {
   "cell_type": "markdown",
   "metadata": {
    "colab_type": "text",
    "id": "eY67hHo0xW8S"
   },
   "source": [
    "**Task 3.3**\n",
    "\n",
    "**Evidence 10**\n",
    "\n",
    "Your program code\n",
    "\n",
    "**Evidence 11**\n",
    "\n",
    "A screenshot (or screenshots) of your program to show the results of the hash calclation for both the given test data values."
   ]
  },
  {
   "cell_type": "code",
   "execution_count": null,
   "metadata": {
    "colab": {},
    "colab_type": "code",
    "id": "7-2vpM5KxjYG"
   },
   "outputs": [],
   "source": [
    "def GenerateHash(SearchName:str) -> int:\n",
    "    ##Following Pseudocode\n",
    "    HashTotal = 0\n",
    "    for position in range(len(SearchName)):\n",
    "        character = SearchName[position]\n",
    "        asciiCode = ord(character)\n",
    "        HashTotal += asciiCode * (position + 1) #Position is 1 indexed\n",
    "    Hash = HashTotal % 500\n",
    "    return Hash"
   ]
  },
  {
   "cell_type": "code",
   "execution_count": null,
   "metadata": {
    "colab": {
     "base_uri": "https://localhost:8080/",
     "height": 34
    },
    "colab_type": "code",
    "id": "wE9ldHqJdm4A",
    "outputId": "e4111a50-9fe7-4312-a00e-3e6696e5b79a"
   },
   "outputs": [],
   "source": [
    "GenerateHash(\"Tait Davinder\")"
   ]
  },
  {
   "cell_type": "code",
   "execution_count": null,
   "metadata": {
    "colab": {
     "base_uri": "https://localhost:8080/",
     "height": 34
    },
    "colab_type": "code",
    "id": "TSifBMwLd0to",
    "outputId": "fb440e25-2c84-4449-9302-7393c5e299b7"
   },
   "outputs": [],
   "source": [
    "GenerateHash(\"Anandan Yeo\")"
   ]
  },
  {
   "cell_type": "markdown",
   "metadata": {
    "colab_type": "text",
    "id": "4ec0BoUneGxd"
   },
   "source": [
    "**Task 3.4**\n"
   ]
  },
  {
   "cell_type": "code",
   "execution_count": null,
   "metadata": {
    "colab": {},
    "colab_type": "code",
    "id": "ciwzq5W6eJL2"
   },
   "outputs": [],
   "source": [
    "def SearchRecord(name):\n",
    "    recordIndex = GenerateHash(name)\n",
    "    record = data.getRecord(recordIndex)\n",
    "    while record.name != name and record.name != \"\":\n",
    "        recordIndex += 1 #Compare with next record\n",
    "        record.name = data.getRecord(recordIndex).name\n",
    "    if record.name == \"\": #An empty record is found\n",
    "        print(\"The name is NOT FOUND\")\n",
    "    else: #Record is found\n",
    "        print(\"Index:\",recordIndex)\n",
    "        print(\"Name:\",record.name)\n",
    "        print(\"Telephone:\",record.telephone)"
   ]
  },
  {
   "cell_type": "code",
   "execution_count": null,
   "metadata": {
    "colab": {
     "base_uri": "https://localhost:8080/",
     "height": 68
    },
    "colab_type": "code",
    "id": "pKJHdzOXfZv9",
    "outputId": "347850cf-9ee1-4a73-e392-4e4b7f05ce17"
   },
   "outputs": [],
   "source": [
    "SearchRecord(\"Charlie Love\")"
   ]
  },
  {
   "cell_type": "code",
   "execution_count": null,
   "metadata": {
    "colab": {
     "base_uri": "https://localhost:8080/",
     "height": 68
    },
    "colab_type": "code",
    "id": "cR9AQAi1fdZd",
    "outputId": "97a9e68d-7702-4a84-ce2a-b0ad3e7bcf44"
   },
   "outputs": [],
   "source": [
    "SearchRecord(\"Chin Tan\")"
   ]
  },
  {
   "cell_type": "code",
   "execution_count": null,
   "metadata": {
    "colab": {
     "base_uri": "https://localhost:8080/",
     "height": 34
    },
    "colab_type": "code",
    "id": "q7p5OqPNfe0d",
    "outputId": "c1f925ce-b889-4a7b-f5b5-879cedf3c8f1"
   },
   "outputs": [],
   "source": [
    "SearchRecord(\"John Barrowman\")"
   ]
  },
  {
   "cell_type": "markdown",
   "metadata": {
    "colab_type": "text",
    "id": "gJGc5rD-xj-D"
   },
   "source": [
    "## Q4\n",
    "(Took 48 min in total)\n",
    "\n",
    "**Task 4.1**\n",
    "\n",
    "**Evidence 14**\n"
   ]
  },
  {
   "cell_type": "code",
   "execution_count": null,
   "metadata": {
    "colab": {},
    "colab_type": "code",
    "id": "N8kZSZCDxvgH"
   },
   "outputs": [],
   "source": [
    "###Map Data##############################\n",
    "data = \\\n",
    "\"\"\"\\\n",
    "XXXXXXXXXX\n",
    "X........X\n",
    "X.X.X.XX.X\n",
    "X.X..P...X\n",
    "X.XXXXXX.X\n",
    "X...O....X\n",
    "X.X.XX.X.X\n",
    "X.X....X.X\n",
    "X.XX.XXX.X\n",
    "X........X\n",
    "XXXXXXXXXX\\\n",
    "\"\"\"\n",
    "\n",
    "###Map Processing##################################\n",
    "layout = data.split(\"\\n\") # List of rows\n",
    "for y in range(len(layout)): #Make each row be a list\n",
    "    layout[y] = list(layout[y])\n",
    "\n",
    "width = len(layout[1])\n",
    "height = len(layout)\n",
    "\n",
    "###Remove Interactive items\n",
    "layout[5][4] = '.'\n",
    "layout[3][5] = '.'"
   ]
  },
  {
   "cell_type": "markdown",
   "metadata": {
    "colab_type": "text",
    "id": "9RGb2soox0N0"
   },
   "source": [
    "**Task 4.2**\n",
    "\n",
    "**Evidence 15**\n",
    "\n",
    "Your program code\n",
    "\n",
    "**Evidence 16**\n",
    "\n",
    "A screenshot of the maze as output by your program"
   ]
  },
  {
   "cell_type": "code",
   "execution_count": null,
   "metadata": {
    "colab": {
     "base_uri": "https://localhost:8080/",
     "height": 196
    },
    "colab_type": "code",
    "id": "QJaf0lzdxzrK",
    "outputId": "2997eca7-ac0f-4a5e-deef-50bd12794031"
   },
   "outputs": [],
   "source": [
    "def display(layout, height, width,coordinatesMap = {}):\n",
    "    output = \"\"\n",
    "    for y in range(height):\n",
    "        for x in range(width):\n",
    "            if (x,y) in coordinatesMap.keys():\n",
    "                output += coordinatesMap[(x,y)]\n",
    "            else:\n",
    "                output += layout[y][x]\n",
    "        output += \"\\n\" #New line\n",
    "    print(output[:-1]) #Exclude last new line\n",
    "\n",
    "def randomCoordinates(layout, height, width):\n",
    "    # Generate random coordinates for prize\n",
    "    from random import randint\n",
    "    prizeX = randint(0,width-1)\n",
    "    prizeY = randint(0,height-1)\n",
    "    # Regenerate coordinates if current coordinates not suitable\n",
    "    while layout[prizeY][prizeX] == 'X':\n",
    "        prizeX = randint(0,width-1)\n",
    "        prizeY = randint(0,height-1)\n",
    "    return (prizeX,prizeY)\n",
    "\n",
    "items = {}\n",
    "items[randomCoordinates(layout, height, width)] = 'P'\n",
    "display(layout, height, width,items)"
   ]
  },
  {
   "cell_type": "code",
   "execution_count": null,
   "metadata": {
    "colab": {},
    "colab_type": "code",
    "id": "5KTFuJng-Q7D"
   },
   "outputs": [],
   "source": []
  },
  {
   "cell_type": "markdown",
   "metadata": {
    "colab_type": "text",
    "id": "agL674otyDrt"
   },
   "source": [
    "**Task 4.3**\n",
    "\n",
    "**Evidence 17**\n",
    "\n",
    "Your program code"
   ]
  },
  {
   "cell_type": "markdown",
   "metadata": {
    "colab_type": "text",
    "id": "kQjXjOrZyKfV"
   },
   "source": [
    "**Task 4.4**\n",
    "\n",
    "**Evidence 18**\n",
    "\n",
    "Your program code\n",
    "\n",
    "**Evidence 19**\n",
    "\n",
    "Screenshots of \n",
    "* entering each direction\n",
    "* player changing position\n",
    "* end of game (player wins)"
   ]
  },
  {
   "cell_type": "markdown",
   "metadata": {
    "colab_type": "text",
    "id": "S8m-Qv5HAbhZ"
   },
   "source": [
    "Task 4.3 and Task 4.4 have the same code"
   ]
  },
  {
   "cell_type": "code",
   "execution_count": null,
   "metadata": {
    "colab": {
     "base_uri": "https://localhost:8080/",
     "height": 1000
    },
    "colab_type": "code",
    "id": "UXjh_YDPyC4C",
    "outputId": "e4263183-4e47-4ca6-faf6-22a55cbba7b8"
   },
   "outputs": [],
   "source": [
    "def gameplay(layout, height, width):\n",
    "    # Starting positions\n",
    "    playerX = 4\n",
    "    playerY = 5\n",
    "    prizeCoordinates = randomCoordinates(layout, height, width)\n",
    "    while (playerX,playerY) == prizeCoordinates:\n",
    "         prizeCoordinates = randomCoordinates(layout, height, width)\n",
    "\n",
    "    # Initialising items\n",
    "    items = {}\n",
    "    items[(playerX,playerY)] = 'O'\n",
    "    items[prizeCoordinates] = 'P'\n",
    "\n",
    "    # Menu\n",
    "    print(\"Commands:\")\n",
    "    print(\"1. 'U' to move up\")\n",
    "    print(\"2. 'D' to move down\")\n",
    "    print(\"3. 'L' to move left\")\n",
    "    print(\"4. 'R' to move right\")\n",
    "    print(\"5. '' to continue with the previous move. If there is no previous move, do nothing\" )\n",
    "    # Gameplay Loop\n",
    "    prevDirection = \"\"\n",
    "    while (playerX,playerY) != prizeCoordinates:\n",
    "        print(\"\\n###Current Layout#########################\")\n",
    "        display(layout, height, width,items)\n",
    "        direction = input(\"Enter direction: \")\n",
    "\n",
    "        del items[(playerX,playerY)] #Remove past Coordinates\n",
    "        # Movement: Continue with previous direction\n",
    "        # If no previous direction, direction would be \"\", and not match\n",
    "        if direction == \"\":\n",
    "            direction = prevDirection\n",
    "        # Movement: Check direction and if new position if valid\n",
    "        if direction == 'U' and layout[playerY-1][playerX] != 'X': #Up\n",
    "            playerY -= 1 \n",
    "        elif direction == 'D' and layout[playerY+1][playerX] != 'X': #Down\n",
    "            playerY += 1\n",
    "        elif direction == 'L' and layout[playerY][playerX-1] != 'X': #Left\n",
    "            playerX -= 1\n",
    "        elif direction == 'R' and layout[playerY][playerX+1] != 'X': #Right\n",
    "            playerX += 1\n",
    "\n",
    "        items[(playerX,playerY)] = 'O'\n",
    "        prevDirection = direction\n",
    "\n",
    "    print(\"Player has reached the prize\")\n",
    "\n",
    "gameplay(layout, height, width)"
   ]
  }
 ],
 "metadata": {
  "colab": {
   "collapsed_sections": [],
   "name": "A Level H2 Computing Paper 1 9597/01 2018.ipynb",
   "provenance": []
  },
  "kernelspec": {
   "display_name": "Python 3",
   "language": "python",
   "name": "python3"
  },
  "language_info": {
   "codemirror_mode": {
    "name": "ipython",
    "version": 3
   },
   "file_extension": ".py",
   "mimetype": "text/x-python",
   "name": "python",
   "nbconvert_exporter": "python",
   "pygments_lexer": "ipython3",
   "version": "3.7.3"
  }
 },
 "nbformat": 4,
 "nbformat_minor": 4
}
