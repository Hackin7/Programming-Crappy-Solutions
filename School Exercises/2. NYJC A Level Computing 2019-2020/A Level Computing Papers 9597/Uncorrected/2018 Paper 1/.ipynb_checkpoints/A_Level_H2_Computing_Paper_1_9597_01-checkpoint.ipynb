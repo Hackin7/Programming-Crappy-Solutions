{
  "nbformat": 4,
  "nbformat_minor": 0,
  "metadata": {
    "colab": {
      "name": "A Level H2 Computing Paper 1 9597/01.ipynb",
      "provenance": [],
      "collapsed_sections": []
    },
    "kernelspec": {
      "name": "python3",
      "display_name": "Python 3"
    }
  },
  "cells": [
    {
      "cell_type": "markdown",
      "metadata": {
        "id": "iy6ZWi3Ho46g",
        "colab_type": "text"
      },
      "source": [
        "# A Level H2 Computing Paper 1 9597/01\n"
      ]
    },
    {
      "cell_type": "code",
      "metadata": {
        "id": "5WN9cXon4OOA",
        "colab_type": "code",
        "outputId": "8a5a971a-8433-405b-9e9b-7e0117d36df6",
        "colab": {
          "base_uri": "https://localhost:8080/",
          "height": 34
        }
      },
      "source": [
        "from google.colab import drive\n",
        "drive.mount('/content/drive/')"
      ],
      "execution_count": 0,
      "outputs": [
        {
          "output_type": "stream",
          "text": [
            "Mounted at /content/drive/\n"
          ],
          "name": "stdout"
        }
      ]
    },
    {
      "cell_type": "code",
      "metadata": {
        "id": "89kmUO_o9YBB",
        "colab_type": "code",
        "colab": {}
      },
      "source": [
        "directory = \"/content/drive/My Drive/ColabFiles/\""
      ],
      "execution_count": 0,
      "outputs": []
    },
    {
      "cell_type": "markdown",
      "metadata": {
        "id": "AyqBRxWEx1S2",
        "colab_type": "text"
      },
      "source": [
        "## Q1\n",
        "**Task 1.1**"
      ]
    },
    {
      "cell_type": "code",
      "metadata": {
        "id": "IOSerqMvx9D1",
        "colab_type": "code",
        "outputId": "e6eaa955-0f02-4fc4-c4f8-c27262ab440d",
        "colab": {
          "base_uri": "https://localhost:8080/",
          "height": 51
        }
      },
      "source": [
        "tidesFile = open(directory + \"TIDES.txt\")\n",
        "highestHighTide = -1 # Invalid\n",
        "lowestLowTide = -1 # Invalid\n",
        "for i in tidesFile:\n",
        "    data = i.split(\"\\t\")\n",
        "\n",
        "    tide = data[2]\n",
        "    height = float(data[3])\n",
        "\n",
        "    if tide == \"LOW\" and \\\n",
        "       (height < lowestLowTide or lowestLowTide == -1):\n",
        "       lowestLowTide = height\n",
        "    if tide == \"HIGH\" and \\\n",
        "       (height > highestHighTide or highestHighTide == -1):\n",
        "       highestHighTide = height\n",
        "\n",
        "tidesFile.close()\n",
        "\n",
        "print(f\"The highest high tide is {highestHighTide}\")\n",
        "print(f\"The lowest low tide is {lowestLowTide}\")"
      ],
      "execution_count": 0,
      "outputs": [
        {
          "output_type": "stream",
          "text": [
            "The highest high tide is 7.4\n",
            "The lowest low tide is 0.1\n"
          ],
          "name": "stdout"
        }
      ]
    },
    {
      "cell_type": "markdown",
      "metadata": {
        "id": "jU3sHRrxz4pi",
        "colab_type": "text"
      },
      "source": [
        "**Task 1.2**"
      ]
    },
    {
      "cell_type": "code",
      "metadata": {
        "id": "6rWX4qgUz3r7",
        "colab_type": "code",
        "outputId": "e23005d0-e1fc-47f3-b375-621584c1dabd",
        "colab": {
          "base_uri": "https://localhost:8080/",
          "height": 105
        }
      },
      "source": [
        "tidesFile = open(directory + \"TIDES.txt\")\n",
        "\n",
        "highestHighTide = -1 # Invalid\n",
        "lowestLowTide = -1 # Invalid\n",
        "\n",
        "largestTidalRange = -1\n",
        "largestDate = \"\"\n",
        "smallestTidalRange = -1\n",
        "smallestDate = \"\"\n",
        "\n",
        "prevHeight = 0\n",
        "for i in tidesFile:\n",
        "    data = i.split(\"\\t\")\n",
        "\n",
        "    tide = data[2]\n",
        "    height = float(data[3])\n",
        "\n",
        "    # Tidal Range\n",
        "    if lowestLowTide != -1: #Not the first one\n",
        "        tidalRange = abs(height - prevHeight)\n",
        "        if tidalRange > largestTidalRange:\n",
        "            largestTidalRange = tidalRange\n",
        "            if smallestTidalRange == -1:\n",
        "                smallestTidalRange = tidalRange\n",
        "            largestDate = data[0]\n",
        "        if tidalRange < smallestTidalRange:\n",
        "            smallestTidalRange = tidalRange\n",
        "            smallestDate = data[0]\n",
        "        \n",
        "    # Tide Range\n",
        "    if tide == \"LOW\" and \\\n",
        "       (height < lowestLowTide or lowestLowTide == -1):\n",
        "       lowestLowTide = height\n",
        "    if tide == \"HIGH\" and \\\n",
        "       (height > highestHighTide or highestHighTide == -1):\n",
        "       highestHighTide = height\n",
        "    \n",
        "    prevHeight = 0\n",
        "\n",
        "tidesFile.close()\n",
        "\n",
        "print(f\"The highest high tide is {highestHighTide}\")\n",
        "print(f\"The lowest low tide is {lowestLowTide}\")\n",
        "\n",
        "\n",
        "print(f\"The largest tidal range is {largestTidalRange} and \\\n",
        "the date on which the second tide occurs is {largestDate}\")\n",
        "print(f\"The smallest tidal range is {smallestTidalRange} and \\\n",
        "the date on which the second tide occurs is {smallestDate}\")"
      ],
      "execution_count": 0,
      "outputs": [
        {
          "output_type": "stream",
          "text": [
            "The highest high tide is 7.4\n",
            "The lowest low tide is 0.1\n",
            "The largest tidal range is 7.4 and the date on which the second tide occurs is 2017-08-23\n",
            "The smallest tidal range is 0.1 and the date on which the second tide occurs is 2017-08-22\n"
          ],
          "name": "stdout"
        }
      ]
    },
    {
      "cell_type": "markdown",
      "metadata": {
        "id": "HAMR_RqL76DR",
        "colab_type": "text"
      },
      "source": [
        "## Q2\n",
        "**Task 2.1**"
      ]
    },
    {
      "cell_type": "code",
      "metadata": {
        "id": "GzGKd4udsFmx",
        "colab_type": "code",
        "outputId": "fee3360e-082a-490b-e553-bba577ecd5ce",
        "colab": {
          "base_uri": "https://localhost:8080/",
          "height": 51
        }
      },
      "source": [
        "def ROT_13(string):\n",
        "    uppers = \"ABCDEFGHIJKLMNOPQRSTUVWXYZ\"\n",
        "    lowers = \"abcdefghijklmnopqrstuvwxyz\"\n",
        "    \n",
        "    shift = 13\n",
        "    output = \"\"\n",
        "    for i in string:\n",
        "        if i in uppers:\n",
        "            output += chr((ord(i)- 65 + shift) % 26 + 65)\n",
        "        elif i in lowers:\n",
        "            output += chr((ord(i)- 97 + shift) % 26 + 97)\n",
        "        else:\n",
        "            output += i\n",
        "    return output\n",
        "\n",
        "def ROT_13_Driver():\n",
        "    string_of_characters = input(\"Enter a string of characters: \")\n",
        "    print(\"Converted:\",ROT_13(string_of_characters))\n",
        "ROT_13_Driver()"
      ],
      "execution_count": 0,
      "outputs": [
        {
          "output_type": "stream",
          "text": [
            "Enter a string of characters: This is a word.\n",
            "Converted: Guvf vf n jbeq.\n"
          ],
          "name": "stdout"
        }
      ]
    },
    {
      "cell_type": "code",
      "metadata": {
        "id": "U6uz3tjBmV6l",
        "colab_type": "code",
        "outputId": "4806e3e4-162f-4636-8fa4-e358daf44372",
        "colab": {
          "base_uri": "https://localhost:8080/",
          "height": 51
        }
      },
      "source": [
        "ROT_13_Driver()"
      ],
      "execution_count": 0,
      "outputs": [
        {
          "output_type": "stream",
          "text": [
            "Enter a string of characters: ALL &&&& CAPITALS\n",
            "Converted: NYY &&&& PNCVGNYF\n"
          ],
          "name": "stdout"
        }
      ]
    },
    {
      "cell_type": "code",
      "metadata": {
        "id": "mnqhMfnJmXCK",
        "colab_type": "code",
        "outputId": "ec0d6582-e156-4f05-eed1-75cf5098e200",
        "colab": {
          "base_uri": "https://localhost:8080/",
          "height": 51
        }
      },
      "source": [
        "ROT_13_Driver()"
      ],
      "execution_count": 0,
      "outputs": [
        {
          "output_type": "stream",
          "text": [
            "Enter a string of characters: UpperCamelCase12()\n",
            "Converted: HccrePnzryPnfr12()\n"
          ],
          "name": "stdout"
        }
      ]
    },
    {
      "cell_type": "markdown",
      "metadata": {
        "id": "1Vx9xZcWmwnB",
        "colab_type": "text"
      },
      "source": [
        "**Task 2.2**"
      ]
    },
    {
      "cell_type": "code",
      "metadata": {
        "id": "Wkf1Hc_WmygC",
        "colab_type": "code",
        "outputId": "9ac08a20-c308-4dcb-ab19-8c95d5a5eec6",
        "colab": {
          "base_uri": "https://localhost:8080/",
          "height": 51
        }
      },
      "source": [
        "def ROT_13(string):\n",
        "    uppers = \"ABCDEFGHIJKLMNOPQRSTUVWXYZ\"\n",
        "    lowers = \"abcdefghijklmnopqrstuvwxyz\"\n",
        "    \n",
        "    shift = 13\n",
        "    output = \"\"\n",
        "    for i in string:\n",
        "        if i in uppers:\n",
        "            output += chr((ord(i)- 65 + shift) % 26 + 65)\n",
        "        elif i in lowers:\n",
        "            output += chr((ord(i)- 96 + shift) % 26 + 96)\n",
        "        else:\n",
        "            output += i\n",
        "    return output\n",
        "\n",
        "def ROT_13_Driver():\n",
        "    string_of_characters = input(\"Enter a string of characters: \")\n",
        "    print(\"Converted:\",ROT_13(ROT_13(string_of_characters)))\n",
        "ROT_13_Driver()"
      ],
      "execution_count": 0,
      "outputs": [
        {
          "output_type": "stream",
          "text": [
            "Enter a string of characters: This is a word.\n",
            "Converted: This is a word.\n"
          ],
          "name": "stdout"
        }
      ]
    },
    {
      "cell_type": "markdown",
      "metadata": {
        "id": "UzVKMgWFsIc4",
        "colab_type": "text"
      },
      "source": [
        "## Q3\n",
        "**Task 3.1**\n",
        "Write program code to define the class ToDo\n",
        "\n",
        "**Evidence 5**\n",
        "Your program code\n"
      ]
    },
    {
      "cell_type": "code",
      "metadata": {
        "id": "f2zRRM7msUSd",
        "colab_type": "code",
        "colab": {}
      },
      "source": [
        "class ToDo:\n",
        "    def __init__(self, c: str, d: str):\n",
        "        #print(c,d)\n",
        "        self.category = str(c)\n",
        "        self.description = str(d)\n",
        "    \n",
        "    def set_category(self, s: str):\n",
        "        self.category = s\n",
        "    \n",
        "    def set_description(self, s: str):\n",
        "        self.description = s\n",
        "    \n",
        "    def get_category(self) -> str:\n",
        "        return self.category\n",
        "    \n",
        "    def get_description(self) -> str:\n",
        "        return self.description\n",
        "    \n",
        "    def summary(self):\n",
        "        output = f\"Category: {self.get_category()}, Description: {self.get_description()}\"\n",
        "        return output \n",
        "        \n",
        "    def compare_with(self, td) -> int:\n",
        "        if self.get_category() < td.get_category():\n",
        "            return -1\n",
        "        elif self.get_category() == td.get_category():\n",
        "            return 0\n",
        "        elif self.get_category() > td.get_category():\n",
        "            return 1\n"
      ],
      "execution_count": 0,
      "outputs": []
    },
    {
      "cell_type": "markdown",
      "metadata": {
        "id": "w2XdlSN4vEXP",
        "colab_type": "text"
      },
      "source": [
        "**Task 3.2** \n",
        "Write Program code to\n",
        "* implement the `compare_width()` method\n",
        "* create an empty list od ToDo objects\n",
        "* add each of the four objects in the text file `TASK3_2.TXT` to its appropriate place in the list\n",
        "* print out the contents using the summary method\n",
        "\n",
        "**Evidence 6** Your program code"
      ]
    },
    {
      "cell_type": "code",
      "metadata": {
        "id": "KvsbOkqqsntP",
        "colab_type": "code",
        "outputId": "82273d00-6106-46e1-8c63-47070af39521",
        "colab": {
          "base_uri": "https://localhost:8080/",
          "height": 102
        }
      },
      "source": [
        "todoObjects = []\n",
        "\n",
        "to_insert = [ToDo(\"reading\", \"Try some Shakespeare\"),\n",
        "             ToDo(\"shopping\", \"Consider items to recycle\"),\n",
        "             ToDo(\"reading\", \"Search on the web\"),\n",
        "             ToDo(\"reading\", \"Go to the library\")]\n",
        "\n",
        "def cmp(a, b):\n",
        "    return a.compare_with(b) < 0 #Instance is before ToDo\n",
        "\n",
        "def insert(lis, obj, cmp=cmp):\n",
        "    i = 0 #List position\n",
        "    while i < len(lis) and cmp(lis[i],obj):\n",
        "        i += 1\n",
        "    lis = lis[:i]+[obj]+lis[i:]\n",
        "    #print(i,lis)\n",
        "    return lis\n",
        "\n",
        "for i in to_insert:\n",
        "    todoObjects = insert(todoObjects,i)\n",
        "\n",
        "print(\"ToDo Objects:\")\n",
        "for i in todoObjects:\n",
        "    print(i.summary())"
      ],
      "execution_count": 0,
      "outputs": [
        {
          "output_type": "stream",
          "text": [
            "ToDo Objects:\n",
            "Category: reading, Description: Go to the library\n",
            "Category: reading, Description: Search on the web\n",
            "Category: reading, Description: Try some Shakespeare\n",
            "Category: shopping, Description: Consider items to recycle\n"
          ],
          "name": "stdout"
        }
      ]
    },
    {
      "cell_type": "markdown",
      "metadata": {
        "id": "Kn_vH7kR0L6D",
        "colab_type": "text"
      },
      "source": [
        "**Evidence 7** Your program code"
      ]
    },
    {
      "cell_type": "code",
      "metadata": {
        "id": "N7C6a6gMyzuj",
        "colab_type": "code",
        "outputId": "f2b31649-c605-433d-9996-4319fab61f63",
        "colab": {
          "base_uri": "https://localhost:8080/",
          "height": 153
        }
      },
      "source": [
        "class DatedToDo(ToDo):\n",
        "    def __init__(self,dt,c,d):\n",
        "        ToDo.__init__(self,c,d)\n",
        "        self.due_date = dt\n",
        "    \n",
        "    def set_due_date(self, d):\n",
        "        self.due_date = d\n",
        "    \n",
        "    def get_due_date(self):\n",
        "        return self.due_date\n",
        "\n",
        "    def compare_with(self, td):\n",
        "        super_comparison = ToDo.compare_with(self,td)\n",
        "        if type(td) == ToDo:\n",
        "            return -1 #Dated should go in front\n",
        "        else:\n",
        "            if self.due_date < td.due_date:\n",
        "                return -1\n",
        "            elif self.due_date == td.due_date:\n",
        "                return super_comparison\n",
        "            else:\n",
        "                return 1\n",
        "\n",
        "    def summary(self):\n",
        "        return ToDo.summary(self)+ \", Due Date: \"+self.due_date\n",
        "todoObjects = []\n",
        "\n",
        "to_insert = [ToDo(\"reading\", \"Try some Shakespeare\"),\n",
        "            DatedToDo(\"2019-12-15\", \"shopping\", \"buy bread\"),\n",
        "            DatedToDo(\"2019-12-01\", \"reading\", \"read the newspaper\"),\n",
        "            ToDo(\"shopping\", \"Consider items to recycle\"),\n",
        "            ToDo(\"reading\", \"Search on the web\"),\n",
        "            DatedToDo(\"2019-11-21\", \"shopping\", \"buy lemons\"),\n",
        "            ToDo(\"reading\", \"Go to the library\")]\n",
        "\n",
        "def cmp(a, b):\n",
        "    if type(a) == DatedToDo: #a is DatedToDo\n",
        "        return a.compare_with(b) < 0\n",
        "    elif type(b) ==  DatedToDo: #Only b is DatedToDo\n",
        "        return b.compare_with(a) > 0\n",
        "    else: #Both normal ToDo Objects\n",
        "        return a.compare_with(b) < 0\n",
        "\n",
        "def insert(lis, obj, cmp=cmp):\n",
        "    i = 0 #List position\n",
        "    while i < len(lis) and cmp(lis[i],obj):\n",
        "        i += 1\n",
        "    lis = lis[:i]+[obj]+lis[i:]\n",
        "    #print(i,lis)\n",
        "    return lis\n",
        "\n",
        "for i in to_insert:\n",
        "    todoObjects = insert(todoObjects,i)\n",
        "\n",
        "print(\"ToDo Objects:\")\n",
        "for i in todoObjects:\n",
        "    print(i.summary())"
      ],
      "execution_count": 0,
      "outputs": [
        {
          "output_type": "stream",
          "text": [
            "ToDo Objects:\n",
            "Category: shopping, Description: buy lemons, Due Date: 2019-11-21\n",
            "Category: reading, Description: read the newspaper, Due Date: 2019-12-01\n",
            "Category: shopping, Description: buy bread, Due Date: 2019-12-15\n",
            "Category: reading, Description: Go to the library\n",
            "Category: reading, Description: Search on the web\n",
            "Category: reading, Description: Try some Shakespeare\n",
            "Category: shopping, Description: Consider items to recycle\n"
          ],
          "name": "stdout"
        }
      ]
    },
    {
      "cell_type": "markdown",
      "metadata": {
        "id": "5TNmynnZ3EQ9",
        "colab_type": "text"
      },
      "source": [
        "**Evidence 8** Your amended code"
      ]
    },
    {
      "cell_type": "code",
      "metadata": {
        "id": "5makjFwl2ofI",
        "colab_type": "code",
        "outputId": "4b0ee8f1-42e6-495d-f042-fc7206e34bda",
        "colab": {
          "base_uri": "https://localhost:8080/",
          "height": 153
        }
      },
      "source": [
        "###Recreate List from Task 3.3######################################\n",
        "class DatedToDo(ToDo):\n",
        "    def __init__(self,dt,c,d):\n",
        "        ToDo.__init__(self,c,d)\n",
        "        self.due_date = dt\n",
        "    \n",
        "    def set_due_date(self, d):\n",
        "        self.due_date = d\n",
        "    \n",
        "    def get_due_date(self):\n",
        "        return self.due_date\n",
        "\n",
        "    def compare_with(self, td):\n",
        "        super_comparison = ToDo.compare_with(self,td)\n",
        "        if type(td) == ToDo:\n",
        "            return -1 #Dated should go in front\n",
        "        else:\n",
        "            if self.due_date < td.due_date:\n",
        "                return -1\n",
        "            elif self.due_date == td.due_date:\n",
        "                return super_comparison\n",
        "            else:\n",
        "                return 1\n",
        "\n",
        "    def summary(self):\n",
        "        return ToDo.summary(self)+ \", Due Date: \"+self.due_date\n",
        "\n",
        "todoObjects = []\n",
        "to_insert = [ToDo(\"reading\", \"Try some Shakespeare\"),\n",
        "            DatedToDo(\"2019-12-15\", \"shopping\", \"buy bread\"),\n",
        "            DatedToDo(\"2019-12-01\", \"reading\", \"read the newspaper\"),\n",
        "            ToDo(\"shopping\", \"Consider items to recycle\"),\n",
        "            ToDo(\"reading\", \"Search on the web\"),\n",
        "            DatedToDo(\"2019-11-21\", \"shopping\", \"buy lemons\"),\n",
        "            ToDo(\"reading\", \"Go to the library\")]\n",
        "\n",
        "def cmp(a, b):\n",
        "    if type(a) == DatedToDo: #a is DatedToDo\n",
        "        return a.compare_with(b) < 0\n",
        "    elif type(b) ==  DatedToDo: #Only b is DatedToDo\n",
        "        return b.compare_with(a) > 0\n",
        "    else: #Both normal ToDo Objects\n",
        "        return a.compare_with(b) < 0\n",
        "\n",
        "def insert(lis, obj, cmp=cmp):\n",
        "    i = 0 #List position\n",
        "    while i < len(lis) and cmp(lis[i],obj):\n",
        "        i += 1\n",
        "    lis = lis[:i]+[obj]+lis[i:]\n",
        "    #print(i,lis)\n",
        "    return lis\n",
        "\n",
        "for i in to_insert:\n",
        "    todoObjects = insert(todoObjects,i)\n",
        "################################################################\n",
        "\n",
        "def equateTasks(a,b):\n",
        "    return a.get_category() == b.get_category() and\\\n",
        "           a.get_description() == b.get_description()\n",
        "        \n",
        "completed_tasks = [ToDo(\"reading\", \"Try some Shakespeare\"),\n",
        "                    ToDo(\"shopping\", \"buy bread\"),\n",
        "                    DatedToDo(\"2019-11-21\", \"shopping\", \"buy lemons\"),\n",
        "                    ToDo(\"watching\", \"Go to the cinema\")]\n",
        "i = 0 # Counter for todoObjects\n",
        "for completed in completed_tasks:\n",
        "    i = 0\n",
        "    while i < len(todoObjects):\n",
        "        if equateTasks(completed,todoObjects[i]):\n",
        "            todoObjects.pop(i)\n",
        "            i = len(todoObjects)+1\n",
        "        else:\n",
        "            i += 1\n",
        "    if i == len(todoObjects):\n",
        "        print(\"The task with the following properties does not exist:\")\n",
        "        print(completed.summary())\n",
        "\n",
        "print()\n",
        "print(\"ToDo Objects:\")\n",
        "for i in todoObjects:\n",
        "    print(i.summary())"
      ],
      "execution_count": 0,
      "outputs": [
        {
          "output_type": "stream",
          "text": [
            "The task with the following properties does not exist:\n",
            "Category: watching, Description: Go to the cinema\n",
            "\n",
            "ToDo Objects:\n",
            "Category: reading, Description: read the newspaper, Due Date: 2019-12-01\n",
            "Category: reading, Description: Go to the library\n",
            "Category: reading, Description: Search on the web\n",
            "Category: shopping, Description: Consider items to recycle\n"
          ],
          "name": "stdout"
        }
      ]
    },
    {
      "cell_type": "markdown",
      "metadata": {
        "id": "WUAiV8FqnViu",
        "colab_type": "text"
      },
      "source": [
        "## Q4\n",
        "**Task 4.1**"
      ]
    },
    {
      "cell_type": "code",
      "metadata": {
        "id": "Jqj7MrucnVTR",
        "colab_type": "code",
        "colab": {}
      },
      "source": [
        "class Stack:\n",
        "    def __init__(self):\n",
        "        self.size = 30\n",
        "        self.array = [0] * self.size\n",
        "        self.pointer = 0 # First Empty Pointer\n",
        "\n",
        "    def push(self,item):\n",
        "        if self.pointer == self.size:\n",
        "            raise Exception(\"Memory Full\")\n",
        "        self.array[self.pointer] = item\n",
        "        self.pointer += 1\n",
        "\n",
        "    def pop(self):\n",
        "        self.pointer -= 1\n",
        "        # Return Value\n",
        "        if self.pointer < 0:\n",
        "            self.pointer = 0\n",
        "            return None\n",
        "        else:\n",
        "            return self.array[self.pointer]\n",
        "\n",
        "    def getSize(self):\n",
        "        return self.pointer"
      ],
      "execution_count": 0,
      "outputs": []
    },
    {
      "cell_type": "markdown",
      "metadata": {
        "id": "tmGcAgljnY7K",
        "colab_type": "text"
      },
      "source": [
        "**Task 4.2**\n",
        "\n",
        "Test case | Reason for choice | Expected Value\n",
        "--|--|--\n",
        "( [8-1] / (5*7) )| Provided | Succeeds\n",
        "( (8-1] / (5*7) )| Provided |Fails\n",
        "{([]){}[]} | Check if can detect curly brackets | Succeeds\n",
        " [ ] [ ] | Check if can match without external brackets | Succeeds\n",
        "( ) } | Check if it can detect no corresponding opening bracket | Fails\n",
        "[ } | Check if it can detect that brackets do not match | Fails\n",
        "( [ ] | Check if it can detect too many opening brackets| Fails\n"
      ]
    },
    {
      "cell_type": "markdown",
      "metadata": {
        "id": "2N1eoAzZna22",
        "colab_type": "text"
      },
      "source": [
        "**Task 4.3**"
      ]
    },
    {
      "cell_type": "code",
      "metadata": {
        "id": "OqLq_a42oSUd",
        "colab_type": "code",
        "colab": {}
      },
      "source": [
        "def checkExpression(expression):\n",
        "    stack = Stack()\n",
        "\n",
        "    brackets = {\"[\":\"]\", \n",
        "                \"{\":\"}\",\n",
        "                \"(\":\")\"}\n",
        "    openings = brackets.keys()\n",
        "    closings = \"\"\n",
        "    for key,i in brackets.items():\n",
        "        closings += i\n",
        "\n",
        "    for i in expression:\n",
        "        if i in openings:\n",
        "            stack.push(i)\n",
        "        if i in closings:\n",
        "            if stack.getSize() == 0:\n",
        "                raise Exception(\"No corresponding opening bracket\")\n",
        "            opening = stack.pop()\n",
        "            #If they do match, continue\n",
        "            if brackets[opening] != i:\n",
        "                raise Exception(\"Brackets do not match!\")\n",
        "    #When last symbol is encountered\n",
        "    if stack.getSize() > 0: #Stack is not empty\n",
        "        raise Exception(\"Too many opening symbols\")\n",
        "    else:\n",
        "        print(\"This expression is valid\")\n",
        "        return True"
      ],
      "execution_count": 0,
      "outputs": []
    },
    {
      "cell_type": "code",
      "metadata": {
        "id": "KHeus3TqtyBS",
        "colab_type": "code",
        "outputId": "6f6d0c80-5e9d-41d3-acef-5ba922969f46",
        "colab": {
          "base_uri": "https://localhost:8080/",
          "height": 51
        }
      },
      "source": [
        "checkExpression(\"( [8-1] / (5*7) )\")"
      ],
      "execution_count": 0,
      "outputs": [
        {
          "output_type": "stream",
          "text": [
            "This expression is valid\n"
          ],
          "name": "stdout"
        },
        {
          "output_type": "execute_result",
          "data": {
            "text/plain": [
              "True"
            ]
          },
          "metadata": {
            "tags": []
          },
          "execution_count": 62
        }
      ]
    },
    {
      "cell_type": "code",
      "metadata": {
        "id": "Q4reLFQ4t1HR",
        "colab_type": "code",
        "outputId": "f47f8ff1-b9ff-44e6-a2d5-652a4a8157a9",
        "colab": {
          "base_uri": "https://localhost:8080/",
          "height": 282
        }
      },
      "source": [
        "checkExpression(\"( (8-1] / (5*7) )\")"
      ],
      "execution_count": 0,
      "outputs": [
        {
          "output_type": "error",
          "ename": "Exception",
          "evalue": "ignored",
          "traceback": [
            "\u001b[0;31m---------------------------------------------------------------------------\u001b[0m",
            "\u001b[0;31mException\u001b[0m                                 Traceback (most recent call last)",
            "\u001b[0;32m<ipython-input-56-42d7297b7474>\u001b[0m in \u001b[0;36m<module>\u001b[0;34m()\u001b[0m\n\u001b[0;32m----> 1\u001b[0;31m \u001b[0mcheckExpression\u001b[0m\u001b[0;34m(\u001b[0m\u001b[0;34m\"( (8-1] / (5*7) )\"\u001b[0m\u001b[0;34m)\u001b[0m\u001b[0;34m\u001b[0m\u001b[0;34m\u001b[0m\u001b[0m\n\u001b[0m",
            "\u001b[0;32m<ipython-input-54-3f6ae67d87e9>\u001b[0m in \u001b[0;36mcheckExpression\u001b[0;34m(expression)\u001b[0m\n\u001b[1;32m     19\u001b[0m             \u001b[0;31m#If they do match, continue\u001b[0m\u001b[0;34m\u001b[0m\u001b[0;34m\u001b[0m\u001b[0;34m\u001b[0m\u001b[0m\n\u001b[1;32m     20\u001b[0m             \u001b[0;32mif\u001b[0m \u001b[0mbrackets\u001b[0m\u001b[0;34m[\u001b[0m\u001b[0mopening\u001b[0m\u001b[0;34m]\u001b[0m \u001b[0;34m!=\u001b[0m \u001b[0mi\u001b[0m\u001b[0;34m:\u001b[0m\u001b[0;34m\u001b[0m\u001b[0;34m\u001b[0m\u001b[0m\n\u001b[0;32m---> 21\u001b[0;31m                 \u001b[0;32mraise\u001b[0m \u001b[0mException\u001b[0m\u001b[0;34m(\u001b[0m\u001b[0;34m\"Brackets do not match!\"\u001b[0m\u001b[0;34m)\u001b[0m\u001b[0;34m\u001b[0m\u001b[0;34m\u001b[0m\u001b[0m\n\u001b[0m\u001b[1;32m     22\u001b[0m     \u001b[0;31m#When last symbol is encountered\u001b[0m\u001b[0;34m\u001b[0m\u001b[0;34m\u001b[0m\u001b[0;34m\u001b[0m\u001b[0m\n\u001b[1;32m     23\u001b[0m     \u001b[0;32mif\u001b[0m \u001b[0mstack\u001b[0m\u001b[0;34m.\u001b[0m\u001b[0mgetSize\u001b[0m\u001b[0;34m(\u001b[0m\u001b[0;34m)\u001b[0m \u001b[0;34m>\u001b[0m \u001b[0;36m0\u001b[0m\u001b[0;34m:\u001b[0m \u001b[0;31m#Stack is not empty\u001b[0m\u001b[0;34m\u001b[0m\u001b[0;34m\u001b[0m\u001b[0m\n",
            "\u001b[0;31mException\u001b[0m: Brackets do not match!"
          ]
        }
      ]
    },
    {
      "cell_type": "code",
      "metadata": {
        "id": "87n77E75vQs2",
        "colab_type": "code",
        "outputId": "e3d1b607-75c5-4040-98bf-3ad8975e6d0e",
        "colab": {
          "base_uri": "https://localhost:8080/",
          "height": 51
        }
      },
      "source": [
        "checkExpression(\"{([]){}[]}\")"
      ],
      "execution_count": 0,
      "outputs": [
        {
          "output_type": "stream",
          "text": [
            "This expression is valid\n"
          ],
          "name": "stdout"
        },
        {
          "output_type": "execute_result",
          "data": {
            "text/plain": [
              "True"
            ]
          },
          "metadata": {
            "tags": []
          },
          "execution_count": 63
        }
      ]
    },
    {
      "cell_type": "code",
      "metadata": {
        "id": "WqTsS4D_wsR8",
        "colab_type": "code",
        "outputId": "fde5c8f1-c3ef-482f-91d3-df474d33cfb7",
        "colab": {
          "base_uri": "https://localhost:8080/",
          "height": 51
        }
      },
      "source": [
        "checkExpression(\"[ ] [ ]\")"
      ],
      "execution_count": 0,
      "outputs": [
        {
          "output_type": "stream",
          "text": [
            "This expression is valid\n"
          ],
          "name": "stdout"
        },
        {
          "output_type": "execute_result",
          "data": {
            "text/plain": [
              "True"
            ]
          },
          "metadata": {
            "tags": []
          },
          "execution_count": 64
        }
      ]
    },
    {
      "cell_type": "code",
      "metadata": {
        "id": "w2W4hEJYwuK4",
        "colab_type": "code",
        "outputId": "4fc9fc45-62dd-420a-f670-3f21503ad755",
        "colab": {
          "base_uri": "https://localhost:8080/",
          "height": 282
        }
      },
      "source": [
        "checkExpression(\"( ) }\")"
      ],
      "execution_count": 0,
      "outputs": [
        {
          "output_type": "error",
          "ename": "Exception",
          "evalue": "ignored",
          "traceback": [
            "\u001b[0;31m---------------------------------------------------------------------------\u001b[0m",
            "\u001b[0;31mException\u001b[0m                                 Traceback (most recent call last)",
            "\u001b[0;32m<ipython-input-65-8c40ea91e042>\u001b[0m in \u001b[0;36m<module>\u001b[0;34m()\u001b[0m\n\u001b[0;32m----> 1\u001b[0;31m \u001b[0mcheckExpression\u001b[0m\u001b[0;34m(\u001b[0m\u001b[0;34m\"( ) }\"\u001b[0m\u001b[0;34m)\u001b[0m\u001b[0;34m\u001b[0m\u001b[0;34m\u001b[0m\u001b[0m\n\u001b[0m",
            "\u001b[0;32m<ipython-input-61-f061ccbdf577>\u001b[0m in \u001b[0;36mcheckExpression\u001b[0;34m(expression)\u001b[0m\n\u001b[1;32m     15\u001b[0m         \u001b[0;32mif\u001b[0m \u001b[0mi\u001b[0m \u001b[0;32min\u001b[0m \u001b[0mclosings\u001b[0m\u001b[0;34m:\u001b[0m\u001b[0;34m\u001b[0m\u001b[0;34m\u001b[0m\u001b[0m\n\u001b[1;32m     16\u001b[0m             \u001b[0;32mif\u001b[0m \u001b[0mstack\u001b[0m\u001b[0;34m.\u001b[0m\u001b[0mgetSize\u001b[0m\u001b[0;34m(\u001b[0m\u001b[0;34m)\u001b[0m \u001b[0;34m==\u001b[0m \u001b[0;36m0\u001b[0m\u001b[0;34m:\u001b[0m\u001b[0;34m\u001b[0m\u001b[0;34m\u001b[0m\u001b[0m\n\u001b[0;32m---> 17\u001b[0;31m                 \u001b[0;32mraise\u001b[0m \u001b[0mException\u001b[0m\u001b[0;34m(\u001b[0m\u001b[0;34m\"No corresponding opening bracket\"\u001b[0m\u001b[0;34m)\u001b[0m\u001b[0;34m\u001b[0m\u001b[0;34m\u001b[0m\u001b[0m\n\u001b[0m\u001b[1;32m     18\u001b[0m             \u001b[0mopening\u001b[0m \u001b[0;34m=\u001b[0m \u001b[0mstack\u001b[0m\u001b[0;34m.\u001b[0m\u001b[0mpop\u001b[0m\u001b[0;34m(\u001b[0m\u001b[0;34m)\u001b[0m\u001b[0;34m\u001b[0m\u001b[0;34m\u001b[0m\u001b[0m\n\u001b[1;32m     19\u001b[0m             \u001b[0;31m#If they do match, continue\u001b[0m\u001b[0;34m\u001b[0m\u001b[0;34m\u001b[0m\u001b[0;34m\u001b[0m\u001b[0m\n",
            "\u001b[0;31mException\u001b[0m: No corresponding opening bracket"
          ]
        }
      ]
    },
    {
      "cell_type": "code",
      "metadata": {
        "id": "bAp0gcgPwupV",
        "colab_type": "code",
        "outputId": "4e0c54c7-88bb-42d1-dcf9-80f56b4e3e3a",
        "colab": {
          "base_uri": "https://localhost:8080/",
          "height": 282
        }
      },
      "source": [
        "checkExpression(\"[ }\")"
      ],
      "execution_count": 0,
      "outputs": [
        {
          "output_type": "error",
          "ename": "Exception",
          "evalue": "ignored",
          "traceback": [
            "\u001b[0;31m---------------------------------------------------------------------------\u001b[0m",
            "\u001b[0;31mException\u001b[0m                                 Traceback (most recent call last)",
            "\u001b[0;32m<ipython-input-66-2393908e1f75>\u001b[0m in \u001b[0;36m<module>\u001b[0;34m()\u001b[0m\n\u001b[0;32m----> 1\u001b[0;31m \u001b[0mcheckExpression\u001b[0m\u001b[0;34m(\u001b[0m\u001b[0;34m\"[ }\"\u001b[0m\u001b[0;34m)\u001b[0m\u001b[0;34m\u001b[0m\u001b[0;34m\u001b[0m\u001b[0m\n\u001b[0m",
            "\u001b[0;32m<ipython-input-61-f061ccbdf577>\u001b[0m in \u001b[0;36mcheckExpression\u001b[0;34m(expression)\u001b[0m\n\u001b[1;32m     19\u001b[0m             \u001b[0;31m#If they do match, continue\u001b[0m\u001b[0;34m\u001b[0m\u001b[0;34m\u001b[0m\u001b[0;34m\u001b[0m\u001b[0m\n\u001b[1;32m     20\u001b[0m             \u001b[0;32mif\u001b[0m \u001b[0mbrackets\u001b[0m\u001b[0;34m[\u001b[0m\u001b[0mopening\u001b[0m\u001b[0;34m]\u001b[0m \u001b[0;34m!=\u001b[0m \u001b[0mi\u001b[0m\u001b[0;34m:\u001b[0m\u001b[0;34m\u001b[0m\u001b[0;34m\u001b[0m\u001b[0m\n\u001b[0;32m---> 21\u001b[0;31m                 \u001b[0;32mraise\u001b[0m \u001b[0mException\u001b[0m\u001b[0;34m(\u001b[0m\u001b[0;34m\"Brackets do not match!\"\u001b[0m\u001b[0;34m)\u001b[0m\u001b[0;34m\u001b[0m\u001b[0;34m\u001b[0m\u001b[0m\n\u001b[0m\u001b[1;32m     22\u001b[0m     \u001b[0;31m#When last symbol is encountered\u001b[0m\u001b[0;34m\u001b[0m\u001b[0;34m\u001b[0m\u001b[0;34m\u001b[0m\u001b[0m\n\u001b[1;32m     23\u001b[0m     \u001b[0;32mif\u001b[0m \u001b[0mstack\u001b[0m\u001b[0;34m.\u001b[0m\u001b[0mgetSize\u001b[0m\u001b[0;34m(\u001b[0m\u001b[0;34m)\u001b[0m \u001b[0;34m>\u001b[0m \u001b[0;36m0\u001b[0m\u001b[0;34m:\u001b[0m \u001b[0;31m#Stack is not empty\u001b[0m\u001b[0;34m\u001b[0m\u001b[0;34m\u001b[0m\u001b[0m\n",
            "\u001b[0;31mException\u001b[0m: Brackets do not match!"
          ]
        }
      ]
    },
    {
      "cell_type": "code",
      "metadata": {
        "id": "Wd9zx4pmwvxH",
        "colab_type": "code",
        "outputId": "7eff03b5-1fdd-41b0-b652-54e5afff6316",
        "colab": {
          "base_uri": "https://localhost:8080/",
          "height": 282
        }
      },
      "source": [
        "checkExpression(\"( [ ]\")"
      ],
      "execution_count": 0,
      "outputs": [
        {
          "output_type": "error",
          "ename": "Exception",
          "evalue": "ignored",
          "traceback": [
            "\u001b[0;31m---------------------------------------------------------------------------\u001b[0m",
            "\u001b[0;31mException\u001b[0m                                 Traceback (most recent call last)",
            "\u001b[0;32m<ipython-input-67-733ee2b73275>\u001b[0m in \u001b[0;36m<module>\u001b[0;34m()\u001b[0m\n\u001b[0;32m----> 1\u001b[0;31m \u001b[0mcheckExpression\u001b[0m\u001b[0;34m(\u001b[0m\u001b[0;34m\"( [ ]\"\u001b[0m\u001b[0;34m)\u001b[0m\u001b[0;34m\u001b[0m\u001b[0;34m\u001b[0m\u001b[0m\n\u001b[0m",
            "\u001b[0;32m<ipython-input-61-f061ccbdf577>\u001b[0m in \u001b[0;36mcheckExpression\u001b[0;34m(expression)\u001b[0m\n\u001b[1;32m     22\u001b[0m     \u001b[0;31m#When last symbol is encountered\u001b[0m\u001b[0;34m\u001b[0m\u001b[0;34m\u001b[0m\u001b[0;34m\u001b[0m\u001b[0m\n\u001b[1;32m     23\u001b[0m     \u001b[0;32mif\u001b[0m \u001b[0mstack\u001b[0m\u001b[0;34m.\u001b[0m\u001b[0mgetSize\u001b[0m\u001b[0;34m(\u001b[0m\u001b[0;34m)\u001b[0m \u001b[0;34m>\u001b[0m \u001b[0;36m0\u001b[0m\u001b[0;34m:\u001b[0m \u001b[0;31m#Stack is not empty\u001b[0m\u001b[0;34m\u001b[0m\u001b[0;34m\u001b[0m\u001b[0m\n\u001b[0;32m---> 24\u001b[0;31m         \u001b[0;32mraise\u001b[0m \u001b[0mException\u001b[0m\u001b[0;34m(\u001b[0m\u001b[0;34m\"Too many opening symbols\"\u001b[0m\u001b[0;34m)\u001b[0m\u001b[0;34m\u001b[0m\u001b[0;34m\u001b[0m\u001b[0m\n\u001b[0m\u001b[1;32m     25\u001b[0m     \u001b[0;32melse\u001b[0m\u001b[0;34m:\u001b[0m\u001b[0;34m\u001b[0m\u001b[0;34m\u001b[0m\u001b[0m\n\u001b[1;32m     26\u001b[0m         \u001b[0mprint\u001b[0m\u001b[0;34m(\u001b[0m\u001b[0;34m\"This expression is valid\"\u001b[0m\u001b[0;34m)\u001b[0m\u001b[0;34m\u001b[0m\u001b[0;34m\u001b[0m\u001b[0m\n",
            "\u001b[0;31mException\u001b[0m: Too many opening symbols"
          ]
        }
      ]
    }
  ]
}