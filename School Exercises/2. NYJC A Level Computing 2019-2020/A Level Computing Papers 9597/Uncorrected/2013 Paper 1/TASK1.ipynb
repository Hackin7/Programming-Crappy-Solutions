{
 "cells": [
  {
   "cell_type": "code",
   "execution_count": 6,
   "metadata": {},
   "outputs": [
    {
     "name": "stdout",
     "output_type": "stream",
     "text": [
      "The word with the maximum number of occurrences is 'computing' with 75 occurrences\n"
     ]
    }
   ],
   "source": [
    "# Task 1.1\n",
    "def task1_1(filename=\"WORDS1.txt\"):\n",
    "    maxOccurrences = -1\n",
    "    maxWord = None\n",
    "    \n",
    "    ### Read file ###########################################\n",
    "    file = open(filename, 'r')\n",
    "    isWord = True # Whether the current line is a word\n",
    "    ### Reading ############################\n",
    "    for line in file:\n",
    "        if isWord:\n",
    "            word = line.strip()\n",
    "        else:\n",
    "            occurrences = int(line)\n",
    "            ## Comparison #################\n",
    "            if maxOccurrences == -1 or occurrences > maxOccurrences :\n",
    "                maxWord = word\n",
    "                maxOccurrences = occurrences\n",
    "            ################################\n",
    "        isWord = not isWord\n",
    "    file.close()\n",
    "    \n",
    "    ### Displaying ###########################################\n",
    "    print(f\"The word with the maximum number of occurrences is \"\n",
    "          f\"'{maxWord}' with {maxOccurrences} occurrences\")\n",
    "    \n",
    "task1_1()"
   ]
  },
  {
   "cell_type": "code",
   "execution_count": 12,
   "metadata": {},
   "outputs": [
    {
     "name": "stdout",
     "output_type": "stream",
     "text": [
      "The words with the maximum number of occurrences are ['system', 'computer'] with 86 occurrences\n"
     ]
    }
   ],
   "source": [
    "# Task 1.2\n",
    "def task1_2(filename=\"WORDS2.txt\"):\n",
    "    maxOccurrences = -1\n",
    "    maxWord = []\n",
    "    \n",
    "    ### Read file ###########################################\n",
    "    file = open(filename, 'r')\n",
    "    isWord = True # Whether the current line is a word\n",
    "    ### Reading ############################\n",
    "    for line in file:\n",
    "        if isWord:\n",
    "            word = line.strip()\n",
    "        else:\n",
    "            occurrences = int(line)\n",
    "            ### NEW COMPARISON CODE ##########################\n",
    "            if maxOccurrences == -1 or occurrences > maxOccurrences :\n",
    "                maxOccurrences = occurrences\n",
    "                maxWord.clear()\n",
    "                maxWord.append(word)\n",
    "            elif occurrences == maxOccurrences:\n",
    "                maxWord.append(word)\n",
    "            #################################################\n",
    "        isWord = not isWord\n",
    "    file.close()\n",
    "    \n",
    "    ### Displaying ###########################################\n",
    "    print(f\"The words with the maximum number of occurrences are \"\n",
    "          f\"{maxWord} with {maxOccurrences} occurrences\")\n",
    "    \n",
    "task1_2()"
   ]
  }
 ],
 "metadata": {
  "kernelspec": {
   "display_name": "Python 3",
   "language": "python",
   "name": "python3"
  },
  "language_info": {
   "codemirror_mode": {
    "name": "ipython",
    "version": 3
   },
   "file_extension": ".py",
   "mimetype": "text/x-python",
   "name": "python",
   "nbconvert_exporter": "python",
   "pygments_lexer": "ipython3",
   "version": "3.6.7"
  }
 },
 "nbformat": 4,
 "nbformat_minor": 2
}
