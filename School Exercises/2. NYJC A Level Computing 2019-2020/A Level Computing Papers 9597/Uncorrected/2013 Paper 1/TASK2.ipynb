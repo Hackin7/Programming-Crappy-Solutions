{
 "cells": [
  {
   "cell_type": "code",
   "execution_count": 7,
   "metadata": {
    "scrolled": true
   },
   "outputs": [
    {
     "name": "stdout",
     "output_type": "stream",
     "text": [
      "Enter Surname/ EmployeeID: L001\n",
      "The EmployeeID 'L001' has Surname(s) ['Pollard']\n"
     ]
    }
   ],
   "source": [
    "# Task 2.1\n",
    "def employeeData():\n",
    "    ## Python lists to simulate arrays\n",
    "    EmployeeCode = []\n",
    "    Surname = []\n",
    "    for i in range(32 + 1):\n",
    "        EmployeeCode.append(\"\")\n",
    "        Surname.append(\"\")\n",
    "        \n",
    "    ## Modified from EMPLOYEEDATA.TXT\n",
    "    EmployeeCode[1] = \"L001\" ; Surname[1] = \"Pollard\" ; EmployeeCode[2] = \"L002\" ; Surname[2] = \"Wills\"\n",
    "    EmployeeCode[3] = \"L007\" ; Surname[3] = \"Singh\" ; EmployeeCode[4] = \"L008\" ; Surname[4] = \"Yallop\"\n",
    "    EmployeeCode[5] = \"L009\" ; Surname[5] = \"Adams\" ; EmployeeCode[6] = \"L013\" ; Surname[6] = \"Davies\"\n",
    "    EmployeeCode[7] = \"L014\" ; Surname[7] = \"Patel\" ; EmployeeCode[8] = \"L021\" ; Surname[8] = \"Kelly\"\n",
    "    EmployeeCode[9] = \"S001\" ; Surname[9] = \"Ong\" ; EmployeeCode[10] = \"S002\" ; Surname[10] = \"Goh\"\n",
    "    EmployeeCode[11] = \"S003\" ; Surname[11] = \"Ong\" ; EmployeeCode[12] = \"S004\" ; Surname[12] = \"Ang\"\n",
    "    EmployeeCode[13] = \"S005\" ; Surname[13] = \"Wong\" ; EmployeeCode[14] = \"S006\" ; Surname[14] = \"Teo\"\n",
    "    EmployeeCode[15] = \"S007\" ; Surname[15] = \"Ho\" ; EmployeeCode[16] = \"S008\" ; Surname[16] = \"Chong\"\n",
    "    EmployeeCode[17] = \"S009\" ; Surname[17] = \"Low\" ; EmployeeCode[18] = \"S010\" ; Surname[18] = \"Sim\"\n",
    "    EmployeeCode[19] = \"S011\" ; Surname[19] = \"Tay\" ; EmployeeCode[20] = \"S012\" ; Surname[20] = \"Tay\"\n",
    "    EmployeeCode[21] = \"S013\" ; Surname[21] = \"Chia\" ; EmployeeCode[22] = \"S014\" ; Surname[22] = \"Tan\"\n",
    "    EmployeeCode[23] = \"S015\" ; Surname[23] = \"Yeo\" ; EmployeeCode[24] = \"S016\" ; Surname[24] = \"Lim\"\n",
    "    EmployeeCode[25] = \"S017\" ; Surname[25] = \"Tan\" ; EmployeeCode[26] = \"S018\" ; Surname[26] = \"Ng\"\n",
    "    EmployeeCode[27] = \"S018\" ; Surname[27] = \"Lim\" ; EmployeeCode[28] = \"S019\" ; Surname[28] = \"Toh\"\n",
    "    EmployeeCode[29] = \"N011\" ; Surname[29] = \"Morris\" ; EmployeeCode[30] = \"N013\" ; Surname[30] = \"Williams\"\n",
    "    EmployeeCode[31] = \"N016\" ; Surname[31] = \"Chua\" ; EmployeeCode[32] = \"N023\" ; Surname[32] = \"Wong\"\n",
    "    \n",
    "    return EmployeeCode, Surname\n",
    "\n",
    "# Produce a dictionary for O(1) search\n",
    "def matchToDictionary(Array1, Array2):\n",
    "    dictionary = {}\n",
    "    for index in range(1, len(Array1)): # 1-indexed\n",
    "        if dictionary.get(Array1[index]) == None:\n",
    "            dictionary[Array1[index]] = [Array2[index]]\n",
    "        else:\n",
    "            dictionary[Array1[index]].append(Array2[index])\n",
    "    return dictionary\n",
    "        \n",
    "def search(givenDict, queryName, outputName, value):\n",
    "    #value = input(f\"Enter {queryName}: \")\n",
    "    found = givenDict.get(value)\n",
    "    if found != None:\n",
    "        print(f\"The {queryName} '{value}' has {outputName}(s) {found}\")\n",
    "    else:\n",
    "        print(f\"The {queryName} '{value}' does not have any {outputName}(s)\")\n",
    "\n",
    "def task2_1():\n",
    "    ## Data Generation ##############\n",
    "    EmployeeCode, Surname = employeeData()\n",
    "    dictByEmployeeID = matchToDictionary(EmployeeCode, Surname)\n",
    "    dictBySurname = matchToDictionary(Surname, EmployeeCode)\n",
    "    #print(dictByEmployeeID)\n",
    "    #print(dictBySurname)\n",
    "    \n",
    "    value = input(f\"Enter Surname/ EmployeeID: \")\n",
    "    if len(value) == 4 and value[0].isupper() and value[1:].isdigit():\n",
    "        search(dictByEmployeeID, 'EmployeeID', 'Surname', value)\n",
    "    else:\n",
    "        search(dictBySurname, 'Surname', 'EmployeeID', value)\n",
    "    '''\n",
    "    ## Menu #########################\n",
    "    print(\"Search by\")\n",
    "    print(\"1. Surname\")\n",
    "    print(\"2. EmployeeID\")\n",
    "    option = input(\"Enter Option: \").strip()\n",
    "    ## Searching ####################\n",
    "    if option == \"1\": # Search by Surname\n",
    "        search(dictBySurname, 'Surname', 'EmployeeID')\n",
    "    elif option == \"2\":\n",
    "        search(dictByEmployeeID, 'EmployeeID', 'Surname')\n",
    "    '''\n",
    "    \n",
    "\n",
    "task2_1()"
   ]
  },
  {
   "cell_type": "code",
   "execution_count": 3,
   "metadata": {},
   "outputs": [
    {
     "name": "stdout",
     "output_type": "stream",
     "text": [
      "### Test Case 1 ###################################\n",
      "Enter Surname/ EmployeeID: Ong\n",
      "The Surname 'Ong' has EmployeeID(s) ['S001', 'S003']\n",
      "\n",
      "### Test Case 2 ###################################\n",
      "Enter Surname/ EmployeeID: \n",
      "The Surname '' does not have any EmployeeID(s)\n",
      "\n",
      "### Test Case 3 ###################################\n",
      "Enter Surname/ EmployeeID: N023\n",
      "The EmployeeID 'N023' has Surname(s) ['Wong']\n",
      "\n",
      "### Test Case 4 ###################################\n",
      "Enter Surname/ EmployeeID: helloworld\n",
      "The Surname 'helloworld' does not have any EmployeeID(s)\n",
      "\n"
     ]
    }
   ],
   "source": [
    "# Task 2.2\n",
    "'''\n",
    "Test Cases:\n",
    "# option, value\n",
    "\n",
    "Input: Ong\n",
    "Reason: Normal Data (Search for a typical Surname)\n",
    "Expected Output: The Surname 'Ong' has EmployeeID(s) ['S001', 'S003']\n",
    "\n",
    "Input: '' # Empty string\n",
    "Reason: Extreme Data (Surname has no characters)\n",
    "Expected Output: The Surname '' has no EmployeeID(s)\n",
    "\n",
    "Input: N023\n",
    "Reason: Normal Data (Search for a typical EmployeeID)\n",
    "Expected Output: The EmployeeID 'N023' has Surname(s) ['Wong']\n",
    "\n",
    "Input: helloworld\n",
    "Reason: Abnormal Data (Input in an invalid EmployeeID)\n",
    "Expected Output: The EmployeeID 'helloworld' has no Surname(s)\n",
    "'''\n",
    "\n",
    "for i in range(4):\n",
    "    print(f\"### Test Case {i + 1} ###################################\")\n",
    "    task2_1()\n",
    "    print()"
   ]
  }
 ],
 "metadata": {
  "kernelspec": {
   "display_name": "Python 3",
   "language": "python",
   "name": "python3"
  },
  "language_info": {
   "codemirror_mode": {
    "name": "ipython",
    "version": 3
   },
   "file_extension": ".py",
   "mimetype": "text/x-python",
   "name": "python",
   "nbconvert_exporter": "python",
   "pygments_lexer": "ipython3",
   "version": "3.6.7"
  }
 },
 "nbformat": 4,
 "nbformat_minor": 2
}
