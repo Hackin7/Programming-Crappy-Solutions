{
 "cells": [
  {
   "cell_type": "markdown",
   "metadata": {},
   "source": [
    "# H2 Computing Notes\n",
    "Basic Knowledge on Python assumed, including but not limited to\n",
    "* if-else, loops, functions\n",
    "* try-except\n",
    "\n",
    "This is a series of common algorithms/ data structures/ pieces of code to refer to, which could be useful in examinations. This includes basic example/ boilerplate code as well as template code for easy memorisation and regurgitation.\n",
    "\n",
    "## Contents\n",
    "1. Common Algorithms/ Libraries\n",
    "    1. Basics\n",
    "    2. Input Control Structures\n",
    "    3. Validation\n",
    "    4. Number Handling\n",
    "    5. File I/O (Built-in & CSV)\n",
    "    6. Datetime\n",
    "    7. F-Strings\n",
    "2. Sorting Algorithms\n",
    "    1. Bubble Sort\n",
    "    2. Insertion Sort\n",
    "    3. Merge Sort\n",
    "    4. Quick Sort\n",
    "3. Searching\n",
    "    1. Linear Search\n",
    "    2. Binary Search\n",
    "    3. Hash Table\n",
    "4. Data Structures\n",
    "    1. Linked List (Pointer, Array)\n",
    "    2. Stacks (Pointer, Array, Python List)\n",
    "    3. Queues (Pointer, Dual Stack, Array, Python List)\n",
    "    4. Binary Search Tree (Pointer, Array)\n",
    "5. Databases\n",
    "    1. SQL\n",
    "    2. MongoDB\n",
    "6. Socket Programming\n",
    "7. Web Applications"
   ]
  },
  {
   "cell_type": "markdown",
   "metadata": {},
   "source": [
    "# 1. Common Algorithms/ Libraries"
   ]
  },
  {
   "cell_type": "markdown",
   "metadata": {},
   "source": [
    "## 1.1 Basics"
   ]
  },
  {
   "cell_type": "code",
   "execution_count": 1,
   "metadata": {},
   "outputs": [],
   "source": [
    "# Simulate a REPEAT-UNTIL loop\n",
    "untilCondition = False\n",
    "while not untilCondition:\n",
    "    untilCondition = True"
   ]
  },
  {
   "cell_type": "code",
   "execution_count": 2,
   "metadata": {},
   "outputs": [
    {
     "name": "stdout",
     "output_type": "stream",
     "text": [
      "0 1 2 3 4 5 6 7 8 9 \n"
     ]
    }
   ],
   "source": [
    "# While loop to simulate a for loop\n",
    "output = \"\"\n",
    "\n",
    "counter = 0\n",
    "while counter < 10:\n",
    "    output += f\"{counter} \"\n",
    "    counter += 1\n",
    "print(output)"
   ]
  },
  {
   "cell_type": "markdown",
   "metadata": {},
   "source": [
    "## 1.2 Input Control Structures"
   ]
  },
  {
   "cell_type": "code",
   "execution_count": 3,
   "metadata": {},
   "outputs": [
    {
     "name": "stdout",
     "output_type": "stream",
     "text": [
      "Enter thing ('Q' to quit): thing\n",
      "Enter thing ('Q' to quit): Q\n"
     ]
    },
    {
     "data": {
      "text/plain": [
       "['thing']"
      ]
     },
     "execution_count": 3,
     "metadata": {},
     "output_type": "execute_result"
    }
   ],
   "source": [
    "# Sentinel value termination\n",
    "def thingsInput():\n",
    "    things = []\n",
    "    \n",
    "    isRunning = True\n",
    "    while isRunning:\n",
    "        option = input(\"Enter thing ('Q' to quit): \").strip()\n",
    "        \n",
    "        if option == 'Q':\n",
    "            isRunning = False\n",
    "        else:\n",
    "            things.append(option)\n",
    "            \n",
    "    return things\n",
    "\n",
    "thingsInput()"
   ]
  },
  {
   "cell_type": "code",
   "execution_count": 4,
   "metadata": {},
   "outputs": [
    {
     "name": "stdout",
     "output_type": "stream",
     "text": [
      "1. Option 1\n",
      "2. Option 2\n",
      "3. Option 3\n",
      "4. Exit\n",
      "\n",
      "Enter option: 1\n",
      "Option 1 chosen\n",
      "1. Option 1\n",
      "2. Option 2\n",
      "3. Option 3\n",
      "4. Exit\n",
      "\n",
      "Enter option: 4\n"
     ]
    }
   ],
   "source": [
    "MENU_TEXT = \"\"\"\\\n",
    "1. Option 1\n",
    "2. Option 2\n",
    "3. Option 3\n",
    "4. Exit\n",
    "\"\"\"\n",
    "def menu():\n",
    "    isRunning = True\n",
    "    while isRunning:\n",
    "        print(MENU_TEXT)\n",
    "        option = input(\"Enter option: \").strip()\n",
    "        \n",
    "        # options\n",
    "        if option == '1':\n",
    "            print(\"Option 1 chosen\")\n",
    "        elif option == '2':\n",
    "            print(\"Option 2 chosen\")\n",
    "        elif option == '3':\n",
    "            print(\"Option 3 chosen\")\n",
    "        elif option == '4':\n",
    "            isRunning = False\n",
    "        \n",
    "menu()"
   ]
  },
  {
   "cell_type": "markdown",
   "metadata": {},
   "source": [
    "## 1.3 Validation"
   ]
  },
  {
   "cell_type": "code",
   "execution_count": 5,
   "metadata": {},
   "outputs": [],
   "source": [
    "# Basic Loop\n",
    "def validInput(isValid, prompt=\"Enter string: \", error=\"The input is not valid\"):\n",
    "    inputString = input(prompt)\n",
    "    while not isValid(inputString):\n",
    "        print(error)\n",
    "        inputString = input(prompt)"
   ]
  },
  {
   "cell_type": "code",
   "execution_count": 6,
   "metadata": {},
   "outputs": [
    {
     "name": "stdout",
     "output_type": "stream",
     "text": [
      "Enter string: \n",
      "The input is not valid\n",
      "Enter string: There's a string here\n"
     ]
    }
   ],
   "source": [
    "# Presence Check\n",
    "def isPresent(inputString) :\n",
    "    return inputString != \"\"\n",
    "\n",
    "validInput(isPresent)"
   ]
  },
  {
   "cell_type": "code",
   "execution_count": 7,
   "metadata": {},
   "outputs": [
    {
     "name": "stdout",
     "output_type": "stream",
     "text": [
      "Enter string: notLength1\n",
      "The input is not valid\n",
      "Enter string: 1\n"
     ]
    }
   ],
   "source": [
    "# Length Check\n",
    "def isLength(inputString):\n",
    "    return len(inputString) == 1\n",
    "\n",
    "validInput(isLength)"
   ]
  },
  {
   "cell_type": "code",
   "execution_count": 8,
   "metadata": {},
   "outputs": [
    {
     "name": "stdout",
     "output_type": "stream",
     "text": [
      "Enter string: Has spaces\n",
      "The input is not valid\n",
      "Enter string: OnlyAlphabets\n"
     ]
    }
   ],
   "source": [
    "# Format Check\n",
    "def isDigit(inputString):\n",
    "    return inputString.isdigit()\n",
    "\n",
    "def isAlpha(inputString):\n",
    "    return inputString.isalpha()\n",
    "\n",
    "validInput(isAlpha)"
   ]
  },
  {
   "cell_type": "code",
   "execution_count": 9,
   "metadata": {},
   "outputs": [
    {
     "name": "stdout",
     "output_type": "stream",
     "text": [
      "Enter string: 0\n",
      "The input is not valid\n",
      "Enter string: -100\n",
      "The input is not valid\n",
      "Enter string: -99\n"
     ]
    }
   ],
   "source": [
    "# Range Check\n",
    "def inRange(inputString):\n",
    "    number = int(inputString)\n",
    "    return -100 < number < 0\n",
    "\n",
    "validInput(inRange)"
   ]
  },
  {
   "cell_type": "markdown",
   "metadata": {},
   "source": [
    "## 1.4 Number Handling"
   ]
  },
  {
   "cell_type": "code",
   "execution_count": 10,
   "metadata": {},
   "outputs": [
    {
     "name": "stdout",
     "output_type": "stream",
     "text": [
      "Enter number ('Q' to quit): 1\n",
      "Enter number ('Q' to quit): 2\n",
      "Enter number ('Q' to quit): 3\n",
      "Enter number ('Q' to quit): Q\n"
     ]
    },
    {
     "data": {
      "text/plain": [
       "(3, 6, 2.0, 3, 1)"
      ]
     },
     "execution_count": 10,
     "metadata": {},
     "output_type": "execute_result"
    }
   ],
   "source": [
    "# Input Sentinel\n",
    "def numbersSentinel():\n",
    "    total = 0\n",
    "    maximum = 0\n",
    "    minimum = 9999999999999999999999 # Set to large value\n",
    "    count = 0\n",
    "    \n",
    "    isRunning = True\n",
    "    while isRunning:\n",
    "        ### Input ###############################\n",
    "        option = input(\"Enter number ('Q' to quit): \").strip()\n",
    "        if option == 'Q':\n",
    "            isRunning = False\n",
    "        ### Processing ##########################\n",
    "        else:\n",
    "            number = int(option)\n",
    "            count += 1\n",
    "            total += number\n",
    "            if number > maximum: # or maximum == None # Invalid value\n",
    "                maximum = number\n",
    "            if number < minimum: # or minimum == None # Invalid value\n",
    "                minimum = number\n",
    "        \n",
    "    \n",
    "    average = total / count\n",
    "    return count, total, average, maximum, minimum\n",
    "\n",
    "numbersSentinel()"
   ]
  },
  {
   "cell_type": "code",
   "execution_count": 11,
   "metadata": {},
   "outputs": [
    {
     "name": "stdout",
     "output_type": "stream",
     "text": [
      "Enter no. of numbers to input: 3\n",
      "Enter the number 1 number :1\n",
      "Enter the number 2 number :2\n",
      "Enter the number 3 number :3\n"
     ]
    },
    {
     "data": {
      "text/plain": [
       "(3, 6, 2.0, 3, 1)"
      ]
     },
     "execution_count": 11,
     "metadata": {},
     "output_type": "execute_result"
    }
   ],
   "source": [
    "# Input Fixed Loop\n",
    "def numbersLoop():\n",
    "    total = 0\n",
    "    maximum = 0\n",
    "    minimum = 9999999999999999999999 # Set to large value\n",
    "    count = int(input(\"Enter no. of numbers to input: \"))\n",
    "    \n",
    "    for i in range(count):\n",
    "        option = input(f\"Enter the number {i + 1} number :\").strip()\n",
    "        number = int(option)\n",
    "        total += number\n",
    "        if number > maximum: # or maximum == None # Invalid value\n",
    "            maximum = number\n",
    "        if number < minimum: # or minimum == None # Invalid value\n",
    "            minimum = number\n",
    "\n",
    "    \n",
    "    average = total / count\n",
    "    return count, total, average, maximum, minimum\n",
    "\n",
    "numbersLoop()"
   ]
  },
  {
   "cell_type": "code",
   "execution_count": 12,
   "metadata": {},
   "outputs": [
    {
     "data": {
      "text/plain": [
       "(9, 45, 5.0, 9, 1)"
      ]
     },
     "execution_count": 12,
     "metadata": {},
     "output_type": "execute_result"
    }
   ],
   "source": [
    "# Generic Calculations\n",
    "def numbersCalculations(numList):\n",
    "    total = 0\n",
    "    maximum = 0\n",
    "    minimum = 9999999999999999999999 # Set to large value\n",
    "    count = len(numList)\n",
    "    \n",
    "    for number in numList:\n",
    "        total += number\n",
    "        if number > maximum: # or maximum == None # Invalid value\n",
    "            maximum = number\n",
    "        if number < minimum: # or minimum == None # Invalid value\n",
    "            minimum = number\n",
    "\n",
    "    average = total / count\n",
    "    return count, total, average, maximum, minimum\n",
    "\n",
    "numbersCalculations([9, 8, 7, 6, 5, 4, 3, 2, 1])"
   ]
  },
  {
   "cell_type": "code",
   "execution_count": 13,
   "metadata": {},
   "outputs": [
    {
     "data": {
      "text/plain": [
       "(1, ['a', 'b'], 3, ['c', 'e'])"
      ]
     },
     "execution_count": 13,
     "metadata": {},
     "output_type": "execute_result"
    }
   ],
   "source": [
    "# Multiple Minimum or Maximum\n",
    "def multipleMinMax(numList, stringList):\n",
    "    minVal = None\n",
    "    minItems = []\n",
    "    maxVal = None\n",
    "    maxItems = []\n",
    "    \n",
    "    for index in range(len(numList)):\n",
    "        if minVal == None or minVal > numList[index]:\n",
    "            minVal = numList[index]\n",
    "            minItems = [stringList[index]]\n",
    "        elif minVal == numList[index]:\n",
    "            minItems.append(stringList[index])\n",
    "        \n",
    "        if maxVal == None or maxVal < numList[index]:\n",
    "            maxVal = numList[index]\n",
    "            maxItems = [stringList[index]]\n",
    "        elif maxVal == numList[index]:\n",
    "            maxItems.append(stringList[index])\n",
    "                        \n",
    "    return minVal, minItems, maxVal, maxItems\n",
    "                        \n",
    "multipleMinMax([1, 1, 3, 2, 3], [\"a\", \"b\", \"c\", \"d\", \"e\"])"
   ]
  },
  {
   "cell_type": "code",
   "execution_count": 14,
   "metadata": {},
   "outputs": [
    {
     "name": "stdout",
     "output_type": "stream",
     "text": [
      "3.14\n",
      "4\n",
      "3\n"
     ]
    }
   ],
   "source": [
    "# Other Calculations\n",
    "import math\n",
    "dp = 2\n",
    "print(round(math.pi, dp))\n",
    "print(math.ceil(math.pi))\n",
    "print(math.floor(math.pi))"
   ]
  },
  {
   "cell_type": "code",
   "execution_count": 15,
   "metadata": {},
   "outputs": [
    {
     "data": {
      "text/plain": [
       "9"
      ]
     },
     "execution_count": 15,
     "metadata": {},
     "output_type": "execute_result"
    }
   ],
   "source": [
    "# Random\n",
    "import random\n",
    "random.randint(0, 10)\n",
    "#random.randrange(0, 10) # Excludes 1"
   ]
  },
  {
   "cell_type": "markdown",
   "metadata": {},
   "source": [
    "## 1.5 File I/O\n",
    "### Python's built-in libraries"
   ]
  },
  {
   "cell_type": "code",
   "execution_count": 16,
   "metadata": {},
   "outputs": [],
   "source": [
    "## Write mode\n",
    "file = open('TEST.txt', 'w')\n",
    "file.write('This is some test data\\nAnd this is another line')\n",
    "file.close()"
   ]
  },
  {
   "cell_type": "code",
   "execution_count": 17,
   "metadata": {},
   "outputs": [
    {
     "name": "stdout",
     "output_type": "stream",
     "text": [
      "This is some test data\n",
      "And this is another line\n"
     ]
    }
   ],
   "source": [
    "## Read mode\n",
    "'''\n",
    "Other functions\n",
    "file.read() # Reads all items\n",
    "file.readlines() # Reads lines into list (with newline character behind each line)\n",
    "file.readline() # Reads 1 line at a time\n",
    "'''\n",
    "file = open('TEST.txt') #,'r')\n",
    "for line in file:\n",
    "    print(line.strip())\n",
    "file.close()"
   ]
  },
  {
   "cell_type": "code",
   "execution_count": 18,
   "metadata": {},
   "outputs": [],
   "source": [
    "## Append mode\n",
    "file = open('TEST.txt', 'a')\n",
    "file.write('\\nAnd this is another appended line')\n",
    "file.close()"
   ]
  },
  {
   "cell_type": "code",
   "execution_count": 19,
   "metadata": {},
   "outputs": [
    {
     "name": "stdout",
     "output_type": "stream",
     "text": [
      "This is some test data\n",
      "And this is another line\n",
      "And this is another appended line\n"
     ]
    }
   ],
   "source": [
    "## Read again\n",
    "file = open('TEST.txt')\n",
    "print(file.read())\n",
    "file.close()"
   ]
  },
  {
   "cell_type": "markdown",
   "metadata": {},
   "source": [
    "### CSV"
   ]
  },
  {
   "cell_type": "code",
   "execution_count": 13,
   "metadata": {},
   "outputs": [],
   "source": [
    "## CSV Writer\n",
    "data = [\n",
    "    ['Alice', 'H1GP', 'H2MATH', 'H2ECONS', 'H2PHY', 'H2COMP'],\n",
    "    ['Bobby', 'H1GP', 'H2MATH', 'H2ECONS', 'H2PHY', 'H2CLL'],\n",
    "    ['Charlie', 'H1GP', 'H2MATH', 'H2ECONS', 'H2CHEM', 'H2COMP'],\n",
    "    ['Danny', 'H1GP', 'H2MATH', 'H2PHY', 'H2CHEM', 'H2COMP'],\n",
    "    ['Ernest', 'H1GP', 'H2MATH', 'H2PHY', 'H2COMP', 'H2ELL']\n",
    "]\n",
    "\n",
    "import csv\n",
    "file = open('studentsubjects.csv','w', newline='') # Newline\n",
    "writer = csv.writer(file)# , delimiter=' ',quotechar='|', quoting=csv.QUOTE_MINIMAL)\n",
    "\n",
    "#for record in data: writer.writerow(record)\n",
    "writer.writerows(data)\n",
    "file.close()"
   ]
  },
  {
   "cell_type": "code",
   "execution_count": 14,
   "metadata": {},
   "outputs": [
    {
     "data": {
      "text/plain": [
       "[['Alice', 'H1GP', 'H2MATH', 'H2ECONS', 'H2PHY', 'H2COMP'],\n",
       " ['Bobby', 'H1GP', 'H2MATH', 'H2ECONS', 'H2PHY', 'H2CLL'],\n",
       " ['Charlie', 'H1GP', 'H2MATH', 'H2ECONS', 'H2CHEM', 'H2COMP'],\n",
       " ['Danny', 'H1GP', 'H2MATH', 'H2PHY', 'H2CHEM', 'H2COMP'],\n",
       " ['Ernest', 'H1GP', 'H2MATH', 'H2PHY', 'H2COMP', 'H2ELL']]"
      ]
     },
     "execution_count": 14,
     "metadata": {},
     "output_type": "execute_result"
    }
   ],
   "source": [
    "## CSV Reader\n",
    "import csv\n",
    "\n",
    "def readFileCSV(filename='studentsubjects.csv'):\n",
    "    data = []\n",
    "    file = open(filename) #,'r')\n",
    "    reader = csv.reader(file, delimiter=',')\n",
    "    for record in reader:\n",
    "        data.append(record)\n",
    "    file.close()\n",
    "    return data\n",
    "readFileCSV()"
   ]
  },
  {
   "cell_type": "code",
   "execution_count": 15,
   "metadata": {},
   "outputs": [
    {
     "name": "stderr",
     "output_type": "stream",
     "text": [
      "rm: cannot remove 'TEST.txt': No such file or directory\n"
     ]
    }
   ],
   "source": [
    "! rm studentsubjects.csv | rm TEST.txt"
   ]
  },
  {
   "cell_type": "markdown",
   "metadata": {},
   "source": [
    "## 1.6 Base Conversion"
   ]
  },
  {
   "cell_type": "code",
   "execution_count": 1,
   "metadata": {},
   "outputs": [],
   "source": [
    "def getPosValue(char, base):\n",
    "    if char.isdigit():\n",
    "        return int(char)\n",
    "    else:\n",
    "        return ord(char.upper()) - 65 + 10\n",
    "def baseToDenary(number, base):\n",
    "    value = 0\n",
    "    for pos in range(0, len(number)):\n",
    "        posVal = getPosValue(number[- pos - 1], base)\n",
    "        value += posVal * (base ** pos)\n",
    "    return value\n",
    "\n",
    "################################################################\n",
    "\n",
    "def denaryToBase(number, base):\n",
    "    charset = \"0123456789ABCDEFGHIJKLMNOPQRSTUVWXYZ\"\n",
    "    ans = \"\"\n",
    "    pos = 0 # Count right to left\n",
    "    remainder = number\n",
    "    while remainder > 0:\n",
    "        digitVal = remainder % base\n",
    "        remainder = remainder // base\n",
    "        ans = charset[digitVal] + ans\n",
    "        pos += 1\n",
    "    return ans\n"
   ]
  },
  {
   "cell_type": "code",
   "execution_count": 2,
   "metadata": {},
   "outputs": [
    {
     "data": {
      "text/plain": [
       "171"
      ]
     },
     "execution_count": 2,
     "metadata": {},
     "output_type": "execute_result"
    }
   ],
   "source": [
    "baseToDenary('AB',16)"
   ]
  },
  {
   "cell_type": "code",
   "execution_count": 3,
   "metadata": {},
   "outputs": [
    {
     "data": {
      "text/plain": [
       "'A'"
      ]
     },
     "execution_count": 3,
     "metadata": {},
     "output_type": "execute_result"
    }
   ],
   "source": [
    "denaryToBase(10, 16)"
   ]
  },
  {
   "cell_type": "markdown",
   "metadata": {},
   "source": [
    "## 1.7 Datetime"
   ]
  },
  {
   "cell_type": "code",
   "execution_count": 26,
   "metadata": {},
   "outputs": [
    {
     "name": "stdout",
     "output_type": "stream",
     "text": [
      "Object now: \n",
      " 2020-09-20 12:11:13.239108 \n",
      "\n",
      "Get Current date, time and weekday: \n",
      " 2020-09-20 12:11:13.239108 6 \n",
      "\n",
      "Get min and max date and time: \n",
      " 0001-01-01 00:00:00 9999-12-31 23:59:59.999999 \n",
      "\n",
      "Get date attributes: \n",
      " 2020 9 20 \n",
      "\n",
      "Get time attributes: \n",
      " 12 11 13 239108 \n",
      "\n",
      "Display with formatting: \n",
      " 2020/09/20 12:11:13\n",
      "Display in ISO Format: \n",
      " 2020-09-20T12:11:13.239108 \n",
      "\n"
     ]
    }
   ],
   "source": [
    "from datetime import datetime\n",
    "now = datetime.now()\n",
    "\n",
    "## Accessing attributes\n",
    "print(\"Object now: \\n\", now, \"\\n\")\n",
    "print(\"Get Current date, time and weekday: \\n\", now.date(), now.time(), now.weekday(), \"\\n\")\n",
    "print(\"Get min and max date and time: \\n\", now.min, now.max, \"\\n\")\n",
    "print(\"Get date attributes: \\n\", now.year, now.month, now.day, \"\\n\")\n",
    "print(\"Get time attributes: \\n\", now.hour, now.minute, now.second, now.microsecond, \"\\n\")\n",
    "\n",
    "# Display Date\n",
    "print(\"Display with formatting: \\n\", now.strftime(\"%Y/%m/%d %H:%M:%S\"))\n",
    "print(\"Display in ISO Format: \\n\", now.isoformat(), \"\\n\")"
   ]
  },
  {
   "cell_type": "code",
   "execution_count": 27,
   "metadata": {},
   "outputs": [
    {
     "data": {
      "text/plain": [
       "datetime.datetime(2020, 10, 31, 15, 10, 34)"
      ]
     },
     "execution_count": 27,
     "metadata": {},
     "output_type": "execute_result"
    }
   ],
   "source": [
    "## Create your own dates\n",
    "\n",
    "#datetime(2017, 11, 28, 23, 55, 59, 342380)\n",
    "datetime.strptime(\"2020/10/31 15:10:34\", \"%Y/%m/%d %H:%M:%S\")"
   ]
  },
  {
   "cell_type": "code",
   "execution_count": 28,
   "metadata": {},
   "outputs": [
    {
     "name": "stdout",
     "output_type": "stream",
     "text": [
      "Past: \n",
      " 2020-09-13 11:11:13.239108 \n",
      "\n",
      "Future: \n",
      " 2020-09-27 13:11:13.239108 \n",
      "\n"
     ]
    }
   ],
   "source": [
    "## DateTime Arithmetic\n",
    "\n",
    "from datetime import timedelta\n",
    "diff = timedelta( weeks=1, days=0, hours=1, minutes=0, seconds=0, microseconds=0)\n",
    "print(\"Past: \\n\",now-diff, \"\\n\")\n",
    "print(\"Future: \\n\",now+diff, \"\\n\")"
   ]
  },
  {
   "cell_type": "markdown",
   "metadata": {},
   "source": [
    "## 1.8 F-Strings"
   ]
  },
  {
   "cell_type": "code",
   "execution_count": 29,
   "metadata": {},
   "outputs": [
    {
     "name": "stdout",
     "output_type": "stream",
     "text": [
      "| hello      |\n",
      "|   hello    |\n",
      "|      hello |\n",
      "| -----hello |\n",
      "|               Variable spacing |\n"
     ]
    }
   ],
   "source": [
    "## Justification and spacing\n",
    "print(\"|\", f\"{'hello':<10}\", \"|\")\n",
    "print(\"|\", f\"{'hello':^10}\", \"|\")\n",
    "print(\"|\", f\"{'hello':>10}\", \"|\")\n",
    "print(\"|\", f\"{'hello':->10}\", \"|\") # Fill empty space with extra stuff\n",
    "\n",
    "spacing = 30\n",
    "print(\"|\", f\"{'Variable spacing':>{spacing}}\", \"|\")"
   ]
  },
  {
   "cell_type": "code",
   "execution_count": 30,
   "metadata": {},
   "outputs": [
    {
     "name": "stdout",
     "output_type": "stream",
     "text": [
      "2 Decimal places: 1.00\n",
      "2 Signicant figures: 1\n",
      "\n",
      "Binary form:  1\n",
      "\n",
      "Show sign:  1\n",
      "Show sign: +1\n",
      "Show sign: +1\n"
     ]
    }
   ],
   "source": [
    "## Number Formatting\n",
    "num = 1 # Set as you like\n",
    "\n",
    "# Significant figures\n",
    "print(\"2 Decimal places:\", f\"{num:.2f}\")\n",
    "print(\"2 Signicant figures:\", f\"{num:.2g}\")\n",
    "\n",
    "# Formats\n",
    "print()\n",
    "print(\"Binary form:\", f\"{num:2b}\")\n",
    "\n",
    "# Signs\n",
    "print()\n",
    "print(\"Show sign:\", f\"{num: 2}\")# Leading space in front of positive numbers only\n",
    "print(\"Show sign:\", f\"{num:+2}\") # Always Show sign\n",
    "print(\"Show sign:\", f\"{num:+2}\")# Only for negative numbers\n"
   ]
  },
  {
   "cell_type": "code",
   "execution_count": 31,
   "metadata": {},
   "outputs": [
    {
     "name": "stdout",
     "output_type": "stream",
     "text": [
      "| +1010.00   |\n"
     ]
    }
   ],
   "source": [
    "## Combination\n",
    "print(\"|\", f\"{1010:<+10.2f}\", \"|\")"
   ]
  },
  {
   "cell_type": "code",
   "execution_count": 32,
   "metadata": {
    "scrolled": true
   },
   "outputs": [],
   "source": [
    "#help('FORMATTING') # Run this command for more information about f-strings"
   ]
  },
  {
   "cell_type": "code",
   "execution_count": 33,
   "metadata": {},
   "outputs": [
    {
     "name": "stdout",
     "output_type": "stream",
     "text": [
      "A         B         C         D         \n",
      "0         1         2         3         \n",
      "1         2         3         4         \n",
      "2         3         4         5         \n",
      "3         4         5         6         \n",
      "4         5         6         7         \n",
      "5         6         7         8         \n",
      "6         7         8         9         \n",
      "7         8         9         10        \n",
      "8         9         10        11        \n",
      "9         10        11        12        \n"
     ]
    }
   ],
   "source": [
    "## Generating a table\n",
    "\n",
    "def table(header, spacings, data):\n",
    "    output = ''\n",
    "    for index in range(len(header)):\n",
    "        output += f'{header[index]:<{spacings[index]}}'\n",
    "    \n",
    "    for record in data:\n",
    "        output += '\\n'\n",
    "        for index in range(len(record)):\n",
    "            item = record[index]\n",
    "            output += f'{item:<{spacings[index]}}'\n",
    "        \n",
    "    print(output)\n",
    "\n",
    "header = ['A','B','C','D']\n",
    "spacings = [10,10,10,10]\n",
    "data = [[j for j in range(i,i+4)] for i in range(10)]\n",
    "table(header, spacings, data)"
   ]
  },
  {
   "cell_type": "markdown",
   "metadata": {},
   "source": [
    "# 2. Sorting Algorithms"
   ]
  },
  {
   "cell_type": "markdown",
   "metadata": {},
   "source": [
    "## 2.1 Bubble Sort"
   ]
  },
  {
   "cell_type": "code",
   "execution_count": 34,
   "metadata": {},
   "outputs": [
    {
     "data": {
      "text/plain": [
       "[0, 1, 2, 3, 3, 6, 45]"
      ]
     },
     "execution_count": 34,
     "metadata": {},
     "output_type": "execute_result"
    }
   ],
   "source": [
    "## Iterative\n",
    "def bubbleSort(arr):\n",
    "    noswap = False\n",
    "    while noswap == False:\n",
    "        noswap = True\n",
    "        for i in range(1,len(arr)):\n",
    "            if not(arr[i-1] <= arr[i]):\n",
    "                # Swapping\n",
    "                temp = arr[i]\n",
    "                arr[i] = arr[i-1]\n",
    "                arr[i-1] = temp\n",
    "                noswap = False\n",
    "\n",
    "arr = [1,0,3,6,3,45,2]\n",
    "bubbleSort(arr)\n",
    "arr"
   ]
  },
  {
   "cell_type": "code",
   "execution_count": 35,
   "metadata": {},
   "outputs": [
    {
     "data": {
      "text/plain": [
       "[0, 1, 3, 2, 3, 6, 45]"
      ]
     },
     "execution_count": 35,
     "metadata": {},
     "output_type": "execute_result"
    }
   ],
   "source": [
    "## Recursive\n",
    "\n",
    "def recursiveBubbleSort(arr, low, high):\n",
    "    noswap = True\n",
    "    for i in range(low+1, high):\n",
    "        if not(arr[i-1] <= arr[i]):\n",
    "            # Swapping\n",
    "            temp = arr[i]\n",
    "            arr[i] = arr[i-1]\n",
    "            arr[i-1] = temp\n",
    "            noswap = False\n",
    "    if noswap == False:\n",
    "        recursiveBubbleSort(arr, low+1, high)\n",
    "    \n",
    "arr = [1,0,3,6,3,45,2]\n",
    "recursiveBubbleSort(arr,0,len(arr))\n",
    "arr"
   ]
  },
  {
   "cell_type": "markdown",
   "metadata": {},
   "source": [
    "## 2.2 Insertion Sort"
   ]
  },
  {
   "cell_type": "code",
   "execution_count": 36,
   "metadata": {},
   "outputs": [
    {
     "data": {
      "text/plain": [
       "[0, 1, 2, 3, 3, 6, 45]"
      ]
     },
     "execution_count": 36,
     "metadata": {},
     "output_type": "execute_result"
    }
   ],
   "source": [
    "## Iterative\n",
    "def insertionSort(arr):\n",
    "    for key_pos in range(len(arr)):\n",
    "        ## Shifting\n",
    "        key = arr[key_pos]\n",
    "        shift_pos = key_pos - 1\n",
    "        while shift_pos >= 0 and arr[shift_pos] >= key:\n",
    "            arr[shift_pos+1] = arr[shift_pos]\n",
    "            shift_pos -= 1\n",
    "        \n",
    "        ## Insertion\n",
    "        arr[shift_pos+1] = key\n",
    "        \n",
    "        \n",
    "arr = [1,0,3,6,3,45,2]\n",
    "insertionSort(arr)\n",
    "arr"
   ]
  },
  {
   "cell_type": "code",
   "execution_count": 37,
   "metadata": {},
   "outputs": [
    {
     "data": {
      "text/plain": [
       "[0, 1, 2, 3, 3, 6, 45]"
      ]
     },
     "execution_count": 37,
     "metadata": {},
     "output_type": "execute_result"
    }
   ],
   "source": [
    "## Recursive\n",
    "\n",
    "def recursiveInsertionSort(arr, curr_pass=1):\n",
    "    ### Base Case #########################\n",
    "    if curr_pass >= len(arr):\n",
    "        return\n",
    "    \n",
    "    ### Recursive Process #################\n",
    "    key_pos = curr_pass\n",
    "    \n",
    "    ## Shifting\n",
    "    key = arr[key_pos]\n",
    "    shift_pos = key_pos - 1\n",
    "    while shift_pos >= 0 and arr[shift_pos] >= key:\n",
    "        arr[shift_pos+1] = arr[shift_pos]\n",
    "        shift_pos -= 1\n",
    "    \n",
    "    ## Insertion\n",
    "    arr[shift_pos+1] = key\n",
    "    \n",
    "    ### Recursive Case ####################\n",
    "    recursiveInsertionSort(arr, curr_pass+1)\n",
    "\n",
    "arr = [1,0,3,6,3,45,2]\n",
    "recursiveInsertionSort(arr)\n",
    "arr"
   ]
  },
  {
   "cell_type": "markdown",
   "metadata": {},
   "source": [
    "## 2.3 Merge Sort"
   ]
  },
  {
   "cell_type": "code",
   "execution_count": 38,
   "metadata": {},
   "outputs": [],
   "source": [
    "## General Steps\n",
    "def cmp(a, b):\n",
    "    return a < b # Ascending\n",
    "    \n",
    "def merge(left, right):\n",
    "    result = []\n",
    "    l = 0 # Index of left array\n",
    "    r = 0 # Index of right array\n",
    "    while l + r < len(left) + len(right):\n",
    "        bothIndexesInRange = l < len(left) and r < len(right)\n",
    "        if (bothIndexesInRange and cmp(left[l],right[r])) or \\\n",
    "            r >= len(right):\n",
    "            result.append(left[l])\n",
    "            l += 1\n",
    "        else:\n",
    "            result.append(right[r])\n",
    "            r += 1\n",
    "    return result"
   ]
  },
  {
   "cell_type": "code",
   "execution_count": 39,
   "metadata": {},
   "outputs": [],
   "source": [
    "## Recursive\n",
    "\n",
    "def MergeSort(array):\n",
    "    # Base case\n",
    "    if len(array) <= 1: # Already sorted\n",
    "        return array\n",
    "    else:\n",
    "        # Divide\n",
    "        mid = len(array) // 2\n",
    "        left = array[:mid]\n",
    "        right = array[mid:]\n",
    "        \n",
    "        # Sort\n",
    "        left = MergeSort(left)\n",
    "        right = MergeSort(right)\n",
    "        \n",
    "        # Merge\n",
    "        return merge(left, right)"
   ]
  },
  {
   "cell_type": "code",
   "execution_count": 40,
   "metadata": {},
   "outputs": [],
   "source": [
    "## Iterative\n",
    "\n",
    "def MergeSortPass(Array, sz, SortOrder): # Working\n",
    "    # Sort the smaller subarrays\n",
    "    index = 0\n",
    "    while index < len(Array):\n",
    "        low = index\n",
    "        mid = index + sz\n",
    "        high = index + 2 * sz\n",
    "        left = Array[low:mid]\n",
    "        right = Array[mid:high]\n",
    "\n",
    "        result = merge(left, right, SortOrder)\n",
    "        for index in range(len(result)):\n",
    "            Array[low + index] = result[index] \n",
    "\n",
    "        index = high # Sort the next subarray\n",
    "        \n",
    "def MergeSortLoop(Array, SortOrder):\n",
    "    sz = 1 # Size of subarray to sort\n",
    "    while sz < len(Array):\n",
    "        MergeSortPass(Array, sz, SortOrder)\n",
    "        sz *= 2 # Double the array size\n",
    "    return Array"
   ]
  },
  {
   "cell_type": "markdown",
   "metadata": {},
   "source": [
    "## 2.4 Quick Sort"
   ]
  },
  {
   "cell_type": "code",
   "execution_count": 41,
   "metadata": {},
   "outputs": [
    {
     "name": "stdout",
     "output_type": "stream",
     "text": [
      "[1, 1, 5, 4, 2, 7, 8, 10, 8, 7] 0 6 5 9\n",
      "[1, 1, 5, 4, 2, 7, 8, 10, 8, 7] 0 2 1 4\n",
      "[1, 1, 2, 4, 5, 7, 8, 10, 8, 7] 2 5 4 4\n",
      "[1, 1, 2, 4, 5, 7, 8, 10, 8, 7] 2 3 2 3\n",
      "[1, 1, 2, 4, 5, 7, 8, 7, 8, 10] 6 9 8 9\n",
      "[1, 1, 2, 4, 5, 7, 7, 8, 8, 10] 6 8 7 7\n"
     ]
    },
    {
     "data": {
      "text/plain": [
       "True"
      ]
     },
     "execution_count": 41,
     "metadata": {},
     "output_type": "execute_result"
    }
   ],
   "source": [
    "# Recursive, in place\n",
    "def quicksort(arr, s, e):\n",
    "    if not s<e: \n",
    "        return\n",
    "    pivot,l,r = arr[s],s+1,e\n",
    "    while l <= r:\n",
    "        while l <= r and arr[l] <= pivot:\n",
    "            l+=1\n",
    "        while l <= r and arr[r] >= pivot:\n",
    "            r-=1\n",
    "        if l<=r:\n",
    "            temp = arr[l]\n",
    "            arr[l] = arr[r]\n",
    "            arr[r] = temp\n",
    "            \n",
    "    temp = arr[s]\n",
    "    arr[s] = arr[r]\n",
    "    arr[r] = temp\n",
    "    \n",
    "    print(arr,s,l,r,e)\n",
    "    quicksort(arr,s,r-1)\n",
    "    quicksort(arr,r+1,e)\n",
    "    \n",
    "import random\n",
    "arr = [random.randint(1,10) for i in range(10)]\n",
    "og = arr\n",
    "\n",
    "quicksort(arr, 0, len(arr)-1)\n",
    "arr == sorted(og)"
   ]
  },
  {
   "cell_type": "code",
   "execution_count": 42,
   "metadata": {},
   "outputs": [
    {
     "data": {
      "text/plain": [
       "[1, 2, 2, 3, 3, 11, 12, 12, 15, 18]"
      ]
     },
     "execution_count": 42,
     "metadata": {},
     "output_type": "execute_result"
    }
   ],
   "source": [
    "# Recursive, out of place\n",
    "def quicksort(arr):\n",
    "    ## Base Case: Already sorted ##########\n",
    "    if len(arr) <= 1:\n",
    "        return arr\n",
    "    ## Recursive Case #####################\n",
    "    else:\n",
    "        # Partitioning\n",
    "        pivot = arr[0]\n",
    "        left = []\n",
    "        right = []\n",
    "        for item in arr[1:]: # Exclude the first element\n",
    "            if item < pivot:\n",
    "                left.append(item)\n",
    "            else: #if item >= pivot:\n",
    "                right.append(item)\n",
    "        ## Recursion Call #################\n",
    "        return quicksort(left) + [pivot] + quicksort(right)\n",
    "\n",
    "import random\n",
    "arr = [random.randint(1,20) for i in range(10)]\n",
    "quicksort(arr)"
   ]
  },
  {
   "cell_type": "markdown",
   "metadata": {},
   "source": [
    "# 3. Searching Algorithms"
   ]
  },
  {
   "cell_type": "markdown",
   "metadata": {},
   "source": [
    "## 3.1 Linear Search"
   ]
  },
  {
   "cell_type": "code",
   "execution_count": 43,
   "metadata": {},
   "outputs": [
    {
     "data": {
      "text/plain": [
       "4"
      ]
     },
     "execution_count": 43,
     "metadata": {},
     "output_type": "execute_result"
    }
   ],
   "source": [
    "array = [1, 2, 3, 4, 5, 6, 7, 8, 9, 10]\n",
    "item = 4\n",
    "\n",
    "def linearSearch(array, item):\n",
    "    for index in range(len(array)):\n",
    "        if array[index] == item:\n",
    "            return item\n",
    "    return -1 # Cannot find\n",
    "\n",
    "linearSearch(array, item)"
   ]
  },
  {
   "cell_type": "markdown",
   "metadata": {},
   "source": [
    "## 3.2 Binary Search"
   ]
  },
  {
   "cell_type": "code",
   "execution_count": 4,
   "metadata": {},
   "outputs": [
    {
     "data": {
      "text/plain": [
       "1"
      ]
     },
     "execution_count": 4,
     "metadata": {},
     "output_type": "execute_result"
    }
   ],
   "source": [
    "## Iterative\n",
    "array = [1, 2, 3, 4, 5, 6, 7, 8, 9, 10]\n",
    "def binarySearch(array, low, high, find):\n",
    "    while low <= high:\n",
    "        mid = int((low+high)/2)\n",
    "        if array[mid] == find:\n",
    "            return mid\n",
    "        elif array[mid] > find:\n",
    "            high = mid - 1\n",
    "        elif array[mid] < find:\n",
    "            low = mid + 1\n",
    "    return -1\n",
    "\n",
    "binarySearch(array, 0, 9, 2)"
   ]
  },
  {
   "cell_type": "code",
   "execution_count": 45,
   "metadata": {},
   "outputs": [
    {
     "data": {
      "text/plain": [
       "1"
      ]
     },
     "execution_count": 45,
     "metadata": {},
     "output_type": "execute_result"
    }
   ],
   "source": [
    "## Recursive\n",
    "def recursiveBinarySearch(array, low, high, find):\n",
    "    ### Base Cases ############################\n",
    "    if low > high: # Not in array\n",
    "        return -1\n",
    "    mid = int((low + high)/2) # Trucate\n",
    "    if array[mid] == find:\n",
    "        return mid\n",
    "              \n",
    "    ### Recursive cases ########################\n",
    "    if find < array[mid]:\n",
    "        return recursiveBinarySearch(array, low, mid-1, find)\n",
    "    elif find > array[mid]:\n",
    "        return recursiveBinarySearch(array, mid+1, high, find)\n",
    "\n",
    "recursiveBinarySearch(array, 0, 9, 2)"
   ]
  },
  {
   "cell_type": "markdown",
   "metadata": {},
   "source": [
    "##  3.3 Hash Table"
   ]
  },
  {
   "cell_type": "code",
   "execution_count": 46,
   "metadata": {},
   "outputs": [],
   "source": [
    "class Node:\n",
    "    def __init__(self, key, value):\n",
    "        self.key = key\n",
    "        self.value = value\n",
    "        self.next = None\n",
    "    \n",
    "    def __str__(self):\n",
    "        return f\"{self.key},{self.value}\"\n",
    "    \n",
    "    ### For Separate Chaining ###############\n",
    "    def insert(self, key, value):\n",
    "        if self.next == None:\n",
    "            self.next = Node(key, value)\n",
    "        else:\n",
    "            self.next.insert(key, value)\n",
    "            \n",
    "    def find(self, key):\n",
    "        if self.key == key:\n",
    "            return self\n",
    "        elif self.next != None:\n",
    "            return self.next.find(key)\n",
    "        else:\n",
    "            return None"
   ]
  },
  {
   "cell_type": "code",
   "execution_count": 47,
   "metadata": {},
   "outputs": [
    {
     "name": "stdout",
     "output_type": "stream",
     "text": [
      "[None, <__main__.Node object at 0x00000184E10A16A0>, <__main__.Node object at 0x00000184E10A1780>, None, None, None, None, None, None, None, None, None, None, None, None, None, None, None, None, None, None, None, None, None, None, None, None, None, None, None, None, None, None, None, None, None, None, None, None, None, None, None, None, None, None, None, None, None, None, None, None, None, None]\n",
      "54,2\n"
     ]
    }
   ],
   "source": [
    "## Open Addressing\n",
    "\n",
    "class HashTable:\n",
    "    def __init__(self, max_size=53):\n",
    "        self.size = max_size\n",
    "        # Use a python list to simulate an array\n",
    "        self.array = []\n",
    "        for i in range(max_size):\n",
    "            self.array.append(None)\n",
    "            \n",
    "    def get_hash(self, key):\n",
    "        '''\n",
    "        # Weighted ordinal hash\n",
    "        key = str(key)\n",
    "        hash = 0\n",
    "        for i in range(len(key)):\n",
    "            hash += ord(key[i]) * i\n",
    "        '''\n",
    "        hash = key\n",
    "        hash %= self.size\n",
    "        return hash\n",
    "    \n",
    "    def insert(self, key, data):\n",
    "        pos = self.get_hash(key)\n",
    "        \n",
    "        # If at empty value\n",
    "        if self.array[pos] == None:\n",
    "            self.array[pos] = Node(key,data)\n",
    "            return 0\n",
    "        \n",
    "        # Open addressing\n",
    "        original = pos\n",
    "        pos = original + 1\n",
    "        while pos != original:\n",
    "            if self.array[pos] == None:\n",
    "                self.array[pos] = Node(key,data)\n",
    "                return 1\n",
    "            pos = (pos + 1) % self.size # Wrap around\n",
    "        \n",
    "        return -1 # Failed to insert\n",
    "    \n",
    "    def find(self, key):\n",
    "        pos = self.get_hash(key)\n",
    "        \n",
    "        # If at empty value\n",
    "        if self.array[pos] != None and self.array[pos].key == key:\n",
    "            return self.array[pos]\n",
    "        \n",
    "        # Open addressing\n",
    "        original = pos\n",
    "        pos = original + 1\n",
    "        while pos != original:\n",
    "            if self.array[pos] != None and self.array[pos].key == key:\n",
    "                return self.array[pos]\n",
    "            pos = (pos + 1) % self.size # Wrap around\n",
    "        \n",
    "        return -1 # Failed to find\n",
    "\n",
    "    \n",
    "ht = HashTable()\n",
    "ht.insert(1, 3)\n",
    "ht.insert(54, 2)\n",
    "print(ht.array)\n",
    "print(ht.find(54))"
   ]
  },
  {
   "cell_type": "code",
   "execution_count": 48,
   "metadata": {},
   "outputs": [
    {
     "name": "stdout",
     "output_type": "stream",
     "text": [
      "[None, <__main__.Node object at 0x00000184E10A1D30>, None, None, None, None, None, None, None, None, None, None, None, None, None, None, None, None, None, None, None, None, None, None, None, None, None, None, None, None, None, None, None, None, None, None, None, None, None, None, None, None, None, None, None, None, None, None, None, None, None, None, None]\n",
      "54,2\n"
     ]
    }
   ],
   "source": [
    "## Separate Chaining\n",
    "\n",
    "# Uses the previous node class\n",
    "class HashTable:\n",
    "    def __init__(self, max_size=53):\n",
    "        self.size = max_size\n",
    "        # Use a python list to simulate an array\n",
    "        self.array = []\n",
    "        for i in range(max_size):\n",
    "            self.array.append(None)\n",
    "            \n",
    "    def get_hash(self, key):\n",
    "        '''\n",
    "        # Weighted ordinal hash\n",
    "        key = str(key)\n",
    "        hash = 0\n",
    "        for i in range(len(key)):\n",
    "            hash += ord(key[i]) * i\n",
    "        '''\n",
    "        hash = key\n",
    "        hash %= self.size\n",
    "        return hash\n",
    "    \n",
    "    def insert(self, key, data):\n",
    "        pos = self.get_hash(key)\n",
    "        \n",
    "        # If at empty value\n",
    "        if self.array[pos] == None:\n",
    "            self.array[pos] = Node(key,data)\n",
    "        # Open addressing\n",
    "        else:\n",
    "            self.array[pos].insert(key, data)\n",
    "    \n",
    "    def find(self, key):\n",
    "        pos = self.get_hash(key)\n",
    "        \n",
    "        # If at empty value\n",
    "        if self.array[pos] != None and self.array[pos].key == key:\n",
    "            return self.array[pos]\n",
    "        \n",
    "        # Separate Chaining\n",
    "        return self.array[pos].find(key)\n",
    "\n",
    "    \n",
    "ht = HashTable()\n",
    "ht.insert(1, 3)\n",
    "ht.insert(54, 2)\n",
    "print(ht.array)\n",
    "print(ht.find(54))"
   ]
  },
  {
   "cell_type": "markdown",
   "metadata": {},
   "source": [
    "# 4. Data Structures"
   ]
  },
  {
   "cell_type": "markdown",
   "metadata": {},
   "source": [
    "## 4.1 Linked Lists\n",
    "\n",
    "There are a few main approaches\n",
    "1. Pointer implementation\n",
    "2. Array Implementation"
   ]
  },
  {
   "cell_type": "code",
   "execution_count": 49,
   "metadata": {},
   "outputs": [
    {
     "name": "stdout",
     "output_type": "stream",
     "text": [
      "True\n",
      "1, 2, 3, 4, 5\n",
      "False\n",
      "4\n",
      "1, 2, 4, 5\n"
     ]
    }
   ],
   "source": [
    "# Pointer Implementation\n",
    "class Node:\n",
    "    def __init__(self, value=None,next=None):\n",
    "        self.value = value\n",
    "        self.next = next\n",
    "\n",
    "class LinkedList:\n",
    "    def __init__(self):\n",
    "        self.start = None\n",
    "        \n",
    "    def isEmpty(self):\n",
    "        return self.start == None\n",
    "        \n",
    "    def display(self):\n",
    "        output = \"\"\n",
    "        # Traversal\n",
    "        curr = self.start\n",
    "        while curr != None:\n",
    "            output += str(curr.value)\n",
    "            curr = curr.next\n",
    "            if curr != None:\n",
    "                output += \", \"\n",
    "        print(output)\n",
    "    \n",
    "    ### General Traversal Methods ###############################\n",
    "    def travelToNode(self, reachedFunc):\n",
    "        counter = 0\n",
    "        prev = None\n",
    "        curr = self.start\n",
    "        while curr != None and (not reachedFunc(counter, curr)):\n",
    "            prev = curr\n",
    "            curr = curr.next\n",
    "            counter += 1\n",
    "        \n",
    "        return prev, curr, counter\n",
    "        \n",
    "    def get(self, reachedFunc):\n",
    "        prev, curr, counter = self.travelToNode(reachedFunc)\n",
    "        return curr\n",
    "        \n",
    "    def insert(self, reachedFunc, value):\n",
    "        prev, curr, counter = self.travelToNode(reachedFunc)\n",
    "        \n",
    "        # Insertion\n",
    "        newNode = Node(value,curr)\n",
    "        if prev == None: # Link at start\n",
    "            self.start = newNode\n",
    "        else: # Link in between\n",
    "            prev.next = newNode\n",
    "\n",
    "    def remove(self, reachedFunc):\n",
    "        prev, curr, counter = self.travelToNode(reachedFunc)\n",
    "        if prev == None: # Link at start\n",
    "            self.start = curr.next\n",
    "        else: # Remove in between nodes/ at the end\n",
    "            prev.next = curr.next\n",
    "    \n",
    "    ### Specific types ########################################\n",
    "    def getPosition(self, pos):\n",
    "        def reachedFunc(currPos, currNode):\n",
    "            return currPos == pos\n",
    "        return self.get(reachedFunc)\n",
    "            \n",
    "    def insertPosition(self, pos, val):\n",
    "        def reachedFunc(currPos, currNode):\n",
    "            return currPos == pos\n",
    "        return self.insert(reachedFunc, val)\n",
    "    \n",
    "    def removePosition(self, pos):\n",
    "        def reachedFunc(currPos, currNode):\n",
    "            return currPos == pos\n",
    "        return self.remove(reachedFunc)\n",
    "    \n",
    "    def insertSorted(self, val):\n",
    "        def reachedFunc(currPos, currNode):\n",
    "            return currNode.value >= val\n",
    "        return self.insert(reachedFunc, val)\n",
    "    \n",
    "def driver():\n",
    "    l = LinkedList()\n",
    "    print(l.isEmpty())\n",
    "    l.insertPosition(10,2)\n",
    "    l.insertSorted(1)\n",
    "    l.insertPosition(10,3)\n",
    "    l.insertPosition(10,4)\n",
    "    l.insertPosition(10,5)\n",
    "    l.display()\n",
    "    print(l.isEmpty())\n",
    "    print(l.getPosition(3).value)\n",
    "    l.removePosition(2)\n",
    "    l.display()\n",
    "\n",
    "if __name__ == \"__main__\":\n",
    "    driver()"
   ]
  },
  {
   "cell_type": "code",
   "execution_count": 50,
   "metadata": {},
   "outputs": [
    {
     "name": "stdout",
     "output_type": "stream",
     "text": [
      "Is Empty: True\n",
      "### Addition of Items #############################\n",
      "Start Pointer = 2\n",
      "End Pointer = 3\n",
      "nextFree Pointer = 0\n",
      "Index Content              Next\n",
      "    1 2                       4\n",
      "    2 1                       1\n",
      "    3 5                       0\n",
      "    4 3                       5\n",
      "    5 4                       3\n",
      "Items in order:\n",
      "1\n",
      "2\n",
      "3\n",
      "4\n",
      "5\n",
      "\n",
      "Is Empty: False\n",
      "Is Full: True\n",
      "Data at position 3: 4\n",
      "### Removal of Items #############################\n",
      "Start Pointer = 2\n",
      "End Pointer = 2\n",
      "nextFree Pointer = 1\n",
      "Index Content              Next\n",
      "    1 None                    4\n",
      "    2 1                       5\n",
      "    3 5                       0\n",
      "    4 None                    0\n",
      "    5 4                       3\n",
      "Items in order:\n",
      "1\n",
      "4\n",
      "5\n",
      "Is Empty: False\n",
      "Is Full: False\n"
     ]
    }
   ],
   "source": [
    "# Array Implementation\n",
    "class ListNode:\n",
    "    def __init__(self, data=None, next=None):\n",
    "        self.data = data\n",
    "        self.next = next\n",
    "    \n",
    "    def isEmpty(self):\n",
    "        return self.data == None\n",
    "    \n",
    "    def __str__(self):\n",
    "        return f\"Node({self.data}, {self.next})\"\n",
    "\n",
    "class ArrayLinkedList:\n",
    "    def __init__(self, size=10):\n",
    "        self.initialise(size)\n",
    "    \n",
    "    def initialise(self, size=10):\n",
    "        # Use a python list to simulate an array of Nodes\n",
    "        self.size = size\n",
    "        self.array = []\n",
    "        for i in range(self.size + 1): # 1-indexed. 0-indexed goes unused\n",
    "            next = (i + 1) % (self.size + 1)\n",
    "            node = ListNode(None, next)\n",
    "            self.array.append(node)\n",
    "        \n",
    "        # Others\n",
    "        self.start = 0 # Pointer to First element in linked list\n",
    "        self.end = 1 # Pointer to Last element in linked list\n",
    "        self.nextFree = 1 # Pointer to First element in free list\n",
    "    \n",
    "    ### Auxilary Functions #####################################################\n",
    "    def isEmpty(self):\n",
    "        return self.start == 0\n",
    "        \n",
    "    def isFull(self):\n",
    "        # Check for unused nodes\n",
    "        return self.nextFree == 0\n",
    "    \n",
    "    def printStructure(self):\n",
    "        output = \"\"\n",
    "        # Pointers\n",
    "        output += f\"Start Pointer = {self.start}\\n\"\n",
    "        output += f\"End Pointer = {self.end}\\n\"\n",
    "        output += f\"nextFree Pointer = {self.nextFree}\\n\"\n",
    "        # Array Contents\n",
    "        output += f\"{'Index':5} {'Content':20} {'Next':4}\\n\"\n",
    "        for index in range(1,len(self.array)):\n",
    "            content = str(self.array[index].data)\n",
    "            nextPointer = self.array[index].next\n",
    "            output += f\"{index:5} {content:20} {nextPointer:4}\" + \"\\n\"\n",
    "        print(output[:-1])\n",
    "    \n",
    "    ### Generic Traversal #######################################################\n",
    "    def display(self):\n",
    "        output = \"Items in order:\"\n",
    "        prevPos = None\n",
    "        currPos = self.start\n",
    "        currNode = self.array[currPos]\n",
    "        while not currNode.isEmpty():\n",
    "            output += f'\\n{currNode.data}'\n",
    "            prevPos = currPos\n",
    "            currPos = currNode.next\n",
    "            currNode = self.array[currPos]\n",
    "           \n",
    "        print(output)\n",
    "        \n",
    "    def travelToNode(self, reachedFunc):\n",
    "        counter = 0\n",
    "        prevPos = None\n",
    "        currPos = self.start\n",
    "        currNode = self.array[currPos]\n",
    "        while not currNode.isEmpty() and not reachedFunc(counter, currPos, currNode):\n",
    "            prevPos = currPos\n",
    "            currPos = currNode.next\n",
    "            currNode = self.array[currPos]\n",
    "            counter += 1\n",
    "           \n",
    "        if prevPos != None:\n",
    "            prevNode = self.array[prevPos]\n",
    "        else:\n",
    "            prevNode = None\n",
    "            \n",
    "        return prevPos, prevNode, currPos, currNode, counter\n",
    "        \n",
    "    ### Generic Traversal Methods ############################################### \n",
    "    def get(self, reachedFunc):\n",
    "        prevPos, prevNode, currPos, currNode, counter = self.travelToNode(reachedFunc)\n",
    "        return currNode\n",
    "    \n",
    "    def insert(self, reachedFunc, item):\n",
    "        ### Mandatory checks ##################################\n",
    "        if self.isFull():\n",
    "            raise Exception(\"No space left to add new node!\")\n",
    "        \n",
    "        ### Traversal #######################################\n",
    "        prevPos, prevNode, currPos, currNode, counter = self.travelToNode(reachedFunc)\n",
    "        \n",
    "        ### Create new node ##################################\n",
    "        newNodePos = self.nextFree\n",
    "        newNode = self.array[newNodePos] \n",
    "        newNode.data = item\n",
    "        self.nextFree = newNode.next # Get nextFree\n",
    "        \n",
    "        ### Linking ##########################################\n",
    "        ### ---[prev]---[new]---[curr]--- ####################\n",
    "        # Inserting at the front\n",
    "        if prevPos == None:\n",
    "            self.start = newNodePos\n",
    "        # Linking from previous node\n",
    "        else:    \n",
    "            prevNode.next = newNodePos\n",
    "            \n",
    "        # Inserting at the back\n",
    "        if currNode.isEmpty():\n",
    "            self.end = newNodePos\n",
    "        # Linking to next node\n",
    "        newNode.next = currPos\n",
    "    \n",
    "    def remove(self, reachedFunc):\n",
    "        ### Mandatory checks ##################################\n",
    "        if self.isEmpty():\n",
    "            raise Exception(\"Nothing to remove!\")\n",
    "        \n",
    "        ### Traversal #######################################\n",
    "        prevPos, prevNode, currPos, currNode, counter = self.travelToNode(reachedFunc)\n",
    "        nextPos = currNode.next\n",
    "        nextNode = self.array[nextPos]\n",
    "        \n",
    "        ### Freeing up curr node #############################\n",
    "        currNode.next = self.nextFree\n",
    "        currNode.data = None\n",
    "        self.nextFree = currPos\n",
    "        \n",
    "        ### Unlinking ########################################\n",
    "        ## ---[prev]---[curr]---[next]--- ####################\n",
    "        if prevNode == None:\n",
    "            self.start = nextPos\n",
    "        else:\n",
    "            prevNode.next = nextPos  \n",
    "            \n",
    "        # Linking to end (if remove to end)\n",
    "        if currNode.isEmpty():\n",
    "            self.end = prevPos\n",
    "\n",
    "    ### Specific types ########################################\n",
    "    def getPosition(self, pos):\n",
    "        def reachedFunc(currPos, arrayPos, currNode):\n",
    "            return currPos == pos\n",
    "        return self.get(reachedFunc)\n",
    "            \n",
    "    def insertPosition(self, pos, val):\n",
    "        def reachedFunc(currPos, arrayPos, currNode):\n",
    "            return currPos == pos\n",
    "        return self.insert(reachedFunc, val)\n",
    "    \n",
    "    def removePosition(self, pos):\n",
    "        def reachedFunc(currPos, arrayPos, currNode):\n",
    "            return currPos == pos\n",
    "        return self.remove(reachedFunc)\n",
    "    \n",
    "    def insertSorted(self, val):\n",
    "        def reachedFunc(currPos, arrayPos, currNode):\n",
    "            return currNode.data >= val\n",
    "        return self.insert(reachedFunc, val)\n",
    "\n",
    "### Driver ################################################\n",
    "def driver():\n",
    "    l = ArrayLinkedList(5)\n",
    "    print(\"Is Empty:\", l.isEmpty())\n",
    "    print(\"### Addition of Items #############################\")\n",
    "    l.insertPosition(10,2)\n",
    "    l.insertSorted(1)\n",
    "    l.insertPosition(10, 5)\n",
    "    l.insertSorted(3)\n",
    "    l.insertSorted(4)\n",
    "    l.printStructure()\n",
    "    l.display()\n",
    "    print()\n",
    "    print(\"Is Empty:\", l.isEmpty())\n",
    "    print(\"Is Full:\", l.isFull())\n",
    "    print('Data at position 3:', l.getPosition(3).data)\n",
    "    \n",
    "    print(\"### Removal of Items #############################\")\n",
    "    l.removePosition(2)\n",
    "    l.removePosition(1)\n",
    "    #l.removePosition(0)\n",
    "    #l.removePosition(0)\n",
    "    #l.removePosition(0)\n",
    "    l.printStructure()\n",
    "    l.display()\n",
    "    print(\"Is Empty:\", l.isEmpty())\n",
    "    print(\"Is Full:\", l.isFull())\n",
    "\n",
    "if __name__ == \"__main__\":\n",
    "    driver()"
   ]
  },
  {
   "cell_type": "markdown",
   "metadata": {},
   "source": [
    "## 4.2 Stacks\n",
    "There are a few main approaches\n",
    "1. Linked List\n",
    "2. Array\n",
    "3. Python List"
   ]
  },
  {
   "cell_type": "code",
   "execution_count": 51,
   "metadata": {},
   "outputs": [],
   "source": [
    "# Driver\n",
    "def driver(stack, size):\n",
    "    print(\"TRUE SHOWS THAT IT WORKS!!!\")\n",
    "\n",
    "    print(\"---Initialised Stack---\")\n",
    "    print(\"size()\", stack.size() == 0)\n",
    "    print(\"isEmptyStack()\",stack.isEmpty() == True)\n",
    "    print(\"isFullStack()\",stack.isFull() == False)\n",
    "\n",
    "    print(\"---Appending Elements---\")\n",
    "    for i in range(size):\n",
    "        stack.push(i)\n",
    "    print(\"isEmptyStack()\",stack.isEmpty() == False)\n",
    "    print(\"isFullStack()\",stack.isFull() == True)\n",
    "    for i in range(size - 1, 0 - 1, -1):\n",
    "          print(\"peek()\", stack.peek() == i, \n",
    "                \"isEmptyStack()\",stack.isEmpty() == False, \n",
    "                \"isFullStack()\",stack.isFull() ==  (i == size-1), \n",
    "                \"pop()\", stack.pop() == i)\n",
    "\n",
    "    print(\"---Emptied Elements---\")\n",
    "    print(\"isEmptyStack()\",stack.isEmpty() == True)\n",
    "    print(\"isFullStack()\",stack.isFull() == False)"
   ]
  },
  {
   "cell_type": "code",
   "execution_count": 52,
   "metadata": {},
   "outputs": [
    {
     "name": "stdout",
     "output_type": "stream",
     "text": [
      "TRUE SHOWS THAT IT WORKS!!!\n",
      "---Initialised Stack---\n",
      "size() True\n",
      "isEmptyStack() True\n",
      "isFullStack() True\n",
      "---Appending Elements---\n",
      "isEmptyStack() True\n",
      "isFullStack() False\n",
      "peek() True isEmptyStack() True isFullStack() False pop() True\n",
      "peek() True isEmptyStack() True isFullStack() True pop() True\n",
      "peek() True isEmptyStack() True isFullStack() True pop() True\n",
      "peek() True isEmptyStack() True isFullStack() True pop() True\n",
      "peek() True isEmptyStack() True isFullStack() True pop() True\n",
      "---Emptied Elements---\n",
      "isEmptyStack() True\n",
      "isFullStack() True\n"
     ]
    }
   ],
   "source": [
    "# Pointer Implementation\n",
    "class Node:\n",
    "    def __init__(self, data):\n",
    "        self.data = data\n",
    "        self.next = None\n",
    "\n",
    "class PointerStack:\n",
    "    def __init__(self):\n",
    "        self.head = None\n",
    "        self.current_size = 0\n",
    "\n",
    "    def push(self, data):\n",
    "        self.current_size += 1\n",
    "        if self.head is None:\n",
    "            self.head = Node(data)\n",
    "        else:\n",
    "            new_node = Node(data)\n",
    "            new_node.next = self.head\n",
    "            self.head = new_node\n",
    "\n",
    "    def pop(self):\n",
    "        if self.head is None:\n",
    "            return None\n",
    "        else:\n",
    "            self.current_size -= 1\n",
    "            popped = self.head.data\n",
    "            self.head = self.head.next\n",
    "            return popped\n",
    "\n",
    "    def peek(self):\n",
    "        if self.head is None:\n",
    "            return None\n",
    "        else:\n",
    "            popped = self.head.data\n",
    "            return popped\n",
    "\n",
    "    ### Auxilary Functions ###########################################\n",
    "    def size(self):\n",
    "        return self.current_size # Or loop through\n",
    "    \n",
    "    def isEmpty(self):\n",
    "        return self.size() == 0\n",
    "    \n",
    "    def isFull(self):\n",
    "        return False # Not implemented\n",
    "    \n",
    "driver(PointerStack(), 5)"
   ]
  },
  {
   "cell_type": "code",
   "execution_count": 53,
   "metadata": {},
   "outputs": [
    {
     "name": "stdout",
     "output_type": "stream",
     "text": [
      "TRUE SHOWS THAT IT WORKS!!!\n",
      "---Initialised Stack---\n",
      "size() True\n",
      "isEmptyStack() True\n",
      "isFullStack() True\n",
      "---Appending Elements---\n",
      "isEmptyStack() True\n",
      "isFullStack() True\n",
      "peek() True isEmptyStack() True isFullStack() True pop() True\n",
      "peek() True isEmptyStack() True isFullStack() True pop() True\n",
      "peek() True isEmptyStack() True isFullStack() True pop() True\n",
      "peek() True isEmptyStack() True isFullStack() True pop() True\n",
      "peek() True isEmptyStack() True isFullStack() True pop() True\n",
      "---Emptied Elements---\n",
      "isEmptyStack() True\n",
      "isFullStack() True\n"
     ]
    }
   ],
   "source": [
    "# Array Implementation\n",
    "class ArrayStack:\n",
    "    def __init__(self, size=30):\n",
    "        self.MAX_SIZE = size\n",
    "        # Simulate an array in Python\n",
    "        self.array = []\n",
    "        for index in range(self.MAX_SIZE):\n",
    "            self.array.append(None)\n",
    "        self.head = 0 # The first empty index\n",
    "    \n",
    "    def push(self, data):\n",
    "        if self.isFull():\n",
    "            print(\"Error: the stack is at full capacity!\")\n",
    "        else:\n",
    "            self.array[self.head] = data\n",
    "            self.head += 1\n",
    "    \n",
    "    def pop(self):\n",
    "        if self.isEmpty():\n",
    "            return None\n",
    "        else:\n",
    "            self.head -= 1\n",
    "            return self.array[self.head]\n",
    "\n",
    "    def peek(self):\n",
    "        if self.isEmpty():\n",
    "            return None\n",
    "        else:\n",
    "            return self.array[self.head - 1]\n",
    "        \n",
    "    ### Auxilary Functions ###########################################\n",
    "    def size(self):\n",
    "        return self.head\n",
    "    \n",
    "    def isEmpty(self):\n",
    "        return self.size() == 0\n",
    "    \n",
    "    def isFull(self):\n",
    "        return self.size() >= self.MAX_SIZE\n",
    "    \n",
    "driver(ArrayStack(5), 5)"
   ]
  },
  {
   "cell_type": "code",
   "execution_count": 54,
   "metadata": {},
   "outputs": [
    {
     "name": "stdout",
     "output_type": "stream",
     "text": [
      "TRUE SHOWS THAT IT WORKS!!!\n",
      "---Initialised Stack---\n",
      "size() True\n",
      "isEmptyStack() True\n",
      "isFullStack() True\n",
      "---Appending Elements---\n",
      "isEmptyStack() True\n",
      "isFullStack() False\n",
      "peek() True isEmptyStack() True isFullStack() False pop() True\n",
      "peek() True isEmptyStack() True isFullStack() True pop() True\n",
      "peek() True isEmptyStack() True isFullStack() True pop() True\n",
      "peek() True isEmptyStack() True isFullStack() True pop() True\n",
      "peek() True isEmptyStack() True isFullStack() True pop() True\n",
      "---Emptied Elements---\n",
      "isEmptyStack() True\n",
      "isFullStack() True\n"
     ]
    }
   ],
   "source": [
    "# Python List Implementation\n",
    "class PythonListStack:\n",
    "    def __init__(self):\n",
    "        self.items = []\n",
    "    \n",
    "    def push(self, data):\n",
    "        self.items.append(data)\n",
    "\n",
    "    def pop(self):\n",
    "        if self.isEmpty():\n",
    "            return None\n",
    "        else:\n",
    "            return self.items.pop()\n",
    "\n",
    "    def peek(self):\n",
    "        if self.isEmpty():\n",
    "            return None\n",
    "        else:\n",
    "            return self.items[-1]\n",
    "        \n",
    "    ### Auxilary Functions ##################################\n",
    "    def size(self):\n",
    "        return len(self.items)\n",
    "    \n",
    "    def isEmpty(self):\n",
    "        return self.size() == 0\n",
    "    \n",
    "    def isFull(self):\n",
    "        return False\n",
    "\n",
    "driver(PythonListStack(), 5)"
   ]
  },
  {
   "cell_type": "markdown",
   "metadata": {},
   "source": [
    "## 4.2 Stack Application: Infix, Prefix and Postfix Conversion and Evaluation\n",
    "Inspired from [here](https://github.com/Hackin7/Programming-Crappy-Solutions/blob/master/Basic%20Exercises/NYJC%20A%20Level%20Computing%202019-2020/Practicals/Practical%2015/Q3_Chan%20Zun%20Mun%20Terence.ipynb)"
   ]
  },
  {
   "cell_type": "code",
   "execution_count": 55,
   "metadata": {},
   "outputs": [],
   "source": [
    "Stack = ArrayStack"
   ]
  },
  {
   "cell_type": "markdown",
   "metadata": {},
   "source": [
    "### Convert Infix to Postfix (include order of precedence)\n",
    "\n",
    "Using a stack, write a function make_postfix(expr) which takes in a math expression in infix form\n",
    "and returns the expression in postfix format.\n",
    "\n",
    "Example, infix expression (1 + 2) * 3 can be converted to the postfix expression 1 2 + 3 *\n",
    "\n",
    "Steps to convert from infix to postfix (include order of precedence):\n",
    "\n",
    "Read in the tokens one at a time\n",
    "1. If a token is an integer, write it into the output\n",
    "2. If a token is a left parentheses '(', push it to the stack\n",
    "3. If a token is an operator, push it to the stack. However, if the stack has operators with higher or\n",
    "equal priority, pop and write them to the output.\n",
    "4. If a token is a right parentheses ')', you pop the stack and write entries to output until you meet '('.\n",
    "Do not write brackets to output as postfix has no brackets.\n",
    "When you finish reading the string, you pop out all tokens which are left in the stack and write them\n",
    "to output.\n",
    "Hint: Use the string methods split() and isdigit()"
   ]
  },
  {
   "cell_type": "code",
   "execution_count": 56,
   "metadata": {},
   "outputs": [],
   "source": [
    "## WARNING: MAY NOT BE CORRECT ############################\n",
    "def make_postfix_adv(infix):\n",
    "    # Variable initialisation\n",
    "    tokens = infix.split()\n",
    "    output = \"\"\n",
    "    stack = Stack(len(tokens))\n",
    "    \n",
    "    # Priority of operator in stack\n",
    "    stackPriority = 3 #Represents no priority\n",
    "    \n",
    "    #Constants\n",
    "    spacing = \" \"\n",
    "    opLevel = {\"+\" : 2, \"-\" : 2, \"*\" : 1, \"/\" : 1} # Descending\n",
    "    operators = opLevel.keys()\n",
    "    \n",
    "    # Read tokens one at a time\n",
    "    for i in tokens:\n",
    "        \n",
    "        ### Number #######################################\n",
    "        if i.isdigit():\n",
    "            output += i + spacing\n",
    "            \n",
    "        ### Paranthesis ##################################\n",
    "        elif i == \"(\":\n",
    "            stack.push(i)\n",
    "        elif i == \")\": # Empty all in brackets\n",
    "            while not stack.isEmpty() and stack.peek() != \"(\":\n",
    "                output += stack.pop() + spacing\n",
    "            stack.pop() # Remove last paranthesis\n",
    "            \n",
    "        ### Operators without precedence\n",
    "        #elif i in operators:\n",
    "        #    stack.push(i)\n",
    "        ### Operators and Precedence #####################\n",
    "        elif i in operators:\n",
    "            #### Higher Level Operators ##############\n",
    "            '''\n",
    "            I Suspect this code may have an issue, but its not really important for A Levels yet\n",
    "            '''\n",
    "            while not stack.isEmpty() and \\\n",
    "                stack.peek() != \"(\" and stackPriority <= opLevel[i]: # Stack has higher precedence\n",
    "                    ### Evalutate higher priority first\n",
    "                    output += stack.pop() + spacing \n",
    "                    ### Get new stack priority\n",
    "                    if opLevel.get(stack.peek()) != None:\n",
    "                        stackPriority = opLevel.get(stack.peek())\n",
    "            #### Current Operators ###################\n",
    "            stack.push(i) # Use current operator\n",
    "            stackPriority = opLevel[i] # Current Priority\n",
    "    \n",
    "    # When you finish reading the string, you pop out all tokens \n",
    "    # which are left in the stack and write them to output.\n",
    "    while not stack.isEmpty():\n",
    "        output += stack.pop() + spacing\n",
    "\n",
    "    if len(output) > 0:\n",
    "        output = output[:-1] #Remove empty space\n",
    "    return output"
   ]
  },
  {
   "cell_type": "code",
   "execution_count": 57,
   "metadata": {},
   "outputs": [
    {
     "name": "stdout",
     "output_type": "stream",
     "text": [
      "Case                      | Expected                  | Output                    | Correct? \n",
      "--- Without Precedence ----------------------------------------------------------------------\n",
      "1 + 2                     | 1 2 +                     | 1 2 +                     | True\n",
      "( 1 + 2 ) * 3             | 1 2 + 3 *                 | 1 2 + 3 *                 | True\n",
      "( 1 + 2 ) * ( 3 + 4 )     | 1 2 + 3 4 + *             | 1 2 + 3 4 + *             | True\n",
      "12 + 34                   | 12 34 +                   | 12 34 +                   | True\n",
      "--- With Precedence -------------------------------------------------------------------------\n",
      "5 * 6 + 7 * 8             | 5 6 * 7 8 * +             | 5 6 * 7 8 * +             | True\n",
      "5 + 6 * 7 + 8             | 5 6 7 * + 8 +             | 5 6 7 * + 8 +             | True\n",
      "( 12 + 23 ) - 6 / 2       | 12 23 + 6 2 / -           | 12 23 + 6 2 / -           | True\n",
      "( 5 * 6 + 7 * 8 ) + 8     | 5 6 * 7 8 * + 8 +         | 5 6 * 7 8 * + 8 +         | True\n"
     ]
    }
   ],
   "source": [
    "def test_case(case, expected):\n",
    "  print(f\"{case:<25} | {expected:<25} | {make_postfix_adv(case):<25} | \\\n",
    "{'True' if make_postfix_adv(case) == expected else 'False':<4}\")\n",
    "\n",
    "print(f\"{'Case':<25} | {'Expected':<25} | {'Output':<25} | {'Correct? ':<4}\")\n",
    "print(\"--- Without Precedence \" + \"-\" * 70)\n",
    "test_case(\"1 + 2\", \"1 2 +\")\n",
    "test_case(\"( 1 + 2 ) * 3\" ,\"1 2 + 3 *\")\n",
    "test_case(\"( 1 + 2 ) * ( 3 + 4 )\", \"1 2 + 3 4 + *\")\n",
    "test_case(\"12 + 34\", \"12 34 +\")\n",
    "print(\"--- With Precedence \" + \"-\" * 73)\n",
    "test_case(\"5 * 6 + 7 * 8\", \"5 6 * 7 8 * +\")\n",
    "test_case(\"5 + 6 * 7 + 8\" , \"5 6 7 * + 8 +\")\n",
    "test_case(\"( 12 + 23 ) - 6 / 2 \", \"12 23 + 6 2 / -\")\n",
    "test_case(\"( 5 * 6 + 7 * 8 ) + 8\", \"5 6 * 7 8 * + 8 +\")"
   ]
  },
  {
   "cell_type": "markdown",
   "metadata": {},
   "source": [
    "### Evaluating a Postfix Expression\n",
    "An application of Stack is to calculate postfix form expressions. The calculate function takes in a math expression in postfix form and returns the result of the expression as an integer (the expression is guaranteed to evaluate to an integer). The format of the input string is the same as the output in last question. For example, 1 2 + 3 *.\n",
    "\n",
    "Steps to parse and evaluate a postfix expression.\n",
    "1. We read the tokens in one at a time.\n",
    "2. If it is an integer, push it on the stack\n",
    "3. If it is a binary operator, pop the top two elements from the stack, apply the operator, and push\n",
    "the result back on the stack."
   ]
  },
  {
   "cell_type": "code",
   "execution_count": 58,
   "metadata": {},
   "outputs": [],
   "source": [
    "def calculate(postfix):\n",
    "    # Variable initialisation\n",
    "    tokens = postfix.split() # Split by spaces\n",
    "    output = 0 \n",
    "    stack = Stack(len(tokens))\n",
    "    \n",
    "    # Constants\n",
    "    operators = [\"+\", \"-\", \"*\", \"/\"]\n",
    "    for i in tokens:\n",
    "        if i.isdigit():\n",
    "            stack.push(int(i))\n",
    "        elif i in operators:\n",
    "            val2 = stack.pop() # last element put in first\n",
    "            val1 = stack.pop()\n",
    "            ### Do The Math #############################\n",
    "            if i == \"+\":\n",
    "                valTotal = val1 + val2\n",
    "            elif i == \"-\":\n",
    "                valTotal = val1 - val2\n",
    "            elif i == \"*\":\n",
    "                valTotal = val1 * val2\n",
    "            elif i == \"/\":\n",
    "                valTotal = val1 / val2\n",
    "            stack.push(valTotal)\n",
    "            #############################################\n",
    "    # Last Element is output\n",
    "    output = stack.peek()\n",
    "    return output"
   ]
  },
  {
   "cell_type": "code",
   "execution_count": 59,
   "metadata": {},
   "outputs": [
    {
     "name": "stdout",
     "output_type": "stream",
     "text": [
      "Case                      | Expected                  | Output                    | Correct? \n",
      "------------------------- | ------------------------- | ------------------------- | ----\n",
      "1 2 +                     | 3                         | 3                         | True\n",
      "5 6 * 7 8 * +             | 86                        | 86                        | True\n",
      "5 6 7 * + 8 +             | 55                        | 55                        | True\n",
      "12 23 + 6 2 / -           | 32                        | 32.0                      | True\n"
     ]
    }
   ],
   "source": [
    "def test_case(case, expected):\n",
    "  print(f\"{case:<25} | {expected:<25} | {calculate(case):<25} | \\\n",
    "{'True' if calculate(case) == expected else 'False':<4}\")\n",
    "\n",
    "print(f\"{'Case':<25} | {'Expected':<25} | {'Output':<25} | {'Correct? ':<4}\")\n",
    "print(f\"{'-'*25:<25} | {'-'*25:<25} | {'-'*25:<25} | {'-'*4:<4}\")\n",
    "\n",
    "test_case(\"1 2 +\", 3)\n",
    "test_case(\"5 6 * 7 8 * +\", 86)\n",
    "test_case(\"5 6 7 * + 8 +\", 55)\n",
    "test_case(\"12 23 + 6 2 / -\", 32)"
   ]
  },
  {
   "cell_type": "markdown",
   "metadata": {},
   "source": [
    "## 4.3 Queues\n",
    "\n",
    "There are a few main approaches\n",
    "1. Pointer Implementation\n",
    "2. Dual Stack Implementation\n",
    "3. Array (Circular Queue) Implementation\n",
    "4. Python List Implementation"
   ]
  },
  {
   "cell_type": "code",
   "execution_count": 1,
   "metadata": {},
   "outputs": [],
   "source": [
    "# Driver\n",
    "def driver(q):\n",
    "    q.enqueue(1)\n",
    "    q.enqueue(2)\n",
    "    print(\"Is Empty:\", q.isEmpty())\n",
    "    print(\"Is Full:\", q.isFull())\n",
    "    print(\"Size:\", q.size())\n",
    "    \n",
    "    print(q.dequeue())\n",
    "    print(q.dequeue())\n",
    "    print(q.dequeue())\n",
    "    \n",
    "    print(\"Is Empty:\", q.isEmpty())\n",
    "    print(\"Is Full:\", q.isFull())\n",
    "    print(\"Size:\", q.size())\n",
    "    \n",
    "    q.enqueue(3)\n",
    "    q.enqueue(4)\n",
    "    print(q.dequeue())\n",
    "    \n",
    "    print(\"Is Empty:\", q.isEmpty())\n",
    "    print(\"Is Full:\", q.isFull())\n",
    "    print(\"Size:\", q.size())"
   ]
  },
  {
   "cell_type": "code",
   "execution_count": 61,
   "metadata": {},
   "outputs": [
    {
     "name": "stdout",
     "output_type": "stream",
     "text": [
      "Is Empty: False\n",
      "Is Full: False\n",
      "Size: 2\n",
      "1\n",
      "2\n",
      "None\n",
      "Is Empty: True\n",
      "Is Full: False\n",
      "Size: 0\n",
      "3\n",
      "Is Empty: False\n",
      "Is Full: False\n",
      "Size: 1\n"
     ]
    }
   ],
   "source": [
    "# Linked List Implementation\n",
    "class Node:\n",
    "    def __init__(self, data, next=None):\n",
    "        self.data = data\n",
    "        self.next = next\n",
    "\n",
    "class PointerQueue:\n",
    "    def __init__(self):\n",
    "        self.head = None\n",
    "        self.tail = None\n",
    "        self.currSize = 0\n",
    "    \n",
    "    def enqueue(self, data):\n",
    "        newNode = Node(data, None)\n",
    "        # No node\n",
    "        if self.isEmpty():\n",
    "            self.head = newNode\n",
    "            self.tail = newNode\n",
    "        else:\n",
    "            self.tail.next = newNode\n",
    "        self.currSize += 1\n",
    "    \n",
    "    def dequeue(self):\n",
    "        if self.isEmpty():\n",
    "            return None\n",
    "        else:\n",
    "            self.currSize -= 1\n",
    "            data = self.head.data\n",
    "            self.head = self.head.next\n",
    "            return data\n",
    "    \n",
    "    ### Auxilary Functions ###########################################\n",
    "    def size(self):\n",
    "        return self.currSize\n",
    "    \n",
    "    def isEmpty(self):\n",
    "        return self.head == None\n",
    "\n",
    "    def isFull(self):\n",
    "        return False\n",
    "    \n",
    "    \n",
    "driver(PointerQueue())"
   ]
  },
  {
   "cell_type": "code",
   "execution_count": 62,
   "metadata": {},
   "outputs": [
    {
     "name": "stdout",
     "output_type": "stream",
     "text": [
      "Is Empty: False\n",
      "Is Full: False\n",
      "Size: 2\n",
      "1\n",
      "2\n",
      "None\n",
      "Is Empty: True\n",
      "Is Full: False\n",
      "Size: 0\n",
      "3\n",
      "Is Empty: False\n",
      "Is Full: False\n",
      "Size: 1\n"
     ]
    }
   ],
   "source": [
    "# Dual Stack Implementation\n",
    "class DualStackQueue:\n",
    "    def __init__(self):\n",
    "        self.inbox = Stack()\n",
    "        self.outbox = Stack()\n",
    "        self.currSize = 0\n",
    "    \n",
    "    def enqueue(self, data):\n",
    "        self.inbox.push(data)\n",
    "        self.currSize += 1\n",
    "\n",
    "    def dequeue(self):\n",
    "        if self.outbox.isEmpty():\n",
    "            while not self.inbox.isEmpty():\n",
    "                popped = self.inbox.pop()\n",
    "                self.outbox.push(popped)\n",
    "        item = self.outbox.pop()\n",
    "        if item != None:\n",
    "            self.currSize -= 1\n",
    "        return item\n",
    "        \n",
    "    ### Auxilary Functions ###########################################\n",
    "    def size(self):\n",
    "        return self.currSize\n",
    "    \n",
    "    def isEmpty(self):\n",
    "        return (self.inbox.isEmpty() and self.outbox.isEmpty())\n",
    "\n",
    "    def isFull(self):\n",
    "        return False # not implemented\n",
    "    \n",
    "Stack = PythonListStack\n",
    "driver(DualStackQueue())"
   ]
  },
  {
   "cell_type": "code",
   "execution_count": 12,
   "metadata": {},
   "outputs": [
    {
     "name": "stdout",
     "output_type": "stream",
     "text": [
      "Is Empty: False\n",
      "Is Full: True\n",
      "Size: 0\n",
      "1\n",
      "2\n",
      "Queue Empty!\n",
      "Is Empty: True\n",
      "Is Full: False\n",
      "Size: 0\n",
      "3\n",
      "Is Empty: False\n",
      "Is Full: False\n",
      "Size: 1\n",
      "[None, 4]\n"
     ]
    }
   ],
   "source": [
    "# Array Circular Queue Implementation\n",
    "class CircularQueue:\n",
    "    #Constructor\n",
    "    def __init__(self):\n",
    "        # Use a python list to simulate an array\n",
    "        self.maxSize = 2\n",
    "        self.array = []\n",
    "        for i in range(self.maxSize): # 0-indexed\n",
    "            self.array.append(None)\n",
    "        # Other pointers\n",
    "        self.head = 0\n",
    "        self.tail = 0\n",
    "        \n",
    "        self.currSize = 0\n",
    "\n",
    "    # Adding elements to the queue\n",
    "    def enqueue(self, data):\n",
    "        if self.isFull():\n",
    "            return (\"Queue Full!\")\n",
    "        self.array[self.tail] = data\n",
    "        self.tail = (self.tail + 1) % (self.maxSize)# + 1)\n",
    "        \n",
    "        self.currSize += 1\n",
    "        return True\n",
    "\n",
    "    # Removing elements from the queue\n",
    "    def dequeue(self):\n",
    "        if self.isEmpty():\n",
    "            return (\"Queue Empty!\")\n",
    "        data = self.array[self.head]\n",
    "        self.array[self.head] = None\n",
    "        self.head = (self.head + 1) % (self.maxSize)# + 1)\n",
    "        \n",
    "        self.currSize -= 1\n",
    "        return data\n",
    "    \n",
    "    ### Auxilary Functions ###########################################\n",
    "    # Calculating the size of the queue\n",
    "    def size(self):\n",
    "        #print(self.array)\n",
    "        #return self.currSize\n",
    "        #'''\n",
    "        if self.tail >= self.head:\n",
    "            return (self.tail - self.head)\n",
    "        return (self.maxSize - (self.head - self.tail))\n",
    "        #'''\n",
    "        \n",
    "    def isEmpty(self):\n",
    "        return self.size() == 0 and self.array[self.head] == None\n",
    "\n",
    "    def isFull(self):\n",
    "        #return self.size() == self.maxSize\n",
    "        return self.size() == 0 and self.array[self.head] != None\n",
    "\n",
    "q = CircularQueue()\n",
    "driver(q)\n",
    "print(q.array)"
   ]
  },
  {
   "cell_type": "code",
   "execution_count": 64,
   "metadata": {},
   "outputs": [
    {
     "name": "stdout",
     "output_type": "stream",
     "text": [
      "Is Empty: False\n",
      "Is Full: False\n",
      "Size: 2\n",
      "1\n",
      "2\n",
      "None\n",
      "Is Empty: True\n",
      "Is Full: False\n",
      "Size: 0\n",
      "3\n",
      "Is Empty: False\n",
      "Is Full: False\n",
      "Size: 1\n"
     ]
    }
   ],
   "source": [
    "# Python List Implementation\n",
    "class PythonListQueue:\n",
    "    def __init__(self):\n",
    "        self.items = []\n",
    "    \n",
    "    def enqueue(self, data):\n",
    "        self.items.append(data)\n",
    "\n",
    "    def dequeue(self):\n",
    "        if self.isEmpty():\n",
    "            return None\n",
    "        else:\n",
    "            return self.items.pop(0)\n",
    "    \n",
    "    def peek(self):\n",
    "        if self.isEmpty():\n",
    "            return None\n",
    "        else:\n",
    "            return self.items[0]\n",
    "    \n",
    "    ### Auxilary Functions ###########################################\n",
    "    def size(self):\n",
    "        return len(self.items)\n",
    "    \n",
    "    def isEmpty(self):\n",
    "        return self.size() == 0\n",
    "\n",
    "    def isFull(self):\n",
    "        return False\n",
    "        \n",
    "driver(PythonListQueue())"
   ]
  },
  {
   "cell_type": "markdown",
   "metadata": {},
   "source": [
    "## 4.4 Binary Search Trees\n",
    "\n",
    "There are a few main approaches\n",
    "1. Pointer Implementation\n",
    "2. Array Implementation"
   ]
  },
  {
   "cell_type": "code",
   "execution_count": 65,
   "metadata": {},
   "outputs": [
    {
     "name": "stdout",
     "output_type": "stream",
     "text": [
      "isEmpty() = True\n",
      "\n",
      "Adding:\n",
      "INDIA\n",
      "NEPAL\n",
      "MALAYSIA\n",
      "SINGAPORE\n",
      "BURMA\n",
      "CANADA\n",
      "LATIVA\n",
      "\n",
      "BURMA,CANADA,INDIA,LATIVA,MALAYSIA,NEPAL,SINGAPORE,\n",
      "isEmpty() = False\n",
      "findKSmallest(1) = BURMA\n",
      "findKSmallest(2) = CANADA\n",
      "findKSmallest(3) = INDIA\n",
      "findKSmallest(4) = LATIVA\n",
      "findKSmallest(5) = MALAYSIA\n",
      "findKSmallest(6) = NEPAL\n",
      "findKSmallest(7) = SINGAPORE\n"
     ]
    }
   ],
   "source": [
    "# Pointer Implementation\n",
    "class BSTNode:\n",
    "    def __init__(self, key):\n",
    "        self.key = key\n",
    "        self.left = None\n",
    "        self.right = None\n",
    "        self.parent = None\n",
    "\n",
    "    def insert(self, node):\n",
    "        if self.key > node.key:\n",
    "            if self.left is None:\n",
    "                self.left = node\n",
    "                node.parent = self\n",
    "            else:\n",
    "                self.left.insert(node)\n",
    "        elif self.key < node.key:\n",
    "            if self.right is None:\n",
    "                self.right = node\n",
    "                node.parent = self\n",
    "            else:\n",
    "                self.right.insert(node)\n",
    "     \n",
    "    ### Search ##################################\n",
    "    def search(self, key):\n",
    "        if self.key > key:\n",
    "            if self.left is not None:\n",
    "                return self.left.search(key)\n",
    "            else:\n",
    "                return None\n",
    "        elif self.key < key:\n",
    "            if self.right is not None:\n",
    "                return self.right.search(key)\n",
    "            else:\n",
    "                return None\n",
    "        return self\n",
    "    ### Orderings ################################\n",
    "    def inorder(self):\n",
    "        if self.left is not None:\n",
    "            self.left.inorder()\n",
    "            \n",
    "        print(self.key, end=',')\n",
    "        \n",
    "        if self.right is not None:\n",
    "            self.right.inorder()\n",
    "\n",
    "    def preorder(self):\n",
    "        print(self.key, end=',')\n",
    "        \n",
    "        if self.left is not None:\n",
    "            self.left.inorder()\n",
    "        \n",
    "        if self.right is not None:\n",
    "            self.right.inorder()\n",
    "            \n",
    "    def postorder(self):\n",
    "        if self.left is not None:\n",
    "            self.left.inorder()\n",
    "        \n",
    "        if self.right is not None:\n",
    "            self.right.inorder()\n",
    "        \n",
    "        print(self.key, end=',')    \n",
    "    \n",
    "    ### Other #############################\n",
    "    def findKSmallest(self, K):\n",
    "        remainingK = K\n",
    "        \n",
    "        ### Left Branch #########################\n",
    "        if self.left is not None:\n",
    "            remainingK, value = self.left.findKSmallest(remainingK)\n",
    "            if remainingK <= 0:\n",
    "                return remainingK, value\n",
    "        \n",
    "        ### Current Node #########################\n",
    "        remainingK -= 1 # Current node\n",
    "        if remainingK <= 0:\n",
    "            return remainingK, self.key\n",
    "        \n",
    "        ### Right Branch ########################\n",
    "        if self.right is not None:\n",
    "            remainingK, value = self.right.findKSmallest(remainingK)\n",
    "            if remainingK <= 1:\n",
    "                return remainingK, value\n",
    "            \n",
    "        ### Still has K #########################\n",
    "        return remainingK, None\n",
    "        \n",
    "\n",
    "\n",
    "class PointerBinarySearchTree:\n",
    "    def __init__(self):\n",
    "        self.root = None\n",
    "\n",
    "    def inOrderTraversal(self):\n",
    "        if self.root is not None:\n",
    "            self.root.inorder()\n",
    "\n",
    "    def findKSmallest(self, K):\n",
    "        if self.root is not None:\n",
    "            remainingK, value = self.root.findKSmallest(K)\n",
    "            return value\n",
    "        else:\n",
    "            return None\n",
    "        \n",
    "    def add(self, key):\n",
    "        new_node = BSTNode(key)\n",
    "        if self.root is None:\n",
    "            self.root = new_node\n",
    "        else:\n",
    "            self.root.insert(new_node)\n",
    "\n",
    "    def search(self):\n",
    "        if self.root is not None:\n",
    "            return self.root.search()\n",
    "\n",
    "    def isEmpty(self):\n",
    "        return self.root == None\n",
    "    \n",
    "### Driver #################################################################################\n",
    "def driver(addList=[]):\n",
    "    bintree = PointerBinarySearchTree() \n",
    "    \n",
    "    print(\"isEmpty() =\",bintree.isEmpty())\n",
    "    print()\n",
    "    \n",
    "    # Add Item to list\n",
    "    print(\"Adding:\")\n",
    "    for item in addList:\n",
    "        print(item)\n",
    "        bintree.add(item)\n",
    "            \n",
    "    # Output\n",
    "    print()\n",
    "    bintree.inOrderTraversal()\n",
    "    print()\n",
    "    print(\"isEmpty() =\",bintree.isEmpty())\n",
    "    for i in range(1, 7 + 1):\n",
    "        print(f\"findKSmallest({i}) =\", bintree.findKSmallest(i))\n",
    "\n",
    "driver(['INDIA', 'NEPAL', 'MALAYSIA', 'SINGAPORE', 'BURMA', 'CANADA', 'LATIVA'])"
   ]
  },
  {
   "cell_type": "code",
   "execution_count": 66,
   "metadata": {},
   "outputs": [
    {
     "name": "stdout",
     "output_type": "stream",
     "text": [
      "isEmpty() = True\n",
      "isFull() = False\n",
      "\n",
      "Adding:\n",
      "INDIA\n",
      "NEPAL\n",
      "MALAYSIA\n",
      "SINGAPORE\n",
      "BURMA\n",
      "CANADA\n",
      "LATIVA\n",
      "\n",
      "root = 1\n",
      "nextFreePosition = 0\n",
      "array: \n",
      "Index left  data       right \n",
      "    1     5 INDIA           2\n",
      "    2     3 NEPAL           4\n",
      "    3     7 MALAYSIA        0\n",
      "    4     0 SINGAPORE       0\n",
      "    5     0 BURMA           6\n",
      "    6     0 CANADA          0\n",
      "    7     0 LATIVA          0\n",
      "BURMA\n",
      "CANADA\n",
      "INDIA\n",
      "LATIVA\n",
      "MALAYSIA\n",
      "NEPAL\n",
      "SINGAPORE\n",
      "\n",
      "isEmpty() = False\n",
      "isFull() = True\n"
     ]
    }
   ],
   "source": [
    "# Array Implementation\n",
    "class BSTNode:\n",
    "    def __init__(self, left=0, Data='', right=0):\n",
    "        self.left = int(left)\n",
    "        self.data = Data\n",
    "        self.right = int(right)\n",
    "        \n",
    "    def isEmpty(self):\n",
    "        return self.data == ''\n",
    "        \n",
    "class ArrayBinarySearchTree:\n",
    "    def __init__(self, size=10):\n",
    "        self.initialise(size)\n",
    "    \n",
    "    def initialise(self, size=10):\n",
    "        # Use a python list to simulate an array of Nodes\n",
    "        self.size = size\n",
    "        self.array = []\n",
    "        for i in range(self.size + 1): # 1-indexed. 0-indexed goes unused\n",
    "            nextPos = (i + 1) % (self.size + 1)\n",
    "            node = BSTNode(nextPos, '', 0)\n",
    "            self.array.append(node)\n",
    "        \n",
    "        # Others\n",
    "        self.root = 0 # Pointer to root of BST\n",
    "        self.nextFree = 1 # Pointer to First element in free list (Linked list of remaining nodes)\n",
    "    \n",
    "    ### Auxilary Functions #####################################################\n",
    "    def isEmpty(self):\n",
    "        return self.root == 0\n",
    "        \n",
    "    def isFull(self):\n",
    "        # Check for unused nodes\n",
    "        return self.nextFree == 0\n",
    "    \n",
    "    def printStructure(self):\n",
    "        output = \"\"\n",
    "        # Pointers\n",
    "        output += f\"root = {self.root}\"\n",
    "        output += f\"\\n\"\n",
    "        output += f\"nextFreePosition = {self.nextFree}\"\n",
    "        \n",
    "        # Array\n",
    "        output += f\"\\n\"\n",
    "        output += f\"array: \"\n",
    "        output += f\"\\n\"\n",
    "        output += f\"{'Index':5} {'left':5} {'data':10} {'right':6}\"\n",
    "        for index in range(1, len(self.array)):\n",
    "            node = self.array[index]\n",
    "            output += f\"\\n\"\n",
    "            output += f\"{index:5} {node.left:5} {node.data:10} {node.right:6}\"\n",
    "        print(output)\n",
    "    \n",
    "    ### Generic Traversal #######################################################\n",
    "    def inOrderTraversal(self, currPos=None):\n",
    "        if currPos == None:\n",
    "            currPos = self.root\n",
    "        ## Base Case: Empty\n",
    "        if currPos == 0:\n",
    "            return\n",
    "        ## Case 2: Not empty\n",
    "        node = self.array[currPos]\n",
    "        # In order\n",
    "        self.inOrderTraversal(node.left)\n",
    "        print(node.data)\n",
    "        self.inOrderTraversal(node.right)\n",
    "        \n",
    "        '''\n",
    "        # Pre-order\n",
    "        print(node.data)\n",
    "        self.inOrderTraversal(node.left)\n",
    "        self.inOrderTraversal(node.right)\n",
    "        \n",
    "        # Post-order\n",
    "        self.inOrderTraversal(node.left)\n",
    "        self.inOrderTraversal(node.right)\n",
    "        print(node.data)\n",
    "        '''\n",
    "        \n",
    "    ### Basic Functions ##################################################\n",
    "    def addNodeOnly(self, item):\n",
    "        ### Create new node ##################################\n",
    "        newNodePos = self.nextFree\n",
    "        newNode = self.array[newNodePos] \n",
    "        newNode.data = item\n",
    "        self.nextFree = newNode.left # Get nextFree\n",
    "        newNode.left = 0\n",
    "        newNode.right = 0\n",
    "        return newNodePos\n",
    "    \n",
    "    def addRecursive(self, item, currPos=None):\n",
    "        if currPos == None:\n",
    "            currPos = self.root\n",
    "            \n",
    "        node = self.array[currPos]\n",
    "        \n",
    "        ### Case 1: Root does not have anything ###########################\n",
    "        if currPos == 0:\n",
    "            newNodePos = self.addNodeOnly(item) # Create new node\n",
    "            self.root = newNodePos\n",
    "            return\n",
    "            \n",
    "        ### Case 2: Root has element ######################################\n",
    "        # Insert to left\n",
    "        if item < node.data:\n",
    "            if node.left == 0:\n",
    "                newNodePos = self.addNodeOnly(item) # Create new node\n",
    "                node.left = newNodePos # Insert Position \n",
    "            else:\n",
    "                self.addRecursive(item, node.left)\n",
    "        elif item >= node.data:\n",
    "            if node.right == 0: #Empty\n",
    "                newNodePos = self.addNodeOnly(item) # Create new node\n",
    "                node.right = newNodePos # Insert Position \n",
    "            else:\n",
    "                self.addRecursive(item, node.right)\n",
    "        \n",
    "    def addIterative(self, item):\n",
    "        ### Create new node ##################################\n",
    "        newNodePos = self.addNodeOnly(item)\n",
    "        \n",
    "        ### Root position ####################################\n",
    "        if self.array[self.root].isEmpty():\n",
    "            self.root = newNodePos\n",
    "            return\n",
    "            \n",
    "        ### Binary Search for Position #######################\n",
    "        prevPos = None\n",
    "        prevNode = None\n",
    "        currPos = self.root\n",
    "        currNode = self.array[currPos]\n",
    "        lastMove = 'X'\n",
    "        while not currPos == 0: # and currNode.data != item:\n",
    "            prevPos = currPos\n",
    "            prevNode = currNode\n",
    "            if item < currNode.data:\n",
    "                currPos = currNode.left\n",
    "                lastMove = 'L'\n",
    "            elif item >= currNode.data:\n",
    "                currPos = currNode.right\n",
    "                lastMove = 'R'\n",
    "            currNode = self.array[currPos]\n",
    "        \n",
    "        ### Linking ##########################################\n",
    "        if lastMove == 'L':\n",
    "            prevNode.left = newNodePos\n",
    "        else:\n",
    "            prevNode.right = newNodePos\n",
    "            \n",
    "            \n",
    "### Driver #################################################################################\n",
    "def driver(addList=[]):\n",
    "    bintree = ArrayBinarySearchTree(len(addList)) \n",
    "    \n",
    "    print(\"isEmpty() =\",bintree.isEmpty())\n",
    "    print(\"isFull() =\",bintree.isFull())\n",
    "    print()\n",
    "    \n",
    "    # Add Item to list\n",
    "    print(\"Adding:\")\n",
    "    for item in addList:\n",
    "        print(item)\n",
    "        bintree.addRecursive(item)\n",
    "        #bintree.addIterative(item)\n",
    "            \n",
    "    # Output\n",
    "    print()\n",
    "    bintree.printStructure()\n",
    "    bintree.inOrderTraversal()\n",
    "    print()\n",
    "    print(\"isEmpty() =\",bintree.isEmpty())\n",
    "    print(\"isFull() =\",bintree.isFull())\n",
    "\n",
    "driver(['INDIA', 'NEPAL', 'MALAYSIA', 'SINGAPORE', 'BURMA', 'CANADA', 'LATIVA'])"
   ]
  },
  {
   "cell_type": "markdown",
   "metadata": {},
   "source": [
    "# 5. Databases"
   ]
  },
  {
   "cell_type": "markdown",
   "metadata": {},
   "source": [
    "## 5.1 SQL"
   ]
  },
  {
   "cell_type": "markdown",
   "metadata": {},
   "source": [
    "## Overall"
   ]
  },
  {
   "cell_type": "code",
   "execution_count": 67,
   "metadata": {},
   "outputs": [
    {
     "name": "stdout",
     "output_type": "stream",
     "text": [
      "Clearing DB with `DROP TABLE <TableName>`\n",
      "DB had nothing to clear\n"
     ]
    }
   ],
   "source": [
    "import sqlite3\n",
    "conn = sqlite3.connect(\"test.db\")\n",
    "\n",
    "### Deletion ##############################################################\n",
    "try:\n",
    "    print(\"Clearing DB with `DROP TABLE <TableName>`\")\n",
    "    conn.execute(\"DROP TABLE ReferenceTable;\")\n",
    "    conn.execute(\"DROP TABLE Data;\")\n",
    "except:\n",
    "    print(\"DB had nothing to clear\")"
   ]
  },
  {
   "cell_type": "code",
   "execution_count": 68,
   "metadata": {},
   "outputs": [
    {
     "name": "stdout",
     "output_type": "stream",
     "text": [
      "\n",
      "Creating Table with:\n",
      "CREATE TABLE ReferenceTable (ID INTEGER PRIMARY KEY, Description text);\n",
      "\n",
      "    CREATE TABLE Data(\n",
      "        ID INTEGER PRIMARY KEY ,\n",
      "        Description TEXT NOT NULL,\n",
      "        Number NUMBER,\n",
      "        DataLink INTEGER );\n",
      "    \n"
     ]
    }
   ],
   "source": [
    "### Creation ############################################################\n",
    "creation = [\n",
    "    \"CREATE TABLE ReferenceTable (ID INTEGER PRIMARY KEY, Description text);\",\n",
    "    '''\n",
    "    CREATE TABLE Data(\n",
    "        ID INTEGER PRIMARY KEY ,\n",
    "        Description TEXT NOT NULL,\n",
    "        Number NUMBER,\n",
    "        DataLink INTEGER );\n",
    "    '''\n",
    "]\n",
    "print()\n",
    "print(\"Creating Table with:\")\n",
    "for c in creation:\n",
    "    print(c)\n",
    "    conn.execute(c)"
   ]
  },
  {
   "cell_type": "code",
   "execution_count": 69,
   "metadata": {},
   "outputs": [
    {
     "name": "stdout",
     "output_type": "stream",
     "text": [
      "Inserting values with `INSERT INTO ReferenceTable(ID, Description) VALUES(?,?)` and `INSERT INTO Data(ID, Description, Number, DataLink) VALUES(?,?,?,?)`\n"
     ]
    }
   ],
   "source": [
    "### Insertion #######################################################\n",
    "print(\"Inserting values with `INSERT INTO ReferenceTable(ID, Description) VALUES(?,?)` and `INSERT INTO Data(ID, Description, Number, DataLink) VALUES(?,?,?,?)`\")\n",
    "    \n",
    "reference_header = [\"ID\", \"Description\"]\n",
    "reference = [\n",
    "    (1, \"ref 1\"),\n",
    "    (2, \"ref 2\")\n",
    "]\n",
    "for row in reference:\n",
    "    conn.execute(\"INSERT INTO ReferenceTable(ID, Description) VALUES(?,?)\",row)\n",
    "\n",
    "data_header = [\"ID\", \"Description\", \"Number\"]\n",
    "data = [\n",
    "    (1, \"hi\", 3.1, 1),\n",
    "    (2, \"hello\", 4, 2),\n",
    "    (3, \"Join test\", 4, None)\n",
    "]\n",
    "for row in data:\n",
    "    conn.execute(\"INSERT INTO Data(ID, Description, Number, DataLink) VALUES(?,?,?,?)\",row)\n"
   ]
  },
  {
   "cell_type": "code",
   "execution_count": 70,
   "metadata": {},
   "outputs": [
    {
     "name": "stdout",
     "output_type": "stream",
     "text": [
      "Selecting all items: SELECT * FROM Data\n",
      "------------------------------------------\n",
      "ID            Description   Number        \n",
      "------------------------------------------\n",
      "1             hi            3.1           \n",
      "2             hello         4             \n",
      "3             Join test     4             \n",
      "\n",
      "\n",
      "Selecting all items: SELECT * FROM ReferenceTable\n",
      "----------------------------\n",
      "ID            Description   \n",
      "----------------------------\n",
      "1             ref 1         \n",
      "2             ref 2         \n",
      "\n",
      "\n",
      "Inner Join Tables: SELECT * FROM Data INNER JOIN ReferenceTable ON (Data.DataLink == ReferenceTable.ID)\n",
      "------------------------------------------------------------------------------------\n",
      "ID            Description   Number        DataLink      ID            Description   \n",
      "------------------------------------------------------------------------------------\n",
      "1             hi            3.1           1             1             ref 1         \n",
      "2             hello         4             2             2             ref 2         \n",
      "\n",
      "\n",
      "Left Outer Join Tables: SELECT * FROM Data LEFT OUTER JOIN ReferenceTable ON (Data.DataLink == ReferenceTable.ID)\n",
      "------------------------------------------------------------------------------------\n",
      "ID            Description   Number        DataLink      ID            Description   \n",
      "------------------------------------------------------------------------------------\n",
      "1             hi            3.1           1             1             ref 1         \n",
      "2             hello         4             2             2             ref 2         \n",
      "3             Join test     4             None          None          None          \n",
      "\n",
      "\n",
      "Selecting specific rows: SELECT * FROM Data WHERE ID == 1;\n",
      "------------------------------------------\n",
      "ID            Description   Number        \n",
      "------------------------------------------\n",
      "1             hi            3.1           \n",
      "\n",
      "\n",
      "Selecting specific columns: SELECT Description FROM Data\n",
      "--------------\n",
      "Description   \n",
      "--------------\n",
      "hi            \n",
      "hello         \n",
      "Join test     \n",
      "\n",
      "\n",
      "Selecting specific columns from joined tables: SELECT Data.DataLink, Data.Description, ReferenceTable.Description FROM Data INNER JOIN ReferenceTable ON (Data.DataLink == ReferenceTable.ID)\n",
      "------------------------------------------\n",
      "DataLink      Data.Desc     Ref.Desc      \n",
      "------------------------------------------\n",
      "1             hi            ref 1         \n",
      "2             hello         ref 2         \n",
      "\n",
      "\n",
      "Selecting SUM (You can also use COUNT, MAX, MIN) SELECT ID, SUM(Number) FROM Data\n",
      "----------------------------\n",
      "ID            SUM(Number)   \n",
      "----------------------------\n",
      "3             11.1          \n",
      "\n",
      "\n"
     ]
    }
   ],
   "source": [
    "### Query ############################################################\n",
    "def nice_show_in_query(query=None, header=[0,1,2,3], colwidth=None):\n",
    "    output = \"\"\n",
    "    ### Header #####################################\n",
    "    if colwidth == None:\n",
    "        colwidth = [13 for i in range(len(header))]\n",
    "    for j in range(len(header)):\n",
    "        output+=f\"{header[j]:<{colwidth[j]}} \"\n",
    "    output += \"\\n\"\n",
    "    \n",
    "    ### Border #####################################\n",
    "    border = \"\"\n",
    "    for j in range(len(header)):\n",
    "        border += \"-\" * (colwidth[j]+1)\n",
    "    border += \"\\n\"\n",
    "    output = border+output+border\n",
    "    \n",
    "    ### GETTING VALUES #####################################\n",
    "    cursor = conn.execute(query)\n",
    "    for item in cursor.fetchall():\n",
    "        ### Per value ##########\n",
    "        for index in range(len(header)):\n",
    "            output += f\"{str(item[index]):<{colwidth[index]}} \"\n",
    "        output += \"\\n\"\n",
    "    \n",
    "    print(output+\"\\n\")\n",
    "\n",
    "#print(statement,cond_query)\n",
    "def show_statement(statement, cond_query, header, colwidth=None):\n",
    "    print(statement, cond_query)\n",
    "    nice_show_in_query(cond_query, header, colwidth)\n",
    "\n",
    "show_statement(\"Selecting all items:\", \"SELECT * FROM Data\", data_header)\n",
    "show_statement(\"Selecting all items:\", \"SELECT * FROM ReferenceTable\", reference_header)\n",
    "show_statement(\"Inner Join Tables:\", \"SELECT * FROM Data INNER JOIN ReferenceTable ON (Data.DataLink == ReferenceTable.ID)\", data_header + [\"DataLink\"] + reference_header)\n",
    "show_statement(\"Left Outer Join Tables:\", \"SELECT * FROM Data LEFT OUTER JOIN ReferenceTable ON (Data.DataLink == ReferenceTable.ID)\", data_header + [\"DataLink\"] + reference_header)\n",
    "\n",
    "\n",
    "show_statement(\"Selecting specific rows:\", \"SELECT * FROM Data WHERE ID == 1;\", data_header)\n",
    "show_statement(\"Selecting specific columns:\", \"SELECT Description FROM Data\", [\"Description\"])\n",
    "show_statement(\"Selecting specific columns from joined tables:\", \"SELECT Data.DataLink, Data.Description, ReferenceTable.Description FROM Data INNER JOIN ReferenceTable ON (Data.DataLink == ReferenceTable.ID)\", [\"DataLink\", \"Data.Desc\", \"Ref.Desc\"])\n",
    "\n",
    "show_statement(\"Selecting SUM (You can also use COUNT, MAX, MIN)\", \"SELECT ID, SUM(Number) FROM Data\", [\"ID\", \"SUM(Number)\"])"
   ]
  },
  {
   "cell_type": "code",
   "execution_count": 71,
   "metadata": {},
   "outputs": [
    {
     "name": "stdout",
     "output_type": "stream",
     "text": [
      "Updated data with UPDATE Data SET Description='Haha hacked' WHERE ID == 1;: SELECT * FROM Data\n",
      "------------------------------------------\n",
      "ID            Description   Number        \n",
      "------------------------------------------\n",
      "1             Haha hacked   3.1           \n",
      "2             hello         4             \n",
      "3             Join test     4             \n",
      "\n",
      "\n"
     ]
    }
   ],
   "source": [
    "### Updating Data #########################################################\n",
    "update_statement = \"UPDATE Data SET Description='Haha hacked' WHERE ID == 1;\"\n",
    "conn.execute(update_statement)\n",
    "show_statement(f\"Updated data with {update_statement}:\", \"SELECT * FROM Data\", data_header)"
   ]
  },
  {
   "cell_type": "code",
   "execution_count": 72,
   "metadata": {},
   "outputs": [
    {
     "name": "stdout",
     "output_type": "stream",
     "text": [
      "Deleted data with DELETE FROM Data WHERE ID == 1;: SELECT * FROM Data\n",
      "------------------------------------------\n",
      "ID            Description   Number        \n",
      "------------------------------------------\n",
      "2             hello         4             \n",
      "3             Join test     4             \n",
      "\n",
      "\n"
     ]
    }
   ],
   "source": [
    "### Deleting Data #########################################################\n",
    "update_statement = \"DELETE FROM Data WHERE ID == 1;\"\n",
    "conn.execute(update_statement)\n",
    "show_statement(f\"Deleted data with {update_statement}:\", \"SELECT * FROM Data\", data_header)\n",
    "\n",
    "### Finalisation ##########################################################\n",
    "conn.commit()\n",
    "conn.close()"
   ]
  },
  {
   "cell_type": "code",
   "execution_count": 73,
   "metadata": {},
   "outputs": [],
   "source": [
    "!rm -rf test.db"
   ]
  },
  {
   "cell_type": "markdown",
   "metadata": {},
   "source": [
    "### Basic Insertion into Database"
   ]
  },
  {
   "cell_type": "code",
   "execution_count": 74,
   "metadata": {},
   "outputs": [
    {
     "data": {
      "text/plain": [
       "'\\nrefresh(\"TASK4_1.sql\")\\nreadCSV(\"students.csv\", insertSpecific)\\n'"
      ]
     },
     "execution_count": 74,
     "metadata": {},
     "output_type": "execute_result"
    }
   ],
   "source": [
    "## Insertion into database\n",
    "# Or, you know, use DB Browser?\n",
    "# https://github.com/Hackin7/Programming-Crappy-Solutions/blob/master/Basic%20Exercises/NYJC%20A%20Level%20Computing%202019-2020/Tests%20and%20Exams/JC2/4%20Mid%20Year%20Common%20Test/TASK4_2_Chan%20Zun%20Mun%20Terence.py\n",
    "# https://github.com/Hackin7/Programming-Crappy-Solutions/blob/master/Basic%20Exercises/NYJC%20A%20Level%20Computing%202019-2020/Other%20School%20Practices/RVHS%20JC2%20CT3%20P2%202020/Task_4_2.py\n",
    "\n",
    "'''\n",
    "import sqlite3\n",
    "conn = sqlite3.connect('test.db')\n",
    "'''\n",
    "def refresh(filename): # filename is the .sql file with create statements\n",
    "    # Clear \n",
    "    tables = ['Result', 'Test', 'Student']\n",
    "    for table in tables:\n",
    "        try:\n",
    "            conn.execute(f\"DROP TABLE '{table}'\")\n",
    "        except Exception as e:\n",
    "            print(e)\n",
    "            \n",
    "    # Run statements\n",
    "    file = open(filename, 'r')\n",
    "    statements = f.read().split(\"\\n\\n\")\n",
    "    file.close()\n",
    "    for i in statements:\n",
    "        conn.execute(i)\n",
    "\n",
    "import csv\n",
    "def read(filename, insert): #pass in function into `insert`\n",
    "    file = open(filename, 'r') # Read mode\n",
    "    reader = csv.reader(file)\n",
    "    \n",
    "    header = next(reader) # Change to a value if the file has no header\n",
    "    for data in reader:\n",
    "        insert(header, data)\n",
    "            \n",
    "    file.close()\n",
    "\n",
    "def insertSpecific(header, record):\n",
    "    # Data Conversion\n",
    "    record[3] = int(record[3])\n",
    "    # Insertion\n",
    "    conn.execute(\"INSERT INTO Printer(SerialNumber, Toner, DateChanged)\"\n",
    "                 \"VALUES (?,?,?)\", record)\n",
    "    # insert(\"Table\", header, record) # alternative if you have time to code\n",
    "    \n",
    "#################################################################################\n",
    "\n",
    "# Code this if you are lazy to read the column headings\n",
    "def insert(table, header, record):\n",
    "    # For Columns\n",
    "    columns = \"\"\n",
    "    placeholder = \"\"\n",
    "    for h in header:\n",
    "        if columns != \"\":\n",
    "            columns += \",\"\n",
    "            placeholder += \",\"\n",
    "        columns += h\n",
    "        placeholder += \"?\"\n",
    "\n",
    "    statement = f\"INSERT INTO {table}({columns}) VALUES({placeholder})\"\n",
    "    #print(statement, record)\n",
    "    conn.execute(statement, tuple(record))\n",
    "    \n",
    "\n",
    "'''\n",
    "refresh(\"TASK4_1.sql\")\n",
    "readCSV(\"students.csv\", insertSpecific)\n",
    "'''"
   ]
  },
  {
   "cell_type": "markdown",
   "metadata": {},
   "source": [
    "## 5.2 MongoDB"
   ]
  },
  {
   "cell_type": "code",
   "execution_count": 75,
   "metadata": {},
   "outputs": [],
   "source": [
    "import pymongo\n",
    "\n",
    "### Open Connection ####################################################\n",
    "# Remember to open mongod in shell first\n",
    "client = pymongo.MongoClient(\"127.0.0.1\",27017) # Address, Port\n",
    "\n",
    "### Create a database ##################################################\n",
    "db_name = \"database\"\n",
    "coll_name = \"collection\"\n",
    "\n",
    "db = client.get_database(db_name) # Creates if doesn't exist\n",
    "coll = db.get_collection(coll_name)\n",
    "\n",
    "sample_data = [\n",
    "    {\n",
    "        \"number\":1,\n",
    "        \"text\":\"Item 1\",\n",
    "        \"array\": [1,2,3,4],\n",
    "        \"document\": {\"key\":\"value\",\"n\":1}\n",
    "    },\n",
    "    {\n",
    "        \"number\":2,\n",
    "        \"text\":\"Item 2\",\n",
    "        \"array\": [3,4,5,6]\n",
    "    },\n",
    "    {\n",
    "        \"number\":3,\n",
    "        \"text\":\"Item 3, No array\",\n",
    "    },\n",
    "    {\n",
    "        \"number\":3,\n",
    "        \"text\":\"Item 3 duplicate\",\n",
    "        \"document\":{\"key\":\"I'm better\",\"n\":4}\n",
    "    },\n",
    "    {\n",
    "        \"number\":5,\n",
    "        \"text\":\"Item 5\",\n",
    "        \"array\": [3,4,5,6]\n",
    "    },\n",
    "]\n",
    "\n",
    "#coll.insert_one(sample_data[0])\n",
    "coll.insert_many(sample_data)\n",
    "\n",
    "### Search for items ###################################################\n",
    "\n",
    "def show_in_query(query=None):\n",
    "    for i in coll.find(query):\n",
    "        print(i)\n",
    "    \n",
    "#### Shows the thing in a nice table format ############\n",
    "def nice_show_in_query(query=None):\n",
    "    output = \"\"\n",
    "    ### Header #####################################\n",
    "    header = [\"number\",\"text\",\"array\",\"document\"]\n",
    "    colwidth = [7,30,20,30]\n",
    "    for j in range(len(header)):\n",
    "        output+=f\"{header[j]:<{colwidth[j]}} \"\n",
    "    output += \"\\n\"\n",
    "    \n",
    "    ### Border #####################################\n",
    "    border = \"\"\n",
    "    for j in range(len(header)):\n",
    "        border += \"-\" * (colwidth[j]+1)\n",
    "    border += \"\\n\"\n",
    "    output = border+output+border\n",
    "    \n",
    "    ### Values #####################################\n",
    "    for i in coll.find(query):\n",
    "        ### Per value ##########\n",
    "        for j in range(len(header)):\n",
    "            output += f\"{str(i.get(header[j])):<{colwidth[j]}} \"\n",
    "        output += \"\\n\"\n",
    "    \n",
    "    print(output+\"\\n\")\n",
    "\n",
    "def showcase_query(statement,cond_query):\n",
    "    print(statement,cond_query)\n",
    "    nice_show_in_query(cond_query)\n"
   ]
  },
  {
   "cell_type": "code",
   "execution_count": 76,
   "metadata": {},
   "outputs": [
    {
     "name": "stdout",
     "output_type": "stream",
     "text": [
      "Selecting 1 item\n",
      "    {'_id': ObjectId('5f66d665ae3958ac09725747'), 'number': 1, 'text': 'Item 1', 'array': [1, 2, 3, 4], 'document': {'key': 'value', 'n': 1}}\n",
      "Selecting all Items in Collection\n",
      "{'_id': ObjectId('5f66d665ae3958ac09725747'), 'number': 1, 'text': 'Item 1', 'array': [1, 2, 3, 4], 'document': {'key': 'value', 'n': 1}}\n",
      "{'_id': ObjectId('5f66d665ae3958ac09725748'), 'number': 2, 'text': 'Item 2', 'array': [3, 4, 5, 6]}\n",
      "{'_id': ObjectId('5f66d665ae3958ac09725749'), 'number': 3, 'text': 'Item 3, No array'}\n",
      "{'_id': ObjectId('5f66d665ae3958ac0972574a'), 'number': 3, 'text': 'Item 3 duplicate', 'document': {'key': \"I'm better\", 'n': 4}}\n",
      "{'_id': ObjectId('5f66d665ae3958ac0972574b'), 'number': 5, 'text': 'Item 5', 'array': [3, 4, 5, 6]}\n",
      "\n",
      "-------------------------------------------------------------------------------------------\n",
      "number  text                           array                document                       \n",
      "-------------------------------------------------------------------------------------------\n",
      "1       Item 1                         [1, 2, 3, 4]         {'key': 'value', 'n': 1}       \n",
      "2       Item 2                         [3, 4, 5, 6]         None                           \n",
      "3       Item 3, No array               None                 None                           \n",
      "3       Item 3 duplicate               None                 {'key': \"I'm better\", 'n': 4}  \n",
      "5       Item 5                         [3, 4, 5, 6]         None                           \n",
      "\n",
      "\n",
      "Selecting by matching fields: {'number': 1, 'text': 'Item 1'}\n",
      "-------------------------------------------------------------------------------------------\n",
      "number  text                           array                document                       \n",
      "-------------------------------------------------------------------------------------------\n",
      "1       Item 1                         [1, 2, 3, 4]         {'key': 'value', 'n': 1}       \n",
      "\n",
      "\n",
      "Selecting by comparions: {'number': {'$gt': 1}}\n",
      "-------------------------------------------------------------------------------------------\n",
      "number  text                           array                document                       \n",
      "-------------------------------------------------------------------------------------------\n",
      "2       Item 2                         [3, 4, 5, 6]         None                           \n",
      "3       Item 3, No array               None                 None                           \n",
      "3       Item 3 duplicate               None                 {'key': \"I'm better\", 'n': 4}  \n",
      "5       Item 5                         [3, 4, 5, 6]         None                           \n",
      "\n",
      "\n",
      "Selecting by comparing in array: {'number': {'$in': [1, 2]}}\n",
      "-------------------------------------------------------------------------------------------\n",
      "number  text                           array                document                       \n",
      "-------------------------------------------------------------------------------------------\n",
      "1       Item 1                         [1, 2, 3, 4]         {'key': 'value', 'n': 1}       \n",
      "2       Item 2                         [3, 4, 5, 6]         None                           \n",
      "\n",
      "\n",
      "Selecting with Boolean Operators: {'$and': [{'number': {'$not': {'$gte': 5}}}, {'array': {'$gt': 4}}]}\n",
      "-------------------------------------------------------------------------------------------\n",
      "number  text                           array                document                       \n",
      "-------------------------------------------------------------------------------------------\n",
      "2       Item 2                         [3, 4, 5, 6]         None                           \n",
      "\n",
      "\n",
      "Selecting with $not Operators: {'array': {'$not': {'$gt': 4}}}\n",
      "-------------------------------------------------------------------------------------------\n",
      "number  text                           array                document                       \n",
      "-------------------------------------------------------------------------------------------\n",
      "1       Item 1                         [1, 2, 3, 4]         {'key': 'value', 'n': 1}       \n",
      "3       Item 3, No array               None                 None                           \n",
      "3       Item 3 duplicate               None                 {'key': \"I'm better\", 'n': 4}  \n",
      "\n",
      "\n",
      "Selecting by comparing items in documents' array: {'array': {'$gte': 5}}\n",
      "-------------------------------------------------------------------------------------------\n",
      "number  text                           array                document                       \n",
      "-------------------------------------------------------------------------------------------\n",
      "2       Item 2                         [3, 4, 5, 6]         None                           \n",
      "5       Item 5                         [3, 4, 5, 6]         None                           \n",
      "\n",
      "\n",
      "Selecting by comparing items in nested documents: {'document.n': {'$gt': 1}}\n",
      "-------------------------------------------------------------------------------------------\n",
      "number  text                           array                document                       \n",
      "-------------------------------------------------------------------------------------------\n",
      "3       Item 3 duplicate               None                 {'key': \"I'm better\", 'n': 4}  \n",
      "\n",
      "\n"
     ]
    }
   ],
   "source": [
    "print(\"Selecting 1 item\")\n",
    "print(\"   \",coll.find_one({\"number\":1}))# Select 1 item\n",
    "\n",
    "print(\"Selecting all Items in Collection\")\n",
    "show_in_query()\n",
    "print()\n",
    "nice_show_in_query()\n",
    "\n",
    "### Matching Fields ###################\n",
    "cond_query = {\"number\":1, \"text\":\"Item 1\"}\n",
    "showcase_query(\"Selecting by matching fields:\",cond_query)\n",
    "\n",
    "### Comparisons ########################\n",
    "cond_query = {\"number\":{\"$gt\":1}}\n",
    "# Has $gt, $gte, $lt, $lte, $ne, $eq, $ne, $exists:True/False\n",
    "showcase_query(\"Selecting by comparions:\",cond_query)\n",
    "\n",
    "\n",
    "### $in/$nin ###################\n",
    "cond_query = {\"number\":{\"$in\":[1,2]}}\n",
    "showcase_query(\"Selecting by comparing in array:\",cond_query)\n",
    "\n",
    "### Boolean ###################\n",
    "cond_query =  { \"$and\": # Has $and, $or\n",
    "    [\n",
    "        {\"number\": {\"$not\":{\"$gte\":5} } },\n",
    "        {\"array\":{\"$gt\":4}}\n",
    "    ] \n",
    "}\n",
    "showcase_query(\"Selecting with Boolean Operators:\",cond_query)\n",
    "\n",
    "### $not #########################\n",
    "#$not selects those that don't meet condition OR the field doesn't exist\n",
    "cond_query =  {\"array\":{\"$not\":{\"$gt\":4}}}\n",
    "showcase_query(\"Selecting with $not Operators:\",cond_query) \n",
    "\n",
    "### With items in an array ##################\n",
    "# All normal operators should work\n",
    "cond_query = {\"array\":{\"$gte\":5}}\n",
    "showcase_query(\"Selecting by comparing items in documents' array:\",cond_query)\n",
    "\n",
    "### Nested Documents #########################\n",
    "# All normal operators should work\n",
    "cond_query = {\"document.n\":{\"$gt\":1}}\n",
    "showcase_query(\"Selecting by comparing items in nested documents:\",cond_query)\n"
   ]
  },
  {
   "cell_type": "code",
   "execution_count": 77,
   "metadata": {},
   "outputs": [
    {
     "name": "stdout",
     "output_type": "stream",
     "text": [
      "Updating first item that matches condition: {'number': 3} {'$set': {'document': {'key': 'yes'}}}\n",
      "-------------------------------------------------------------------------------------------\n",
      "number  text                           array                document                       \n",
      "-------------------------------------------------------------------------------------------\n",
      "1       Item 1                         [1, 2, 3, 4]         {'key': 'value', 'n': 1}       \n",
      "2       Item 2                         [3, 4, 5, 6]         None                           \n",
      "3       Item 3, No array               None                 {'key': 'yes'}                 \n",
      "3       Item 3 duplicate               None                 {'key': \"I'm better\", 'n': 4}  \n",
      "5       Item 5                         [3, 4, 5, 6]         None                           \n",
      "\n",
      "\n",
      "Updating some items: {'number': 3} {'$set': {'text': 'erosion of local culture'}}\n",
      "-------------------------------------------------------------------------------------------\n",
      "number  text                           array                document                       \n",
      "-------------------------------------------------------------------------------------------\n",
      "1       Item 1                         [1, 2, 3, 4]         {'key': 'value', 'n': 1}       \n",
      "2       Item 2                         [3, 4, 5, 6]         None                           \n",
      "3       erosion of local culture       None                 {'key': 'yes'}                 \n",
      "3       erosion of local culture       None                 {'key': \"I'm better\", 'n': 4}  \n",
      "5       Item 5                         [3, 4, 5, 6]         None                           \n",
      "\n",
      "\n",
      "Updating and creating new properties for all items: {} {'$set': {'array': [1, 2, 3, 4]}}\n",
      "-------------------------------------------------------------------------------------------\n",
      "number  text                           array                document                       \n",
      "-------------------------------------------------------------------------------------------\n",
      "1       Item 1                         [1, 2, 3, 4]         {'key': 'value', 'n': 1}       \n",
      "2       Item 2                         [1, 2, 3, 4]         None                           \n",
      "3       erosion of local culture       [1, 2, 3, 4]         {'key': 'yes'}                 \n",
      "3       erosion of local culture       [1, 2, 3, 4]         {'key': \"I'm better\", 'n': 4}  \n",
      "5       Item 5                         [1, 2, 3, 4]         None                           \n",
      "\n",
      "\n",
      "$unset proporties of items: {} {'$unset': {'array': 'value'}}\n",
      "-------------------------------------------------------------------------------------------\n",
      "number  text                           array                document                       \n",
      "-------------------------------------------------------------------------------------------\n",
      "1       Item 1                         None                 {'key': 'value', 'n': 1}       \n",
      "2       Item 2                         None                 None                           \n",
      "3       erosion of local culture       None                 {'key': 'yes'}                 \n",
      "3       erosion of local culture       None                 {'key': \"I'm better\", 'n': 4}  \n",
      "5       Item 5                         None                 None                           \n",
      "\n",
      "\n",
      "$inc of items: {} {'$inc': {'number': 1}}\n",
      "-------------------------------------------------------------------------------------------\n",
      "number  text                           array                document                       \n",
      "-------------------------------------------------------------------------------------------\n",
      "2       Item 1                         None                 {'key': 'value', 'n': 1}       \n",
      "3       Item 2                         None                 None                           \n",
      "4       erosion of local culture       None                 {'key': 'yes'}                 \n",
      "4       erosion of local culture       None                 {'key': \"I'm better\", 'n': 4}  \n",
      "6       Item 5                         None                 None                           \n",
      "\n",
      "\n"
     ]
    }
   ],
   "source": [
    "### Update items #######################################################\n",
    "'''\n",
    "Many other operators such as\n",
    "{\"$rename\" : {field_name: new_field_name}}\n",
    "{\"$min\" : {field_name: value_if_curr_value_lower}}\n",
    "{\"$max\" : {field_name: value_if_curr_value_higher}}\n",
    "\n",
    "https://docs.mongodb.com/manual/reference/operator/update-array/\n",
    "'''\n",
    "\n",
    "cond_update = {\"number\":3}\n",
    "modifier = {\"$set\":{\"document\":{\"key\":\"yes\"}}}\n",
    "print(\"Updating first item that matches condition:\",cond_update,modifier)\n",
    "coll.update_one(cond_update,modifier)\n",
    "nice_show_in_query()\n",
    "\n",
    "cond_update = {\"number\":3}\n",
    "modifier = {\"$set\":{\"text\":\"erosion of local culture\"}}\n",
    "print(\"Updating some items:\",cond_update,modifier)\n",
    "coll.update_many(cond_update,modifier)\n",
    "nice_show_in_query()\n",
    "\n",
    "cond_update = {}\n",
    "modifier = {\"$set\":{\"array\":[1,2,3,4]}}\n",
    "print(\"Updating and creating new properties for all items:\",cond_update,modifier)\n",
    "coll.update_many(cond_update,modifier)\n",
    "nice_show_in_query()\n",
    "\n",
    "cond_update = {}\n",
    "modifier = {\"$unset\":{\"array\":\"value\"}} # The \"value\" doesn't matter\n",
    "print(\"$unset proporties of items:\",cond_update,modifier)\n",
    "coll.update_many(cond_update,modifier)\n",
    "nice_show_in_query()\n",
    "\n",
    "\n",
    "cond_update = {}\n",
    "modifier = {\"$inc\":{\"number\":1}} # Also has $mul\n",
    "print(\"$inc of items:\",cond_update,modifier)\n",
    "coll.update_many(cond_update,modifier)\n",
    "nice_show_in_query()"
   ]
  },
  {
   "cell_type": "code",
   "execution_count": 78,
   "metadata": {},
   "outputs": [
    {
     "name": "stdout",
     "output_type": "stream",
     "text": [
      "Deleting first item that matches query {\"number\":3}\n",
      "-------------------------------------------------------------------------------------------\n",
      "number  text                           array                document                       \n",
      "-------------------------------------------------------------------------------------------\n",
      "2       Item 1                         None                 {'key': 'value', 'n': 1}       \n",
      "4       erosion of local culture       None                 {'key': 'yes'}                 \n",
      "4       erosion of local culture       None                 {'key': \"I'm better\", 'n': 4}  \n",
      "6       Item 5                         None                 None                           \n",
      "\n",
      "\n",
      "Deleting many items with query {\"document\":{\"$exists\":True}}\n",
      "-------------------------------------------------------------------------------------------\n",
      "number  text                           array                document                       \n",
      "-------------------------------------------------------------------------------------------\n",
      "6       Item 5                         None                 None                           \n",
      "\n",
      "\n",
      "Deleting rest of collection\n"
     ]
    }
   ],
   "source": [
    "### Delete items #######################################################\n",
    "print('Deleting first item that matches query {\"number\":3}')\n",
    "coll.delete_one({\"number\":3})\n",
    "nice_show_in_query()\n",
    "\n",
    "print('Deleting many items with query {\"document\":{\"$exists\":True}}')\n",
    "coll.delete_many({\"document\":{\"$exists\":True}})\n",
    "nice_show_in_query()\n",
    "\n",
    "print(\"Deleting rest of collection\")\n",
    "db.drop_collection(coll_name)\n",
    "client.drop_database(db_name)"
   ]
  },
  {
   "cell_type": "code",
   "execution_count": 79,
   "metadata": {},
   "outputs": [],
   "source": [
    "### Close Connection ###################################################\n",
    "client.close()"
   ]
  },
  {
   "cell_type": "markdown",
   "metadata": {},
   "source": [
    "# 6. Socket Programming\n"
   ]
  },
  {
   "cell_type": "code",
   "execution_count": 3,
   "metadata": {},
   "outputs": [
    {
     "name": "stdout",
     "output_type": "stream",
     "text": [
      "Overwriting socketTester.py\n"
     ]
    }
   ],
   "source": [
    "%%writefile socketTester.py\n",
    "import socket\n",
    "\n",
    "# An overengineered socket class for A Levels\n",
    "class Connection: \n",
    "    def __init__(self, ip, port, server=False):\n",
    "        self.net = (ip, port)\n",
    "        self.isServer = server\n",
    "        if server == True:\n",
    "            self.set_server()\n",
    "        else:\n",
    "            self.set_client()\n",
    "\n",
    "    ### Important Initialisation steps ###############################\n",
    "    def set_server(self):\n",
    "        self.socket = socket.socket()\n",
    "        self.socket.bind(self.net)\n",
    "        self.socket.listen()\n",
    "        print('Listening on',self.net)\n",
    "        \n",
    "        self.conn, self.conn_addr = self.socket.accept()\n",
    "        print('Accepted connection from', self.conn_addr)\n",
    "        self.socket.close()\n",
    "\n",
    "    def set_client(self):\n",
    "        print(\"Connecting to\",self.net)\n",
    "        self.conn = socket.socket()\n",
    "        self.conn.connect(self.net)\n",
    "        print(\"Connected\")\n",
    "        \n",
    "    ### Basic I/O #####################################################\n",
    "    def send(self, message):\n",
    "        self.conn.sendall(message.encode('ascii') + b'\\n') # \\n be end char\n",
    "\n",
    "    def receive(self):\n",
    "        data = \"\"\n",
    "        while '\\n' not in data:\n",
    "            data += self.conn.recv(1024).decode('ascii') # 1024 is max size\n",
    "        return data.strip()\n",
    "\n",
    "    def close(self):\n",
    "        return self.conn.close()\n",
    "\n",
    "    ### Unnecessary but useful ########################################\n",
    "    def interactive(self):\n",
    "        # Loop      \n",
    "        connected = True\n",
    "        while connected:\n",
    "            output = self.receive()\n",
    "            if output == 'Exit':\n",
    "                connected = False\n",
    "            else:\n",
    "                print(output)\n",
    "                self.send(input())\n",
    "            \n",
    "        self.close()\n",
    "\n",
    "\n",
    "option = input(\"Type something to launch as client: \")\n",
    "if option == \"\":\n",
    "    server = Connection('127.0.0.1',1234, True)\n",
    "    for i in range(10):\n",
    "        server.send('Send a message:') #Use like a print function\n",
    "        print(server.receive())\n",
    "    server.send('Exit')\n",
    "\n",
    "    server.close()\n",
    "else:\n",
    "    client = Connection('127.0.0.1', 1234)\n",
    "    client.interactive()"
   ]
  },
  {
   "cell_type": "code",
   "execution_count": 81,
   "metadata": {},
   "outputs": [],
   "source": [
    "!rm -rf socketTester.py"
   ]
  },
  {
   "cell_type": "markdown",
   "metadata": {},
   "source": [
    "# 7. Web Application Programming"
   ]
  },
  {
   "cell_type": "markdown",
   "metadata": {},
   "source": [
    "## 7.1 HTML"
   ]
  },
  {
   "cell_type": "code",
   "execution_count": 82,
   "metadata": {},
   "outputs": [
    {
     "data": {
      "text/html": [
       "<!-- Basic HTML File Boilerplate -->\n",
       "<!doctype html>\n",
       "<html>\n",
       "    <head>\n",
       "        <title>Title</title>\n",
       "    </head>\n",
       "    <body>\n",
       "        This is a basic boilerplate: Insert your Content here\n",
       "    </body>\n",
       "</html>\n"
      ],
      "text/plain": [
       "<IPython.core.display.HTML object>"
      ]
     },
     "metadata": {},
     "output_type": "display_data"
    }
   ],
   "source": [
    "%%html\n",
    "<!-- Basic HTML File Boilerplate -->\n",
    "<!doctype html>\n",
    "<html>\n",
    "    <head>\n",
    "        <title>Title</title>\n",
    "    </head>\n",
    "    <body>\n",
    "        This is a basic boilerplate: Insert your Content here\n",
    "    </body>\n",
    "</html>"
   ]
  },
  {
   "cell_type": "code",
   "execution_count": 83,
   "metadata": {},
   "outputs": [
    {
     "data": {
      "text/html": [
       "<h3>Possible Form Options</h3>\n",
       "<form action='' method='GET'>\n",
       "    <label for=\"textfield\">TextField</label> \n",
       "    <input type='text' name='textfield'>\n",
       "    \n",
       "    <div>\n",
       "        <input type=\"radio\" name=\"radio\" value=\"choice1\">\n",
       "        <label for=\"choice1\">Choice 1</label>\n",
       "        <input type=\"radio\" name=\"radio\" value=\"choice2\">\n",
       "        <label for=\"choice1\">Choice 2</label>\n",
       "    </div>\n",
       "    \n",
       "    <input type=\"checkbox\">\n",
       "    <br>\n",
       "    \n",
       "    <select name=\"dropdown\">\n",
       "        <option value=\"option1\">Option 1</option>\n",
       "    </select>\n",
       "    <br><br>\n",
       "    \n",
       "    \n",
       "    <input type='submit'>\n",
       "</form>\n"
      ],
      "text/plain": [
       "<IPython.core.display.HTML object>"
      ]
     },
     "metadata": {},
     "output_type": "display_data"
    }
   ],
   "source": [
    "%%html\n",
    "<h3>Possible Form Options</h3>\n",
    "<form action='' method='GET'>\n",
    "    <label for=\"textfield\">TextField</label> \n",
    "    <input type='text' name='textfield'>\n",
    "    \n",
    "    <div>\n",
    "        <input type=\"radio\" name=\"radio\" value=\"choice1\">\n",
    "        <label for=\"choice1\">Choice 1</label>\n",
    "        <input type=\"radio\" name=\"radio\" value=\"choice2\">\n",
    "        <label for=\"choice1\">Choice 2</label>\n",
    "    </div>\n",
    "    \n",
    "    <input type=\"checkbox\">\n",
    "    <br>\n",
    "    \n",
    "    <select name=\"dropdown\">\n",
    "        <option value=\"option1\">Option 1</option>\n",
    "    </select>\n",
    "    <br><br>\n",
    "    \n",
    "    \n",
    "    <input type='submit'>\n",
    "</form>"
   ]
  },
  {
   "cell_type": "code",
   "execution_count": 84,
   "metadata": {},
   "outputs": [
    {
     "data": {
      "text/html": [
       "<form action=\"/upload\" method=\"post\" enctype=\"multipart/form-data\">\n",
       "    <input type=\"file\" name=\"file\" id=\"file\">\n",
       "    <input type=\"submit\"/>\n",
       "</form>\n"
      ],
      "text/plain": [
       "<IPython.core.display.HTML object>"
      ]
     },
     "metadata": {},
     "output_type": "display_data"
    }
   ],
   "source": [
    "%%html\n",
    "<form action=\"/upload\" method=\"post\" enctype=\"multipart/form-data\">\n",
    "    <input type=\"file\" name=\"file\">\n",
    "    <input type=\"submit\"/>\n",
    "</form>"
   ]
  },
  {
   "cell_type": "code",
   "execution_count": 85,
   "metadata": {},
   "outputs": [
    {
     "data": {
      "text/html": [
       "<style>\n",
       "table,td,th{\n",
       "    border:1px solid black;\n",
       "    border-collapse: collapse;  /* Add to combine borders */\n",
       "    background-color:gray;\n",
       "}\n",
       "\n",
       "th{\n",
       "    color:white;\n",
       "    background-color:black;\n",
       "}\n",
       "</style>\n",
       "\n",
       "<h3>Table</h3>\n",
       "<table border=\"10\">\n",
       "    <tr>\n",
       "        <th>Header 1</th>\n",
       "        <th>Header 2</th>\n",
       "    </tr>\n",
       "    <tr>\n",
       "        <td>Value 1</td>\n",
       "        <td>Value 2</td>\n",
       "    </tr>\n",
       "</table>\n"
      ],
      "text/plain": [
       "<IPython.core.display.HTML object>"
      ]
     },
     "metadata": {},
     "output_type": "display_data"
    }
   ],
   "source": [
    "%%html\n",
    "<style>\n",
    "table,td,th{\n",
    "    border:1px solid black;\n",
    "    border-collapse: collapse;  /* Add to combine borders */\n",
    "    background-color:gray;\n",
    "}\n",
    "\n",
    "th{\n",
    "    color:white;\n",
    "    background-color:black;\n",
    "}\n",
    "</style>\n",
    "\n",
    "<h3>Table</h3>\n",
    "<table border=\"10\">\n",
    "    <tr>\n",
    "        <th>Header 1</th>\n",
    "        <th>Header 2</th>\n",
    "    </tr>\n",
    "    <tr>\n",
    "        <td>Value 1</td>\n",
    "        <td>Value 2</td>\n",
    "    </tr>\n",
    "</table>"
   ]
  },
  {
   "cell_type": "code",
   "execution_count": 86,
   "metadata": {},
   "outputs": [
    {
     "data": {
      "text/html": [
       "<img src=\"https://www.google.com.sg/images/branding/googlelogo/1x/googlelogo_color_272x92dp.png\" alt=\"Google image\">\n"
      ],
      "text/plain": [
       "<IPython.core.display.HTML object>"
      ]
     },
     "metadata": {},
     "output_type": "display_data"
    }
   ],
   "source": [
    "%%html\n",
    "<img src=\"https://www.google.com.sg/images/branding/googlelogo/1x/googlelogo_color_272x92dp.png\" alt=\"Google image\">"
   ]
  },
  {
   "cell_type": "markdown",
   "metadata": {},
   "source": [
    "## 7.2 Flask"
   ]
  },
  {
   "cell_type": "code",
   "execution_count": 87,
   "metadata": {},
   "outputs": [
    {
     "name": "stderr",
     "output_type": "stream",
     "text": [
      "A subdirectory or file templates already exists.\n"
     ]
    }
   ],
   "source": [
    "!mkdir templates | mkdir static"
   ]
  },
  {
   "cell_type": "markdown",
   "metadata": {},
   "source": [
    "### Form to Table "
   ]
  },
  {
   "cell_type": "code",
   "execution_count": 88,
   "metadata": {},
   "outputs": [
    {
     "name": "stdout",
     "output_type": "stream",
     "text": [
      "Writing static/style.css\n"
     ]
    }
   ],
   "source": [
    "%%writefile static/style.css\n",
    "table,td,th{\n",
    "    border-collapse: collapse;  /* Add to combine borders */\n",
    "    border:1px solid black;\n",
    "    background-color:gray;\n",
    "}\n",
    "\n",
    "/*\n",
    "table{\n",
    "    width:40vw;\n",
    "    height:40vh;\n",
    "}\n",
    "*/\n",
    "td,th{\n",
    "    padding:10px;\n",
    "}\n",
    "th{\n",
    "    color:white;\n",
    "    background-color:black; /* Overriding Styles */\n",
    "}"
   ]
  },
  {
   "cell_type": "code",
   "execution_count": 89,
   "metadata": {},
   "outputs": [
    {
     "name": "stdout",
     "output_type": "stream",
     "text": [
      "Writing templates/table.html\n"
     ]
    }
   ],
   "source": [
    "%%writefile templates/table.html\n",
    "\n",
    "<!doctype html>\n",
    "<html>\n",
    "    <head>\n",
    "        <title>Table</title>\n",
    "        <link rel=\"stylesheet\" href=\"{{url_for('static', filename='style.css')}}\"></link>\n",
    "    </head>\n",
    "    <body>\n",
    "        <h1>Table</h1>\n",
    "        <table>\n",
    "            <tr>\n",
    "                {% for header in headers %}\n",
    "                <th>{{header}}</th>\n",
    "                {% endfor %}\n",
    "            </tr>\n",
    "            {% for record in data %}\n",
    "            <tr>\n",
    "                {% for i in record %}\n",
    "                <td>{{i}}</td>\n",
    "                {% endfor %}\n",
    "            </tr>\n",
    "            {% endfor %}\n",
    "        </table>\n",
    "    </body>\n",
    "</html>\n",
    "\n"
   ]
  },
  {
   "cell_type": "code",
   "execution_count": 90,
   "metadata": {},
   "outputs": [
    {
     "name": "stdout",
     "output_type": "stream",
     "text": [
      "Writing templates/form.html\n"
     ]
    }
   ],
   "source": [
    "%%writefile templates/form.html\n",
    "<!doctype html>\n",
    "<html>\n",
    "    <head>\n",
    "        <title>Form</title>\n",
    "        <link rel=\"stylesheet\" href=\"{{url_for('static', filename='style.css')}}\"></link>\n",
    "    </head>\n",
    "    <body>\n",
    "        \n",
    "        <h1>Form</h1>\n",
    "        <form action=\"{{url_for('table')}}\" method='get' enctype='multipart/form-data'>\n",
    "            <span>Text Field</span>\n",
    "            <input type='text' name='textfield'>\n",
    "            <input type='submit'>\n",
    "        </form>\n",
    "        \n",
    "    </body>\n",
    "</html>"
   ]
  },
  {
   "cell_type": "code",
   "execution_count": 91,
   "metadata": {
    "scrolled": true
   },
   "outputs": [
    {
     "name": "stdout",
     "output_type": "stream",
     "text": [
      "Writing table.py\n"
     ]
    }
   ],
   "source": [
    "%%writefile table.py\n",
    "import flask\n",
    "app = flask.Flask(__name__)\n",
    "\n",
    "@app.route('/')\n",
    "def main():\n",
    "    return flask.render_template('form.html')\n",
    "\n",
    "@app.route('/table', methods=['GET'])\n",
    "def table():\n",
    "    form_stuff = flask.request.args['textfield']\n",
    "    # for POST use flask.request.form\n",
    "    \n",
    "    # Templating\n",
    "    headers = ['Name','Value']\n",
    "    data = [\n",
    "        ['Text Field', form_stuff]\n",
    "    ]\n",
    "    return flask.render_template('table.html',\n",
    "                                 headers=headers,\n",
    "                                 data=data)\n",
    "    \n",
    "@app.route('/quit')\n",
    "def quit():\n",
    "    exit()\n",
    "\n",
    "if __name__ == \"__main__\":\n",
    "    app.run('0.0.0.0', 3000, debug=True)"
   ]
  },
  {
   "cell_type": "code",
   "execution_count": 92,
   "metadata": {},
   "outputs": [],
   "source": [
    "#!python table.py"
   ]
  },
  {
   "cell_type": "markdown",
   "metadata": {},
   "source": [
    "### Basic File Uploading"
   ]
  },
  {
   "cell_type": "code",
   "execution_count": 93,
   "metadata": {},
   "outputs": [
    {
     "name": "stdout",
     "output_type": "stream",
     "text": [
      "Writing file_upload_download.py\n"
     ]
    }
   ],
   "source": [
    "%%writefile file_upload_download.py\n",
    "\n",
    "## File Uploading Template\n",
    "import flask\n",
    "app = flask.Flask(__name__)\n",
    "\n",
    "@app.route(\"/\", methods=[\"GET\"])\n",
    "def page():\n",
    "    return \"\"\"\n",
    "    <form action=\"/upload\" method=\"post\" enctype=\"multipart/form-data\">\n",
    "        <input type=\"file\" name=\"file\" id=\"file\">\n",
    "        <input type=\"submit\"/>\n",
    "    </form>\n",
    "    \"\"\"\n",
    "\n",
    "from werkzeug.utils import secure_filename\n",
    "@app.route(\"/upload\", methods=[\"POST\"])\n",
    "def upload():\n",
    "    if flask.request.files:\n",
    "        file = flask.request.files['file']\n",
    "        filename = secure_filename(file.filename)\n",
    "        file.save('./'+filename)\n",
    "        return \"Uploaded \"+file.filename\n",
    "    else:\n",
    "        return \"Nothing to upload\"\n",
    "\n",
    "@app.route(\"/download\", methods=[\"GET\"])\n",
    "def download():\n",
    "    return flask.send_from_directory('./','file_upload_download.py')\n",
    "\n",
    "app.run('0.0.0.0', port=5000, debug=True)"
   ]
  },
  {
   "cell_type": "markdown",
   "metadata": {},
   "source": [
    "### Overall Summary"
   ]
  },
  {
   "cell_type": "code",
   "execution_count": 94,
   "metadata": {},
   "outputs": [
    {
     "name": "stdout",
     "output_type": "stream",
     "text": [
      "Writing templates/main.html\n"
     ]
    }
   ],
   "source": [
    "%%writefile templates/main.html\n",
    "<!doctype html>\n",
    "<html>\n",
    "<head>\n",
    "    <title>Flask Demo</title>\n",
    "</head>\n",
    "<body>\n",
    "    <h1>Flask Demo</h1>\n",
    "\n",
    "    <h2>HTTP Requests and Routing</h2>\n",
    "    <ol>\n",
    "        <li><a href=\"{{url_for('simple')}}\">Simple Routing</a></li>\n",
    "        <li><a href=\"{{url_for('simple_data', data=1.2)}}\">Passing in Value as Path</a></li>\n",
    "        <li><a href=\"{{url_for('simple_integer', integer=1)}}\">Passing in Value of <b>Specific Data Type</b> as Path</a></li>\n",
    "        <li><a href=\"{{url_for('func_name_paths')}}\">Get Paths By Function name</a></li>\n",
    "    </ol>\n",
    "\n",
    "    <h2>HTTP Responses and Status Code</h2>\n",
    "    <ol>\n",
    "        <li><a href=\"{{url_for('get_500')}}\">Give Status Code 500</a></li>\n",
    "        <li><a href=\"{{url_for('header')}}\">Modifying header to show <code>text/plain</code> </a></li>\n",
    "        <li><a href=\"{{url_for('redirect')}}\">Redirect back here lol</a></li>\n",
    "    </ol>\n",
    "\n",
    "    <h2>Templating and Rendering</h2>\n",
    "    <ol>\n",
    "        <li><a href=\"{{url_for('templating')}}\">Templating sample</a></li>\n",
    "    </ol>\n",
    "\n",
    "    <h2>Form</h2>\n",
    "    <h3>GET Request Form</h3>\n",
    "    <form method=\"GET\" action=\"/form\">\n",
    "        <input type=\"text\" name=\"data\">\n",
    "        <input type=\"submit\">\n",
    "    </form>\n",
    "\n",
    "    <h3>POST Request Form</h3>\n",
    "    <form method=\"POST\" action=\"/form\">\n",
    "        <input type=\"text\" name=\"data\">\n",
    "        <input type=\"submit\">\n",
    "    </form>\n",
    "\n",
    "    <h3>Upload Photos</h3>\n",
    "    <form method=\"post\" enctype=\"multipart/form-data\" action=\"/upload\">\n",
    "        <input type=\"file\" name=\"file\">\n",
    "        <input type=\"submit\">\n",
    "    </form>\n",
    "\n",
    "    <h3>Download Source Code</h3>\n",
    "    <a href=\"{{url_for('download')}}\">Download app.py</a>\n",
    "</body>\n",
    "</html>"
   ]
  },
  {
   "cell_type": "code",
   "execution_count": 95,
   "metadata": {},
   "outputs": [
    {
     "name": "stdout",
     "output_type": "stream",
     "text": [
      "Writing templates/template.html\n"
     ]
    }
   ],
   "source": [
    "%%writefile templates/template.html\n",
    "<!doctype html>\n",
    "<html>\n",
    "<head>\n",
    "    <title>Jinja Template</title>\n",
    "    <!-- Getting static files -->\n",
    "    <link rel=\"stylesheet\" href=\"{{url_for('static', filename='styles.css')}}\"></link>\n",
    "</head>\n",
    "<body>\n",
    "    <h1>Jinja Templating</h1>\n",
    "\n",
    "    <h2>Passing in Values</h2>\n",
    "    Values: {{value}}<br/>\n",
    "    Length: {{value|length}}<br/>\n",
    "    Safe HTML: {{safe_html|safe}}\n",
    "\n",
    "    <h2>Jinja Statements</h2>\n",
    "\n",
    "    <b>if-else statement</b>\n",
    "    Current Choice value: {{choice}} <br/>\n",
    "    {% if choice == 1 %}\n",
    "        <span>1st class honors that no one cares about</span>\n",
    "    {% elif choice == 2 %}\n",
    "        <span>2nd class honors that you feel bad because it isn't 1st</span>\n",
    "    {% else %}\n",
    "        <span>Useless choice value here</span>\n",
    "    {% endif%}\n",
    "    <br><br>\n",
    "\n",
    "    <b>for-in statement</b>\n",
    "    Given Dictionary: {{dictionary}} <br/>\n",
    "    <table>\n",
    "    <tr><th>Key</th><th>Value</th></tr>\n",
    "    {% for key, value in dictionary.items() %}\n",
    "        <tr><td>{{key}}</td><td>{{value}}</td></tr>\n",
    "    {% endfor %}\n",
    "    </table>\n",
    "\n",
    "</body>\n",
    "</html>"
   ]
  },
  {
   "cell_type": "code",
   "execution_count": 96,
   "metadata": {},
   "outputs": [
    {
     "name": "stdout",
     "output_type": "stream",
     "text": [
      "Overwriting static/style.css\n"
     ]
    }
   ],
   "source": [
    "%%writefile static/style.css\n",
    "table{border-collapse:collapse;}\n",
    "tr,td,th{border-style:solid;border-width:1px;padding:1em;}"
   ]
  },
  {
   "cell_type": "code",
   "execution_count": 97,
   "metadata": {},
   "outputs": [
    {
     "name": "stdout",
     "output_type": "stream",
     "text": [
      "Writing app.py\n"
     ]
    }
   ],
   "source": [
    "%%writefile app.py\n",
    "import flask\n",
    "app = flask.Flask(__name__)\n",
    "\n",
    "@app.route('/')\n",
    "def main():\n",
    "    return flask.render_template('main.html')\n",
    "\n",
    "### 3: HTTP Requests and Routing ##################################\n",
    "base = '/simple'\n",
    "@app.route(base + '/') # Path name\n",
    "def simple():\n",
    "    return 'Simple stuff. Try passing in longer paths next time?'\n",
    "\n",
    "## Variable Routes\n",
    "@app.route(base + '/greet/<data>') # More complex paths\n",
    "def simple_data(data):\n",
    "    return f'You gave the data {data}'\n",
    "\n",
    "@app.route(base + '/<int:integer>') # Get Path <data_type:identifier>\n",
    "def simple_integer(integer):\n",
    "    return f'You gave the integer {integer}'\n",
    "\n",
    "## Generate Paths from function names\n",
    "@app.route(base + '/func_paths')\n",
    "def func_name_paths():\n",
    "    return '<b>Paths</b>:' + '<br/>' + \\\n",
    "            f'General path: {flask.url_for(\"simple\")}' + '<br/>' + \\\n",
    "            f'Path and passing in arguments: {flask.url_for(\"simple_integer\", integer=1)}'\n",
    "\n",
    "## Methods\n",
    "@app.route('/data/', methods=['POST'])\n",
    "def post_data():\n",
    "    return 'You are using POST'\n",
    "\n",
    "@app.route('/data/', methods=['GET'])\n",
    "def get_data():\n",
    "    return 'You are using GET'\n",
    "\n",
    "### 4: HTTP Responses and Status Codes ##############################\n",
    "base = '/responses'\n",
    "\n",
    "## Changing Status Code\n",
    "@app.route(base + '/get_500')            \n",
    "def get_500():\n",
    "    return ('', 500)\n",
    "\n",
    "@app.route(base + '/header')\n",
    "def header():\n",
    "    headers = {'Content-Type': 'text/plain'}\n",
    "    return ('<b>This is not HTML!</b>', 200, headers)\n",
    "\n",
    "@app.route(base + '/redirect')\n",
    "def redirect():\n",
    "    return flask.redirect(flask.url_for('main'))\n",
    "\n",
    "### 5 & 6: Templating and Rendering #################################\n",
    "@app.route('/templating') # Path name\n",
    "def templating():\n",
    "    dictionary = {'Key 1':'Value 1', 'Key 2':'Value 2'}\n",
    "    return flask.render_template('template.html',\n",
    "                                 value=\"sample_value\",\n",
    "                                 safe_html=\"<i>This is html stuff</i>\",\n",
    "                                 choice=1,\n",
    "                                 dictionary=dictionary)\n",
    "\n",
    "### 7 & 8: Forms\n",
    "@app.route('/form', methods=['GET','POST'])\n",
    "def form():\n",
    "    if flask.request.method == \"GET\":\n",
    "        return f\" The data is given in <code>flask.request.args</code> like this: <code>{flask.request.args}</code>\"\n",
    "    elif flask.request.method == \"POST\":\n",
    "        print(flask.request.form)\n",
    "        return f\"The data is given in <code>flask.request.form</code> like this: <code>{flask.request.form}</code>\"\n",
    "\n",
    "from werkzeug.utils import secure_filename\n",
    "import os\n",
    "@app.route('/upload', methods=['POST'])\n",
    "def upload():\n",
    "    if flask.request.files:\n",
    "        print(flask.request.files)\n",
    "        file = flask.request.files['file']\n",
    "        filename = secure_filename(file.filename)\n",
    "        path = './' + filename\n",
    "        file.save(path)\n",
    "        return f'<h1>Uploaded {file.filename}</h1>'\n",
    "    else:\n",
    "        return '<h1>Nothing uploaded</h1>'\n",
    "\n",
    "@app.route('/download')    \n",
    "def download():\n",
    "    return flask.send_from_directory(\"./\",\"app.py\")\n",
    "\n",
    "\n",
    "### Running Code ##################################################\n",
    "if __name__ == '__main__':\n",
    "    app.run(host=\"0.0.0.0\", port=5000, debug=True)\n"
   ]
  },
  {
   "cell_type": "markdown",
   "metadata": {},
   "source": [
    "## Cleanup"
   ]
  },
  {
   "cell_type": "code",
   "execution_count": 98,
   "metadata": {},
   "outputs": [],
   "source": [
    "! rm -rf templates | rm -rf static | rm -rf table.py | rm -rf file_upload_download.py | rm -rf app.py"
   ]
  }
 ],
 "metadata": {
  "kernelspec": {
   "display_name": "Python 3",
   "language": "python",
   "name": "python3"
  },
  "language_info": {
   "codemirror_mode": {
    "name": "ipython",
    "version": 3
   },
   "file_extension": ".py",
   "mimetype": "text/x-python",
   "name": "python",
   "nbconvert_exporter": "python",
   "pygments_lexer": "ipython3",
   "version": "3.6.7"
  }
 },
 "nbformat": 4,
 "nbformat_minor": 2
}
