{
 "cells": [
  {
   "cell_type": "code",
   "execution_count": 49,
   "metadata": {},
   "outputs": [],
   "source": [
    "# Task 1.1\n",
    "\n",
    "def readFile(filename):\n",
    "    data = []\n",
    "    infile = open(filename, 'r')\n",
    "    for line in infile:\n",
    "        data.append(line.strip())\n",
    "    infile.close()\n",
    "    return data\n",
    "\n",
    "def quicksort(arr, low, high, inOrder):\n",
    "    if low >= high:\n",
    "        return\n",
    "    \n",
    "    pivot = low\n",
    "    left = low + 1\n",
    "    right = high\n",
    "    while left <= right:\n",
    "        while left <= right and inOrder(arr[left], arr[pivot]):\n",
    "            left += 1\n",
    "        while left <= right and inOrder(arr[pivot], arr[right]):\n",
    "            right -= 1\n",
    "            \n",
    "        if left < right:\n",
    "            # Swap\n",
    "            temp = arr[right]\n",
    "            arr[right] = arr[left]\n",
    "            arr[left] = temp\n",
    "            \n",
    "    temp = arr[right]\n",
    "    arr[right] = arr[pivot]\n",
    "    arr[pivot] = temp\n",
    "    quicksort(arr, low, right - 1, inOrder)\n",
    "    quicksort(arr, right + 1, high, inOrder)\n",
    "\n",
    "def writeFile(filename, data):\n",
    "    outfile = open(filename, 'w')\n",
    "    for record in data:\n",
    "        outfile.write(f\"{record}\\n\")\n",
    "    outfile.close()\n",
    "\n",
    "### Main ##########################################\n",
    "def inOrder(a, b): # Python's built in string comparison function\n",
    "    return a <= b\n",
    "\n",
    "def task1_1():\n",
    "    data = readFile(\"MRT.txt\")\n",
    "    quicksort(data, 0, len(data)-1, inOrder)\n",
    "    #print(data)\n",
    "    #print(sorted(data))\n",
    "    writeFile(\"SORTED_MRT.TXT\", data)\n",
    "task1_1()"
   ]
  },
  {
   "cell_type": "code",
   "execution_count": 55,
   "metadata": {},
   "outputs": [
    {
     "name": "stdout",
     "output_type": "stream",
     "text": [
      "The names are:\n",
      "Admiralty, Aljunied, Ang Mo Kio, Bartley, Bayfront, Bayshore, Beauty World, Bedok, Bedok North, Bedok Reservoir, Bedok South, Bencoolen, Bishan, Boon Keng, Boon Lay, Botanic Gardens, Braddell, Bras Basah, Bright Hill, Buangkok, Bugis, Bukit Batok, Bukit Gombak, Bukit Panjang, Buona Vista, Caldecott, Canberra, Cantonment, Cashew, Changi Airport, Chinatown, Chinese Garden, Choa Chu Kang, City Hall, Clarke Quay, Clementi, Commonwealth, Dakota, Dhoby Ghaut, Dover, Downtown, Esplanade, Eunos, Expo, Farrer Road, Fort Canning, HarbourFront, Havelock, Hillview, Holland Village, Hougang, Hume, Joo Koon, Jurong East, Kaki Bukit, Kallang, Kembangan, Kent Ridge, Keppel, Khatib, King Albert Park, Kovan, Kranji, Labrador Park, Lakeside, Lavender, Lentor, Little India, Lorong Chuan, MacPherson, Marina Bay, Marine Terrace, Marsiling, Marymount, Mayflower, Mountbatten, Newton, Novena, Orchard, Outram Park, Pasir Ris, Paya Lebar, Pioneer, Potong Pasir, Promenade, Punggol, Queenstown, Raffles Place, Redhill, Rochor, Sembawang, Sengkang, Serangoon, Siglap, Simei, Sixth Avenue, Somerset, Stadium, Stevens, Sungei Bedok, Tai Seng, Tai Seng, Tampines, Tan Kah Kee, Tanah Merah, Tanjong Pagar, Teck Ghee, Telok Ayer, Telok Blangah, Tiong Bahru, Toa Payoh, Upper Thomson, Woodlands, Woodleigh, Yio Chu Kang, Yishun\n",
      "Enter name to search for: Yishun\n",
      "True\n"
     ]
    }
   ],
   "source": [
    "# Task 1.2\n",
    "\n",
    "def readFile(filename):\n",
    "    data = []\n",
    "    infile = open(filename, 'r')\n",
    "    for line in infile:\n",
    "        data.append(line.strip())\n",
    "    infile.close()\n",
    "    return data\n",
    "\n",
    "def displayNames(data):\n",
    "    print(\"The names are:\")\n",
    "    output = \"\"\n",
    "    for name in data:\n",
    "        output += f'{name}, '\n",
    "    print(output[:-2])\n",
    "\n",
    "def binarySearch(data, val):\n",
    "    low = 0\n",
    "    high = len(data) - 1\n",
    "    mid = int((low + high)/ 2)\n",
    "    \n",
    "    while low <= high and data[mid] != val:\n",
    "        if data[mid] < val: # Data in right section\n",
    "            low = mid + 1\n",
    "        elif val < data[mid]: # Data in left section\n",
    "            high = mid - 1\n",
    "        mid = int((low + high)/ 2)\n",
    "        #print(low, high, mid)\n",
    "        \n",
    "    if data[mid] == val:\n",
    "        return mid\n",
    "    else:\n",
    "        return -1\n",
    "    \n",
    "### Main ######################################\n",
    "def task1_2():\n",
    "    data = readFile(\"SORTED_MRT.TXT\")\n",
    "    displayNames(data)\n",
    "    name = input(\"Enter name to search for: \")\n",
    "    print(binarySearch(data, name) != -1)\n",
    "\n",
    "task1_2()"
   ]
  },
  {
   "cell_type": "markdown",
   "metadata": {},
   "source": [
    "### Task 1.3\n",
    "#### Test Data\n",
    "```\n",
    "Input: Sembawang\n",
    "Reason: Normal Data (Name in file)\n",
    "Expected Output: True\n",
    "\n",
    "Input: hello\n",
    "Reason: Normal Data (Name not in file)\n",
    "Expected Output: False\n",
    "```"
   ]
  },
  {
   "cell_type": "code",
   "execution_count": 56,
   "metadata": {},
   "outputs": [
    {
     "name": "stdout",
     "output_type": "stream",
     "text": [
      "The names are:\n",
      "Admiralty, Aljunied, Ang Mo Kio, Bartley, Bayfront, Bayshore, Beauty World, Bedok, Bedok North, Bedok Reservoir, Bedok South, Bencoolen, Bishan, Boon Keng, Boon Lay, Botanic Gardens, Braddell, Bras Basah, Bright Hill, Buangkok, Bugis, Bukit Batok, Bukit Gombak, Bukit Panjang, Buona Vista, Caldecott, Canberra, Cantonment, Cashew, Changi Airport, Chinatown, Chinese Garden, Choa Chu Kang, City Hall, Clarke Quay, Clementi, Commonwealth, Dakota, Dhoby Ghaut, Dover, Downtown, Esplanade, Eunos, Expo, Farrer Road, Fort Canning, HarbourFront, Havelock, Hillview, Holland Village, Hougang, Hume, Joo Koon, Jurong East, Kaki Bukit, Kallang, Kembangan, Kent Ridge, Keppel, Khatib, King Albert Park, Kovan, Kranji, Labrador Park, Lakeside, Lavender, Lentor, Little India, Lorong Chuan, MacPherson, Marina Bay, Marine Terrace, Marsiling, Marymount, Mayflower, Mountbatten, Newton, Novena, Orchard, Outram Park, Pasir Ris, Paya Lebar, Pioneer, Potong Pasir, Promenade, Punggol, Queenstown, Raffles Place, Redhill, Rochor, Sembawang, Sengkang, Serangoon, Siglap, Simei, Sixth Avenue, Somerset, Stadium, Stevens, Sungei Bedok, Tai Seng, Tai Seng, Tampines, Tan Kah Kee, Tanah Merah, Tanjong Pagar, Teck Ghee, Telok Ayer, Telok Blangah, Tiong Bahru, Toa Payoh, Upper Thomson, Woodlands, Woodleigh, Yio Chu Kang, Yishun\n",
      "Enter name to search for: Sembawang\n",
      "True\n",
      "\n",
      "The names are:\n",
      "Admiralty, Aljunied, Ang Mo Kio, Bartley, Bayfront, Bayshore, Beauty World, Bedok, Bedok North, Bedok Reservoir, Bedok South, Bencoolen, Bishan, Boon Keng, Boon Lay, Botanic Gardens, Braddell, Bras Basah, Bright Hill, Buangkok, Bugis, Bukit Batok, Bukit Gombak, Bukit Panjang, Buona Vista, Caldecott, Canberra, Cantonment, Cashew, Changi Airport, Chinatown, Chinese Garden, Choa Chu Kang, City Hall, Clarke Quay, Clementi, Commonwealth, Dakota, Dhoby Ghaut, Dover, Downtown, Esplanade, Eunos, Expo, Farrer Road, Fort Canning, HarbourFront, Havelock, Hillview, Holland Village, Hougang, Hume, Joo Koon, Jurong East, Kaki Bukit, Kallang, Kembangan, Kent Ridge, Keppel, Khatib, King Albert Park, Kovan, Kranji, Labrador Park, Lakeside, Lavender, Lentor, Little India, Lorong Chuan, MacPherson, Marina Bay, Marine Terrace, Marsiling, Marymount, Mayflower, Mountbatten, Newton, Novena, Orchard, Outram Park, Pasir Ris, Paya Lebar, Pioneer, Potong Pasir, Promenade, Punggol, Queenstown, Raffles Place, Redhill, Rochor, Sembawang, Sengkang, Serangoon, Siglap, Simei, Sixth Avenue, Somerset, Stadium, Stevens, Sungei Bedok, Tai Seng, Tai Seng, Tampines, Tan Kah Kee, Tanah Merah, Tanjong Pagar, Teck Ghee, Telok Ayer, Telok Blangah, Tiong Bahru, Toa Payoh, Upper Thomson, Woodlands, Woodleigh, Yio Chu Kang, Yishun\n",
      "Enter name to search for: hello\n",
      "False\n"
     ]
    }
   ],
   "source": [
    "# Task 1.3\n",
    "task1_2()\n",
    "print()\n",
    "task1_2()"
   ]
  }
 ],
 "metadata": {
  "kernelspec": {
   "display_name": "Python 3",
   "language": "python",
   "name": "python3"
  },
  "language_info": {
   "codemirror_mode": {
    "name": "ipython",
    "version": 3
   },
   "file_extension": ".py",
   "mimetype": "text/x-python",
   "name": "python",
   "nbconvert_exporter": "python",
   "pygments_lexer": "ipython3",
   "version": "3.6.7"
  }
 },
 "nbformat": 4,
 "nbformat_minor": 2
}
