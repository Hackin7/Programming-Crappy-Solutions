{
 "cells": [
  {
   "cell_type": "code",
   "execution_count": 3,
   "metadata": {},
   "outputs": [],
   "source": [
    "# Task 3.1\n",
    "class Node:\n",
    "    def __init__(self): # constructor()\n",
    "        # Simulate private\n",
    "        self.__key = None\n",
    "        self.__left = None\n",
    "        self.__right = None \n",
    "        \n",
    "    def insert(self, key:int):\n",
    "        newNode = Node()\n",
    "        newNode.setKey(key)\n",
    "        if key < self.getKey(): # Insert left\n",
    "            self._left = newNode\n",
    "        else:\n",
    "            self._right = newNode\n",
    "            \n",
    "    ### Additional methods ####################\n",
    "    def getKey(self):\n",
    "        return self.__key\n",
    "    \n",
    "    def setKey(self, key:int):\n",
    "        self.__key = int(key)\n",
    "        \n",
    "    def printInOrder(self):\n",
    "        if self.__left != None:\n",
    "            self.__left.printInOrder()\n",
    "            \n",
    "        print(self.getKey())\n",
    "        \n",
    "        if self.__right != None:\n",
    "            self.__right.printInOrder()\n",
    "        \n",
    "class Tree:\n",
    "    def __init__(self):\n",
    "        self.__root = None\n",
    "    \n",
    "    def add(self, newItem):\n",
    "        if self.__root == None: # Empty\n",
    "            self.__root =  Node()\n",
    "            self.__root.setKey(newItem)\n",
    "        else:\n",
    "            self.__root.insert(newItem)\n",
    "            \n",
    "    def printInOrder(self):\n",
    "        if self.__root == None: # Empty\n",
    "            print(\"Nothing in Tree!\")\n",
    "        else:\n",
    "            self.__root.printInOrder()"
   ]
  },
  {
   "cell_type": "code",
   "execution_count": 2,
   "metadata": {},
   "outputs": [
    {
     "name": "stdout",
     "output_type": "stream",
     "text": [
      "11\n"
     ]
    }
   ],
   "source": [
    "# Task 3.2\n",
    "def CreateTreeFromArray(arr):\n",
    "    tree = Tree()\n",
    "    for item in arr:\n",
    "        tree.add(item)\n",
    "    tree.printInOrder()  \n",
    "        \n",
    "# Copying from BST.txt\n",
    "arr = [11, 6, 1, 14, 16, 7, 17, 20, 13, 9, 15, 8, 5, 4, 2]\n",
    "CreateTreeFromArray(arr)"
   ]
  }
 ],
 "metadata": {
  "kernelspec": {
   "display_name": "Python 3",
   "language": "python",
   "name": "python3"
  },
  "language_info": {
   "codemirror_mode": {
    "name": "ipython",
    "version": 3
   },
   "file_extension": ".py",
   "mimetype": "text/x-python",
   "name": "python",
   "nbconvert_exporter": "python",
   "pygments_lexer": "ipython3",
   "version": "3.6.7"
  }
 },
 "nbformat": 4,
 "nbformat_minor": 2
}
