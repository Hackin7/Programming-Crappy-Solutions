{
 "cells": [
  {
   "cell_type": "code",
   "execution_count": 3,
   "metadata": {},
   "outputs": [
    {
     "name": "stdout",
     "output_type": "stream",
     "text": [
      "Averge Selling price for laptop is $1302.55\n",
      "The products with the maximum number of 5 are\n",
      "  Phone\n",
      "  Laptop\n"
     ]
    }
   ],
   "source": [
    "# Task 3.1\n",
    "import csv\n",
    "\n",
    "def readFile(filename=\"INVENTORY.txt\"):\n",
    "    data = []\n",
    "    with open(filename, 'r') as infile:\n",
    "        reader = csv.reader(infile, delimiter='\\t')\n",
    "        for record in reader:\n",
    "            newRecord = record\n",
    "            newRecord[2] = float(record[2])\n",
    "            newRecord[3] = float(record[3])\n",
    "            newRecord[4] = int(record[4])\n",
    "            data.append(newRecord)\n",
    "    \n",
    "    return data\n",
    "\n",
    "def avgSellingPrice(data, product=\"Laptop\"):\n",
    "    total = 0\n",
    "    count = 0\n",
    "    for record in data:\n",
    "        if record[1] == product: # Type of product\n",
    "            count += record[4]\n",
    "            total += (record[3] * record[4]) # Selling Price * Quantity\n",
    "    \n",
    "    return total / count\n",
    "\n",
    "def generateTypeCount(data):\n",
    "    TypeCount = {} # Python Dictionary\n",
    "    for record in data:\n",
    "        Type = record[1]\n",
    "        if TypeCount.get(Type) == None:\n",
    "            TypeCount[Type] = 0\n",
    "        TypeCount[Type] += record[4] # Quantity\n",
    "    return TypeCount\n",
    "\n",
    "def productsWithMaxNo(TypeCount):\n",
    "    maxCount = -1 # Invalid value\n",
    "    maxProducts = []\n",
    "    for product, count in TypeCount.items():\n",
    "        if count > maxCount:\n",
    "            maxCount = count\n",
    "            maxProducts = [product]\n",
    "        elif count == maxCount:\n",
    "            maxProducts.append(product)\n",
    "    return maxCount, maxProducts\n",
    "\n",
    "def task3_1():\n",
    "    data = readFile(\"INVENTORY.txt\")\n",
    "    avg = avgSellingPrice(data, \"Laptop\")\n",
    "    print(f\"Averge Selling price for laptop is ${avg:.2f}\")\n",
    "    \n",
    "    TypeCount = generateTypeCount(data)\n",
    "    #print(TypeCount)\n",
    "    maxCount, maxProducts = productsWithMaxNo(TypeCount)\n",
    "    print(f\"The products with the maximum number of {maxCount} are\")\n",
    "    for product in maxProducts:\n",
    "        print(f\"  {product}\")\n",
    "\n",
    "task3_1()"
   ]
  }
 ],
 "metadata": {
  "kernelspec": {
   "display_name": "Python 3",
   "language": "python",
   "name": "python3"
  },
  "language_info": {
   "codemirror_mode": {
    "name": "ipython",
    "version": 3
   },
   "file_extension": ".py",
   "mimetype": "text/x-python",
   "name": "python",
   "nbconvert_exporter": "python",
   "pygments_lexer": "ipython3",
   "version": "3.6.7"
  }
 },
 "nbformat": 4,
 "nbformat_minor": 2
}
