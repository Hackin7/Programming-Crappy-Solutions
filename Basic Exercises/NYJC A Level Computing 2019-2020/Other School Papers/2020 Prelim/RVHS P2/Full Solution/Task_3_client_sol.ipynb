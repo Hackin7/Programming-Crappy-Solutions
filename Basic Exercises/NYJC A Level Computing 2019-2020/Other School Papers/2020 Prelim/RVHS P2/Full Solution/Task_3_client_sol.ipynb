{
 "cells": [
  {
   "cell_type": "code",
   "execution_count": 2,
   "metadata": {},
   "outputs": [
    {
     "name": "stdout",
     "output_type": "stream",
     "text": [
      "Current word guessed: ??????\n",
      "Menu:\n",
      "1) Guess a letter\n",
      "2) Guess a word\n",
      "3) Quit\n",
      "Type an option:1\n",
      "Type a letter: k\n",
      "Current word guessed: k?????\n",
      "Menu:\n",
      "1) Guess a letter\n",
      "2) Guess a word\n",
      "3) Quit\n",
      "Type an option:3\n",
      "You quit!\n"
     ]
    }
   ],
   "source": [
    "import socket\n",
    "\n",
    "game_socket = socket.socket(socket.AF_INET, socket.SOCK_STREAM)\n",
    "game_socket.connect(('127.0.0.1', 12345))\n",
    "\n",
    "rx_msg_str = \"\"\n",
    "while \"\\n\" not in rx_msg_str:\n",
    "    rx_msg_str += game_socket.recv(1024).decode()\n",
    "\n",
    "current_word_guessed = \"\"\n",
    "if rx_msg_str[:5] == \"START\":\n",
    "    header, length_word = rx_msg_str[:-1].split(\",\")\n",
    "    current_word_guessed = \"?\"*int(length_word)\n",
    "    print(\"Current word guessed: \" + current_word_guessed)\n",
    "    \n",
    "game_over = False\n",
    "while not game_over:\n",
    "    print(\"Menu:\")\n",
    "    print(\"1) Guess a letter\")\n",
    "    print(\"2) Guess a word\")\n",
    "    print(\"3) Quit\")\n",
    "    \n",
    "    opt = input(\"Type an option:\")\n",
    "    while len(opt)!=1 and opt not in \"123\":\n",
    "        opt = input(\"Type a valid option again:\")\n",
    "    \n",
    "    if opt == \"1\":\n",
    "        answer = \"\"\n",
    "        while len(answer)!=1 and not answer.isalpha():\n",
    "            answer = input(\"Type a letter: \").lower()\n",
    "        tx_msg = \"GUESS,\"+answer+\"\\n\"\n",
    "    elif opt == \"2\":\n",
    "        answer = \"\"\n",
    "        while len(answer)==0 and not answer.isalpha():\n",
    "            answer = input(\"Type a word: \").lower()        \n",
    "        tx_msg = \"HWORD,\"+answer+\"\\n\"\n",
    "    else:\n",
    "        tx_msg = \"QUIT\\n\"\n",
    "    game_socket.send(tx_msg.encode())\n",
    "        \n",
    "    # wait for server feedback\n",
    "    rx_msg_str = \"\"\n",
    "    while \"\\n\" not in rx_msg_str:\n",
    "        rx_msg_str += game_socket.recv(1024).decode()\n",
    "    \n",
    "    if rx_msg_str[:5] == \"GUESS\":\n",
    "        guess_msgs = []\n",
    "        if ',' in rx_msg_str:\n",
    "            guess_msgs = rx_msg_str[6:-1].split(\",\")\n",
    "        for i in guess_msgs:\n",
    "            current_word_guessed = current_word_guessed[:int(i)] + answer + current_word_guessed[int(i)+1:]\n",
    "        print(\"Current word guessed: \" + current_word_guessed)\n",
    "    if rx_msg_str[:-1] == \"WIN\":\n",
    "        print(\"Current word guessed: \" + current_word_guessed)\n",
    "        game_over = True\n",
    "        print(\"You win!\")\n",
    "    if rx_msg_str[:-1] == \"LOSE\":\n",
    "        print(\"Current word guessed: \" + current_word_guessed)\n",
    "        game_over = True\n",
    "        print(\"You lose!\")\n",
    "    if rx_msg_str[:-1] == \"QUIT\":\n",
    "        game_over = True\n",
    "        print(\"You quit!\")\n",
    "\n",
    "game_socket.close()"
   ]
  },
  {
   "cell_type": "code",
   "execution_count": null,
   "metadata": {},
   "outputs": [],
   "source": []
  },
  {
   "cell_type": "code",
   "execution_count": null,
   "metadata": {},
   "outputs": [],
   "source": []
  }
 ],
 "metadata": {
  "kernelspec": {
   "display_name": "Python 3",
   "language": "python",
   "name": "python3"
  },
  "language_info": {
   "codemirror_mode": {
    "name": "ipython",
    "version": 3
   },
   "file_extension": ".py",
   "mimetype": "text/x-python",
   "name": "python",
   "nbconvert_exporter": "python",
   "pygments_lexer": "ipython3",
   "version": "3.6.7"
  }
 },
 "nbformat": 4,
 "nbformat_minor": 2
}
