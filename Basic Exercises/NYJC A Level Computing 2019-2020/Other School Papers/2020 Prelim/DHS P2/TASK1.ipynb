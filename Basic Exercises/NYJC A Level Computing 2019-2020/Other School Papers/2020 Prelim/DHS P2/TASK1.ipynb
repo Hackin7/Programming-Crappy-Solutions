{
 "cells": [
  {
   "cell_type": "code",
   "execution_count": 43,
   "metadata": {},
   "outputs": [
    {
     "name": "stdout",
     "output_type": "stream",
     "text": [
      "From 57345286\n",
      " 92452814 2020-07-29 08:30:00 2020-07-29 08:55:00\n",
      " 14394568 2020-07-29 12:50:00 2020-07-29 13:15:00\n",
      " 27524883 2020-07-30 09:00:00 2020-07-30 09:25:00\n"
     ]
    }
   ],
   "source": [
    "# Task 1.1\n",
    "from datetime import datetime, timedelta\n",
    "import csv\n",
    "\n",
    "def readFile(filename = \"TOKEN.txt\"):\n",
    "    # Initialisation\n",
    "    data = []\n",
    "    file = open(filename, 'r') # Read mode\n",
    "    reader = csv.reader(file)\n",
    "    \n",
    "    # Read from file\n",
    "    for record in reader:\n",
    "        newRecord = record\n",
    "        newRecord[0] = str(newRecord[0]) # User's randomised ID\n",
    "        newRecord[1] = str(newRecord[1]) # Randomised ID of user in proximity\n",
    "        newRecord[2] = int(newRecord[2]) # RSSI\n",
    "        newRecord[3] = datetime.strptime(newRecord[3], \"%Y-%m-%d %H:%M:%S\") # timestamp of encounter\n",
    "        data.append(newRecord)\n",
    "    \n",
    "    file.close()\n",
    "    return data\n",
    "\n",
    "def generateTracingData(data):\n",
    "    users = {}\n",
    "    for user, other, rssi, date in data:\n",
    "        # Set user data\n",
    "        if users.get(user) == None:\n",
    "            users[user] = {\n",
    "                \"closeContact\": {},  # People in close contact with and the start timestamp\n",
    "                \"prolongedExposure\" : {}, # People with prolonged exposure and end timestamp\n",
    "                \"currTimings\": {}\n",
    "            }\n",
    "        \n",
    "        \n",
    "        userStartDate = users[user][\"closeContact\"].get(other) # Time of first contact\n",
    "        \n",
    "        # Close contact\n",
    "        if rssi >= -30 and (userStartDate == None or userStartDate > date):\n",
    "            users[user][\"closeContact\"][other] = date\n",
    "            users[user][\"currTimings\"][other] = [date]\n",
    "        # Continuous exposure\n",
    "        elif rssi >= -30 and userStartDate != None and date - users[user][\"currTimings\"][other][-1] == timedelta(minutes=5):\n",
    "            users[user][\"currTimings\"][other].append(date)\n",
    "        # Reset if too long\n",
    "        elif rssi >= -30 and userStartDate != None and (date - users[user][\"currTimings\"][other][-1] > timedelta(minutes=5)):\n",
    "            users[user][\"closeContact\"][other] = date\n",
    "            users[user][\"currTimings\"][other] = [date]\n",
    "            \n",
    "        # Prolonged Exposure\n",
    "        if rssi >= -30 and userStartDate != None and date - userStartDate >= timedelta(minutes=15) and len(users[user][\"currTimings\"][other]) >= 4:\n",
    "            users[user][\"prolongedExposure\"][other] = date\n",
    "        \n",
    "    return users\n",
    "\n",
    "def task1_1():\n",
    "    data = readFile()\n",
    "    tracingData = generateTracingData(data)\n",
    "    # Displaying people need to contact trace\n",
    "    for user in tracingData:\n",
    "        print(\"From\", user)\n",
    "        for prolongedExposure, date in tracingData[user][\"prolongedExposure\"].items():\n",
    "            startDate = tracingData[user][\"closeContact\"][prolongedExposure]\n",
    "            print(\"\", prolongedExposure, startDate, date)\n",
    "            #print(tracingData[user][\"currTimings\"][prolongedExposure])\n",
    "    \n",
    "task1_1()"
   ]
  },
  {
   "cell_type": "code",
   "execution_count": 44,
   "metadata": {},
   "outputs": [
    {
     "data": {
      "text/plain": [
       "(False, None, None, None)"
      ]
     },
     "execution_count": 44,
     "metadata": {},
     "output_type": "execute_result"
    }
   ],
   "source": [
    "# Task 1.2\n",
    "\n",
    "data = readFile()\n",
    "tracingData = generateTracingData(data)\n",
    "def is_close_contact(rid1, rid2):\n",
    "    inCloseContact1 =  (tracingData.get(rid1) != None and \n",
    "                        rid2 in tracingData[rid1][\"prolongedExposure\"].keys())\n",
    "    inCloseContact2 =  (tracingData.get(rid2) != None and\n",
    "                        rid1 in tracingData[rid2][\"prolongedExposure\"].keys())\n",
    "    \n",
    "    if not (inCloseContact1 or inCloseContact2):\n",
    "        return False, None, None, None\n",
    "    else:\n",
    "        if inCloseContact1:\n",
    "            key1 = rid1\n",
    "            key2 = rid2\n",
    "        elif inCloseContact2:\n",
    "            key1 = rid2\n",
    "            key2 = rid1\n",
    "        startDate = tracingData[key1][\"closeContact\"][key2]\n",
    "        endDate = tracingData[key1][\"prolongedExposure\"][key2]\n",
    "        \n",
    "        return True, startDate, endDate, endDate - startDate\n",
    "\n",
    "is_close_contact(\"57345286\", \"75348257\")"
   ]
  },
  {
   "cell_type": "code",
   "execution_count": 45,
   "metadata": {},
   "outputs": [
    {
     "data": {
      "text/plain": [
       "(False, None, None, None)"
      ]
     },
     "execution_count": 45,
     "metadata": {},
     "output_type": "execute_result"
    }
   ],
   "source": [
    "is_close_contact(\"57345286\", \"45174591\")"
   ]
  },
  {
   "cell_type": "code",
   "execution_count": 46,
   "metadata": {},
   "outputs": [
    {
     "data": {
      "text/plain": [
       "(False, None, None, None)"
      ]
     },
     "execution_count": 46,
     "metadata": {},
     "output_type": "execute_result"
    }
   ],
   "source": [
    "is_close_contact(\"57345286\", \"02548147\")"
   ]
  }
 ],
 "metadata": {
  "kernelspec": {
   "display_name": "Python 3",
   "language": "python",
   "name": "python3"
  },
  "language_info": {
   "codemirror_mode": {
    "name": "ipython",
    "version": 3
   },
   "file_extension": ".py",
   "mimetype": "text/x-python",
   "name": "python",
   "nbconvert_exporter": "python",
   "pygments_lexer": "ipython3",
   "version": "3.6.7"
  }
 },
 "nbformat": 4,
 "nbformat_minor": 2
}
