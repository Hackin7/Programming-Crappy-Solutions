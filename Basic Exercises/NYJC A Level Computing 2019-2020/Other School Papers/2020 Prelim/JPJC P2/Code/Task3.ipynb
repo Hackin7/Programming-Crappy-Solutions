{
 "cells": [
  {
   "cell_type": "code",
   "execution_count": 2,
   "metadata": {},
   "outputs": [
    {
     "name": "stdout",
     "output_type": "stream",
     "text": [
      "1111\n",
      "None\n"
     ]
    }
   ],
   "source": [
    "#Task 3.1\n",
    "\n",
    "class BSTNode:\n",
    "    def __init__(self, isbn, title): #Constructor\n",
    "        self.__ISBN = isbn  #INTEGER\n",
    "        self.__Title = title #STRING\n",
    "        self.__Left = None  #BSTNode\n",
    "        self.__Right = None #BSTNode\n",
    "        \n",
    "    def GetISBN(self):\n",
    "        return self.__ISBN\n",
    "    \n",
    "    def SetISBN(self, isbn):\n",
    "        self.__ISBN = isbn\n",
    "        \n",
    "    def GetTitle(self):\n",
    "        return self.__Title\n",
    "    \n",
    "    def SetTitle(self, title):\n",
    "        self.__Title = title    \n",
    "        \n",
    "    def GetLeft(self):\n",
    "        return self.__Left\n",
    "    \n",
    "    def SetLeft(self, left):\n",
    "        self.__Left = left\n",
    "        \n",
    "    def GetRight(self):\n",
    "        return self.__Right\n",
    "    \n",
    "    def SetRight(self, right):\n",
    "        self.__Right = right\n",
    "        \n",
    "class BST:\n",
    "    def __init__(self): #Constructor\n",
    "        self.__Root = None #BSTNode\n",
    "        \n",
    "    def GetRoot(self):\n",
    "        return self.__Root\n",
    "    \n",
    "    def SetRoot(self, bstnode):\n",
    "        self.__Root = bstnode\n",
    "    \n",
    "    def AddNode(self, isbn, title):\n",
    "        new = BSTNode(isbn, title)\n",
    "        \n",
    "        if self.GetRoot() == None: #if empty\n",
    "            self.SetRoot(new)\n",
    "        else:\n",
    "            node = self.GetRoot()\n",
    "            \n",
    "            while True:\n",
    "                if node.GetISBN() > new.GetISBN():\n",
    "                    if node.GetLeft() == None:\n",
    "                        node.SetLeft(new)\n",
    "                        break\n",
    "                    else:\n",
    "                        node = node.GetLeft()\n",
    "                else:\n",
    "                    if node.GetRight() == None:\n",
    "                        node.SetRight(new)\n",
    "                        break\n",
    "                    else:\n",
    "                        node = node.GetRight()          \n",
    "        \n",
    "    def DisplayHelper(self, node):\n",
    "        if node.GetLeft() != None:\n",
    "            self.DisplayHelper(node.GetLeft())\n",
    "        print(str(node.GetISBN()).ljust(20)+node.GetTitle())\n",
    "        if node.GetRight() != None:\n",
    "            self.DisplayHelper(node.GetRight())\n",
    "    \n",
    "    def Display(self):\n",
    "        self.DisplayHelper(self.GetRoot())\n",
    "        \n",
    "node = BSTNode(1111,\"test\")\n",
    "bst = BST()\n",
    "print(node.GetISBN())\n",
    "print(bst.GetRoot())"
   ]
  },
  {
   "cell_type": "code",
   "execution_count": 3,
   "metadata": {},
   "outputs": [
    {
     "name": "stdout",
     "output_type": "stream",
     "text": [
      "9\n"
     ]
    }
   ],
   "source": [
    "#Task 3.2\n",
    "\n",
    "def CalcHash(my_string):\n",
    "    posn = 1\n",
    "    total = 0\n",
    "    \n",
    "    for char in my_string:\n",
    "        total += ord(char) * posn\n",
    "        posn += 1\n",
    "    \n",
    "    return total % 19 + 1\n",
    "\n",
    "print(CalcHash(\"classics\"))\n",
    "          "
   ]
  },
  {
   "cell_type": "code",
   "execution_count": 4,
   "metadata": {},
   "outputs": [
    {
     "name": "stdout",
     "output_type": "stream",
     "text": [
      "1 science fiction\n",
      "2 computer science\n",
      "3 \n",
      "4 \n",
      "5 \n",
      "6 \n",
      "7 \n",
      "8 \n",
      "9 classics\n",
      "10 \n",
      "11 \n",
      "12 \n",
      "13 \n",
      "14 \n",
      "15 \n",
      "16 fantasy\n",
      "17 dystopian\n",
      "18 history\n",
      "19 thriller\n"
     ]
    }
   ],
   "source": [
    "# Task 3.3\n",
    "\n",
    "HashTable = [[\"\", BST()] for record in range(20)]\n",
    "HashTable[0] = None #valid range 1 to 19\n",
    "\n",
    "#Task 3.4\n",
    "\n",
    "file = open(\"CATEGORIES.TXT\")\n",
    "for line in file:\n",
    "    line = line.strip()\n",
    "    index = CalcHash(line)\n",
    "    \n",
    "    while HashTable[index][0] != \"\":\n",
    "        index = (index % 19) + 1\n",
    "        \n",
    "    HashTable[index][0] = line\n",
    "    \n",
    "for i in range(1,20):\n",
    "    print(i, HashTable[i][0])"
   ]
  },
  {
   "cell_type": "code",
   "execution_count": 5,
   "metadata": {},
   "outputs": [
    {
     "name": "stdout",
     "output_type": "stream",
     "text": [
      "Category: classics\n",
      "==================\n",
      "ISBN                Title\n",
      "1000234567          Pride and Prejudice\n",
      "1100856732          Othello\n",
      "1110216068          Dracula\n",
      "1139856732          Macbeth\n",
      "1211844730          Moby Dick\n",
      "1322851738          Heidi\n"
     ]
    }
   ],
   "source": [
    "#Task 3.5\n",
    "\n",
    "file = open(\"BOOKS.TXT\",'r')\n",
    "for line in file:\n",
    "    line = line.strip()\n",
    "    Category, ISBN, Title = line.split(\",\")\n",
    "    ISBN = int(ISBN)\n",
    "    \n",
    "    index = CalcHash(line)\n",
    "    \n",
    "    while HashTable[index][0] != Category:\n",
    "        index = (index % 19) + 1\n",
    "    \n",
    "    HashTable[index][1].AddNode(ISBN, Title)\n",
    "    \n",
    "#Task 3.6\n",
    "\n",
    "index = CalcHash(\"classics\")\n",
    "    \n",
    "while HashTable[index][0] != \"classics\":\n",
    "    index = (index % 19) + 1\n",
    "\n",
    "print(\"Category: classics\")\n",
    "print(\"==================\")\n",
    "print(\"ISBN\".ljust(20)+\"Title\")\n",
    "HashTable[index][1].Display()"
   ]
  }
 ],
 "metadata": {
  "kernelspec": {
   "display_name": "Python 3",
   "language": "python",
   "name": "python3"
  },
  "language_info": {
   "codemirror_mode": {
    "name": "ipython",
    "version": 3
   },
   "file_extension": ".py",
   "mimetype": "text/x-python",
   "name": "python",
   "nbconvert_exporter": "python",
   "pygments_lexer": "ipython3",
   "version": "3.6.7"
  }
 },
 "nbformat": 4,
 "nbformat_minor": 2
}
